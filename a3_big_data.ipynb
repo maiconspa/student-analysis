{
 "cells": [
  {
   "cell_type": "markdown",
   "id": "53bdae89-f233-495b-8393-bcad55974668",
   "metadata": {
    "id": "53bdae89-f233-495b-8393-bcad55974668"
   },
   "source": [
    "## Imports"
   ]
  },
  {
   "cell_type": "code",
   "execution_count": 1,
   "id": "8c2221fe-141c-4a84-b754-79fad1c7c84b",
   "metadata": {
    "id": "8c2221fe-141c-4a84-b754-79fad1c7c84b",
    "tags": []
   },
   "outputs": [],
   "source": [
    "import numpy as np\n",
    "import pandas as pd\n",
    "import seaborn as sn #necessary to create correlation matrix"
   ]
  },
  {
   "cell_type": "markdown",
   "id": "4467d03d-aa6a-4288-80f6-934e39191ad9",
   "metadata": {
    "id": "4467d03d-aa6a-4288-80f6-934e39191ad9",
    "tags": []
   },
   "source": [
    "# Tratamento (entrega 2)\n",
    "> Developed in \"**/data_treatment.ipynb**\""
   ]
  },
  {
   "cell_type": "markdown",
   "id": "18c0abce-25a3-4ebf-8bde-784d5fb27e61",
   "metadata": {
    "id": "18c0abce-25a3-4ebf-8bde-784d5fb27e61",
    "tags": []
   },
   "source": [
    "# Caracterização (Entrega 3)"
   ]
  },
  {
   "cell_type": "code",
   "execution_count": 8,
   "id": "c1b3883f-4278-4151-8750-67cf07200631",
   "metadata": {
    "tags": []
   },
   "outputs": [
    {
     "data": {
      "text/html": [
       "<div>\n",
       "<style scoped>\n",
       "    .dataframe tbody tr th:only-of-type {\n",
       "        vertical-align: middle;\n",
       "    }\n",
       "\n",
       "    .dataframe tbody tr th {\n",
       "        vertical-align: top;\n",
       "    }\n",
       "\n",
       "    .dataframe thead th {\n",
       "        text-align: right;\n",
       "    }\n",
       "</style>\n",
       "<table border=\"1\" class=\"dataframe\">\n",
       "  <thead>\n",
       "    <tr style=\"text-align: right;\">\n",
       "      <th></th>\n",
       "      <th>municipio</th>\n",
       "      <th>id_rede_ensino</th>\n",
       "      <th>id_escola</th>\n",
       "      <th>aprovado</th>\n",
       "      <th>reprovado</th>\n",
       "      <th>abandono</th>\n",
       "    </tr>\n",
       "  </thead>\n",
       "  <tbody>\n",
       "    <tr>\n",
       "      <th>0</th>\n",
       "      <td>PIRAJU</td>\n",
       "      <td>1</td>\n",
       "      <td>34320</td>\n",
       "      <td>100.00</td>\n",
       "      <td>0.00</td>\n",
       "      <td>0.00</td>\n",
       "    </tr>\n",
       "    <tr>\n",
       "      <th>1</th>\n",
       "      <td>PIRAJU</td>\n",
       "      <td>1</td>\n",
       "      <td>34344</td>\n",
       "      <td>94.00</td>\n",
       "      <td>2.00</td>\n",
       "      <td>4.00</td>\n",
       "    </tr>\n",
       "    <tr>\n",
       "      <th>2</th>\n",
       "      <td>PIRAJU</td>\n",
       "      <td>1</td>\n",
       "      <td>34356</td>\n",
       "      <td>100.00</td>\n",
       "      <td>0.00</td>\n",
       "      <td>0.00</td>\n",
       "    </tr>\n",
       "    <tr>\n",
       "      <th>3</th>\n",
       "      <td>PIRAJU</td>\n",
       "      <td>1</td>\n",
       "      <td>34459</td>\n",
       "      <td>100.00</td>\n",
       "      <td>0.00</td>\n",
       "      <td>0.00</td>\n",
       "    </tr>\n",
       "    <tr>\n",
       "      <th>6</th>\n",
       "      <td>AMERICANA</td>\n",
       "      <td>1</td>\n",
       "      <td>17176</td>\n",
       "      <td>79.82</td>\n",
       "      <td>19.29</td>\n",
       "      <td>0.89</td>\n",
       "    </tr>\n",
       "  </tbody>\n",
       "</table>\n",
       "</div>"
      ],
      "text/plain": [
       "   municipio  id_rede_ensino  id_escola  aprovado  reprovado  abandono\n",
       "0     PIRAJU               1      34320    100.00       0.00      0.00\n",
       "1     PIRAJU               1      34344     94.00       2.00      4.00\n",
       "2     PIRAJU               1      34356    100.00       0.00      0.00\n",
       "3     PIRAJU               1      34459    100.00       0.00      0.00\n",
       "6  AMERICANA               1      17176     79.82      19.29      0.89"
      ]
     },
     "execution_count": 8,
     "metadata": {},
     "output_type": "execute_result"
    }
   ],
   "source": [
    "df_cleaned = pd.read_excel('output/fluxo_escolar_2021_cleaned.xlsx',\n",
    "                           engine='openpyxl',\n",
    "                           index_col=[0])\n",
    "df_cleaned.head()"
   ]
  },
  {
   "cell_type": "markdown",
   "id": "91063be6-a698-4db9-bfb0-25eaff79985c",
   "metadata": {},
   "source": [
    "## Creating Standard bypass"
   ]
  },
  {
   "cell_type": "code",
   "execution_count": 9,
   "id": "11379b80-8fe0-46e2-8809-2b26615b70a6",
   "metadata": {},
   "outputs": [
    {
     "name": "stdout",
     "output_type": "stream",
     "text": [
      "Desvio padrão\n",
      "Reprovado: 3.9538715157081272 \n",
      "Aprovado: 4.463648256286679\n"
     ]
    }
   ],
   "source": [
    "std_reprovado = df_cleaned['reprovado'].std()\n",
    "std_aprovado = df_cleaned['aprovado'].std()\n",
    "\n",
    "print(f\"Desvio padrão\\nReprovado: { str(std_reprovado)} \\nAprovado: {str(std_aprovado)}\")"
   ]
  },
  {
   "cell_type": "markdown",
   "id": "cd39a467-49b9-48d8-b51e-72cf7443f26d",
   "metadata": {},
   "source": [
    "## Creating Central Tendency "
   ]
  },
  {
   "cell_type": "code",
   "execution_count": null,
   "id": "589c0eea-4982-42bc-84f1-b9d9617686f1",
   "metadata": {},
   "outputs": [
    {
     "name": "stdout",
     "output_type": "stream",
     "text": [
      "Mode: 0.0 \n",
      "Median: 0.0 \n",
      "Quantile: 0.0 \n",
      "Mean: 1.7952096128170896\n"
     ]
    }
   ],
   "source": [
    "mean = df_cleaned['reprovado'].mean() #media\n",
    "median = df_cleaned['reprovado'].median() #mediana\n",
    "quantile = df_cleaned['reprovado'].quantile()\n",
    "mode = df_cleaned['reprovado'].mode().iloc[0]\n",
    "\n",
    "print(f\"Mode: { str(mode)} \\nMedian: {str(median)} \\nQuantile: {str(quantile)} \\nMean: {str(mean)}\")"
   ]
  },
  {
   "cell_type": "markdown",
   "id": "62016e34",
   "metadata": {
    "id": "62016e34",
    "tags": []
   },
   "source": [
    "### Creating a Correlation Matrix"
   ]
  },
  {
   "cell_type": "code",
   "execution_count": 13,
   "id": "544f52e9-14e5-459c-b950-f9a8ca9c71d5",
   "metadata": {
    "id": "9ef3a2b5-bca5-4cf1-9a9d-73f45add050f",
    "outputId": "03abffa6-3c5f-4fd9-f1c2-d05ef9fc8952",
    "tags": []
   },
   "outputs": [
    {
     "name": "stderr",
     "output_type": "stream",
     "text": [
      "/var/folders/gl/78hjm2sj5wd21cxl9_7qhrw00000gn/T/ipykernel_73453/3887670980.py:2: FutureWarning: The default value of numeric_only in DataFrame.corr is deprecated. In a future version, it will default to False. Select only valid columns or specify the value of numeric_only to silence this warning.\n",
      "  correlation = df_cleaned.corr()\n"
     ]
    },
    {
     "data": {
      "text/plain": [
       "<AxesSubplot: >"
      ]
     },
     "execution_count": 13,
     "metadata": {},
     "output_type": "execute_result"
    },
    {
     "data": {
      "image/png": "[encoded data removed]",
      "text/plain": [
       "<Figure size 640x480 with 2 Axes>"
      ]
     },
     "metadata": {},
     "output_type": "display_data"
    }
   ],
   "source": [
    "# correlation analysis\n",
    "correlation = df_cleaned.corr()\n",
    "\n",
    "# correlation matrix plot\n",
    "plot = sn.heatmap(correlation, annot = True, fmt=\".1f\", linewidths=.6)\n",
    "plot"
   ]
  }
 ],
 "metadata": {
  "colab": {
   "provenance": []
  },
  "kernelspec": {
   "display_name": "Python 3 (ipykernel)",
   "language": "python",
   "name": "python3"
  },
  "language_info": {
   "codemirror_mode": {
    "name": "ipython",
    "version": 3
   },
   "file_extension": ".py",
   "mimetype": "text/x-python",
   "name": "python",
   "nbconvert_exporter": "python",
   "pygments_lexer": "ipython3",
   "version": "3.8.0"
  },
  "toc-autonumbering": false,
  "toc-showmarkdowntxt": true,
  "vscode": {
   "interpreter": {
    "hash": "aee8b7b246df8f9039afb4144a1f6fd8d2ca17a180786b69acc140d282b71a49"
   }
  }
 },
 "nbformat": 4,
 "nbformat_minor": 5
}
