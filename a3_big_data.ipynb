{
 "cells": [
  {
   "cell_type": "markdown",
   "id": "53bdae89-f233-495b-8393-bcad55974668",
   "metadata": {
    "id": "53bdae89-f233-495b-8393-bcad55974668"
   },
   "source": [
    "## Imports"
   ]
  },
  {
   "cell_type": "code",
   "execution_count": 3,
   "id": "8c2221fe-141c-4a84-b754-79fad1c7c84b",
   "metadata": {
    "id": "8c2221fe-141c-4a84-b754-79fad1c7c84b",
    "tags": []
   },
   "outputs": [],
   "source": [
    "import numpy as np\n",
    "import pandas as pd\n",
    "import matplotlib.pyplot as plt\n",
    "import seaborn as sn\n",
    "from collections import Counter"
   ]
  },
  {
   "cell_type": "markdown",
   "id": "4467d03d-aa6a-4288-80f6-934e39191ad9",
   "metadata": {
    "id": "4467d03d-aa6a-4288-80f6-934e39191ad9",
    "jp-MarkdownHeadingCollapsed": true,
    "tags": []
   },
   "source": [
    "# Tratamento (entrega 2)\n",
    "> Developed in \"**/data_treatment.ipynb**\""
   ]
  },
  {
   "cell_type": "markdown",
   "id": "18c0abce-25a3-4ebf-8bde-784d5fb27e61",
   "metadata": {
    "id": "18c0abce-25a3-4ebf-8bde-784d5fb27e61",
    "tags": []
   },
   "source": [
    "# Caracterização (Entrega 3)"
   ]
  },
  {
   "cell_type": "code",
   "execution_count": 12,
   "id": "c1b3883f-4278-4151-8750-67cf07200631",
   "metadata": {
    "tags": []
   },
   "outputs": [
    {
     "data": {
      "text/html": [
       "<div>\n",
       "<style scoped>\n",
       "    .dataframe tbody tr th:only-of-type {\n",
       "        vertical-align: middle;\n",
       "    }\n",
       "\n",
       "    .dataframe tbody tr th {\n",
       "        vertical-align: top;\n",
       "    }\n",
       "\n",
       "    .dataframe thead th {\n",
       "        text-align: right;\n",
       "    }\n",
       "</style>\n",
       "<table border=\"1\" class=\"dataframe\">\n",
       "  <thead>\n",
       "    <tr style=\"text-align: right;\">\n",
       "      <th></th>\n",
       "      <th>ano</th>\n",
       "      <th>municipio</th>\n",
       "      <th>id_escola</th>\n",
       "      <th>nome_escola</th>\n",
       "      <th>aprovado</th>\n",
       "      <th>reprovado</th>\n",
       "      <th>abandono</th>\n",
       "    </tr>\n",
       "  </thead>\n",
       "  <tbody>\n",
       "    <tr>\n",
       "      <th>15827</th>\n",
       "      <td>2020</td>\n",
       "      <td>SANTO ANDRE</td>\n",
       "      <td>8175</td>\n",
       "      <td>NADIR LESSA TOGNINI PROFESSORA</td>\n",
       "      <td>100.00</td>\n",
       "      <td>0.00</td>\n",
       "      <td>0.00</td>\n",
       "    </tr>\n",
       "    <tr>\n",
       "      <th>15828</th>\n",
       "      <td>2020</td>\n",
       "      <td>SANTO ANDRE</td>\n",
       "      <td>8709</td>\n",
       "      <td>ESTHER MEDINA PROFESSORA</td>\n",
       "      <td>100.00</td>\n",
       "      <td>0.00</td>\n",
       "      <td>0.00</td>\n",
       "    </tr>\n",
       "    <tr>\n",
       "      <th>15830</th>\n",
       "      <td>2020</td>\n",
       "      <td>SAO BERNARDO DO CAMPO</td>\n",
       "      <td>8783</td>\n",
       "      <td>PEDRA DE CARVALHO PROFESSORA</td>\n",
       "      <td>100.00</td>\n",
       "      <td>0.00</td>\n",
       "      <td>0.00</td>\n",
       "    </tr>\n",
       "    <tr>\n",
       "      <th>15831</th>\n",
       "      <td>2020</td>\n",
       "      <td>SAO BERNARDO DO CAMPO</td>\n",
       "      <td>8825</td>\n",
       "      <td>LAUDO FERREIRA DE CAMARGO MINISTRO</td>\n",
       "      <td>96.32</td>\n",
       "      <td>2.57</td>\n",
       "      <td>1.11</td>\n",
       "    </tr>\n",
       "    <tr>\n",
       "      <th>15832</th>\n",
       "      <td>2020</td>\n",
       "      <td>SAO BERNARDO DO CAMPO</td>\n",
       "      <td>8874</td>\n",
       "      <td>ROBERT KENNEDY SENADOR</td>\n",
       "      <td>100.00</td>\n",
       "      <td>0.00</td>\n",
       "      <td>0.00</td>\n",
       "    </tr>\n",
       "  </tbody>\n",
       "</table>\n",
       "</div>"
      ],
      "text/plain": [
       "        ano              municipio  id_escola  \\\n",
       "15827  2020            SANTO ANDRE       8175   \n",
       "15828  2020            SANTO ANDRE       8709   \n",
       "15830  2020  SAO BERNARDO DO CAMPO       8783   \n",
       "15831  2020  SAO BERNARDO DO CAMPO       8825   \n",
       "15832  2020  SAO BERNARDO DO CAMPO       8874   \n",
       "\n",
       "                              nome_escola  aprovado  reprovado  abandono  \n",
       "15827      NADIR LESSA TOGNINI PROFESSORA    100.00       0.00      0.00  \n",
       "15828            ESTHER MEDINA PROFESSORA    100.00       0.00      0.00  \n",
       "15830        PEDRA DE CARVALHO PROFESSORA    100.00       0.00      0.00  \n",
       "15831  LAUDO FERREIRA DE CAMARGO MINISTRO     96.32       2.57      1.11  \n",
       "15832              ROBERT KENNEDY SENADOR    100.00       0.00      0.00  "
      ]
     },
     "execution_count": 12,
     "metadata": {},
     "output_type": "execute_result"
    }
   ],
   "source": [
    "df_cleaned = pd.read_excel('output/school_ranged_years_cleaned_data.xlsx',\n",
    "                           engine='openpyxl',\n",
    "                           index_col=[0])\n",
    "df_cleaned.head()"
   ]
  },
  {
   "cell_type": "markdown",
   "id": "412992b7-afe1-4741-980d-2b66eae2020f",
   "metadata": {},
   "source": [
    "## Ranking counties by school quantity from entire dataset\n",
    "\n",
    "* Choosed 20 firsts with higher values"
   ]
  },
  {
   "cell_type": "code",
   "execution_count": 18,
   "id": "e8f78102-ab6f-4e4f-a790-da0a92772f52",
   "metadata": {},
   "outputs": [],
   "source": [
    "county_list = Counter(df_cleaned['municipio'].tolist())\n",
    "final_list = []\n",
    "\n",
    "for county in county_list:\n",
    "    temp = {\"county_name\": county, \"schools\": county_list[county]} \n",
    "    final_list.append(temp)\n",
    "\n",
    "\n",
    "ordered_list = sorted(final_list, key=lambda x: x['schools'], reverse=True)\n",
    "county_name_list = [county['county_name'] for county in ordered_list[:20]]\n",
    "\n",
    "df_cleaned = df_cleaned[df_cleaned['municipio'].isin(county_name_list)]"
   ]
  },
  {
   "cell_type": "markdown",
   "id": "e2ed7dfe-faa6-4c7e-9b8f-f3d70517f2a9",
   "metadata": {},
   "source": [
    "## Slicing dataframe by years"
   ]
  },
  {
   "cell_type": "code",
   "execution_count": 35,
   "id": "fd6381a5-4047-46ee-bd63-c6ebe72c9382",
   "metadata": {},
   "outputs": [],
   "source": [
    "df_2019 = df_cleaned[df_cleaned['ano'] == 2019]\n",
    "df_2020 = df_cleaned[df_cleaned['ano'] == 2020]\n",
    "df_2021 = df_cleaned[df_cleaned['ano'] == 2021]"
   ]
  },
  {
   "cell_type": "markdown",
   "id": "91063be6-a698-4db9-bfb0-25eaff79985c",
   "metadata": {},
   "source": [
    "## Creating Standard bypass"
   ]
  },
  {
   "cell_type": "code",
   "execution_count": 44,
   "id": "193bd68a-ad0b-46e6-be75-55b00208f95f",
   "metadata": {},
   "outputs": [],
   "source": [
    "row_labels = ['2019', '2020', '2021']\n",
    "columns = ['aprovado', 'reprovado', 'abandono']"
   ]
  },
  {
   "cell_type": "code",
   "execution_count": 45,
   "id": "11379b80-8fe0-46e2-8809-2b26615b70a6",
   "metadata": {},
   "outputs": [
    {
     "data": {
      "text/html": [
       "<div>\n",
       "<style scoped>\n",
       "    .dataframe tbody tr th:only-of-type {\n",
       "        vertical-align: middle;\n",
       "    }\n",
       "\n",
       "    .dataframe tbody tr th {\n",
       "        vertical-align: top;\n",
       "    }\n",
       "\n",
       "    .dataframe thead th {\n",
       "        text-align: right;\n",
       "    }\n",
       "</style>\n",
       "<table border=\"1\" class=\"dataframe\">\n",
       "  <thead>\n",
       "    <tr style=\"text-align: right;\">\n",
       "      <th></th>\n",
       "      <th>aprovado</th>\n",
       "      <th>reprovado</th>\n",
       "      <th>abandono</th>\n",
       "    </tr>\n",
       "  </thead>\n",
       "  <tbody>\n",
       "    <tr>\n",
       "      <th>2019</th>\n",
       "      <td>9.58768741824272</td>\n",
       "      <td>7.973251692583739</td>\n",
       "      <td>4.084172282477715</td>\n",
       "    </tr>\n",
       "    <tr>\n",
       "      <th>2020</th>\n",
       "      <td>6.00575613724732</td>\n",
       "      <td>5.013046614179726</td>\n",
       "      <td>1.7374247698946916</td>\n",
       "    </tr>\n",
       "    <tr>\n",
       "      <th>2021</th>\n",
       "      <td>5.353962644598351</td>\n",
       "      <td>4.784330151039836</td>\n",
       "      <td>2.301052654617612</td>\n",
       "    </tr>\n",
       "  </tbody>\n",
       "</table>\n",
       "</div>"
      ],
      "text/plain": [
       "               aprovado          reprovado            abandono\n",
       "2019   9.58768741824272  7.973251692583739   4.084172282477715\n",
       "2020   6.00575613724732  5.013046614179726  1.7374247698946916\n",
       "2021  5.353962644598351  4.784330151039836   2.301052654617612"
      ]
     },
     "execution_count": 45,
     "metadata": {},
     "output_type": "execute_result"
    }
   ],
   "source": [
    "std_2019 = [str(df_2019['aprovado'].std()), str(df_2019['reprovado'].std()), str(df_2019['abandono'].std())]\n",
    "std_2020 = [str(df_2020['aprovado'].std()), str(df_2020['reprovado'].std()), str(df_2020['abandono'].std())]\n",
    "std_2021 = [str(df_2021['aprovado'].std()), str(df_2021['reprovado'].std()), str(df_2021['abandono'].std())]\n",
    "\n",
    "df_std = pd.DataFrame([std_2019, std_2020, std_2021], columns=columns)\n",
    "df_std.index = row_labels\n",
    "df_std"
   ]
  },
  {
   "cell_type": "markdown",
   "id": "cd39a467-49b9-48d8-b51e-72cf7443f26d",
   "metadata": {},
   "source": [
    "## Creating Central Tendency "
   ]
  },
  {
   "cell_type": "markdown",
   "id": "5a0653ae-c67a-40e8-94d5-903cac9bc4d6",
   "metadata": {},
   "source": [
    "### Mean"
   ]
  },
  {
   "cell_type": "code",
   "execution_count": 46,
   "id": "589c0eea-4982-42bc-84f1-b9d9617686f1",
   "metadata": {},
   "outputs": [
    {
     "data": {
      "text/html": [
       "<div>\n",
       "<style scoped>\n",
       "    .dataframe tbody tr th:only-of-type {\n",
       "        vertical-align: middle;\n",
       "    }\n",
       "\n",
       "    .dataframe tbody tr th {\n",
       "        vertical-align: top;\n",
       "    }\n",
       "\n",
       "    .dataframe thead th {\n",
       "        text-align: right;\n",
       "    }\n",
       "</style>\n",
       "<table border=\"1\" class=\"dataframe\">\n",
       "  <thead>\n",
       "    <tr style=\"text-align: right;\">\n",
       "      <th></th>\n",
       "      <th>aprovado</th>\n",
       "      <th>reprovado</th>\n",
       "      <th>abandono</th>\n",
       "    </tr>\n",
       "  </thead>\n",
       "  <tbody>\n",
       "    <tr>\n",
       "      <th>2019</th>\n",
       "      <td>88.235052</td>\n",
       "      <td>8.614595</td>\n",
       "      <td>3.150352</td>\n",
       "    </tr>\n",
       "    <tr>\n",
       "      <th>2020</th>\n",
       "      <td>97.551026</td>\n",
       "      <td>1.963191</td>\n",
       "      <td>0.379967</td>\n",
       "    </tr>\n",
       "    <tr>\n",
       "      <th>2021</th>\n",
       "      <td>96.758491</td>\n",
       "      <td>2.577459</td>\n",
       "      <td>0.664050</td>\n",
       "    </tr>\n",
       "  </tbody>\n",
       "</table>\n",
       "</div>"
      ],
      "text/plain": [
       "       aprovado  reprovado  abandono\n",
       "2019  88.235052   8.614595  3.150352\n",
       "2020  97.551026   1.963191  0.379967\n",
       "2021  96.758491   2.577459  0.664050"
      ]
     },
     "execution_count": 46,
     "metadata": {},
     "output_type": "execute_result"
    }
   ],
   "source": [
    "mean_2019 = [df_2019['aprovado'].mean(), df_2019['reprovado'].mean(), df_2019['abandono'].mean()]\n",
    "mean_2020 = [df_2020['aprovado'].mean(), df_2020['reprovado'].mean(), df_2020['abandono'].mean()]\n",
    "mean_2021 = [df_2021['aprovado'].mean(), df_2021['reprovado'].mean(), df_2021['abandono'].mean()]\n",
    "\n",
    "df_mean = pd.DataFrame([mean_2019, mean_2020, mean_2021], columns=columns)\n",
    "df_mean.index = row_labels\n",
    "df_mean"
   ]
  },
  {
   "cell_type": "markdown",
   "id": "a4862782-7cc1-4625-8308-d9292f4d0d44",
   "metadata": {},
   "source": [
    "### Quantile"
   ]
  },
  {
   "cell_type": "code",
   "execution_count": 47,
   "id": "55547ce1-a176-4560-8812-6e6f826ca057",
   "metadata": {},
   "outputs": [
    {
     "data": {
      "text/html": [
       "<div>\n",
       "<style scoped>\n",
       "    .dataframe tbody tr th:only-of-type {\n",
       "        vertical-align: middle;\n",
       "    }\n",
       "\n",
       "    .dataframe tbody tr th {\n",
       "        vertical-align: top;\n",
       "    }\n",
       "\n",
       "    .dataframe thead th {\n",
       "        text-align: right;\n",
       "    }\n",
       "</style>\n",
       "<table border=\"1\" class=\"dataframe\">\n",
       "  <thead>\n",
       "    <tr style=\"text-align: right;\">\n",
       "      <th></th>\n",
       "      <th>aprovado</th>\n",
       "      <th>reprovado</th>\n",
       "      <th>abandono</th>\n",
       "    </tr>\n",
       "  </thead>\n",
       "  <tbody>\n",
       "    <tr>\n",
       "      <th>2019</th>\n",
       "      <td>89.915</td>\n",
       "      <td>7.18</td>\n",
       "      <td>1.45</td>\n",
       "    </tr>\n",
       "    <tr>\n",
       "      <th>2020</th>\n",
       "      <td>100.000</td>\n",
       "      <td>0.00</td>\n",
       "      <td>0.00</td>\n",
       "    </tr>\n",
       "    <tr>\n",
       "      <th>2021</th>\n",
       "      <td>99.400</td>\n",
       "      <td>0.00</td>\n",
       "      <td>0.00</td>\n",
       "    </tr>\n",
       "  </tbody>\n",
       "</table>\n",
       "</div>"
      ],
      "text/plain": [
       "      aprovado  reprovado  abandono\n",
       "2019    89.915       7.18      1.45\n",
       "2020   100.000       0.00      0.00\n",
       "2021    99.400       0.00      0.00"
      ]
     },
     "execution_count": 47,
     "metadata": {},
     "output_type": "execute_result"
    }
   ],
   "source": [
    "quantile_2019 = [df_2019['aprovado'].quantile(), df_2019['reprovado'].quantile(), df_2019['abandono'].quantile()]\n",
    "quantile_2020 = [df_2020['aprovado'].quantile(), df_2020['reprovado'].quantile(), df_2020['abandono'].quantile()]\n",
    "quantile_2021 = [df_2021['aprovado'].quantile(), df_2021['reprovado'].quantile(), df_2021['abandono'].quantile()]\n",
    "\n",
    "df_quantile = pd.DataFrame([quantile_2019, quantile_2020, quantile_2021], columns=columns)\n",
    "df_quantile.index = row_labels\n",
    "df_quantile"
   ]
  },
  {
   "cell_type": "markdown",
   "id": "62016e34",
   "metadata": {
    "id": "62016e34",
    "tags": []
   },
   "source": [
    "### Creating a Correlation Matrix"
   ]
  },
  {
   "cell_type": "code",
   "execution_count": 52,
   "id": "544f52e9-14e5-459c-b950-f9a8ca9c71d5",
   "metadata": {
    "id": "9ef3a2b5-bca5-4cf1-9a9d-73f45add050f",
    "outputId": "03abffa6-3c5f-4fd9-f1c2-d05ef9fc8952",
    "tags": []
   },
   "outputs": [
    {
     "data": {
      "text/html": [
       "<div>\n",
       "<style scoped>\n",
       "    .dataframe tbody tr th:only-of-type {\n",
       "        vertical-align: middle;\n",
       "    }\n",
       "\n",
       "    .dataframe tbody tr th {\n",
       "        vertical-align: top;\n",
       "    }\n",
       "\n",
       "    .dataframe thead th {\n",
       "        text-align: right;\n",
       "    }\n",
       "</style>\n",
       "<table border=\"1\" class=\"dataframe\">\n",
       "  <thead>\n",
       "    <tr style=\"text-align: right;\">\n",
       "      <th></th>\n",
       "      <th>aprovado</th>\n",
       "      <th>reprovado</th>\n",
       "      <th>abandono</th>\n",
       "    </tr>\n",
       "  </thead>\n",
       "  <tbody>\n",
       "    <tr>\n",
       "      <th>aprovado</th>\n",
       "      <td>1.000000</td>\n",
       "      <td>-0.907947</td>\n",
       "      <td>-0.575000</td>\n",
       "    </tr>\n",
       "    <tr>\n",
       "      <th>reprovado</th>\n",
       "      <td>-0.907947</td>\n",
       "      <td>1.000000</td>\n",
       "      <td>0.179193</td>\n",
       "    </tr>\n",
       "    <tr>\n",
       "      <th>abandono</th>\n",
       "      <td>-0.575000</td>\n",
       "      <td>0.179193</td>\n",
       "      <td>1.000000</td>\n",
       "    </tr>\n",
       "  </tbody>\n",
       "</table>\n",
       "</div>"
      ],
      "text/plain": [
       "           aprovado  reprovado  abandono\n",
       "aprovado   1.000000  -0.907947 -0.575000\n",
       "reprovado -0.907947   1.000000  0.179193\n",
       "abandono  -0.575000   0.179193  1.000000"
      ]
     },
     "execution_count": 52,
     "metadata": {},
     "output_type": "execute_result"
    }
   ],
   "source": [
    "correlation_2019 = df_2019[['aprovado', 'reprovado', 'abandono']].corr()\n",
    "correlation_2020 = df_2020[['aprovado', 'reprovado', 'abandono']].corr()\n",
    "correlation_2021 = df_2021[['aprovado', 'reprovado', 'abandono']].corr()"
   ]
  },
  {
   "cell_type": "markdown",
   "id": "30a6e380-c250-4d69-a113-c59a8db3f18e",
   "metadata": {},
   "source": [
    "# Visualização das informações (Entrega 4)"
   ]
  },
  {
   "cell_type": "markdown",
   "id": "efac5cd5-ff85-4d38-b5d2-49c3f81e3f67",
   "metadata": {},
   "source": [
    "## Standard deviation plot (REVISAR)"
   ]
  },
  {
   "cell_type": "code",
   "execution_count": 26,
   "id": "d0096c62-dbed-4b72-8af1-2868ecab5c2b",
   "metadata": {},
   "outputs": [
    {
     "data": {
      "text/plain": [
       "<AxesSubplot: xlabel='Coluna de análise', ylabel='Resultado desvio padrão'>"
      ]
     },
     "execution_count": 26,
     "metadata": {},
     "output_type": "execute_result"
    },
    {
     "data": {
      "image/png": "[encoded data removed]",
      "text/plain": [
       "<Figure size 640x480 with 1 Axes>"
      ]
     },
     "metadata": {},
     "output_type": "display_data"
    }
   ],
   "source": [
    "df_std.plot(x='Coluna de análise', y='Resultado desvio padrão', kind='scatter')"
   ]
  },
  {
   "cell_type": "markdown",
   "id": "1d41f2d5-c498-4717-a488-2163221a8a84",
   "metadata": {},
   "source": [
    "## Correlation matrix plot"
   ]
  },
  {
   "cell_type": "markdown",
   "id": "a4fee3ee-6ce2-4593-a110-932c1f9364dc",
   "metadata": {},
   "source": [
    "### 2019"
   ]
  },
  {
   "cell_type": "code",
   "execution_count": 53,
   "id": "f82fec35-c8e7-44e1-aad3-3ea6445ff59b",
   "metadata": {},
   "outputs": [
    {
     "data": {
      "image/png": "[encoded data removed]",
      "text/plain": [
       "<Figure size 640x480 with 2 Axes>"
      ]
     },
     "metadata": {},
     "output_type": "display_data"
    }
   ],
   "source": [
    "plot_correlation_2019 = sn.heatmap(correlation_2019, annot = True, fmt=\".1f\", linewidths=.6)"
   ]
  },
  {
   "cell_type": "markdown",
   "id": "285ba825-5029-48c1-a11a-fd8f792ae207",
   "metadata": {},
   "source": [
    "### 2020"
   ]
  },
  {
   "cell_type": "code",
   "execution_count": 54,
   "id": "da60614a-d99e-4cfa-8beb-b675188b6380",
   "metadata": {},
   "outputs": [
    {
     "data": {
      "image/png": "[encoded data removed]",
      "text/plain": [
       "<Figure size 640x480 with 2 Axes>"
      ]
     },
     "metadata": {},
     "output_type": "display_data"
    }
   ],
   "source": [
    "plot_correlation_2020 = sn.heatmap(correlation_2020, annot = True, fmt=\".1f\", linewidths=.6)"
   ]
  },
  {
   "cell_type": "markdown",
   "id": "cdf9b4ed-ceed-49f9-980f-8252f490d704",
   "metadata": {},
   "source": [
    "### 2021"
   ]
  },
  {
   "cell_type": "code",
   "execution_count": 55,
   "id": "75745a52-39a7-4c3b-8805-0f4a94830648",
   "metadata": {},
   "outputs": [
    {
     "data": {
      "image/png": "[encoded data removed]",
      "text/plain": [
       "<Figure size 640x480 with 2 Axes>"
      ]
     },
     "metadata": {},
     "output_type": "display_data"
    }
   ],
   "source": [
    "plot_correlation_2021 = sn.heatmap(correlation_2021, annot = True, fmt=\".1f\", linewidths=.6)"
   ]
  },
  {
   "cell_type": "code",
   "execution_count": null,
   "id": "649f62a9-b2f5-40f9-a54f-4d90e0e34984",
   "metadata": {},
   "outputs": [],
   "source": []
  }
 ],
 "metadata": {
  "colab": {
   "provenance": []
  },
  "kernelspec": {
   "display_name": "Python 3 (ipykernel)",
   "language": "python",
   "name": "python3"
  },
  "language_info": {
   "codemirror_mode": {
    "name": "ipython",
    "version": 3
   },
   "file_extension": ".py",
   "mimetype": "text/x-python",
   "name": "python",
   "nbconvert_exporter": "python",
   "pygments_lexer": "ipython3",
   "version": "3.8.0"
  },
  "toc-autonumbering": false,
  "toc-showmarkdowntxt": true,
  "vscode": {
   "interpreter": {
    "hash": "aee8b7b246df8f9039afb4144a1f6fd8d2ca17a180786b69acc140d282b71a49"
   }
  }
 },
 "nbformat": 4,
 "nbformat_minor": 5
}
