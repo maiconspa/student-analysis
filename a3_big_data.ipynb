{
 "cells": [
  {
   "cell_type": "markdown",
   "id": "53bdae89-f233-495b-8393-bcad55974668",
   "metadata": {
    "id": "53bdae89-f233-495b-8393-bcad55974668"
   },
   "source": [
    "## Imports"
   ]
  },
  {
   "cell_type": "code",
   "execution_count": 1,
   "id": "8c2221fe-141c-4a84-b754-79fad1c7c84b",
   "metadata": {
    "id": "8c2221fe-141c-4a84-b754-79fad1c7c84b",
    "tags": []
   },
   "outputs": [],
   "source": [
    "import numpy as np\n",
    "import pandas as pd\n",
    "import seaborn as sn #necessary to create correlation matrix"
   ]
  },
  {
   "cell_type": "markdown",
   "id": "4467d03d-aa6a-4288-80f6-934e39191ad9",
   "metadata": {
    "id": "4467d03d-aa6a-4288-80f6-934e39191ad9",
    "jp-MarkdownHeadingCollapsed": true,
    "tags": []
   },
   "source": [
    "# Tratamento (entrega 2)\n",
    "> Developed in \"**/data_treatment.ipynb**\""
   ]
  },
  {
   "cell_type": "markdown",
   "id": "18c0abce-25a3-4ebf-8bde-784d5fb27e61",
   "metadata": {
    "id": "18c0abce-25a3-4ebf-8bde-784d5fb27e61",
    "tags": []
   },
   "source": [
    "# Caracterização (Entrega 3)"
   ]
  },
  {
   "cell_type": "code",
   "execution_count": 2,
   "id": "c1b3883f-4278-4151-8750-67cf07200631",
   "metadata": {
    "tags": []
   },
   "outputs": [
    {
     "data": {
      "text/html": [
       "<div>\n",
       "<style scoped>\n",
       "    .dataframe tbody tr th:only-of-type {\n",
       "        vertical-align: middle;\n",
       "    }\n",
       "\n",
       "    .dataframe tbody tr th {\n",
       "        vertical-align: top;\n",
       "    }\n",
       "\n",
       "    .dataframe thead th {\n",
       "        text-align: right;\n",
       "    }\n",
       "</style>\n",
       "<table border=\"1\" class=\"dataframe\">\n",
       "  <thead>\n",
       "    <tr style=\"text-align: right;\">\n",
       "      <th></th>\n",
       "      <th>municipio</th>\n",
       "      <th>id_escola</th>\n",
       "      <th>aprovado</th>\n",
       "      <th>reprovado</th>\n",
       "      <th>abandono</th>\n",
       "    </tr>\n",
       "  </thead>\n",
       "  <tbody>\n",
       "    <tr>\n",
       "      <th>0</th>\n",
       "      <td>PIRAJU</td>\n",
       "      <td>34320</td>\n",
       "      <td>100.00</td>\n",
       "      <td>0.00</td>\n",
       "      <td>0.00</td>\n",
       "    </tr>\n",
       "    <tr>\n",
       "      <th>1</th>\n",
       "      <td>PIRAJU</td>\n",
       "      <td>34344</td>\n",
       "      <td>94.00</td>\n",
       "      <td>2.00</td>\n",
       "      <td>4.00</td>\n",
       "    </tr>\n",
       "    <tr>\n",
       "      <th>2</th>\n",
       "      <td>PIRAJU</td>\n",
       "      <td>34356</td>\n",
       "      <td>100.00</td>\n",
       "      <td>0.00</td>\n",
       "      <td>0.00</td>\n",
       "    </tr>\n",
       "    <tr>\n",
       "      <th>3</th>\n",
       "      <td>PIRAJU</td>\n",
       "      <td>34459</td>\n",
       "      <td>100.00</td>\n",
       "      <td>0.00</td>\n",
       "      <td>0.00</td>\n",
       "    </tr>\n",
       "    <tr>\n",
       "      <th>6</th>\n",
       "      <td>AMERICANA</td>\n",
       "      <td>17176</td>\n",
       "      <td>79.82</td>\n",
       "      <td>19.29</td>\n",
       "      <td>0.89</td>\n",
       "    </tr>\n",
       "  </tbody>\n",
       "</table>\n",
       "</div>"
      ],
      "text/plain": [
       "   municipio  id_escola  aprovado  reprovado  abandono\n",
       "0     PIRAJU      34320    100.00       0.00      0.00\n",
       "1     PIRAJU      34344     94.00       2.00      4.00\n",
       "2     PIRAJU      34356    100.00       0.00      0.00\n",
       "3     PIRAJU      34459    100.00       0.00      0.00\n",
       "6  AMERICANA      17176     79.82      19.29      0.89"
      ]
     },
     "execution_count": 2,
     "metadata": {},
     "output_type": "execute_result"
    }
   ],
   "source": [
    "df_cleaned = pd.read_excel('output/fluxo_escolar_2021_cleaned.xlsx',\n",
    "                           engine='openpyxl',\n",
    "                           index_col=[0])\n",
    "df_cleaned.head()"
   ]
  },
  {
   "cell_type": "markdown",
   "id": "91063be6-a698-4db9-bfb0-25eaff79985c",
   "metadata": {},
   "source": [
    "## Creating Standard bypass"
   ]
  },
  {
   "cell_type": "code",
   "execution_count": 3,
   "id": "11379b80-8fe0-46e2-8809-2b26615b70a6",
   "metadata": {},
   "outputs": [
    {
     "name": "stdout",
     "output_type": "stream",
     "text": [
      "Desvio padrão\n",
      "Reprovado: 3.9538715157081272 \n",
      "Aprovado: 4.463648256286679\n"
     ]
    }
   ],
   "source": [
    "std_reprovado = df_cleaned['reprovado'].std()\n",
    "std_aprovado = df_cleaned['aprovado'].std()\n",
    "\n",
    "print(f\"Desvio padrão\\nReprovado: { str(std_reprovado)} \\nAprovado: {str(std_aprovado)}\")"
   ]
  },
  {
   "cell_type": "markdown",
   "id": "cd39a467-49b9-48d8-b51e-72cf7443f26d",
   "metadata": {},
   "source": [
    "## Creating Central Tendency "
   ]
  },
  {
   "cell_type": "code",
   "execution_count": 4,
   "id": "589c0eea-4982-42bc-84f1-b9d9617686f1",
   "metadata": {},
   "outputs": [
    {
     "name": "stdout",
     "output_type": "stream",
     "text": [
      "Mode: 100.0 \n",
      "Median: 100.0 \n",
      "Quantile: 100.0 \n",
      "Mean: 97.62872897196263\n"
     ]
    }
   ],
   "source": [
    "mean = df_cleaned['aprovado'].mean() #media\n",
    "median = df_cleaned['aprovado'].median() #mediana\n",
    "quantile = df_cleaned['aprovado'].quantile()\n",
    "mode = df_cleaned['aprovado'].mode().iloc[0]\n",
    "\n",
    "print(f\"Mode: { str(mode)} \\nMedian: {str(median)} \\nQuantile: {str(quantile)} \\nMean: {str(mean)}\")"
   ]
  },
  {
   "cell_type": "markdown",
   "id": "62016e34",
   "metadata": {
    "id": "62016e34",
    "tags": []
   },
   "source": [
    "### Creating a Correlation Matrix"
   ]
  },
  {
   "cell_type": "code",
   "execution_count": 11,
   "id": "544f52e9-14e5-459c-b950-f9a8ca9c71d5",
   "metadata": {
    "id": "9ef3a2b5-bca5-4cf1-9a9d-73f45add050f",
    "outputId": "03abffa6-3c5f-4fd9-f1c2-d05ef9fc8952",
    "tags": []
   },
   "outputs": [
    {
     "data": {
      "text/html": [
       "<div>\n",
       "<style scoped>\n",
       "    .dataframe tbody tr th:only-of-type {\n",
       "        vertical-align: middle;\n",
       "    }\n",
       "\n",
       "    .dataframe tbody tr th {\n",
       "        vertical-align: top;\n",
       "    }\n",
       "\n",
       "    .dataframe thead th {\n",
       "        text-align: right;\n",
       "    }\n",
       "</style>\n",
       "<table border=\"1\" class=\"dataframe\">\n",
       "  <thead>\n",
       "    <tr style=\"text-align: right;\">\n",
       "      <th></th>\n",
       "      <th>aprovado</th>\n",
       "      <th>reprovado</th>\n",
       "      <th>abandono</th>\n",
       "    </tr>\n",
       "  </thead>\n",
       "  <tbody>\n",
       "    <tr>\n",
       "      <th>aprovado</th>\n",
       "      <td>1.000000</td>\n",
       "      <td>-0.898291</td>\n",
       "      <td>-0.464762</td>\n",
       "    </tr>\n",
       "    <tr>\n",
       "      <th>reprovado</th>\n",
       "      <td>-0.898291</td>\n",
       "      <td>1.000000</td>\n",
       "      <td>0.028430</td>\n",
       "    </tr>\n",
       "    <tr>\n",
       "      <th>abandono</th>\n",
       "      <td>-0.464762</td>\n",
       "      <td>0.028430</td>\n",
       "      <td>1.000000</td>\n",
       "    </tr>\n",
       "  </tbody>\n",
       "</table>\n",
       "</div>"
      ],
      "text/plain": [
       "           aprovado  reprovado  abandono\n",
       "aprovado   1.000000  -0.898291 -0.464762\n",
       "reprovado -0.898291   1.000000  0.028430\n",
       "abandono  -0.464762   0.028430  1.000000"
      ]
     },
     "execution_count": 11,
     "metadata": {},
     "output_type": "execute_result"
    }
   ],
   "source": [
    "correlation = df_cleaned[['aprovado','reprovado','abandono']].corr()\n",
    "correlation"
   ]
  },
  {
   "cell_type": "markdown",
   "id": "30a6e380-c250-4d69-a113-c59a8db3f18e",
   "metadata": {},
   "source": [
    "# Visualização das informações (Entrega 4)"
   ]
  },
  {
   "cell_type": "markdown",
   "id": "efac5cd5-ff85-4d38-b5d2-49c3f81e3f67",
   "metadata": {},
   "source": [
    "## Standard bypass plot"
   ]
  },
  {
   "cell_type": "code",
   "execution_count": null,
   "id": "d0096c62-dbed-4b72-8af1-2868ecab5c2b",
   "metadata": {},
   "outputs": [],
   "source": []
  },
  {
   "cell_type": "markdown",
   "id": "1d41f2d5-c498-4717-a488-2163221a8a84",
   "metadata": {},
   "source": [
    "## Correlation matrix plot"
   ]
  },
  {
   "cell_type": "code",
   "execution_count": 16,
   "id": "f82fec35-c8e7-44e1-aad3-3ea6445ff59b",
   "metadata": {},
   "outputs": [
    {
     "data": {
      "text/plain": [
       "<AxesSubplot: >"
      ]
     },
     "execution_count": 16,
     "metadata": {},
     "output_type": "execute_result"
    },
    {
     "data": {
      "image/png": "[encoded data removed]",
      "text/plain": [
       "<Figure size 640x480 with 2 Axes>"
      ]
     },
     "metadata": {},
     "output_type": "display_data"
    }
   ],
   "source": [
    "plot_correlation = sn.heatmap(correlation, annot = True, fmt=\".1f\", linewidths=.6)\n",
    "plot_correlation"
   ]
  },
  {
   "cell_type": "code",
   "execution_count": null,
   "id": "75745a52-39a7-4c3b-8805-0f4a94830648",
   "metadata": {},
   "outputs": [],
   "source": []
  }
 ],
 "metadata": {
  "colab": {
   "provenance": []
  },
  "kernelspec": {
   "display_name": "Python 3 (ipykernel)",
   "language": "python",
   "name": "python3"
  },
  "language_info": {
   "codemirror_mode": {
    "name": "ipython",
    "version": 3
   },
   "file_extension": ".py",
   "mimetype": "text/x-python",
   "name": "python",
   "nbconvert_exporter": "python",
   "pygments_lexer": "ipython3",
   "version": "3.10.4"
  },
  "toc-autonumbering": false,
  "toc-showmarkdowntxt": true,
  "vscode": {
   "interpreter": {
    "hash": "aee8b7b246df8f9039afb4144a1f6fd8d2ca17a180786b69acc140d282b71a49"
   }
  }
 },
 "nbformat": 4,
 "nbformat_minor": 5
}
