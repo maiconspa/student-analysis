{
 "cells": [
  {
   "cell_type": "markdown",
   "id": "4e27a71c-fa57-4cd1-bf21-10d62c1d26ef",
   "metadata": {},
   "source": [
    "# Data treatment\n",
    "\n",
    "**Objective:** read a dataset filtered by studied year(2021), treat such as necessary (removing rows, renaming, dropping columns...), and generate a new file called \"fluxo_escolar_2021_cleaned.xlsx\" in the \"output\" folder."
   ]
  },
  {
   "cell_type": "markdown",
   "id": "5321130d-7792-4a35-8edd-bf200e3eb22f",
   "metadata": {},
   "source": [
    "## Importing packages"
   ]
  },
  {
   "cell_type": "code",
   "execution_count": 27,
   "id": "299e7839-00c6-4686-add6-3bd99e0b4ca7",
   "metadata": {},
   "outputs": [],
   "source": [
    "import numpy as np\n",
    "import pandas as pd\n",
    "import datetime\n",
    "import unicodedata"
   ]
  },
  {
   "cell_type": "markdown",
   "id": "0648f759-a8a1-4424-a639-0fdbb6acbdd2",
   "metadata": {
    "tags": []
   },
   "source": [
    "## Importing dataset"
   ]
  },
  {
   "cell_type": "code",
   "execution_count": 82,
   "id": "ad2510df-ea99-44e3-b931-acbe3d2661ad",
   "metadata": {},
   "outputs": [
    {
     "data": {
      "text/html": [
       "<div>\n",
       "<style scoped>\n",
       "    .dataframe tbody tr th:only-of-type {\n",
       "        vertical-align: middle;\n",
       "    }\n",
       "\n",
       "    .dataframe tbody tr th {\n",
       "        vertical-align: top;\n",
       "    }\n",
       "\n",
       "    .dataframe thead th {\n",
       "        text-align: right;\n",
       "    }\n",
       "</style>\n",
       "<table border=\"1\" class=\"dataframe\">\n",
       "  <thead>\n",
       "    <tr style=\"text-align: right;\">\n",
       "      <th></th>\n",
       "      <th>ANO_LETIVO</th>\n",
       "      <th>NM_DIRETORIA</th>\n",
       "      <th>NM_MUNICIPIO</th>\n",
       "      <th>CD_REDE_ENSINO</th>\n",
       "      <th>CD_ESCOLA</th>\n",
       "      <th>NM_COMPLETO_ESCOLA</th>\n",
       "      <th>CD_TP_IDENTIFICADOR</th>\n",
       "      <th>APR_1</th>\n",
       "      <th>REP_1</th>\n",
       "      <th>ABA_1</th>\n",
       "      <th>APR_2</th>\n",
       "      <th>REP_2</th>\n",
       "      <th>ABA_2</th>\n",
       "      <th>APR_3</th>\n",
       "      <th>REP_3</th>\n",
       "      <th>ABA_3</th>\n",
       "    </tr>\n",
       "  </thead>\n",
       "  <tbody>\n",
       "    <tr>\n",
       "      <th>0</th>\n",
       "      <td>2021</td>\n",
       "      <td>PIRAJU</td>\n",
       "      <td>PIRAJU</td>\n",
       "      <td>1</td>\n",
       "      <td>34320</td>\n",
       "      <td>JOAQUIM GUILHERME MOREIRA PORTO DOUTOR</td>\n",
       "      <td>8</td>\n",
       "      <td>0.0</td>\n",
       "      <td>0.0</td>\n",
       "      <td>0.0</td>\n",
       "      <td>100.00</td>\n",
       "      <td>0.00</td>\n",
       "      <td>0.0</td>\n",
       "      <td>100.0</td>\n",
       "      <td>0.0</td>\n",
       "      <td>0.0</td>\n",
       "    </tr>\n",
       "    <tr>\n",
       "      <th>1</th>\n",
       "      <td>2021</td>\n",
       "      <td>PIRAJU</td>\n",
       "      <td>PIRAJU</td>\n",
       "      <td>1</td>\n",
       "      <td>34344</td>\n",
       "      <td>QUINZINHO CAMARGO PREFEITO</td>\n",
       "      <td>8</td>\n",
       "      <td>0.0</td>\n",
       "      <td>0.0</td>\n",
       "      <td>0.0</td>\n",
       "      <td>99.56</td>\n",
       "      <td>0.44</td>\n",
       "      <td>0.0</td>\n",
       "      <td>94.0</td>\n",
       "      <td>2.0</td>\n",
       "      <td>4.0</td>\n",
       "    </tr>\n",
       "    <tr>\n",
       "      <th>2</th>\n",
       "      <td>2021</td>\n",
       "      <td>PIRAJU</td>\n",
       "      <td>PIRAJU</td>\n",
       "      <td>1</td>\n",
       "      <td>34356</td>\n",
       "      <td>NHONHO BRAGA CORONEL</td>\n",
       "      <td>8</td>\n",
       "      <td>0.0</td>\n",
       "      <td>0.0</td>\n",
       "      <td>0.0</td>\n",
       "      <td>100.00</td>\n",
       "      <td>0.00</td>\n",
       "      <td>0.0</td>\n",
       "      <td>100.0</td>\n",
       "      <td>0.0</td>\n",
       "      <td>0.0</td>\n",
       "    </tr>\n",
       "    <tr>\n",
       "      <th>3</th>\n",
       "      <td>2021</td>\n",
       "      <td>PIRAJU</td>\n",
       "      <td>PIRAJU</td>\n",
       "      <td>1</td>\n",
       "      <td>34459</td>\n",
       "      <td>ATALIBA LEONEL</td>\n",
       "      <td>8</td>\n",
       "      <td>0.0</td>\n",
       "      <td>0.0</td>\n",
       "      <td>0.0</td>\n",
       "      <td>100.00</td>\n",
       "      <td>0.00</td>\n",
       "      <td>0.0</td>\n",
       "      <td>100.0</td>\n",
       "      <td>0.0</td>\n",
       "      <td>0.0</td>\n",
       "    </tr>\n",
       "    <tr>\n",
       "      <th>4</th>\n",
       "      <td>2021</td>\n",
       "      <td>AMERICANA</td>\n",
       "      <td>AMERICANA</td>\n",
       "      <td>1</td>\n",
       "      <td>17152</td>\n",
       "      <td>MAURA ARRUDA GUIDOLIN PROFA</td>\n",
       "      <td>8</td>\n",
       "      <td>100.0</td>\n",
       "      <td>0.0</td>\n",
       "      <td>0.0</td>\n",
       "      <td>0.00</td>\n",
       "      <td>0.00</td>\n",
       "      <td>0.0</td>\n",
       "      <td>0.0</td>\n",
       "      <td>0.0</td>\n",
       "      <td>0.0</td>\n",
       "    </tr>\n",
       "  </tbody>\n",
       "</table>\n",
       "</div>"
      ],
      "text/plain": [
       "   ANO_LETIVO NM_DIRETORIA NM_MUNICIPIO  CD_REDE_ENSINO  CD_ESCOLA  \\\n",
       "0        2021       PIRAJU       PIRAJU               1      34320   \n",
       "1        2021       PIRAJU       PIRAJU               1      34344   \n",
       "2        2021       PIRAJU       PIRAJU               1      34356   \n",
       "3        2021       PIRAJU       PIRAJU               1      34459   \n",
       "4        2021    AMERICANA    AMERICANA               1      17152   \n",
       "\n",
       "                       NM_COMPLETO_ESCOLA  CD_TP_IDENTIFICADOR  APR_1  REP_1  \\\n",
       "0  JOAQUIM GUILHERME MOREIRA PORTO DOUTOR                    8    0.0    0.0   \n",
       "1              QUINZINHO CAMARGO PREFEITO                    8    0.0    0.0   \n",
       "2                    NHONHO BRAGA CORONEL                    8    0.0    0.0   \n",
       "3                          ATALIBA LEONEL                    8    0.0    0.0   \n",
       "4             MAURA ARRUDA GUIDOLIN PROFA                    8  100.0    0.0   \n",
       "\n",
       "   ABA_1   APR_2  REP_2  ABA_2  APR_3  REP_3  ABA_3  \n",
       "0    0.0  100.00   0.00    0.0  100.0    0.0    0.0  \n",
       "1    0.0   99.56   0.44    0.0   94.0    2.0    4.0  \n",
       "2    0.0  100.00   0.00    0.0  100.0    0.0    0.0  \n",
       "3    0.0  100.00   0.00    0.0  100.0    0.0    0.0  \n",
       "4    0.0    0.00   0.00    0.0    0.0    0.0    0.0  "
      ]
     },
     "execution_count": 82,
     "metadata": {},
     "output_type": "execute_result"
    }
   ],
   "source": [
    "df = pd.read_excel('./data/Fluxo_Escolar_2021.xlsx',engine='openpyxl')\n",
    "df.head()"
   ]
  },
  {
   "cell_type": "markdown",
   "id": "aeefa7b0-fbda-47c3-aed0-dbd8aacadf94",
   "metadata": {},
   "source": [
    "## Dropping unused columns"
   ]
  },
  {
   "cell_type": "code",
   "execution_count": 41,
   "id": "3e04b974-2cac-4779-aea4-393e1dae5e55",
   "metadata": {},
   "outputs": [
    {
     "data": {
      "text/html": [
       "<div>\n",
       "<style scoped>\n",
       "    .dataframe tbody tr th:only-of-type {\n",
       "        vertical-align: middle;\n",
       "    }\n",
       "\n",
       "    .dataframe tbody tr th {\n",
       "        vertical-align: top;\n",
       "    }\n",
       "\n",
       "    .dataframe thead th {\n",
       "        text-align: right;\n",
       "    }\n",
       "</style>\n",
       "<table border=\"1\" class=\"dataframe\">\n",
       "  <thead>\n",
       "    <tr style=\"text-align: right;\">\n",
       "      <th></th>\n",
       "      <th>NM_MUNICIPIO</th>\n",
       "      <th>CD_REDE_ENSINO</th>\n",
       "      <th>CD_ESCOLA</th>\n",
       "      <th>APR_3</th>\n",
       "      <th>REP_3</th>\n",
       "      <th>ABA_3</th>\n",
       "    </tr>\n",
       "  </thead>\n",
       "  <tbody>\n",
       "    <tr>\n",
       "      <th>0</th>\n",
       "      <td>PIRAJU</td>\n",
       "      <td>1</td>\n",
       "      <td>34320</td>\n",
       "      <td>100.0</td>\n",
       "      <td>0.0</td>\n",
       "      <td>0.0</td>\n",
       "    </tr>\n",
       "    <tr>\n",
       "      <th>1</th>\n",
       "      <td>PIRAJU</td>\n",
       "      <td>1</td>\n",
       "      <td>34344</td>\n",
       "      <td>94.0</td>\n",
       "      <td>2.0</td>\n",
       "      <td>4.0</td>\n",
       "    </tr>\n",
       "    <tr>\n",
       "      <th>2</th>\n",
       "      <td>PIRAJU</td>\n",
       "      <td>1</td>\n",
       "      <td>34356</td>\n",
       "      <td>100.0</td>\n",
       "      <td>0.0</td>\n",
       "      <td>0.0</td>\n",
       "    </tr>\n",
       "    <tr>\n",
       "      <th>3</th>\n",
       "      <td>PIRAJU</td>\n",
       "      <td>1</td>\n",
       "      <td>34459</td>\n",
       "      <td>100.0</td>\n",
       "      <td>0.0</td>\n",
       "      <td>0.0</td>\n",
       "    </tr>\n",
       "    <tr>\n",
       "      <th>4</th>\n",
       "      <td>AMERICANA</td>\n",
       "      <td>1</td>\n",
       "      <td>17152</td>\n",
       "      <td>0.0</td>\n",
       "      <td>0.0</td>\n",
       "      <td>0.0</td>\n",
       "    </tr>\n",
       "  </tbody>\n",
       "</table>\n",
       "</div>"
      ],
      "text/plain": [
       "  NM_MUNICIPIO  CD_REDE_ENSINO  CD_ESCOLA  APR_3  REP_3  ABA_3\n",
       "0       PIRAJU               1      34320  100.0    0.0    0.0\n",
       "1       PIRAJU               1      34344   94.0    2.0    4.0\n",
       "2       PIRAJU               1      34356  100.0    0.0    0.0\n",
       "3       PIRAJU               1      34459  100.0    0.0    0.0\n",
       "4    AMERICANA               1      17152    0.0    0.0    0.0"
      ]
     },
     "execution_count": 41,
     "metadata": {},
     "output_type": "execute_result"
    }
   ],
   "source": [
    "drop_list = ['ANO_LETIVO',\n",
    "             'NM_DIRETORIA',\n",
    "             'NM_COMPLETO_ESCOLA',\n",
    "             'CD_TP_IDENTIFICADOR',\n",
    "             'APR_1',\n",
    "             'REP_1',\n",
    "             'ABA_1',\n",
    "             'APR_2',\n",
    "             'REP_2',\n",
    "             'ABA_2']\n",
    "\n",
    "df_column_dropped = df.drop(drop_list, axis='columns')\n",
    "df_column_dropped.head()"
   ]
  },
  {
   "cell_type": "markdown",
   "id": "ef08df39-c8ea-41c6-9ab4-8b602e40776c",
   "metadata": {},
   "source": [
    "## Renaming columns"
   ]
  },
  {
   "cell_type": "code",
   "execution_count": 48,
   "id": "f87982e7-6991-4794-8f15-a2b7c3eedbe4",
   "metadata": {},
   "outputs": [
    {
     "data": {
      "text/html": [
       "<div>\n",
       "<style scoped>\n",
       "    .dataframe tbody tr th:only-of-type {\n",
       "        vertical-align: middle;\n",
       "    }\n",
       "\n",
       "    .dataframe tbody tr th {\n",
       "        vertical-align: top;\n",
       "    }\n",
       "\n",
       "    .dataframe thead th {\n",
       "        text-align: right;\n",
       "    }\n",
       "</style>\n",
       "<table border=\"1\" class=\"dataframe\">\n",
       "  <thead>\n",
       "    <tr style=\"text-align: right;\">\n",
       "      <th></th>\n",
       "      <th>municipio</th>\n",
       "      <th>id_rede_ensino</th>\n",
       "      <th>id_escola</th>\n",
       "      <th>aprovado</th>\n",
       "      <th>reprovado</th>\n",
       "      <th>abandono</th>\n",
       "    </tr>\n",
       "  </thead>\n",
       "  <tbody>\n",
       "    <tr>\n",
       "      <th>0</th>\n",
       "      <td>PIRAJU</td>\n",
       "      <td>1</td>\n",
       "      <td>34320</td>\n",
       "      <td>100.0</td>\n",
       "      <td>0.0</td>\n",
       "      <td>0.0</td>\n",
       "    </tr>\n",
       "    <tr>\n",
       "      <th>1</th>\n",
       "      <td>PIRAJU</td>\n",
       "      <td>1</td>\n",
       "      <td>34344</td>\n",
       "      <td>94.0</td>\n",
       "      <td>2.0</td>\n",
       "      <td>4.0</td>\n",
       "    </tr>\n",
       "    <tr>\n",
       "      <th>2</th>\n",
       "      <td>PIRAJU</td>\n",
       "      <td>1</td>\n",
       "      <td>34356</td>\n",
       "      <td>100.0</td>\n",
       "      <td>0.0</td>\n",
       "      <td>0.0</td>\n",
       "    </tr>\n",
       "    <tr>\n",
       "      <th>3</th>\n",
       "      <td>PIRAJU</td>\n",
       "      <td>1</td>\n",
       "      <td>34459</td>\n",
       "      <td>100.0</td>\n",
       "      <td>0.0</td>\n",
       "      <td>0.0</td>\n",
       "    </tr>\n",
       "    <tr>\n",
       "      <th>4</th>\n",
       "      <td>AMERICANA</td>\n",
       "      <td>1</td>\n",
       "      <td>17152</td>\n",
       "      <td>0.0</td>\n",
       "      <td>0.0</td>\n",
       "      <td>0.0</td>\n",
       "    </tr>\n",
       "  </tbody>\n",
       "</table>\n",
       "</div>"
      ],
      "text/plain": [
       "   municipio  id_rede_ensino  id_escola  aprovado  reprovado  abandono\n",
       "0     PIRAJU               1      34320     100.0        0.0       0.0\n",
       "1     PIRAJU               1      34344      94.0        2.0       4.0\n",
       "2     PIRAJU               1      34356     100.0        0.0       0.0\n",
       "3     PIRAJU               1      34459     100.0        0.0       0.0\n",
       "4  AMERICANA               1      17152       0.0        0.0       0.0"
      ]
     },
     "execution_count": 48,
     "metadata": {},
     "output_type": "execute_result"
    }
   ],
   "source": [
    "rename_list = {'ANO_LETIVO': 'ano',\n",
    "               'NM_MUNICIPIO': 'municipio',\n",
    "               'CD_REDE_ENSINO': 'id_rede_ensino',\n",
    "               'CD_ESCOLA': 'id_escola',\n",
    "               'APR_3': 'aprovado',\n",
    "               'REP_3': 'reprovado',\n",
    "               'ABA_3': 'abandono'}\n",
    "\n",
    "df_column_renamed = df_column_dropped.rename(columns=rename_list)\n",
    "df_column_renamed.head()"
   ]
  },
  {
   "cell_type": "markdown",
   "id": "d26d7ff1-3022-42f8-826d-4dd0ca96fb1d",
   "metadata": {},
   "source": [
    "## Filtering"
   ]
  },
  {
   "cell_type": "code",
   "execution_count": 59,
   "id": "8b897e6c-1fb5-4b50-93b9-fb20b47a46ed",
   "metadata": {},
   "outputs": [
    {
     "name": "stdout",
     "output_type": "stream",
     "text": [
      "Dataframe length before filtering: 5194\n"
     ]
    }
   ],
   "source": [
    "print('Dataframe length before filtering:', len(df_column_rename))"
   ]
  },
  {
   "cell_type": "markdown",
   "id": "6d173e0f-08d4-4149-bab5-1e68f14937b1",
   "metadata": {},
   "source": [
    "### Removing rows that contains hyphen"
   ]
  },
  {
   "cell_type": "code",
   "execution_count": 72,
   "id": "46764230-4100-4b9d-af59-3c05f2f0f634",
   "metadata": {},
   "outputs": [
    {
     "name": "stdout",
     "output_type": "stream",
     "text": [
      "Dataframe length:  5194\n"
     ]
    }
   ],
   "source": [
    "df_cleaned = df_column_renamed[df_column_renamed != \"-\"]\n",
    "df_cleaned = df_cleaned[df_cleaned != datetime.time(0, 0)]\n",
    "df_cleaned = df_cleaned.dropna()\n",
    "\n",
    "print('Dataframe length: ', len(df_cleaned))"
   ]
  },
  {
   "cell_type": "markdown",
   "id": "b23d02d1-79d6-45fd-80ec-aca3b7b102e4",
   "metadata": {},
   "source": [
    "### Removing rows that contains invalid datetime format"
   ]
  },
  {
   "cell_type": "code",
   "execution_count": 73,
   "id": "7afbb3ca-7010-41d0-8d07-6af9938bcc2d",
   "metadata": {},
   "outputs": [
    {
     "name": "stdout",
     "output_type": "stream",
     "text": [
      "Dataframe length:  5194\n"
     ]
    }
   ],
   "source": [
    "df_cleaned = df_cleaned[df_cleaned != datetime.time(0, 0)]\n",
    "\n",
    "print('Dataframe length: ', len(df_cleaned))"
   ]
  },
  {
   "cell_type": "markdown",
   "id": "9706cf19-01b7-4185-9d62-b9ea382147a9",
   "metadata": {},
   "source": [
    "### Removing rows that contains invalid values"
   ]
  },
  {
   "cell_type": "code",
   "execution_count": 74,
   "id": "acccd9ba-f03e-4443-84bd-f0a11fa776fe",
   "metadata": {},
   "outputs": [
    {
     "name": "stdout",
     "output_type": "stream",
     "text": [
      "Dataframe length:  3745\n"
     ]
    }
   ],
   "source": [
    "df_cleaned = df_cleaned.loc[(df_cleaned['aprovado'] > 0) | (df_cleaned['reprovado'] > 0)]\n",
    "\n",
    "print('Dataframe length: ', len(df_cleaned))"
   ]
  },
  {
   "cell_type": "markdown",
   "id": "27a014de-4eb7-40e3-9422-bb536fd5f15e",
   "metadata": {},
   "source": [
    "## County name corrections"
   ]
  },
  {
   "cell_type": "code",
   "execution_count": 75,
   "id": "27bd8194-ec13-4248-80ff-b692bac9d4f9",
   "metadata": {},
   "outputs": [
    {
     "name": "stdout",
     "output_type": "stream",
     "text": [
      "Comparing results:\n",
      "\n",
      "sp_counties_list values that do not in df_cleaned_unique_county_list: {'SANTANA DE PARNAIBA', 'BIRITIBA MIRIM', 'FLORINEA'}\n",
      "df_cleaned_unique_county_list values that do not in sp_counties_list: {'FLORÍNEA', 'BIRITIBA-MIRIM'}\n"
     ]
    }
   ],
   "source": [
    "df_cleaned_unique_county_list = df_cleaned['municipio'].unique().tolist()\n",
    "\n",
    "ibge_counties_data = pd.read_excel('data/ibge_sp_counties_data.xlsx')\n",
    "sp_counties_list = ibge_counties_data.loc[:, 'Município'].tolist()\n",
    "\n",
    "def strip_accents(s):\n",
    "   return ''.join(c for c in unicodedata.normalize('NFD', s)\n",
    "                  if unicodedata.category(c) != 'Mn')\n",
    "\n",
    "sp_counties_normalized_list = [ strip_accents(i).replace(';', '').upper() for i in sp_counties_list]\n",
    "\n",
    "diff1 = set(sp_counties_normalized_list).difference(set(df_cleaned_unique_county_list))\n",
    "diff2 = set(df_cleaned_unique_county_list).difference(set(sp_counties_normalized_list))\n",
    "\n",
    "print(f'''Comparing results:\n",
    "\n",
    "sp_counties_list values that do not in df_cleaned_unique_county_list: {diff1 or None}\n",
    "df_cleaned_unique_county_list values that do not in sp_counties_list: {diff2 or None}''')"
   ]
  },
  {
   "cell_type": "markdown",
   "id": "b2a924ac-09cb-4329-88eb-8b242f028877",
   "metadata": {},
   "source": [
    "**Note:**\n",
    "'SANTANA DE PARNAIBA' is a county that is not in case study dataframe, so will be ignored"
   ]
  },
  {
   "cell_type": "code",
   "execution_count": 78,
   "id": "5dcbabe3-fa94-40e2-a24b-cf3d615a3d7e",
   "metadata": {},
   "outputs": [
    {
     "data": {
      "text/html": [
       "<div>\n",
       "<style scoped>\n",
       "    .dataframe tbody tr th:only-of-type {\n",
       "        vertical-align: middle;\n",
       "    }\n",
       "\n",
       "    .dataframe tbody tr th {\n",
       "        vertical-align: top;\n",
       "    }\n",
       "\n",
       "    .dataframe thead th {\n",
       "        text-align: right;\n",
       "    }\n",
       "</style>\n",
       "<table border=\"1\" class=\"dataframe\">\n",
       "  <thead>\n",
       "    <tr style=\"text-align: right;\">\n",
       "      <th></th>\n",
       "      <th>municipio</th>\n",
       "      <th>id_rede_ensino</th>\n",
       "      <th>id_escola</th>\n",
       "      <th>aprovado</th>\n",
       "      <th>reprovado</th>\n",
       "      <th>abandono</th>\n",
       "    </tr>\n",
       "  </thead>\n",
       "  <tbody>\n",
       "    <tr>\n",
       "      <th>0</th>\n",
       "      <td>PIRAJU</td>\n",
       "      <td>1</td>\n",
       "      <td>34320</td>\n",
       "      <td>100.00</td>\n",
       "      <td>0.00</td>\n",
       "      <td>0.00</td>\n",
       "    </tr>\n",
       "    <tr>\n",
       "      <th>1</th>\n",
       "      <td>PIRAJU</td>\n",
       "      <td>1</td>\n",
       "      <td>34344</td>\n",
       "      <td>94.00</td>\n",
       "      <td>2.00</td>\n",
       "      <td>4.00</td>\n",
       "    </tr>\n",
       "    <tr>\n",
       "      <th>2</th>\n",
       "      <td>PIRAJU</td>\n",
       "      <td>1</td>\n",
       "      <td>34356</td>\n",
       "      <td>100.00</td>\n",
       "      <td>0.00</td>\n",
       "      <td>0.00</td>\n",
       "    </tr>\n",
       "    <tr>\n",
       "      <th>3</th>\n",
       "      <td>PIRAJU</td>\n",
       "      <td>1</td>\n",
       "      <td>34459</td>\n",
       "      <td>100.00</td>\n",
       "      <td>0.00</td>\n",
       "      <td>0.00</td>\n",
       "    </tr>\n",
       "    <tr>\n",
       "      <th>6</th>\n",
       "      <td>AMERICANA</td>\n",
       "      <td>1</td>\n",
       "      <td>17176</td>\n",
       "      <td>79.82</td>\n",
       "      <td>19.29</td>\n",
       "      <td>0.89</td>\n",
       "    </tr>\n",
       "  </tbody>\n",
       "</table>\n",
       "</div>"
      ],
      "text/plain": [
       "   municipio  id_rede_ensino  id_escola  aprovado  reprovado  abandono\n",
       "0     PIRAJU               1      34320    100.00       0.00      0.00\n",
       "1     PIRAJU               1      34344     94.00       2.00      4.00\n",
       "2     PIRAJU               1      34356    100.00       0.00      0.00\n",
       "3     PIRAJU               1      34459    100.00       0.00      0.00\n",
       "6  AMERICANA               1      17176     79.82      19.29      0.89"
      ]
     },
     "execution_count": 78,
     "metadata": {},
     "output_type": "execute_result"
    }
   ],
   "source": [
    "df_cleaned['municipio'] = df_cleaned['municipio'].replace('BIRITIBA-MIRIM', 'BIRITIBA MIRIM')\n",
    "df_cleaned['municipio'] = df_cleaned['municipio'].replace('FLORÍNEA', 'FLORINEA')\n",
    "df_cleaned['municipio'] = df_cleaned['municipio'].replace('MOGI-GUACU', 'MOGI GUACU')\n",
    "df_cleaned['municipio'] = df_cleaned['municipio'].replace('MOGI-MIRIM', 'MOGI MIRIM')\n",
    "\n",
    "df_cleaned.head()"
   ]
  },
  {
   "cell_type": "markdown",
   "id": "3d447343-6ba0-4d60-a195-ada891661505",
   "metadata": {},
   "source": [
    "## Exporting cleaned dataset"
   ]
  },
  {
   "cell_type": "code",
   "execution_count": 77,
   "id": "20a4fa42-9963-412d-95f0-c516a33cf505",
   "metadata": {},
   "outputs": [
    {
     "name": "stderr",
     "output_type": "stream",
     "text": [
      "/Users/maicon_araujo/Documents/personal_projects/student-analysis/venv/lib/python3.8/site-packages/pandas/util/_decorators.py:211: FutureWarning: the 'encoding' keyword is deprecated and will be removed in a future version. Please take steps to stop the use of 'encoding'\n",
      "  return func(*args, **kwargs)\n"
     ]
    }
   ],
   "source": [
    "df_cleaned.to_excel('output/fluxo_escolar_2021_cleaned.xlsx', encoding=\"utf-8\")"
   ]
  }
 ],
 "metadata": {
  "kernelspec": {
   "display_name": "Python 3 (ipykernel)",
   "language": "python",
   "name": "python3"
  },
  "language_info": {
   "codemirror_mode": {
    "name": "ipython",
    "version": 3
   },
   "file_extension": ".py",
   "mimetype": "text/x-python",
   "name": "python",
   "nbconvert_exporter": "python",
   "pygments_lexer": "ipython3",
   "version": "3.8.0"
  }
 },
 "nbformat": 4,
 "nbformat_minor": 5
}
