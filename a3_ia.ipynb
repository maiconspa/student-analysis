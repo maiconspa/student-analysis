{
 "cells": [
  {
   "cell_type": "code",
   "execution_count": null,
   "metadata": {
    "id": "CdMDjvy2z3Mx"
   },
   "outputs": [],
   "source": [
    "# !pip3 install sklearn\n",
    "# !pip3 install pandas\n",
    "# !pip3 install openpyxl"
   ]
  },
  {
   "cell_type": "markdown",
   "metadata": {
    "id": "sNAzWl50_BjA"
   },
   "source": [
    "## Import packages"
   ]
  },
  {
   "cell_type": "code",
   "execution_count": 1,
   "metadata": {
    "id": "MOZ7VVLpyucs"
   },
   "outputs": [],
   "source": [
    "# from sklearn import preprocessing\n",
    "import numpy as np\n",
    "import pandas as pd\n",
    "# import datetime"
   ]
  },
  {
   "cell_type": "markdown",
   "metadata": {
    "id": "HTlPTITf_Gat"
   },
   "source": [
    "## Import document as data frame"
   ]
  },
  {
   "cell_type": "code",
   "execution_count": 29,
   "metadata": {
    "id": "qh0kfK_yHGOy"
   },
   "outputs": [],
   "source": [
    "df = pd.read_excel('./Fluxo_Escolar_por_Escola.xlsx')"
   ]
  },
  {
   "cell_type": "markdown",
   "metadata": {
    "id": "qVu3bU-U_N7G"
   },
   "source": [
    "## Drop unused columns"
   ]
  },
  {
   "cell_type": "code",
   "execution_count": 30,
   "metadata": {
    "id": "q4uFcQjCuM42"
   },
   "outputs": [],
   "source": [
    "drop_columns = ['NM_DIRETORIA','CD_REDE_ENSINO',\t'CD_ESCOLA', 'APR_1', 'REP_1', 'ABA_1', 'APR_2', 'REP_2', 'ABA_2']\n",
    "df_cleaned = df.drop(drop_columns, axis='columns')"
   ]
  },
  {
   "cell_type": "markdown",
   "metadata": {
    "id": "bQfVauw8_bYJ"
   },
   "source": [
    "## Renaming columns"
   ]
  },
  {
   "cell_type": "code",
   "execution_count": 31,
   "metadata": {
    "id": "H_wOku5Xy8CX"
   },
   "outputs": [],
   "source": [
    "columns_renamed = {\n",
    "    'Ano':'ano',\n",
    "    'NM_MUNICIPIO':'municipio',\n",
    "    'NM_COMPLETO_ESCOLA':'escola',\n",
    "    'APR_3':'aprovado',\n",
    "    'REP_3':'reprovado',\n",
    "    'ABA_3':'abandono'\n",
    "}\n",
    "df_cleaned = df_cleaned.rename(columns=columns_renamed)"
   ]
  },
  {
   "cell_type": "markdown",
   "metadata": {
    "id": "Yf-4qFcF_vY6"
   },
   "source": [
    "## Drop rows that contains NaN from data frame (cleaned)"
   ]
  },
  {
   "cell_type": "code",
   "execution_count": 34,
   "metadata": {
    "id": "VzUq2J5sAanX"
   },
   "outputs": [],
   "source": [
    "df_cleaned = df_cleaned.dropna()"
   ]
  },
  {
   "cell_type": "code",
   "execution_count": null,
   "metadata": {
    "id": "wE4MJEt7_pbf"
   },
   "outputs": [],
   "source": [
    "#df_cleaned.head(20)"
   ]
  },
  {
   "cell_type": "markdown",
   "metadata": {
    "id": "n_WsHRhkE7MK"
   },
   "source": [
    "Exportando o resultado de hoje 07-11 23:31"
   ]
  },
  {
   "cell_type": "code",
   "execution_count": 37,
   "metadata": {
    "id": "r4akZ0TycXcn"
   },
   "outputs": [],
   "source": [
    "df_cleaned.to_excel('fluxo_escolar_parcialmente_tratado.xlsx', encoding=\"utf-8\")"
   ]
  },
  {
   "cell_type": "markdown",
   "metadata": {
    "id": "5NZyhjTjDcvJ"
   },
   "source": [
    "DAQUI PARA BAIXO EU NÃO GARANTO NADA kkkkkk\n",
    "\n",
    "---\n",
    "\n",
    "\n",
    "1.   Garantir municipios unificados\n",
    "2.   Grantir que não há caracteres \"quebrados\"\n",
    "\n",
    "\n"
   ]
  },
  {
   "cell_type": "code",
   "execution_count": null,
   "metadata": {
    "id": "uad5_hb-z3Mz"
   },
   "outputs": [],
   "source": [
    "# df_cleaned = df_cleaned[df_cleaned != \"-\"]\n",
    "# df_cleaned = df_cleaned[df_cleaned != datetime.time(0, 0)]\n",
    "# df_cleaned = df_cleaned.dropna()\n",
    "df_cleaned.head(20)"
   ]
  },
  {
   "cell_type": "code",
   "execution_count": null,
   "metadata": {
    "id": "kylsx2Gkz3M0"
   },
   "outputs": [],
   "source": [
    "df_cleaned['ABA_3'] = df_cleaned['ABA_3'].astype(str)\n",
    "df_cleaned = df_cleaned[df_cleaned[\"ABA_3\"].str.contains(\"-\") == False]\n",
    "\n",
    "df_cleaned.head(20)"
   ]
  },
  {
   "cell_type": "code",
   "execution_count": null,
   "metadata": {
    "id": "HqKOsQlJz3M0"
   },
   "outputs": [],
   "source": [
    "df_cleaned['APR_3'] = df_cleaned['APR_3'].astype(float)\n",
    "df_cleaned['REP_3'] = df_cleaned['REP_3'].astype(float)\n",
    "df_cleaned['ABA_3'] = df_cleaned['ABA_3'].astype(float)\n",
    "\n",
    "df_cleaned = df_cleaned.reset_index()\n",
    "df_cleaned.head(20)"
   ]
  },
  {
   "cell_type": "code",
   "execution_count": null,
   "metadata": {
    "id": "erD3RDQozSMZ"
   },
   "outputs": [],
   "source": [
    "normalized_list = preprocessing.normalize([df_cleaned['aprovado'],df_cleaned['reprovado'],df_cleaned['abandono']])\n",
    "\n",
    "df_cleaned['aprovado_normalized'] = normalized_list[0]\n",
    "df_cleaned['reprovado_normalized'] = normalized_list[1]\n",
    "df_cleaned['abandono_normalized'] = normalized_list[2]\n",
    "\n",
    "df_cleaned.head(20)"
   ]
  }
 ],
 "metadata": {
  "colab": {
   "provenance": []
  },
  "kernelspec": {
   "display_name": "Python 3 (ipykernel)",
   "language": "python",
   "name": "python3"
  },
  "language_info": {
   "codemirror_mode": {
    "name": "ipython",
    "version": 3
   },
   "file_extension": ".py",
   "mimetype": "text/x-python",
   "name": "python",
   "nbconvert_exporter": "python",
   "pygments_lexer": "ipython3",
   "version": "3.8.0"
  },
  "vscode": {
   "interpreter": {
    "hash": "aee8b7b246df8f9039afb4144a1f6fd8d2ca17a180786b69acc140d282b71a49"
   }
  }
 },
 "nbformat": 4,
 "nbformat_minor": 4
}
