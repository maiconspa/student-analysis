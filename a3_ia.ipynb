{
  "cells": [
    {
      "cell_type": "code",
      "execution_count": null,
      "metadata": {
        "id": "CdMDjvy2z3Mx"
      },
      "outputs": [],
      "source": [
        "# !pip3 install sklearn\n",
        "# !pip3 install pandas\n",
        "# !pip3 install openpyxl"
      ]
    },
    {
      "cell_type": "markdown",
      "metadata": {
        "id": "sNAzWl50_BjA"
      },
      "source": [
        "##Import packages"
      ]
    },
    {
      "cell_type": "code",
      "execution_count": null,
      "metadata": {
        "id": "MOZ7VVLpyucs"
      },
      "outputs": [],
      "source": [
        "from sklearn import preprocessing\n",
        "import numpy as np\n",
        "import pandas as pd\n",
        "import datetime"
      ]
    },
    {
      "cell_type": "markdown",
      "metadata": {
        "id": "HTlPTITf_Gat"
      },
      "source": [
        "##Import document as data frame"
      ]
    },
    {
      "cell_type": "code",
      "execution_count": null,
      "metadata": {
        "id": "qh0kfK_yHGOy"
      },
      "outputs": [],
      "source": [
        "df = pd.read_excel('./Fluxo_Escolar_por_Escola.xlsx')"
      ]
    },
    {
      "cell_type": "markdown",
      "metadata": {
        "id": "qVu3bU-U_N7G"
      },
      "source": [
        "##Drop unused columns"
      ]
    },
    {
      "cell_type": "code",
      "execution_count": null,
      "metadata": {
        "id": "q4uFcQjCuM42"
      },
      "outputs": [],
      "source": [
        "drop_columns = ['NM_DIRETORIA','CD_REDE_ENSINO',\t'CD_ESCOLA', 'APR_1', 'REP_1', 'ABA_1', 'APR_2', 'REP_2', 'ABA_2']\n",
        "df_cleaned = df.drop(drop_columns, axis='columns')"
      ]
    },
    {
      "cell_type": "markdown",
      "metadata": {
        "id": "bQfVauw8_bYJ"
      },
      "source": [
        "##Renaming columns"
      ]
    },
    {
      "cell_type": "code",
      "execution_count": null,
      "metadata": {
        "id": "H_wOku5Xy8CX"
      },
      "outputs": [],
      "source": [
        "columns_renamed = {\n",
        "    'Ano':'ano', \n",
        "    'NM_MUNICIPIO':'municipio', \n",
        "    'NM_COMPLETO_ESCOLA':'escola', \n",
        "    'aprovado':'aprovado', \n",
        "    'REP_3':'reprovado', \n",
        "    'abandono':'abandono'\n",
        "}\n",
        "df_cleaned = df_cleaned.rename(columns=columns_renamed)"
      ]
    },
    {
      "cell_type": "markdown",
      "metadata": {
        "id": "Yf-4qFcF_vY6"
      },
      "source": [
        "##Drop rows that contains NaN from data frame (cleaned)"
      ]
    },
    {
      "cell_type": "code",
      "execution_count": null,
      "metadata": {
        "id": "VzUq2J5sAanX"
      },
      "outputs": [],
      "source": [
        "df_cleaned = df_cleaned.dropna()"
      ]
    },
    {
      "cell_type": "code",
      "execution_count": null,
      "metadata": {
        "id": "wE4MJEt7_pbf"
      },
      "outputs": [],
      "source": [
        "#df_cleaned.head(20)"
      ]
    },
    {
      "cell_type": "markdown",
      "metadata": {
        "id": "n_WsHRhkE7MK"
      },
      "source": [
        "Exportando o resultado de hoje 07-11 23:31"
      ]
    },
    {
      "cell_type": "code",
      "execution_count": null,
      "metadata": {
        "id": "r4akZ0TycXcn"
      },
      "outputs": [],
      "source": [
        "df_cleaned.to_excel('fluxo_escolar_parcialmente_tratado.xlsx', encoding=\"utf-8\")"
      ]
    },
    {
      "cell_type": "markdown",
      "metadata": {
        "id": "5NZyhjTjDcvJ"
      },
      "source": [
        "# Cleaning and normalizing data"
      ]
    },
    {
      "cell_type": "markdown",
      "metadata": {},
      "source": [
        "##Install packages if necessary"
      ]
    },
    {
      "cell_type": "code",
      "execution_count": null,
      "metadata": {},
      "outputs": [],
      "source": [
        "# !pip3 install yellowbrick"
      ]
    },
    {
      "cell_type": "markdown",
      "metadata": {},
      "source": [
        "##Import packages"
      ]
    },
    {
      "cell_type": "code",
      "execution_count": 1,
      "metadata": {},
      "outputs": [],
      "source": [
        "from sklearn import preprocessing\n",
        "from sklearn.model_selection import train_test_split\n",
        "from sklearn.compose import ColumnTransformer\n",
        "from sklearn.metrics import accuracy_score, confusion_matrix\n",
        "from yellowbrick.classifier import ConfusionMatrix\n",
        "from sklearn.preprocessing import OneHotEncoder\n",
        "import numpy as np\n",
        "import pandas as pd\n",
        "import seaborn as sns\n",
        "import datetime\n",
        "import pickle"
      ]
    },
    {
      "cell_type": "markdown",
      "metadata": {},
      "source": [
        "##Import document as data frame"
      ]
    },
    {
      "cell_type": "code",
      "execution_count": 2,
      "metadata": {},
      "outputs": [
        {
          "name": "stdout",
          "output_type": "stream",
          "text": [
            "(22758, 7)\n"
          ]
        },
        {
          "data": {
            "text/html": [
              "<div>\n",
              "<style scoped>\n",
              "    .dataframe tbody tr th:only-of-type {\n",
              "        vertical-align: middle;\n",
              "    }\n",
              "\n",
              "    .dataframe tbody tr th {\n",
              "        vertical-align: top;\n",
              "    }\n",
              "\n",
              "    .dataframe thead th {\n",
              "        text-align: right;\n",
              "    }\n",
              "</style>\n",
              "<table border=\"1\" class=\"dataframe\">\n",
              "  <thead>\n",
              "    <tr style=\"text-align: right;\">\n",
              "      <th></th>\n",
              "      <th>Unnamed: 0</th>\n",
              "      <th>ano</th>\n",
              "      <th>municipio</th>\n",
              "      <th>escola</th>\n",
              "      <th>aprovado</th>\n",
              "      <th>reprovado</th>\n",
              "      <th>abandono</th>\n",
              "    </tr>\n",
              "  </thead>\n",
              "  <tbody>\n",
              "    <tr>\n",
              "      <th>0</th>\n",
              "      <td>1</td>\n",
              "      <td>2015</td>\n",
              "      <td>FERRAZ DE VASCONCELOS</td>\n",
              "      <td>CONJUNTO HABITACIONAL PARQUE DOURADO II</td>\n",
              "      <td>75.62</td>\n",
              "      <td>20.66</td>\n",
              "      <td>3.72</td>\n",
              "    </tr>\n",
              "    <tr>\n",
              "      <th>1</th>\n",
              "      <td>3</td>\n",
              "      <td>2015</td>\n",
              "      <td>SUZANO</td>\n",
              "      <td>ROBERTO BIANCHI</td>\n",
              "      <td>97.14</td>\n",
              "      <td>1.71</td>\n",
              "      <td>1.15</td>\n",
              "    </tr>\n",
              "    <tr>\n",
              "      <th>2</th>\n",
              "      <td>5</td>\n",
              "      <td>2015</td>\n",
              "      <td>SUZANO</td>\n",
              "      <td>CARLOS MOLTENI PROFESSOR</td>\n",
              "      <td>90.33</td>\n",
              "      <td>9.67</td>\n",
              "      <td>0.00</td>\n",
              "    </tr>\n",
              "    <tr>\n",
              "      <th>3</th>\n",
              "      <td>6</td>\n",
              "      <td>2015</td>\n",
              "      <td>SUZANO</td>\n",
              "      <td>GIOVANNI BATTISTA RAFFO PROFESSOR DOUTOR</td>\n",
              "      <td>98.66</td>\n",
              "      <td>1.01</td>\n",
              "      <td>0.33</td>\n",
              "    </tr>\n",
              "    <tr>\n",
              "      <th>4</th>\n",
              "      <td>9</td>\n",
              "      <td>2015</td>\n",
              "      <td>SUZANO</td>\n",
              "      <td>OSWALDO DE OLIVEIRA LIMA</td>\n",
              "      <td>71.92</td>\n",
              "      <td>16.73</td>\n",
              "      <td>11.35</td>\n",
              "    </tr>\n",
              "  </tbody>\n",
              "</table>\n",
              "</div>"
            ],
            "text/plain": [
              "   Unnamed: 0   ano              municipio  \\\n",
              "0           1  2015  FERRAZ DE VASCONCELOS   \n",
              "1           3  2015                 SUZANO   \n",
              "2           5  2015                 SUZANO   \n",
              "3           6  2015                 SUZANO   \n",
              "4           9  2015                 SUZANO   \n",
              "\n",
              "                                     escola  aprovado  reprovado  abandono  \n",
              "0   CONJUNTO HABITACIONAL PARQUE DOURADO II     75.62      20.66      3.72  \n",
              "1                           ROBERTO BIANCHI     97.14       1.71      1.15  \n",
              "2                  CARLOS MOLTENI PROFESSOR     90.33       9.67      0.00  \n",
              "3  GIOVANNI BATTISTA RAFFO PROFESSOR DOUTOR     98.66       1.01      0.33  \n",
              "4                  OSWALDO DE OLIVEIRA LIMA     71.92      16.73     11.35  "
            ]
          },
          "execution_count": 2,
          "metadata": {},
          "output_type": "execute_result"
        }
      ],
      "source": [
        "df_cleaned = pd.read_excel('./output/fluxo_escolar_filtered_correct_percenteges.xlsx',engine='openpyxl')\n",
        "print(df_cleaned.shape)\n",
        "df_cleaned.head()"
      ]
    },
    {
      "cell_type": "markdown",
      "metadata": {},
      "source": [
        "##Removing fields with \"-\" value, time value and NaN value"
      ]
    },
    {
      "cell_type": "code",
      "execution_count": 3,
      "metadata": {
        "id": "uad5_hb-z3Mz"
      },
      "outputs": [
        {
          "name": "stdout",
          "output_type": "stream",
          "text": [
            "(22758, 7)\n"
          ]
        },
        {
          "data": {
            "text/html": [
              "<div>\n",
              "<style scoped>\n",
              "    .dataframe tbody tr th:only-of-type {\n",
              "        vertical-align: middle;\n",
              "    }\n",
              "\n",
              "    .dataframe tbody tr th {\n",
              "        vertical-align: top;\n",
              "    }\n",
              "\n",
              "    .dataframe thead th {\n",
              "        text-align: right;\n",
              "    }\n",
              "</style>\n",
              "<table border=\"1\" class=\"dataframe\">\n",
              "  <thead>\n",
              "    <tr style=\"text-align: right;\">\n",
              "      <th></th>\n",
              "      <th>Unnamed: 0</th>\n",
              "      <th>ano</th>\n",
              "      <th>municipio</th>\n",
              "      <th>escola</th>\n",
              "      <th>aprovado</th>\n",
              "      <th>reprovado</th>\n",
              "      <th>abandono</th>\n",
              "    </tr>\n",
              "  </thead>\n",
              "  <tbody>\n",
              "    <tr>\n",
              "      <th>0</th>\n",
              "      <td>1</td>\n",
              "      <td>2015</td>\n",
              "      <td>FERRAZ DE VASCONCELOS</td>\n",
              "      <td>CONJUNTO HABITACIONAL PARQUE DOURADO II</td>\n",
              "      <td>75.62</td>\n",
              "      <td>20.66</td>\n",
              "      <td>3.72</td>\n",
              "    </tr>\n",
              "    <tr>\n",
              "      <th>1</th>\n",
              "      <td>3</td>\n",
              "      <td>2015</td>\n",
              "      <td>SUZANO</td>\n",
              "      <td>ROBERTO BIANCHI</td>\n",
              "      <td>97.14</td>\n",
              "      <td>1.71</td>\n",
              "      <td>1.15</td>\n",
              "    </tr>\n",
              "    <tr>\n",
              "      <th>2</th>\n",
              "      <td>5</td>\n",
              "      <td>2015</td>\n",
              "      <td>SUZANO</td>\n",
              "      <td>CARLOS MOLTENI PROFESSOR</td>\n",
              "      <td>90.33</td>\n",
              "      <td>9.67</td>\n",
              "      <td>0.00</td>\n",
              "    </tr>\n",
              "    <tr>\n",
              "      <th>3</th>\n",
              "      <td>6</td>\n",
              "      <td>2015</td>\n",
              "      <td>SUZANO</td>\n",
              "      <td>GIOVANNI BATTISTA RAFFO PROFESSOR DOUTOR</td>\n",
              "      <td>98.66</td>\n",
              "      <td>1.01</td>\n",
              "      <td>0.33</td>\n",
              "    </tr>\n",
              "    <tr>\n",
              "      <th>4</th>\n",
              "      <td>9</td>\n",
              "      <td>2015</td>\n",
              "      <td>SUZANO</td>\n",
              "      <td>OSWALDO DE OLIVEIRA LIMA</td>\n",
              "      <td>71.92</td>\n",
              "      <td>16.73</td>\n",
              "      <td>11.35</td>\n",
              "    </tr>\n",
              "  </tbody>\n",
              "</table>\n",
              "</div>"
            ],
            "text/plain": [
              "   Unnamed: 0   ano              municipio  \\\n",
              "0           1  2015  FERRAZ DE VASCONCELOS   \n",
              "1           3  2015                 SUZANO   \n",
              "2           5  2015                 SUZANO   \n",
              "3           6  2015                 SUZANO   \n",
              "4           9  2015                 SUZANO   \n",
              "\n",
              "                                     escola  aprovado  reprovado  abandono  \n",
              "0   CONJUNTO HABITACIONAL PARQUE DOURADO II     75.62      20.66      3.72  \n",
              "1                           ROBERTO BIANCHI     97.14       1.71      1.15  \n",
              "2                  CARLOS MOLTENI PROFESSOR     90.33       9.67      0.00  \n",
              "3  GIOVANNI BATTISTA RAFFO PROFESSOR DOUTOR     98.66       1.01      0.33  \n",
              "4                  OSWALDO DE OLIVEIRA LIMA     71.92      16.73     11.35  "
            ]
          },
          "execution_count": 3,
          "metadata": {},
          "output_type": "execute_result"
        }
      ],
      "source": [
        "df_cleaned = df_cleaned[df_cleaned != \"-\"]\n",
        "df_cleaned = df_cleaned[df_cleaned != datetime.time(0, 0)]\n",
        "df_cleaned = df_cleaned.dropna()\n",
        "\n",
        "print(df_cleaned.shape)\n",
        "df_cleaned.head()"
      ]
    },
    {
      "cell_type": "markdown",
      "metadata": {},
      "source": [
        "##Converting datetime values to correct format"
      ]
    },
    {
      "cell_type": "code",
      "execution_count": 4,
      "metadata": {},
      "outputs": [
        {
          "name": "stdout",
          "output_type": "stream",
          "text": [
            "(22758, 7)\n"
          ]
        },
        {
          "data": {
            "text/html": [
              "<div>\n",
              "<style scoped>\n",
              "    .dataframe tbody tr th:only-of-type {\n",
              "        vertical-align: middle;\n",
              "    }\n",
              "\n",
              "    .dataframe tbody tr th {\n",
              "        vertical-align: top;\n",
              "    }\n",
              "\n",
              "    .dataframe thead th {\n",
              "        text-align: right;\n",
              "    }\n",
              "</style>\n",
              "<table border=\"1\" class=\"dataframe\">\n",
              "  <thead>\n",
              "    <tr style=\"text-align: right;\">\n",
              "      <th></th>\n",
              "      <th>Unnamed: 0</th>\n",
              "      <th>ano</th>\n",
              "      <th>municipio</th>\n",
              "      <th>escola</th>\n",
              "      <th>aprovado</th>\n",
              "      <th>reprovado</th>\n",
              "      <th>abandono</th>\n",
              "    </tr>\n",
              "  </thead>\n",
              "  <tbody>\n",
              "    <tr>\n",
              "      <th>0</th>\n",
              "      <td>1</td>\n",
              "      <td>2015</td>\n",
              "      <td>FERRAZ DE VASCONCELOS</td>\n",
              "      <td>CONJUNTO HABITACIONAL PARQUE DOURADO II</td>\n",
              "      <td>75.62</td>\n",
              "      <td>20.66</td>\n",
              "      <td>3.72</td>\n",
              "    </tr>\n",
              "    <tr>\n",
              "      <th>1</th>\n",
              "      <td>3</td>\n",
              "      <td>2015</td>\n",
              "      <td>SUZANO</td>\n",
              "      <td>ROBERTO BIANCHI</td>\n",
              "      <td>97.14</td>\n",
              "      <td>1.71</td>\n",
              "      <td>1.15</td>\n",
              "    </tr>\n",
              "    <tr>\n",
              "      <th>2</th>\n",
              "      <td>5</td>\n",
              "      <td>2015</td>\n",
              "      <td>SUZANO</td>\n",
              "      <td>CARLOS MOLTENI PROFESSOR</td>\n",
              "      <td>90.33</td>\n",
              "      <td>9.67</td>\n",
              "      <td>0.00</td>\n",
              "    </tr>\n",
              "    <tr>\n",
              "      <th>3</th>\n",
              "      <td>6</td>\n",
              "      <td>2015</td>\n",
              "      <td>SUZANO</td>\n",
              "      <td>GIOVANNI BATTISTA RAFFO PROFESSOR DOUTOR</td>\n",
              "      <td>98.66</td>\n",
              "      <td>1.01</td>\n",
              "      <td>0.33</td>\n",
              "    </tr>\n",
              "    <tr>\n",
              "      <th>4</th>\n",
              "      <td>9</td>\n",
              "      <td>2015</td>\n",
              "      <td>SUZANO</td>\n",
              "      <td>OSWALDO DE OLIVEIRA LIMA</td>\n",
              "      <td>71.92</td>\n",
              "      <td>16.73</td>\n",
              "      <td>11.35</td>\n",
              "    </tr>\n",
              "  </tbody>\n",
              "</table>\n",
              "</div>"
            ],
            "text/plain": [
              "   Unnamed: 0   ano              municipio  \\\n",
              "0           1  2015  FERRAZ DE VASCONCELOS   \n",
              "1           3  2015                 SUZANO   \n",
              "2           5  2015                 SUZANO   \n",
              "3           6  2015                 SUZANO   \n",
              "4           9  2015                 SUZANO   \n",
              "\n",
              "                                     escola  aprovado  reprovado  abandono  \n",
              "0   CONJUNTO HABITACIONAL PARQUE DOURADO II     75.62      20.66      3.72  \n",
              "1                           ROBERTO BIANCHI     97.14       1.71      1.15  \n",
              "2                  CARLOS MOLTENI PROFESSOR     90.33       9.67      0.00  \n",
              "3  GIOVANNI BATTISTA RAFFO PROFESSOR DOUTOR     98.66       1.01      0.33  \n",
              "4                  OSWALDO DE OLIVEIRA LIMA     71.92      16.73     11.35  "
            ]
          },
          "execution_count": 4,
          "metadata": {},
          "output_type": "execute_result"
        }
      ],
      "source": [
        "for index, row in df_cleaned.iterrows():\n",
        "    if(isinstance(row['aprovado'], datetime.datetime)):\n",
        "        if row['aprovado'].month < 10:\n",
        "            new_value = str(row['aprovado'].day) + \".0\" + str(row['aprovado'].month)\n",
        "        else:\n",
        "            new_value = str(row['aprovado'].day) + \".\" + str(row['aprovado'].month)\n",
        "        df_cleaned['aprovado'] = df_cleaned['aprovado'].replace([row['aprovado']], new_value)\n",
        "\n",
        "    if(isinstance(row['reprovado'], datetime.datetime)):\n",
        "        if row['reprovado'].month < 10:\n",
        "            new_value = str(row['reprovado'].day) + \".0\" + str(row['reprovado'].month)\n",
        "        else:\n",
        "            new_value = str(row['reprovado'].day) + \".\" + str(row['reprovado'].month)\n",
        "        df_cleaned['reprovado'] = df_cleaned['reprovado'].replace([row['reprovado']], new_value)\n",
        "\n",
        "    if(isinstance(row['abandono'], datetime.datetime)):\n",
        "        if row['abandono'].month < 10:\n",
        "            new_value = str(row['abandono'].day) + \".0\" + str(row['abandono'].month)\n",
        "        else:\n",
        "            new_value = str(row['abandono'].day) + \".\" + str(row['abandono'].month)\n",
        "        df_cleaned['abandono'] = df_cleaned['abandono'].replace([row['abandono']], new_value)\n",
        "\n",
        "print(df_cleaned.shape)\n",
        "df_cleaned.head()\n"
      ]
    },
    {
      "cell_type": "markdown",
      "metadata": {},
      "source": [
        "##Removing lines with negative number"
      ]
    },
    {
      "cell_type": "code",
      "execution_count": 5,
      "metadata": {
        "id": "kylsx2Gkz3M0"
      },
      "outputs": [
        {
          "name": "stdout",
          "output_type": "stream",
          "text": [
            "(22758, 7)\n"
          ]
        },
        {
          "data": {
            "text/html": [
              "<div>\n",
              "<style scoped>\n",
              "    .dataframe tbody tr th:only-of-type {\n",
              "        vertical-align: middle;\n",
              "    }\n",
              "\n",
              "    .dataframe tbody tr th {\n",
              "        vertical-align: top;\n",
              "    }\n",
              "\n",
              "    .dataframe thead th {\n",
              "        text-align: right;\n",
              "    }\n",
              "</style>\n",
              "<table border=\"1\" class=\"dataframe\">\n",
              "  <thead>\n",
              "    <tr style=\"text-align: right;\">\n",
              "      <th></th>\n",
              "      <th>Unnamed: 0</th>\n",
              "      <th>ano</th>\n",
              "      <th>municipio</th>\n",
              "      <th>escola</th>\n",
              "      <th>aprovado</th>\n",
              "      <th>reprovado</th>\n",
              "      <th>abandono</th>\n",
              "    </tr>\n",
              "  </thead>\n",
              "  <tbody>\n",
              "    <tr>\n",
              "      <th>0</th>\n",
              "      <td>1</td>\n",
              "      <td>2015</td>\n",
              "      <td>FERRAZ DE VASCONCELOS</td>\n",
              "      <td>CONJUNTO HABITACIONAL PARQUE DOURADO II</td>\n",
              "      <td>75.62</td>\n",
              "      <td>20.66</td>\n",
              "      <td>3.72</td>\n",
              "    </tr>\n",
              "    <tr>\n",
              "      <th>1</th>\n",
              "      <td>3</td>\n",
              "      <td>2015</td>\n",
              "      <td>SUZANO</td>\n",
              "      <td>ROBERTO BIANCHI</td>\n",
              "      <td>97.14</td>\n",
              "      <td>1.71</td>\n",
              "      <td>1.15</td>\n",
              "    </tr>\n",
              "    <tr>\n",
              "      <th>2</th>\n",
              "      <td>5</td>\n",
              "      <td>2015</td>\n",
              "      <td>SUZANO</td>\n",
              "      <td>CARLOS MOLTENI PROFESSOR</td>\n",
              "      <td>90.33</td>\n",
              "      <td>9.67</td>\n",
              "      <td>0.0</td>\n",
              "    </tr>\n",
              "    <tr>\n",
              "      <th>3</th>\n",
              "      <td>6</td>\n",
              "      <td>2015</td>\n",
              "      <td>SUZANO</td>\n",
              "      <td>GIOVANNI BATTISTA RAFFO PROFESSOR DOUTOR</td>\n",
              "      <td>98.66</td>\n",
              "      <td>1.01</td>\n",
              "      <td>0.33</td>\n",
              "    </tr>\n",
              "    <tr>\n",
              "      <th>4</th>\n",
              "      <td>9</td>\n",
              "      <td>2015</td>\n",
              "      <td>SUZANO</td>\n",
              "      <td>OSWALDO DE OLIVEIRA LIMA</td>\n",
              "      <td>71.92</td>\n",
              "      <td>16.73</td>\n",
              "      <td>11.35</td>\n",
              "    </tr>\n",
              "  </tbody>\n",
              "</table>\n",
              "</div>"
            ],
            "text/plain": [
              "   Unnamed: 0   ano              municipio  \\\n",
              "0           1  2015  FERRAZ DE VASCONCELOS   \n",
              "1           3  2015                 SUZANO   \n",
              "2           5  2015                 SUZANO   \n",
              "3           6  2015                 SUZANO   \n",
              "4           9  2015                 SUZANO   \n",
              "\n",
              "                                     escola  aprovado  reprovado abandono  \n",
              "0   CONJUNTO HABITACIONAL PARQUE DOURADO II     75.62      20.66     3.72  \n",
              "1                           ROBERTO BIANCHI     97.14       1.71     1.15  \n",
              "2                  CARLOS MOLTENI PROFESSOR     90.33       9.67      0.0  \n",
              "3  GIOVANNI BATTISTA RAFFO PROFESSOR DOUTOR     98.66       1.01     0.33  \n",
              "4                  OSWALDO DE OLIVEIRA LIMA     71.92      16.73    11.35  "
            ]
          },
          "execution_count": 5,
          "metadata": {},
          "output_type": "execute_result"
        }
      ],
      "source": [
        "df_cleaned['abandono'] = df_cleaned['abandono'].astype(str)\n",
        "df_cleaned = df_cleaned[df_cleaned[\"abandono\"].str.contains(\"-\") == False]\n",
        "\n",
        "print(df_cleaned.shape)\n",
        "df_cleaned.head()"
      ]
    },
    {
      "cell_type": "markdown",
      "metadata": {},
      "source": [
        "##Convert columns to float"
      ]
    },
    {
      "cell_type": "code",
      "execution_count": 6,
      "metadata": {
        "id": "HqKOsQlJz3M0"
      },
      "outputs": [],
      "source": [
        "df_cleaned['aprovado'] = df_cleaned['aprovado'].astype(float)\n",
        "df_cleaned['reprovado'] = df_cleaned['reprovado'].astype(float)\n",
        "df_cleaned['abandono'] = df_cleaned['abandono'].astype(float)"
      ]
    },
    {
      "cell_type": "markdown",
      "metadata": {},
      "source": [
        "##Remove rows that have just 0 values and reset index"
      ]
    },
    {
      "cell_type": "code",
      "execution_count": 7,
      "metadata": {},
      "outputs": [
        {
          "name": "stdout",
          "output_type": "stream",
          "text": [
            "(22758, 8)\n"
          ]
        },
        {
          "data": {
            "text/html": [
              "<div>\n",
              "<style scoped>\n",
              "    .dataframe tbody tr th:only-of-type {\n",
              "        vertical-align: middle;\n",
              "    }\n",
              "\n",
              "    .dataframe tbody tr th {\n",
              "        vertical-align: top;\n",
              "    }\n",
              "\n",
              "    .dataframe thead th {\n",
              "        text-align: right;\n",
              "    }\n",
              "</style>\n",
              "<table border=\"1\" class=\"dataframe\">\n",
              "  <thead>\n",
              "    <tr style=\"text-align: right;\">\n",
              "      <th></th>\n",
              "      <th>index</th>\n",
              "      <th>Unnamed: 0</th>\n",
              "      <th>ano</th>\n",
              "      <th>municipio</th>\n",
              "      <th>escola</th>\n",
              "      <th>aprovado</th>\n",
              "      <th>reprovado</th>\n",
              "      <th>abandono</th>\n",
              "    </tr>\n",
              "  </thead>\n",
              "  <tbody>\n",
              "    <tr>\n",
              "      <th>0</th>\n",
              "      <td>0</td>\n",
              "      <td>1</td>\n",
              "      <td>2015</td>\n",
              "      <td>FERRAZ DE VASCONCELOS</td>\n",
              "      <td>CONJUNTO HABITACIONAL PARQUE DOURADO II</td>\n",
              "      <td>75.62</td>\n",
              "      <td>20.66</td>\n",
              "      <td>3.72</td>\n",
              "    </tr>\n",
              "    <tr>\n",
              "      <th>1</th>\n",
              "      <td>1</td>\n",
              "      <td>3</td>\n",
              "      <td>2015</td>\n",
              "      <td>SUZANO</td>\n",
              "      <td>ROBERTO BIANCHI</td>\n",
              "      <td>97.14</td>\n",
              "      <td>1.71</td>\n",
              "      <td>1.15</td>\n",
              "    </tr>\n",
              "    <tr>\n",
              "      <th>2</th>\n",
              "      <td>2</td>\n",
              "      <td>5</td>\n",
              "      <td>2015</td>\n",
              "      <td>SUZANO</td>\n",
              "      <td>CARLOS MOLTENI PROFESSOR</td>\n",
              "      <td>90.33</td>\n",
              "      <td>9.67</td>\n",
              "      <td>0.00</td>\n",
              "    </tr>\n",
              "    <tr>\n",
              "      <th>3</th>\n",
              "      <td>3</td>\n",
              "      <td>6</td>\n",
              "      <td>2015</td>\n",
              "      <td>SUZANO</td>\n",
              "      <td>GIOVANNI BATTISTA RAFFO PROFESSOR DOUTOR</td>\n",
              "      <td>98.66</td>\n",
              "      <td>1.01</td>\n",
              "      <td>0.33</td>\n",
              "    </tr>\n",
              "    <tr>\n",
              "      <th>4</th>\n",
              "      <td>4</td>\n",
              "      <td>9</td>\n",
              "      <td>2015</td>\n",
              "      <td>SUZANO</td>\n",
              "      <td>OSWALDO DE OLIVEIRA LIMA</td>\n",
              "      <td>71.92</td>\n",
              "      <td>16.73</td>\n",
              "      <td>11.35</td>\n",
              "    </tr>\n",
              "  </tbody>\n",
              "</table>\n",
              "</div>"
            ],
            "text/plain": [
              "   index  Unnamed: 0   ano              municipio  \\\n",
              "0      0           1  2015  FERRAZ DE VASCONCELOS   \n",
              "1      1           3  2015                 SUZANO   \n",
              "2      2           5  2015                 SUZANO   \n",
              "3      3           6  2015                 SUZANO   \n",
              "4      4           9  2015                 SUZANO   \n",
              "\n",
              "                                     escola  aprovado  reprovado  abandono  \n",
              "0   CONJUNTO HABITACIONAL PARQUE DOURADO II     75.62      20.66      3.72  \n",
              "1                           ROBERTO BIANCHI     97.14       1.71      1.15  \n",
              "2                  CARLOS MOLTENI PROFESSOR     90.33       9.67      0.00  \n",
              "3  GIOVANNI BATTISTA RAFFO PROFESSOR DOUTOR     98.66       1.01      0.33  \n",
              "4                  OSWALDO DE OLIVEIRA LIMA     71.92      16.73     11.35  "
            ]
          },
          "execution_count": 7,
          "metadata": {},
          "output_type": "execute_result"
        }
      ],
      "source": [
        "indexZero = df_cleaned[(df_cleaned['aprovado'] == 0) & (df_cleaned['reprovado'] == 0) & (df_cleaned['abandono'] == 0)].index\n",
        "df_cleaned.drop(indexZero, inplace=True)\n",
        "\n",
        "df_cleaned = df_cleaned.reset_index()\n",
        "\n",
        "print(df_cleaned.shape)\n",
        "df_cleaned.head()"
      ]
    },
    {
      "cell_type": "markdown",
      "metadata": {},
      "source": [
        "##Rename fields"
      ]
    },
    {
      "cell_type": "code",
      "execution_count": null,
      "metadata": {},
      "outputs": [],
      "source": [
        "# df_cleaned = df_cleaned.rename(columns={'Ano':'ano', 'NM_MUNICIPIO':'municipio', 'CD_REDE_ENSINO':'id_rede_ensino', 'CD_ESCOLA':'id_escola', 'NM_COMPLETO_ESCOLA':'escola', 'APR_3':'aprovado', 'REP_3':'reprovado', 'abandono':'abandono'})\n",
        "# df_cleaned.head()"
      ]
    },
    {
      "cell_type": "markdown",
      "metadata": {},
      "source": [
        "##Normalizing data"
      ]
    },
    {
      "cell_type": "code",
      "execution_count": 8,
      "metadata": {
        "id": "erD3RDQozSMZ"
      },
      "outputs": [
        {
          "data": {
            "text/html": [
              "<div>\n",
              "<style scoped>\n",
              "    .dataframe tbody tr th:only-of-type {\n",
              "        vertical-align: middle;\n",
              "    }\n",
              "\n",
              "    .dataframe tbody tr th {\n",
              "        vertical-align: top;\n",
              "    }\n",
              "\n",
              "    .dataframe thead th {\n",
              "        text-align: right;\n",
              "    }\n",
              "</style>\n",
              "<table border=\"1\" class=\"dataframe\">\n",
              "  <thead>\n",
              "    <tr style=\"text-align: right;\">\n",
              "      <th></th>\n",
              "      <th>index</th>\n",
              "      <th>Unnamed: 0</th>\n",
              "      <th>ano</th>\n",
              "      <th>municipio</th>\n",
              "      <th>escola</th>\n",
              "      <th>aprovado</th>\n",
              "      <th>reprovado</th>\n",
              "      <th>abandono</th>\n",
              "      <th>ano_normalized</th>\n",
              "      <th>aprovado_normalized</th>\n",
              "      <th>reprovado_normalized</th>\n",
              "      <th>abandono_normalized</th>\n",
              "    </tr>\n",
              "  </thead>\n",
              "  <tbody>\n",
              "    <tr>\n",
              "      <th>0</th>\n",
              "      <td>0</td>\n",
              "      <td>1</td>\n",
              "      <td>2015</td>\n",
              "      <td>FERRAZ DE VASCONCELOS</td>\n",
              "      <td>CONJUNTO HABITACIONAL PARQUE DOURADO II</td>\n",
              "      <td>75.62</td>\n",
              "      <td>20.66</td>\n",
              "      <td>3.72</td>\n",
              "      <td>0.006621</td>\n",
              "      <td>0.005496</td>\n",
              "      <td>0.012891</td>\n",
              "      <td>0.005217</td>\n",
              "    </tr>\n",
              "    <tr>\n",
              "      <th>1</th>\n",
              "      <td>1</td>\n",
              "      <td>3</td>\n",
              "      <td>2015</td>\n",
              "      <td>SUZANO</td>\n",
              "      <td>ROBERTO BIANCHI</td>\n",
              "      <td>97.14</td>\n",
              "      <td>1.71</td>\n",
              "      <td>1.15</td>\n",
              "      <td>0.006621</td>\n",
              "      <td>0.007060</td>\n",
              "      <td>0.001067</td>\n",
              "      <td>0.001613</td>\n",
              "    </tr>\n",
              "    <tr>\n",
              "      <th>2</th>\n",
              "      <td>2</td>\n",
              "      <td>5</td>\n",
              "      <td>2015</td>\n",
              "      <td>SUZANO</td>\n",
              "      <td>CARLOS MOLTENI PROFESSOR</td>\n",
              "      <td>90.33</td>\n",
              "      <td>9.67</td>\n",
              "      <td>0.00</td>\n",
              "      <td>0.006621</td>\n",
              "      <td>0.006565</td>\n",
              "      <td>0.006034</td>\n",
              "      <td>0.000000</td>\n",
              "    </tr>\n",
              "    <tr>\n",
              "      <th>3</th>\n",
              "      <td>3</td>\n",
              "      <td>6</td>\n",
              "      <td>2015</td>\n",
              "      <td>SUZANO</td>\n",
              "      <td>GIOVANNI BATTISTA RAFFO PROFESSOR DOUTOR</td>\n",
              "      <td>98.66</td>\n",
              "      <td>1.01</td>\n",
              "      <td>0.33</td>\n",
              "      <td>0.006621</td>\n",
              "      <td>0.007170</td>\n",
              "      <td>0.000630</td>\n",
              "      <td>0.000463</td>\n",
              "    </tr>\n",
              "    <tr>\n",
              "      <th>4</th>\n",
              "      <td>4</td>\n",
              "      <td>9</td>\n",
              "      <td>2015</td>\n",
              "      <td>SUZANO</td>\n",
              "      <td>OSWALDO DE OLIVEIRA LIMA</td>\n",
              "      <td>71.92</td>\n",
              "      <td>16.73</td>\n",
              "      <td>11.35</td>\n",
              "      <td>0.006621</td>\n",
              "      <td>0.005227</td>\n",
              "      <td>0.010439</td>\n",
              "      <td>0.015919</td>\n",
              "    </tr>\n",
              "  </tbody>\n",
              "</table>\n",
              "</div>"
            ],
            "text/plain": [
              "   index  Unnamed: 0   ano              municipio  \\\n",
              "0      0           1  2015  FERRAZ DE VASCONCELOS   \n",
              "1      1           3  2015                 SUZANO   \n",
              "2      2           5  2015                 SUZANO   \n",
              "3      3           6  2015                 SUZANO   \n",
              "4      4           9  2015                 SUZANO   \n",
              "\n",
              "                                     escola  aprovado  reprovado  abandono  \\\n",
              "0   CONJUNTO HABITACIONAL PARQUE DOURADO II     75.62      20.66      3.72   \n",
              "1                           ROBERTO BIANCHI     97.14       1.71      1.15   \n",
              "2                  CARLOS MOLTENI PROFESSOR     90.33       9.67      0.00   \n",
              "3  GIOVANNI BATTISTA RAFFO PROFESSOR DOUTOR     98.66       1.01      0.33   \n",
              "4                  OSWALDO DE OLIVEIRA LIMA     71.92      16.73     11.35   \n",
              "\n",
              "   ano_normalized  aprovado_normalized  reprovado_normalized  \\\n",
              "0        0.006621             0.005496              0.012891   \n",
              "1        0.006621             0.007060              0.001067   \n",
              "2        0.006621             0.006565              0.006034   \n",
              "3        0.006621             0.007170              0.000630   \n",
              "4        0.006621             0.005227              0.010439   \n",
              "\n",
              "   abandono_normalized  \n",
              "0             0.005217  \n",
              "1             0.001613  \n",
              "2             0.000000  \n",
              "3             0.000463  \n",
              "4             0.015919  "
            ]
          },
          "execution_count": 8,
          "metadata": {},
          "output_type": "execute_result"
        }
      ],
      "source": [
        "normalized_list = preprocessing.normalize([df_cleaned['ano'],df_cleaned['aprovado'],df_cleaned['reprovado'],df_cleaned['abandono']])\n",
        "\n",
        "df_cleaned['ano_normalized'] = normalized_list[0]\n",
        "df_cleaned['aprovado_normalized'] = normalized_list[1]\n",
        "df_cleaned['reprovado_normalized'] = normalized_list[2]\n",
        "df_cleaned['abandono_normalized'] = normalized_list[3]\n",
        "\n",
        "df_cleaned.head()"
      ]
    },
    {
      "cell_type": "markdown",
      "metadata": {},
      "source": [
        "##Creating normalized file"
      ]
    },
    {
      "cell_type": "code",
      "execution_count": 10,
      "metadata": {},
      "outputs": [],
      "source": [
        "df_cleaned.to_excel('./output/FluxoEscolarNormalizado.xlsx', encoding=\"utf-8\")"
      ]
    },
    {
      "cell_type": "markdown",
      "metadata": {},
      "source": [
        "# Start of creating the predictive model"
      ]
    },
    {
      "cell_type": "markdown",
      "metadata": {},
      "source": [
        "##Import libs"
      ]
    },
    {
      "cell_type": "code",
      "execution_count": 23,
      "metadata": {},
      "outputs": [],
      "source": [
        "import numpy as np\n",
        "import pandas as pd\n",
        "import matplotlib.pyplot as plt\n",
        "from sklearn import linear_model\n",
        "from sklearn.metrics import mean_squared_error, r2_score"
      ]
    },
    {
      "cell_type": "markdown",
      "metadata": {},
      "source": [
        "#Check point: Open the file created from the normalization above\n"
      ]
    },
    {
      "cell_type": "markdown",
      "metadata": {},
      "source": [
        "##Choosing which municipality we want to analyze"
      ]
    },
    {
      "cell_type": "code",
      "execution_count": 11,
      "metadata": {},
      "outputs": [
        {
          "data": {
            "text/html": [
              "<div>\n",
              "<style scoped>\n",
              "    .dataframe tbody tr th:only-of-type {\n",
              "        vertical-align: middle;\n",
              "    }\n",
              "\n",
              "    .dataframe tbody tr th {\n",
              "        vertical-align: top;\n",
              "    }\n",
              "\n",
              "    .dataframe thead th {\n",
              "        text-align: right;\n",
              "    }\n",
              "</style>\n",
              "<table border=\"1\" class=\"dataframe\">\n",
              "  <thead>\n",
              "    <tr style=\"text-align: right;\">\n",
              "      <th></th>\n",
              "      <th>Unnamed: 0.1</th>\n",
              "      <th>index</th>\n",
              "      <th>Unnamed: 0</th>\n",
              "      <th>ano</th>\n",
              "      <th>municipio</th>\n",
              "      <th>escola</th>\n",
              "      <th>aprovado</th>\n",
              "      <th>reprovado</th>\n",
              "      <th>abandono</th>\n",
              "      <th>ano_normalized</th>\n",
              "      <th>aprovado_normalized</th>\n",
              "      <th>reprovado_normalized</th>\n",
              "      <th>abandono_normalized</th>\n",
              "    </tr>\n",
              "  </thead>\n",
              "  <tbody>\n",
              "    <tr>\n",
              "      <th>87</th>\n",
              "      <td>87</td>\n",
              "      <td>87</td>\n",
              "      <td>142</td>\n",
              "      <td>2015</td>\n",
              "      <td>SAO PAULO</td>\n",
              "      <td>ALFREDO VIANELLO GREGORIO COMENDADOR</td>\n",
              "      <td>85.18</td>\n",
              "      <td>13.94</td>\n",
              "      <td>0.88</td>\n",
              "      <td>0.006621</td>\n",
              "      <td>0.006190</td>\n",
              "      <td>0.008698</td>\n",
              "      <td>0.001234</td>\n",
              "    </tr>\n",
              "    <tr>\n",
              "      <th>88</th>\n",
              "      <td>88</td>\n",
              "      <td>88</td>\n",
              "      <td>143</td>\n",
              "      <td>2015</td>\n",
              "      <td>SAO PAULO</td>\n",
              "      <td>JOAO BATISTA DE CARVALHO MONSENHOR</td>\n",
              "      <td>77.42</td>\n",
              "      <td>13.05</td>\n",
              "      <td>9.53</td>\n",
              "      <td>0.006621</td>\n",
              "      <td>0.005626</td>\n",
              "      <td>0.008142</td>\n",
              "      <td>0.013366</td>\n",
              "    </tr>\n",
              "    <tr>\n",
              "      <th>89</th>\n",
              "      <td>89</td>\n",
              "      <td>89</td>\n",
              "      <td>145</td>\n",
              "      <td>2015</td>\n",
              "      <td>SAO PAULO</td>\n",
              "      <td>RENATA GRAZIANO DE OLIVEIRA PRADO PROFESSORA</td>\n",
              "      <td>69.80</td>\n",
              "      <td>18.62</td>\n",
              "      <td>11.58</td>\n",
              "      <td>0.006621</td>\n",
              "      <td>0.005073</td>\n",
              "      <td>0.011618</td>\n",
              "      <td>0.016241</td>\n",
              "    </tr>\n",
              "    <tr>\n",
              "      <th>90</th>\n",
              "      <td>90</td>\n",
              "      <td>90</td>\n",
              "      <td>153</td>\n",
              "      <td>2015</td>\n",
              "      <td>SAO PAULO</td>\n",
              "      <td>LUIS MAGALHAES DE ARAUJO PROFESSOR</td>\n",
              "      <td>75.42</td>\n",
              "      <td>13.24</td>\n",
              "      <td>11.34</td>\n",
              "      <td>0.006621</td>\n",
              "      <td>0.005481</td>\n",
              "      <td>0.008261</td>\n",
              "      <td>0.015905</td>\n",
              "    </tr>\n",
              "    <tr>\n",
              "      <th>91</th>\n",
              "      <td>91</td>\n",
              "      <td>91</td>\n",
              "      <td>155</td>\n",
              "      <td>2015</td>\n",
              "      <td>SAO PAULO</td>\n",
              "      <td>HERCULANO DE FREITAS PROFESSOR</td>\n",
              "      <td>64.92</td>\n",
              "      <td>27.49</td>\n",
              "      <td>7.59</td>\n",
              "      <td>0.006621</td>\n",
              "      <td>0.004718</td>\n",
              "      <td>0.017152</td>\n",
              "      <td>0.010645</td>\n",
              "    </tr>\n",
              "  </tbody>\n",
              "</table>\n",
              "</div>"
            ],
            "text/plain": [
              "    Unnamed: 0.1  index  Unnamed: 0   ano  municipio  \\\n",
              "87            87     87         142  2015  SAO PAULO   \n",
              "88            88     88         143  2015  SAO PAULO   \n",
              "89            89     89         145  2015  SAO PAULO   \n",
              "90            90     90         153  2015  SAO PAULO   \n",
              "91            91     91         155  2015  SAO PAULO   \n",
              "\n",
              "                                          escola  aprovado  reprovado  \\\n",
              "87          ALFREDO VIANELLO GREGORIO COMENDADOR     85.18      13.94   \n",
              "88            JOAO BATISTA DE CARVALHO MONSENHOR     77.42      13.05   \n",
              "89  RENATA GRAZIANO DE OLIVEIRA PRADO PROFESSORA     69.80      18.62   \n",
              "90            LUIS MAGALHAES DE ARAUJO PROFESSOR     75.42      13.24   \n",
              "91                HERCULANO DE FREITAS PROFESSOR     64.92      27.49   \n",
              "\n",
              "    abandono  ano_normalized  aprovado_normalized  reprovado_normalized  \\\n",
              "87      0.88        0.006621             0.006190              0.008698   \n",
              "88      9.53        0.006621             0.005626              0.008142   \n",
              "89     11.58        0.006621             0.005073              0.011618   \n",
              "90     11.34        0.006621             0.005481              0.008261   \n",
              "91      7.59        0.006621             0.004718              0.017152   \n",
              "\n",
              "    abandono_normalized  \n",
              "87             0.001234  \n",
              "88             0.013366  \n",
              "89             0.016241  \n",
              "90             0.015905  \n",
              "91             0.010645  "
            ]
          },
          "execution_count": 11,
          "metadata": {},
          "output_type": "execute_result"
        }
      ],
      "source": [
        "df = pd.read_excel('./output/FluxoEscolarNormalizado.xlsx', engine='openpyxl')\n",
        "df = df[df[\"municipio\"] == \"SAO PAULO\"]\n",
        "df.head()"
      ]
    },
    {
      "cell_type": "markdown",
      "metadata": {},
      "source": [
        "##Removing unnecessary columns"
      ]
    },
    {
      "cell_type": "code",
      "execution_count": 12,
      "metadata": {},
      "outputs": [
        {
          "data": {
            "text/html": [
              "<div>\n",
              "<style scoped>\n",
              "    .dataframe tbody tr th:only-of-type {\n",
              "        vertical-align: middle;\n",
              "    }\n",
              "\n",
              "    .dataframe tbody tr th {\n",
              "        vertical-align: top;\n",
              "    }\n",
              "\n",
              "    .dataframe thead th {\n",
              "        text-align: right;\n",
              "    }\n",
              "</style>\n",
              "<table border=\"1\" class=\"dataframe\">\n",
              "  <thead>\n",
              "    <tr style=\"text-align: right;\">\n",
              "      <th></th>\n",
              "      <th>ano_normalized</th>\n",
              "      <th>aprovado_normalized</th>\n",
              "    </tr>\n",
              "  </thead>\n",
              "  <tbody>\n",
              "    <tr>\n",
              "      <th>87</th>\n",
              "      <td>0.006621</td>\n",
              "      <td>0.006190</td>\n",
              "    </tr>\n",
              "    <tr>\n",
              "      <th>88</th>\n",
              "      <td>0.006621</td>\n",
              "      <td>0.005626</td>\n",
              "    </tr>\n",
              "    <tr>\n",
              "      <th>89</th>\n",
              "      <td>0.006621</td>\n",
              "      <td>0.005073</td>\n",
              "    </tr>\n",
              "    <tr>\n",
              "      <th>90</th>\n",
              "      <td>0.006621</td>\n",
              "      <td>0.005481</td>\n",
              "    </tr>\n",
              "    <tr>\n",
              "      <th>91</th>\n",
              "      <td>0.006621</td>\n",
              "      <td>0.004718</td>\n",
              "    </tr>\n",
              "  </tbody>\n",
              "</table>\n",
              "</div>"
            ],
            "text/plain": [
              "    ano_normalized  aprovado_normalized\n",
              "87        0.006621             0.006190\n",
              "88        0.006621             0.005626\n",
              "89        0.006621             0.005073\n",
              "90        0.006621             0.005481\n",
              "91        0.006621             0.004718"
            ]
          },
          "execution_count": 12,
          "metadata": {},
          "output_type": "execute_result"
        }
      ],
      "source": [
        "df = df.drop(['Unnamed: 0', 'Unnamed: 0.1', 'index', 'ano', 'municipio', 'escola', 'aprovado', 'reprovado', 'abandono', 'reprovado_normalized', 'abandono_normalized'], axis='columns')\n",
        "df.head()"
      ]
    },
    {
      "cell_type": "markdown",
      "metadata": {},
      "source": [
        "#Scraping the data to decrease bias"
      ]
    },
    {
      "cell_type": "code",
      "execution_count": 13,
      "metadata": {},
      "outputs": [
        {
          "data": {
            "text/html": [
              "<div>\n",
              "<style scoped>\n",
              "    .dataframe tbody tr th:only-of-type {\n",
              "        vertical-align: middle;\n",
              "    }\n",
              "\n",
              "    .dataframe tbody tr th {\n",
              "        vertical-align: top;\n",
              "    }\n",
              "\n",
              "    .dataframe thead th {\n",
              "        text-align: right;\n",
              "    }\n",
              "</style>\n",
              "<table border=\"1\" class=\"dataframe\">\n",
              "  <thead>\n",
              "    <tr style=\"text-align: right;\">\n",
              "      <th></th>\n",
              "      <th>ano_normalized</th>\n",
              "      <th>aprovado_normalized</th>\n",
              "    </tr>\n",
              "  </thead>\n",
              "  <tbody>\n",
              "    <tr>\n",
              "      <th>0</th>\n",
              "      <td>0.006641</td>\n",
              "      <td>0.007267</td>\n",
              "    </tr>\n",
              "    <tr>\n",
              "      <th>1</th>\n",
              "      <td>0.006621</td>\n",
              "      <td>0.006214</td>\n",
              "    </tr>\n",
              "    <tr>\n",
              "      <th>2</th>\n",
              "      <td>0.006611</td>\n",
              "      <td>0.005866</td>\n",
              "    </tr>\n",
              "    <tr>\n",
              "      <th>3</th>\n",
              "      <td>0.006628</td>\n",
              "      <td>0.005222</td>\n",
              "    </tr>\n",
              "    <tr>\n",
              "      <th>4</th>\n",
              "      <td>0.006621</td>\n",
              "      <td>0.005217</td>\n",
              "    </tr>\n",
              "  </tbody>\n",
              "</table>\n",
              "</div>"
            ],
            "text/plain": [
              "   ano_normalized  aprovado_normalized\n",
              "0        0.006641             0.007267\n",
              "1        0.006621             0.006214\n",
              "2        0.006611             0.005866\n",
              "3        0.006628             0.005222\n",
              "4        0.006621             0.005217"
            ]
          },
          "execution_count": 13,
          "metadata": {},
          "output_type": "execute_result"
        }
      ],
      "source": [
        "random_df = df.sample(frac=1).reset_index(drop=True)\n",
        "random_df.head()"
      ]
    },
    {
      "cell_type": "markdown",
      "metadata": {},
      "source": [
        "#Split the data frame between training and testing"
      ]
    },
    {
      "cell_type": "code",
      "execution_count": 14,
      "metadata": {},
      "outputs": [],
      "source": [
        "train, test = train_test_split(random_df, test_size=0.2)"
      ]
    },
    {
      "cell_type": "markdown",
      "metadata": {},
      "source": [
        "## Handling training data"
      ]
    },
    {
      "cell_type": "markdown",
      "metadata": {},
      "source": [
        "#Split between predictors and classes"
      ]
    },
    {
      "cell_type": "code",
      "execution_count": 15,
      "metadata": {},
      "outputs": [
        {
          "data": {
            "text/plain": [
              "Index(['ano_normalized', 'aprovado_normalized'], dtype='object')"
            ]
          },
          "execution_count": 15,
          "metadata": {},
          "output_type": "execute_result"
        }
      ],
      "source": [
        "train.columns"
      ]
    },
    {
      "cell_type": "markdown",
      "metadata": {},
      "source": [
        "#Get all the feature examples"
      ]
    },
    {
      "cell_type": "code",
      "execution_count": 16,
      "metadata": {},
      "outputs": [
        {
          "data": {
            "text/plain": [
              "array([[0.00663753],\n",
              "       [0.00662767],\n",
              "       [0.00663753],\n",
              "       ...,\n",
              "       [0.0066211 ],\n",
              "       [0.0066211 ],\n",
              "       [0.00662767]])"
            ]
          },
          "execution_count": 16,
          "metadata": {},
          "output_type": "execute_result"
        }
      ],
      "source": [
        "x_df_train = train.iloc[:, :-1].values\n",
        "x_df_train"
      ]
    },
    {
      "cell_type": "markdown",
      "metadata": {},
      "source": [
        "#Get all labels from the target"
      ]
    },
    {
      "cell_type": "code",
      "execution_count": 17,
      "metadata": {},
      "outputs": [
        {
          "data": {
            "text/plain": [
              "array([0.00666349, 0.00683209, 0.00713878, ..., 0.00415042, 0.00700797,\n",
              "       0.00605375])"
            ]
          },
          "execution_count": 17,
          "metadata": {},
          "output_type": "execute_result"
        }
      ],
      "source": [
        "y_df_train = train.iloc[:, -1].values\n",
        "y_df_train"
      ]
    },
    {
      "cell_type": "markdown",
      "metadata": {},
      "source": [
        "#Handling categorical data with one hot encoder"
      ]
    },
    {
      "cell_type": "code",
      "execution_count": null,
      "metadata": {},
      "outputs": [],
      "source": [
        "# onehotencoder_train = ColumnTransformer(transformers=[('OneHot', OneHotEncoder(), [0,1])], remainder='passthrough')"
      ]
    },
    {
      "cell_type": "code",
      "execution_count": null,
      "metadata": {},
      "outputs": [],
      "source": [
        "# x_df_train = onehotencoder_train.fit_transform(x_df_train).toarray()\n",
        "# x_df_train[0]"
      ]
    },
    {
      "cell_type": "markdown",
      "metadata": {},
      "source": [
        "## Handling test data"
      ]
    },
    {
      "cell_type": "markdown",
      "metadata": {},
      "source": [
        "#Split between predictors and classes"
      ]
    },
    {
      "cell_type": "code",
      "execution_count": 18,
      "metadata": {},
      "outputs": [
        {
          "data": {
            "text/plain": [
              "Index(['ano_normalized', 'aprovado_normalized'], dtype='object')"
            ]
          },
          "execution_count": 18,
          "metadata": {},
          "output_type": "execute_result"
        }
      ],
      "source": [
        "test.columns"
      ]
    },
    {
      "cell_type": "markdown",
      "metadata": {},
      "source": [
        "#Get all the feature examples"
      ]
    },
    {
      "cell_type": "code",
      "execution_count": 19,
      "metadata": {},
      "outputs": [
        {
          "data": {
            "text/plain": [
              "array([[0.00661124],\n",
              "       [0.00663753],\n",
              "       [0.00661124],\n",
              "       [0.00662767],\n",
              "       [0.0066211 ],\n",
              "       [0.00661124],\n",
              "       [0.0066211 ],\n",
              "       [0.00662439],\n",
              "       [0.00664082],\n",
              "       [0.00664082],\n",
              "       [0.0066211 ],\n",
              "       [0.00662767],\n",
              "       [0.00663096],\n",
              "       [0.00664082],\n",
              "       [0.00662439],\n",
              "       [0.00662767],\n",
              "       [0.00661124],\n",
              "       [0.00662439],\n",
              "       [0.00662439],\n",
              "       [0.00664082],\n",
              "       [0.00663096],\n",
              "       [0.00662767],\n",
              "       [0.00663096],\n",
              "       [0.0066211 ],\n",
              "       [0.00663096],\n",
              "       [0.00662767],\n",
              "       [0.0066211 ],\n",
              "       [0.00663096],\n",
              "       [0.00661124],\n",
              "       [0.00662767],\n",
              "       [0.00663096],\n",
              "       [0.00663753],\n",
              "       [0.00662439],\n",
              "       [0.00661124],\n",
              "       [0.0066211 ],\n",
              "       [0.00663096],\n",
              "       [0.00662439],\n",
              "       [0.00663096],\n",
              "       [0.00663753],\n",
              "       [0.00663753],\n",
              "       [0.00664082],\n",
              "       [0.00663096],\n",
              "       [0.00663753],\n",
              "       [0.00663096],\n",
              "       [0.00664082],\n",
              "       [0.00662439],\n",
              "       [0.00663096],\n",
              "       [0.00664082],\n",
              "       [0.00662767],\n",
              "       [0.0066211 ],\n",
              "       [0.0066211 ],\n",
              "       [0.00663096],\n",
              "       [0.00662439],\n",
              "       [0.00661124],\n",
              "       [0.0066211 ],\n",
              "       [0.00663753],\n",
              "       [0.00661124],\n",
              "       [0.0066211 ],\n",
              "       [0.00663753],\n",
              "       [0.00662767],\n",
              "       [0.00662439],\n",
              "       [0.0066211 ],\n",
              "       [0.0066211 ],\n",
              "       [0.00663096],\n",
              "       [0.00661124],\n",
              "       [0.00662767],\n",
              "       [0.00663096],\n",
              "       [0.00661124],\n",
              "       [0.00662767],\n",
              "       [0.00664082],\n",
              "       [0.00664082],\n",
              "       [0.00662439],\n",
              "       [0.00662767],\n",
              "       [0.0066211 ],\n",
              "       [0.00664082],\n",
              "       [0.00663753],\n",
              "       [0.00664082],\n",
              "       [0.00663753],\n",
              "       [0.00663753],\n",
              "       [0.0066211 ],\n",
              "       [0.0066211 ],\n",
              "       [0.00664082],\n",
              "       [0.00662439],\n",
              "       [0.00663753],\n",
              "       [0.00662439],\n",
              "       [0.00661124],\n",
              "       [0.00663753],\n",
              "       [0.00662439],\n",
              "       [0.00662767],\n",
              "       [0.00662439],\n",
              "       [0.00663753],\n",
              "       [0.00662767],\n",
              "       [0.00662439],\n",
              "       [0.00664082],\n",
              "       [0.00664082],\n",
              "       [0.00663753],\n",
              "       [0.00663096],\n",
              "       [0.00661124],\n",
              "       [0.00662767],\n",
              "       [0.00662439],\n",
              "       [0.00662439],\n",
              "       [0.00662767],\n",
              "       [0.00663753],\n",
              "       [0.00662767],\n",
              "       [0.00664082],\n",
              "       [0.00663096],\n",
              "       [0.00664082],\n",
              "       [0.00663753],\n",
              "       [0.00661124],\n",
              "       [0.00663096],\n",
              "       [0.00663096],\n",
              "       [0.00664082],\n",
              "       [0.00663753],\n",
              "       [0.0066211 ],\n",
              "       [0.00663753],\n",
              "       [0.00662767],\n",
              "       [0.00664082],\n",
              "       [0.00664082],\n",
              "       [0.0066211 ],\n",
              "       [0.00663096],\n",
              "       [0.00664082],\n",
              "       [0.00663753],\n",
              "       [0.00664082],\n",
              "       [0.00662439],\n",
              "       [0.00661124],\n",
              "       [0.00662439],\n",
              "       [0.00662439],\n",
              "       [0.00663096],\n",
              "       [0.00663753],\n",
              "       [0.00662439],\n",
              "       [0.00663096],\n",
              "       [0.00662767],\n",
              "       [0.00662439],\n",
              "       [0.00663753],\n",
              "       [0.00663753],\n",
              "       [0.00662439],\n",
              "       [0.00663096],\n",
              "       [0.00662439],\n",
              "       [0.00664082],\n",
              "       [0.00663753],\n",
              "       [0.00662767],\n",
              "       [0.00662439],\n",
              "       [0.00661124],\n",
              "       [0.0066211 ],\n",
              "       [0.00663753],\n",
              "       [0.00662767],\n",
              "       [0.00662439],\n",
              "       [0.00662767],\n",
              "       [0.00664082],\n",
              "       [0.00662767],\n",
              "       [0.00664082],\n",
              "       [0.00664082],\n",
              "       [0.00664082],\n",
              "       [0.00663753],\n",
              "       [0.00662767],\n",
              "       [0.00663753],\n",
              "       [0.00662439],\n",
              "       [0.0066211 ],\n",
              "       [0.00662767],\n",
              "       [0.00663096],\n",
              "       [0.00663096],\n",
              "       [0.00663096],\n",
              "       [0.00662439],\n",
              "       [0.00662439],\n",
              "       [0.00663096],\n",
              "       [0.00663096],\n",
              "       [0.0066211 ],\n",
              "       [0.00662439],\n",
              "       [0.00662439],\n",
              "       [0.00662439],\n",
              "       [0.00662767],\n",
              "       [0.0066211 ],\n",
              "       [0.00664082],\n",
              "       [0.00662439],\n",
              "       [0.00664082],\n",
              "       [0.00663753],\n",
              "       [0.00662767],\n",
              "       [0.00664082],\n",
              "       [0.00662767],\n",
              "       [0.00663753],\n",
              "       [0.00664082],\n",
              "       [0.00663753],\n",
              "       [0.00664082],\n",
              "       [0.00663096],\n",
              "       [0.00662767],\n",
              "       [0.00663096],\n",
              "       [0.00663753],\n",
              "       [0.00662767],\n",
              "       [0.00663096],\n",
              "       [0.00662767],\n",
              "       [0.00662439],\n",
              "       [0.00662439],\n",
              "       [0.0066211 ],\n",
              "       [0.00662439],\n",
              "       [0.00663753],\n",
              "       [0.00663096],\n",
              "       [0.00662767],\n",
              "       [0.00663753],\n",
              "       [0.00662767],\n",
              "       [0.00661124],\n",
              "       [0.0066211 ],\n",
              "       [0.00664082],\n",
              "       [0.00663096],\n",
              "       [0.00663096],\n",
              "       [0.00664082],\n",
              "       [0.00664082],\n",
              "       [0.00664082],\n",
              "       [0.00664082],\n",
              "       [0.00661124],\n",
              "       [0.0066211 ],\n",
              "       [0.00663753],\n",
              "       [0.00662439],\n",
              "       [0.00663096],\n",
              "       [0.00662767],\n",
              "       [0.00664082],\n",
              "       [0.00663096],\n",
              "       [0.00662439],\n",
              "       [0.0066211 ],\n",
              "       [0.00661124],\n",
              "       [0.0066211 ],\n",
              "       [0.00663096],\n",
              "       [0.0066211 ],\n",
              "       [0.0066211 ],\n",
              "       [0.00664082],\n",
              "       [0.00662767],\n",
              "       [0.00663753],\n",
              "       [0.00663096],\n",
              "       [0.00662767],\n",
              "       [0.00663096],\n",
              "       [0.00661124],\n",
              "       [0.00662439],\n",
              "       [0.00664082],\n",
              "       [0.0066211 ],\n",
              "       [0.0066211 ],\n",
              "       [0.00661124],\n",
              "       [0.00661124],\n",
              "       [0.00662767],\n",
              "       [0.00662439],\n",
              "       [0.00662439],\n",
              "       [0.00661124],\n",
              "       [0.00662439],\n",
              "       [0.00663096],\n",
              "       [0.00662439],\n",
              "       [0.00664082],\n",
              "       [0.0066211 ],\n",
              "       [0.00664082],\n",
              "       [0.00664082],\n",
              "       [0.00663753],\n",
              "       [0.00663753],\n",
              "       [0.00663096],\n",
              "       [0.00662439],\n",
              "       [0.00663753],\n",
              "       [0.00664082],\n",
              "       [0.00662439],\n",
              "       [0.00663753],\n",
              "       [0.0066211 ],\n",
              "       [0.00664082],\n",
              "       [0.00662767],\n",
              "       [0.00663096],\n",
              "       [0.00661124],\n",
              "       [0.0066211 ],\n",
              "       [0.00663096],\n",
              "       [0.0066211 ],\n",
              "       [0.00663753],\n",
              "       [0.00663753],\n",
              "       [0.0066211 ],\n",
              "       [0.00662767],\n",
              "       [0.0066211 ],\n",
              "       [0.00664082],\n",
              "       [0.0066211 ],\n",
              "       [0.00662767],\n",
              "       [0.00661124],\n",
              "       [0.0066211 ],\n",
              "       [0.0066211 ],\n",
              "       [0.0066211 ],\n",
              "       [0.00663753],\n",
              "       [0.00662439],\n",
              "       [0.00664082],\n",
              "       [0.00662767],\n",
              "       [0.00662439],\n",
              "       [0.00664082],\n",
              "       [0.00663096],\n",
              "       [0.00662439],\n",
              "       [0.00662767],\n",
              "       [0.00663753],\n",
              "       [0.00662439],\n",
              "       [0.00663753],\n",
              "       [0.00662767],\n",
              "       [0.00664082],\n",
              "       [0.0066211 ],\n",
              "       [0.00664082],\n",
              "       [0.00663096],\n",
              "       [0.00663753],\n",
              "       [0.00663096],\n",
              "       [0.00661124],\n",
              "       [0.00663096],\n",
              "       [0.0066211 ],\n",
              "       [0.00664082],\n",
              "       [0.00663096],\n",
              "       [0.0066211 ],\n",
              "       [0.00663753],\n",
              "       [0.00663753],\n",
              "       [0.00663753],\n",
              "       [0.0066211 ],\n",
              "       [0.00662767],\n",
              "       [0.00663096],\n",
              "       [0.00664082],\n",
              "       [0.00663753],\n",
              "       [0.00662439],\n",
              "       [0.00663753],\n",
              "       [0.00662767],\n",
              "       [0.00661124],\n",
              "       [0.00663096],\n",
              "       [0.00663096],\n",
              "       [0.00663753],\n",
              "       [0.0066211 ],\n",
              "       [0.00664082],\n",
              "       [0.0066211 ],\n",
              "       [0.00662439],\n",
              "       [0.00661124],\n",
              "       [0.00663096],\n",
              "       [0.00662767],\n",
              "       [0.0066211 ],\n",
              "       [0.00664082],\n",
              "       [0.00664082],\n",
              "       [0.00663096],\n",
              "       [0.00664082],\n",
              "       [0.00663096],\n",
              "       [0.00662439],\n",
              "       [0.00662439],\n",
              "       [0.00661124],\n",
              "       [0.0066211 ],\n",
              "       [0.00663096],\n",
              "       [0.00663096],\n",
              "       [0.00664082],\n",
              "       [0.0066211 ],\n",
              "       [0.00663753],\n",
              "       [0.00661124],\n",
              "       [0.00662767],\n",
              "       [0.00661124],\n",
              "       [0.00662439],\n",
              "       [0.00662439],\n",
              "       [0.00664082],\n",
              "       [0.00663096],\n",
              "       [0.00663096],\n",
              "       [0.00663096],\n",
              "       [0.0066211 ],\n",
              "       [0.00663753],\n",
              "       [0.00662767],\n",
              "       [0.00664082],\n",
              "       [0.00662439],\n",
              "       [0.00663753],\n",
              "       [0.0066211 ],\n",
              "       [0.00664082],\n",
              "       [0.00663096],\n",
              "       [0.00662439],\n",
              "       [0.00661124],\n",
              "       [0.0066211 ],\n",
              "       [0.00663753],\n",
              "       [0.00661124],\n",
              "       [0.00662439],\n",
              "       [0.00662767],\n",
              "       [0.00661124],\n",
              "       [0.00661124],\n",
              "       [0.00663096],\n",
              "       [0.00663096],\n",
              "       [0.00662767],\n",
              "       [0.00663753],\n",
              "       [0.00662439],\n",
              "       [0.0066211 ],\n",
              "       [0.00662767],\n",
              "       [0.0066211 ],\n",
              "       [0.00663753],\n",
              "       [0.00661124],\n",
              "       [0.00661124],\n",
              "       [0.00663753],\n",
              "       [0.00662439],\n",
              "       [0.00664082],\n",
              "       [0.00662767],\n",
              "       [0.00663753],\n",
              "       [0.00662767],\n",
              "       [0.00663753],\n",
              "       [0.00663096],\n",
              "       [0.00661124],\n",
              "       [0.00663096],\n",
              "       [0.00663753],\n",
              "       [0.00662767],\n",
              "       [0.0066211 ],\n",
              "       [0.00662767],\n",
              "       [0.00664082],\n",
              "       [0.00663753],\n",
              "       [0.00662767],\n",
              "       [0.00662439],\n",
              "       [0.00663753],\n",
              "       [0.00663753],\n",
              "       [0.00663753],\n",
              "       [0.00663753],\n",
              "       [0.0066211 ],\n",
              "       [0.00664082],\n",
              "       [0.00662439],\n",
              "       [0.00663753],\n",
              "       [0.00662767],\n",
              "       [0.00663096],\n",
              "       [0.00663096],\n",
              "       [0.00662767],\n",
              "       [0.0066211 ],\n",
              "       [0.00661124],\n",
              "       [0.0066211 ],\n",
              "       [0.00661124],\n",
              "       [0.00664082],\n",
              "       [0.00664082],\n",
              "       [0.00664082],\n",
              "       [0.00662767],\n",
              "       [0.00663753],\n",
              "       [0.0066211 ],\n",
              "       [0.00663753],\n",
              "       [0.00663096],\n",
              "       [0.00664082],\n",
              "       [0.00663753],\n",
              "       [0.00662767],\n",
              "       [0.00664082],\n",
              "       [0.0066211 ],\n",
              "       [0.00663753],\n",
              "       [0.00663096],\n",
              "       [0.00662767],\n",
              "       [0.00662767],\n",
              "       [0.00662767],\n",
              "       [0.00662767],\n",
              "       [0.0066211 ],\n",
              "       [0.00662767],\n",
              "       [0.00663753],\n",
              "       [0.00664082],\n",
              "       [0.0066211 ],\n",
              "       [0.00663096],\n",
              "       [0.00663753],\n",
              "       [0.00664082],\n",
              "       [0.00663753],\n",
              "       [0.0066211 ],\n",
              "       [0.00662439],\n",
              "       [0.00663096],\n",
              "       [0.00664082],\n",
              "       [0.00663753],\n",
              "       [0.00661124],\n",
              "       [0.00664082],\n",
              "       [0.0066211 ],\n",
              "       [0.0066211 ],\n",
              "       [0.00664082],\n",
              "       [0.00662767],\n",
              "       [0.0066211 ],\n",
              "       [0.00663096],\n",
              "       [0.00663096],\n",
              "       [0.00663753],\n",
              "       [0.00664082],\n",
              "       [0.00663096],\n",
              "       [0.00663753],\n",
              "       [0.00662767],\n",
              "       [0.0066211 ],\n",
              "       [0.00661124],\n",
              "       [0.00663096],\n",
              "       [0.00662767],\n",
              "       [0.00663753],\n",
              "       [0.00663096],\n",
              "       [0.00663753],\n",
              "       [0.00664082],\n",
              "       [0.00661124],\n",
              "       [0.00661124],\n",
              "       [0.00663096],\n",
              "       [0.00661124],\n",
              "       [0.0066211 ],\n",
              "       [0.00664082],\n",
              "       [0.00662439],\n",
              "       [0.00661124],\n",
              "       [0.00663096],\n",
              "       [0.00662439],\n",
              "       [0.00661124],\n",
              "       [0.00664082],\n",
              "       [0.00662439],\n",
              "       [0.00662439],\n",
              "       [0.00661124],\n",
              "       [0.00663753],\n",
              "       [0.0066211 ],\n",
              "       [0.00661124],\n",
              "       [0.00663096],\n",
              "       [0.0066211 ],\n",
              "       [0.0066211 ],\n",
              "       [0.00662767],\n",
              "       [0.00664082],\n",
              "       [0.00662767],\n",
              "       [0.00662439],\n",
              "       [0.00663096],\n",
              "       [0.00663753],\n",
              "       [0.00664082],\n",
              "       [0.00664082],\n",
              "       [0.00663096],\n",
              "       [0.00663096],\n",
              "       [0.00662439],\n",
              "       [0.00664082],\n",
              "       [0.00662439],\n",
              "       [0.00664082],\n",
              "       [0.00662439],\n",
              "       [0.00664082],\n",
              "       [0.00663096],\n",
              "       [0.00664082],\n",
              "       [0.00664082],\n",
              "       [0.00661124],\n",
              "       [0.00661124],\n",
              "       [0.00662767],\n",
              "       [0.00663753],\n",
              "       [0.00664082],\n",
              "       [0.00664082],\n",
              "       [0.00662767],\n",
              "       [0.00664082],\n",
              "       [0.00661124],\n",
              "       [0.00662439],\n",
              "       [0.00663096],\n",
              "       [0.00661124],\n",
              "       [0.00662439],\n",
              "       [0.0066211 ],\n",
              "       [0.00662767],\n",
              "       [0.0066211 ],\n",
              "       [0.00663753],\n",
              "       [0.00664082],\n",
              "       [0.00664082],\n",
              "       [0.00662767],\n",
              "       [0.00662767],\n",
              "       [0.00661124],\n",
              "       [0.00662767],\n",
              "       [0.00662767],\n",
              "       [0.00662767],\n",
              "       [0.00663096],\n",
              "       [0.00663753],\n",
              "       [0.00663753],\n",
              "       [0.00664082],\n",
              "       [0.0066211 ],\n",
              "       [0.00663753],\n",
              "       [0.0066211 ],\n",
              "       [0.00662439],\n",
              "       [0.00664082],\n",
              "       [0.00662439],\n",
              "       [0.00663753],\n",
              "       [0.00663096],\n",
              "       [0.00662767],\n",
              "       [0.00664082],\n",
              "       [0.00662439],\n",
              "       [0.00662439],\n",
              "       [0.00663753],\n",
              "       [0.00662439],\n",
              "       [0.00661124],\n",
              "       [0.00661124],\n",
              "       [0.0066211 ],\n",
              "       [0.00663096],\n",
              "       [0.0066211 ],\n",
              "       [0.00664082],\n",
              "       [0.00661124],\n",
              "       [0.00663096],\n",
              "       [0.00664082],\n",
              "       [0.0066211 ],\n",
              "       [0.0066211 ],\n",
              "       [0.0066211 ],\n",
              "       [0.0066211 ],\n",
              "       [0.00663096],\n",
              "       [0.0066211 ],\n",
              "       [0.00662767],\n",
              "       [0.0066211 ],\n",
              "       [0.00663096],\n",
              "       [0.00663096],\n",
              "       [0.00664082],\n",
              "       [0.00664082],\n",
              "       [0.00663096],\n",
              "       [0.00662767],\n",
              "       [0.0066211 ],\n",
              "       [0.00662767],\n",
              "       [0.00664082],\n",
              "       [0.0066211 ],\n",
              "       [0.00663753],\n",
              "       [0.00661124],\n",
              "       [0.00663753],\n",
              "       [0.0066211 ],\n",
              "       [0.00664082],\n",
              "       [0.00664082],\n",
              "       [0.00663753],\n",
              "       [0.0066211 ],\n",
              "       [0.00662439],\n",
              "       [0.00662439],\n",
              "       [0.0066211 ],\n",
              "       [0.00664082],\n",
              "       [0.00664082],\n",
              "       [0.00663096],\n",
              "       [0.00662767],\n",
              "       [0.0066211 ],\n",
              "       [0.00662439],\n",
              "       [0.00663096],\n",
              "       [0.00662439],\n",
              "       [0.00663753],\n",
              "       [0.0066211 ],\n",
              "       [0.00661124],\n",
              "       [0.00662767],\n",
              "       [0.00663753],\n",
              "       [0.00663096],\n",
              "       [0.00663753],\n",
              "       [0.00662439],\n",
              "       [0.00663753],\n",
              "       [0.00661124],\n",
              "       [0.0066211 ],\n",
              "       [0.00662439],\n",
              "       [0.00663096],\n",
              "       [0.00663753],\n",
              "       [0.00663753],\n",
              "       [0.0066211 ],\n",
              "       [0.00663753],\n",
              "       [0.00662767],\n",
              "       [0.00663096],\n",
              "       [0.00663096],\n",
              "       [0.00662439],\n",
              "       [0.00663096],\n",
              "       [0.00662767],\n",
              "       [0.00661124],\n",
              "       [0.0066211 ],\n",
              "       [0.00663096],\n",
              "       [0.00663753],\n",
              "       [0.00663753],\n",
              "       [0.00664082],\n",
              "       [0.00661124],\n",
              "       [0.00663753],\n",
              "       [0.00661124],\n",
              "       [0.00662767],\n",
              "       [0.0066211 ],\n",
              "       [0.00663753],\n",
              "       [0.00663753],\n",
              "       [0.00663096],\n",
              "       [0.00663753],\n",
              "       [0.00664082],\n",
              "       [0.0066211 ],\n",
              "       [0.00662439],\n",
              "       [0.00664082],\n",
              "       [0.00663096],\n",
              "       [0.00661124],\n",
              "       [0.00664082],\n",
              "       [0.0066211 ],\n",
              "       [0.00661124],\n",
              "       [0.00662767],\n",
              "       [0.00663096],\n",
              "       [0.00662439],\n",
              "       [0.0066211 ],\n",
              "       [0.00662767],\n",
              "       [0.00662767],\n",
              "       [0.0066211 ],\n",
              "       [0.00663096],\n",
              "       [0.00663096],\n",
              "       [0.00664082],\n",
              "       [0.0066211 ],\n",
              "       [0.0066211 ],\n",
              "       [0.00663096],\n",
              "       [0.00662439],\n",
              "       [0.00662767],\n",
              "       [0.0066211 ],\n",
              "       [0.00662439],\n",
              "       [0.00664082],\n",
              "       [0.00663753],\n",
              "       [0.00661124],\n",
              "       [0.00661124],\n",
              "       [0.00662439],\n",
              "       [0.00663753],\n",
              "       [0.00662439],\n",
              "       [0.0066211 ],\n",
              "       [0.0066211 ],\n",
              "       [0.00663753],\n",
              "       [0.00661124],\n",
              "       [0.00661124],\n",
              "       [0.00663753],\n",
              "       [0.0066211 ],\n",
              "       [0.00664082],\n",
              "       [0.00661124],\n",
              "       [0.00662767],\n",
              "       [0.00663096],\n",
              "       [0.00663096],\n",
              "       [0.00663753],\n",
              "       [0.00663096],\n",
              "       [0.00662767],\n",
              "       [0.00663753],\n",
              "       [0.00662767],\n",
              "       [0.00664082],\n",
              "       [0.00662439],\n",
              "       [0.00662767],\n",
              "       [0.00663096],\n",
              "       [0.0066211 ],\n",
              "       [0.00664082],\n",
              "       [0.00662767],\n",
              "       [0.00662767],\n",
              "       [0.00663753],\n",
              "       [0.00662439],\n",
              "       [0.00661124],\n",
              "       [0.00662439],\n",
              "       [0.00663753],\n",
              "       [0.00663096],\n",
              "       [0.00662767],\n",
              "       [0.0066211 ],\n",
              "       [0.00661124],\n",
              "       [0.00662439],\n",
              "       [0.00662439],\n",
              "       [0.00664082],\n",
              "       [0.00663096],\n",
              "       [0.00662767],\n",
              "       [0.00664082],\n",
              "       [0.00664082],\n",
              "       [0.00662767],\n",
              "       [0.00662767],\n",
              "       [0.00664082],\n",
              "       [0.0066211 ],\n",
              "       [0.00663096],\n",
              "       [0.00664082],\n",
              "       [0.00663096],\n",
              "       [0.00664082],\n",
              "       [0.00662439],\n",
              "       [0.00663753],\n",
              "       [0.00662439],\n",
              "       [0.00662767],\n",
              "       [0.00661124],\n",
              "       [0.00662439],\n",
              "       [0.00663753],\n",
              "       [0.00663753],\n",
              "       [0.00661124],\n",
              "       [0.00664082],\n",
              "       [0.00662439],\n",
              "       [0.00663753],\n",
              "       [0.00664082],\n",
              "       [0.0066211 ],\n",
              "       [0.00661124],\n",
              "       [0.00663753],\n",
              "       [0.00663096],\n",
              "       [0.00662767],\n",
              "       [0.00661124],\n",
              "       [0.00663753],\n",
              "       [0.00664082],\n",
              "       [0.00662767],\n",
              "       [0.00664082],\n",
              "       [0.0066211 ],\n",
              "       [0.00663096],\n",
              "       [0.00661124],\n",
              "       [0.0066211 ],\n",
              "       [0.00662767],\n",
              "       [0.00662767],\n",
              "       [0.0066211 ],\n",
              "       [0.00663753]])"
            ]
          },
          "execution_count": 19,
          "metadata": {},
          "output_type": "execute_result"
        }
      ],
      "source": [
        "x_df_test = test.iloc[:, :-1].values\n",
        "x_df_test"
      ]
    },
    {
      "cell_type": "markdown",
      "metadata": {},
      "source": [
        "#Get all labels from the target"
      ]
    },
    {
      "cell_type": "code",
      "execution_count": 20,
      "metadata": {},
      "outputs": [
        {
          "data": {
            "text/plain": [
              "array([0.00551597, 0.0068648 , 0.00470783, 0.00615332, 0.00558501,\n",
              "       0.00536335, 0.00469547, 0.0049135 , 0.00716058, 0.00698471,\n",
              "       0.00536844, 0.00646727, 0.00703776, 0.00635244, 0.00576596,\n",
              "       0.00643093, 0.00613224, 0.00559227, 0.00726741, 0.00726741,\n",
              "       0.00615477, 0.00663006, 0.0067725 , 0.00686988, 0.00670637,\n",
              "       0.00589387, 0.00452106, 0.00497164, 0.0042696 , 0.00707991,\n",
              "       0.00539896, 0.00673253, 0.00582919, 0.00713151, 0.00628413,\n",
              "       0.0070632 , 0.0061148 , 0.00619402, 0.00726741, 0.00702977,\n",
              "       0.00682628, 0.00639169, 0.00726741, 0.00621   , 0.00726741,\n",
              "       0.00490914, 0.0062289 , 0.00726741, 0.00723471, 0.00658791,\n",
              "       0.00664823, 0.00648907, 0.00513007, 0.00492585, 0.00545056,\n",
              "       0.00668239, 0.00658646, 0.00705666, 0.00642439, 0.00718892,\n",
              "       0.00647672, 0.00618602, 0.00500579, 0.00640186, 0.00544765,\n",
              "       0.00576378, 0.00666712, 0.00699634, 0.00459228, 0.00593893,\n",
              "       0.0072536 , 0.00453123, 0.0051664 , 0.00637207, 0.00715186,\n",
              "       0.00726741, 0.0071148 , 0.0066991 , 0.00725942, 0.00511989,\n",
              "       0.00482702, 0.00726741, 0.00546945, 0.00699997, 0.00557992,\n",
              "       0.00515405, 0.00669401, 0.00581393, 0.00580594, 0.00624997,\n",
              "       0.00726741, 0.00688805, 0.00648035, 0.00726741, 0.00287281,\n",
              "       0.00726741, 0.00675288, 0.00644765, 0.00621218, 0.00586989,\n",
              "       0.00630303, 0.00618021, 0.00603268, 0.0069382 , 0.00726741,\n",
              "       0.00569983, 0.00725506, 0.00664896, 0.0044135 , 0.00712352,\n",
              "       0.00667148, 0.00720637, 0.00670782, 0.00605303, 0.00623544,\n",
              "       0.00509809, 0.0068757 , 0.00726741, 0.00527977, 0.00641276,\n",
              "       0.00726741, 0.00726741, 0.00659808, 0.00665622, 0.00584736,\n",
              "       0.00507701, 0.0063975 , 0.0067209 , 0.00726741, 0.00684663,\n",
              "       0.00602178, 0.00608064, 0.00524344, 0.00636698, 0.00660244,\n",
              "       0.00642585, 0.0066882 , 0.00589823, 0.00692584, 0.00640913,\n",
              "       0.00567149, 0.00726741, 0.0054135 , 0.00618093, 0.00518603,\n",
              "       0.00579721, 0.00618166, 0.00670855, 0.00693384, 0.00473981,\n",
              "       0.00568602, 0.00715477, 0.00723544, 0.00712497, 0.00717512,\n",
              "       0.00595201, 0.00568239, 0.00599852, 0.00611771, 0.0056664 ,\n",
              "       0.00674052, 0.00465478, 0.00538152, 0.00549998, 0.00628995,\n",
              "       0.00593021, 0.00596291, 0.00504213, 0.00709735, 0.00475943,\n",
              "       0.00603777, 0.00452614, 0.00726741, 0.00562207, 0.00707119,\n",
              "       0.00726741, 0.00420783, 0.00726741, 0.00599852, 0.00726741,\n",
              "       0.00726741, 0.00710026, 0.00726741, 0.00655303, 0.00726741,\n",
              "       0.00701015, 0.00726741, 0.00589096, 0.00474344, 0.00650797,\n",
              "       0.00618239, 0.00726741, 0.00658936, 0.00602396, 0.00706901,\n",
              "       0.00515332, 0.00547091, 0.00725288, 0.00568166, 0.00429286,\n",
              "       0.00652105, 0.00726741, 0.00548254, 0.00585027, 0.00726741,\n",
              "       0.00694983, 0.00654939, 0.00726741, 0.00623544, 0.0058946 ,\n",
              "       0.00726741, 0.00555594, 0.00633355, 0.00632047, 0.00707555,\n",
              "       0.00702904, 0.00560463, 0.00507047, 0.00432774, 0.00679648,\n",
              "       0.0055632 , 0.00555666, 0.00649053, 0.00726741, 0.00688224,\n",
              "       0.00726741, 0.00668239, 0.00510681, 0.00511989, 0.00438298,\n",
              "       0.00518457, 0.00676596, 0.00578631, 0.0059055 , 0.00492731,\n",
              "       0.00671218, 0.00525071, 0.00611843, 0.00470492, 0.00564097,\n",
              "       0.00536626, 0.00584518, 0.00568675, 0.00726741, 0.00552323,\n",
              "       0.0071148 , 0.00726741, 0.00726741, 0.00726741, 0.00576378,\n",
              "       0.00581393, 0.00660244, 0.00726741, 0.00675869, 0.00654866,\n",
              "       0.00594111, 0.00726741, 0.00673616, 0.00467658, 0.0051119 ,\n",
              "       0.00643675, 0.00716203, 0.00598471, 0.00697599, 0.00726741,\n",
              "       0.00547672, 0.00726741, 0.00578849, 0.00725215, 0.00419548,\n",
              "       0.00619474, 0.00494329, 0.00609009, 0.00573471, 0.00570419,\n",
              "       0.00646   , 0.00629213, 0.00621509, 0.00635826, 0.00571146,\n",
              "       0.00726741, 0.00616713, 0.00629721, 0.00573908, 0.00724416,\n",
              "       0.00624561, 0.00726741, 0.00515041, 0.00548544, 0.00502614,\n",
              "       0.00703413, 0.00604503, 0.00726741, 0.00646727, 0.00533137,\n",
              "       0.00627468, 0.00519111, 0.00707483, 0.00578413, 0.00548108,\n",
              "       0.00724997, 0.00726741, 0.00497091, 0.00571437, 0.00638442,\n",
              "       0.00662061, 0.00706102, 0.00726741, 0.00556466, 0.00726741,\n",
              "       0.00690477, 0.00581974, 0.00396437, 0.00574198, 0.00725651,\n",
              "       0.00566277, 0.00641567, 0.00640332, 0.00416859, 0.00489097,\n",
              "       0.00561771, 0.00603123, 0.00434228, 0.00726741, 0.00705012,\n",
              "       0.00585899, 0.00726741, 0.00579794, 0.00528123, 0.00408065,\n",
              "       0.00422818, 0.00615913, 0.00617803, 0.00720419, 0.00696073,\n",
              "       0.0033401 , 0.00726741, 0.0052478 , 0.00724634, 0.00653486,\n",
              "       0.00515114, 0.0055196 , 0.00676233, 0.00726741, 0.00579067,\n",
              "       0.00546073, 0.00638079, 0.00726741, 0.00643675, 0.0065523 ,\n",
              "       0.00581974, 0.00723471, 0.00628268, 0.00726741, 0.00673326,\n",
              "       0.00551524, 0.00555448, 0.00493966, 0.00725142, 0.00528196,\n",
              "       0.00505885, 0.0061446 , 0.00566931, 0.00495419, 0.00606393,\n",
              "       0.00715186, 0.00656029, 0.00686988, 0.00480449, 0.00661189,\n",
              "       0.00532629, 0.00511698, 0.00302833, 0.00484518, 0.00643021,\n",
              "       0.00726741, 0.00589896, 0.00695128, 0.00669765, 0.00721727,\n",
              "       0.00583937, 0.00721509, 0.00627614, 0.00630811, 0.00518021,\n",
              "       0.00610463, 0.00623399, 0.00620346, 0.00588951, 0.00724706,\n",
              "       0.00688878, 0.00466132, 0.00582992, 0.00726087, 0.00726741,\n",
              "       0.00726741, 0.00712206, 0.00716276, 0.00726741, 0.00533283,\n",
              "       0.00726741, 0.00669038, 0.0053728 , 0.0065821 , 0.00717221,\n",
              "       0.00699343, 0.00617948, 0.00696581, 0.00522236, 0.00631683,\n",
              "       0.00560027, 0.00726741, 0.00592439, 0.00726741, 0.00440332,\n",
              "       0.00675724, 0.0049571 , 0.00704794, 0.00726741, 0.00605448,\n",
              "       0.00687497, 0.0066366 , 0.00726741, 0.00458646, 0.00726741,\n",
              "       0.00625506, 0.00436481, 0.00720346, 0.00629867, 0.00681465,\n",
              "       0.00585608, 0.00726741, 0.00634881, 0.0058321 , 0.0069382 ,\n",
              "       0.00725288, 0.00726741, 0.00603849, 0.00653994, 0.00636407,\n",
              "       0.00703558, 0.00715695, 0.00399708, 0.00726741, 0.00522309,\n",
              "       0.00512425, 0.00726741, 0.00576887, 0.00513007, 0.00670564,\n",
              "       0.00594256, 0.00726741, 0.00712206, 0.00475361, 0.00726741,\n",
              "       0.00618675, 0.00457048, 0.00598108, 0.00568675, 0.00583355,\n",
              "       0.0071911 , 0.00521946, 0.00686552, 0.00706901, 0.00532701,\n",
              "       0.0052587 , 0.00537934, 0.00546364, 0.00617221, 0.00726741,\n",
              "       0.00726741, 0.00420783, 0.00702105, 0.00556684, 0.00680738,\n",
              "       0.00597963, 0.00596727, 0.00564823, 0.00499417, 0.00724416,\n",
              "       0.00557411, 0.00583355, 0.0065196 , 0.00535536, 0.00560245,\n",
              "       0.00682919, 0.00726741, 0.00464678, 0.00663951, 0.00591713,\n",
              "       0.00726741, 0.00725288, 0.00726741, 0.00615477, 0.00608282,\n",
              "       0.00465841, 0.00658573, 0.00627614, 0.00714532, 0.00541132,\n",
              "       0.00674052, 0.00723834, 0.00451306, 0.00613878, 0.00635753,\n",
              "       0.00410754, 0.00587207, 0.00641276, 0.00726741, 0.00721436,\n",
              "       0.00484518, 0.00726741, 0.00514751, 0.00667512, 0.00691858,\n",
              "       0.00514024, 0.0046228 , 0.0057696 , 0.00725651, 0.00709445,\n",
              "       0.00726741, 0.00726741, 0.00726741, 0.00549707, 0.00692948,\n",
              "       0.00567658, 0.00597527, 0.00677323, 0.00554067, 0.00663951,\n",
              "       0.00592439, 0.00726741, 0.00726741, 0.00518821, 0.00726741,\n",
              "       0.00458428, 0.00469039, 0.00726741, 0.00438588, 0.00726741,\n",
              "       0.00624852, 0.00631683, 0.00689677, 0.00512789, 0.00440405,\n",
              "       0.00722453, 0.00550652, 0.00575797, 0.00701378, 0.00597745,\n",
              "       0.00583937, 0.00682337, 0.00725506, 0.00491132, 0.0061039 ,\n",
              "       0.00637933, 0.00556829, 0.00612716, 0.0059055 , 0.00515696,\n",
              "       0.00607919, 0.00548399, 0.00602541, 0.0064382 , 0.00614096,\n",
              "       0.00495201, 0.00484518, 0.0057071 , 0.00635681, 0.00676741,\n",
              "       0.00560754, 0.00581611, 0.00564896, 0.00574344, 0.00692802,\n",
              "       0.00459518, 0.00726741, 0.0051635 , 0.00701305, 0.00726741,\n",
              "       0.00726741, 0.00586989, 0.00440332, 0.00523254, 0.0070225 ,\n",
              "       0.00726741, 0.00724924, 0.00675724, 0.00691858, 0.0045821 ,\n",
              "       0.00539533, 0.00694547, 0.00464097, 0.00705666, 0.00580085,\n",
              "       0.00582556, 0.00577251, 0.00685535, 0.00652178, 0.00726741,\n",
              "       0.0055821 , 0.00720419, 0.00348981, 0.00646291, 0.00577832,\n",
              "       0.00581756, 0.00726741, 0.00726741, 0.0059898 , 0.00719837,\n",
              "       0.00726741, 0.00517149, 0.0064084 , 0.0045276 , 0.00181685,\n",
              "       0.00609009, 0.00418676, 0.00571001, 0.00726741, 0.00726741,\n",
              "       0.00723689, 0.00561117, 0.00519475, 0.00617803, 0.00546945,\n",
              "       0.00619547, 0.00516713, 0.00640695, 0.00709663, 0.00419257,\n",
              "       0.00726741, 0.00715404, 0.0056228 , 0.00575288, 0.00711552,\n",
              "       0.00522454, 0.00662861, 0.00667802, 0.00615986, 0.00548108,\n",
              "       0.00587861, 0.00584009, 0.00352324, 0.00687933, 0.00624997,\n",
              "       0.00555521, 0.00588224, 0.00615186, 0.00622236, 0.00630012,\n",
              "       0.00529286, 0.00621218, 0.00715404, 0.0070523 , 0.00606248,\n",
              "       0.00568748, 0.00566422, 0.0068757 , 0.00726741, 0.00519257,\n",
              "       0.00340987, 0.00543239, 0.00726741, 0.0058648 , 0.00524489,\n",
              "       0.00511698, 0.00726741, 0.00558428, 0.00674052, 0.00718384,\n",
              "       0.00723253, 0.00726741, 0.00582628, 0.00664896, 0.00626814,\n",
              "       0.00635172, 0.00551451, 0.00624925, 0.00643311, 0.00726741,\n",
              "       0.00691422, 0.00726741, 0.00640477, 0.00584082, 0.00688515,\n",
              "       0.00455594, 0.00694619, 0.00628413, 0.00649997, 0.0061664 ,\n",
              "       0.0062587 , 0.00584009, 0.00566349, 0.00726741, 0.00656393,\n",
              "       0.00602759, 0.00516931, 0.00545056, 0.00540695, 0.00530666,\n",
              "       0.00706538, 0.00564751, 0.0061366 , 0.00526524, 0.00576088,\n",
              "       0.00541204, 0.00654939, 0.00726741, 0.00615913, 0.00704939,\n",
              "       0.00725578, 0.00719401, 0.00726741, 0.00603559, 0.00726741,\n",
              "       0.00612352, 0.0057289 , 0.00520492, 0.00617803, 0.00721727,\n",
              "       0.00726741, 0.00488297, 0.00715767, 0.00541132, 0.00698907,\n",
              "       0.00650361, 0.00495347, 0.00474562, 0.00643384, 0.00611916,\n",
              "       0.00537352, 0.00576814, 0.00726741, 0.00726741, 0.00455013,\n",
              "       0.00726741, 0.00560608, 0.00568384, 0.00440114, 0.006085  ,\n",
              "       0.00595128, 0.00547745, 0.00612279, 0.00720491])"
            ]
          },
          "execution_count": 20,
          "metadata": {},
          "output_type": "execute_result"
        }
      ],
      "source": [
        "y_df_test = test.iloc[:, -1].values\n",
        "y_df_test"
      ]
    },
    {
      "cell_type": "markdown",
      "metadata": {},
      "source": [
        "#Handling categorical data with one hot encoder"
      ]
    },
    {
      "cell_type": "code",
      "execution_count": null,
      "metadata": {},
      "outputs": [],
      "source": [
        "# onehotencoder_test = ColumnTransformer(transformers=[('OneHot', OneHotEncoder(), [0,1])], remainder='passthrough')"
      ]
    },
    {
      "cell_type": "code",
      "execution_count": null,
      "metadata": {},
      "outputs": [],
      "source": [
        "# x_df_test = onehotencoder_test.fit_transform(x_df_test).toarray()\n",
        "# x_df_test[0]"
      ]
    },
    {
      "cell_type": "markdown",
      "metadata": {},
      "source": [
        "##Save variables"
      ]
    },
    {
      "cell_type": "code",
      "execution_count": 21,
      "metadata": {},
      "outputs": [],
      "source": [
        "with open('students.pickle', mode='wb') as f:\n",
        "    pickle.dump([x_df_train, y_df_train, x_df_test, y_df_test], f)"
      ]
    },
    {
      "cell_type": "markdown",
      "metadata": {},
      "source": [
        "# Test using Linear Regression Model"
      ]
    },
    {
      "cell_type": "markdown",
      "metadata": {},
      "source": [
        "##Creating a linear regression object"
      ]
    },
    {
      "cell_type": "code",
      "execution_count": 24,
      "metadata": {},
      "outputs": [
        {
          "data": {
            "text/html": [
              "<style>#sk-container-id-1 {color: black;background-color: white;}#sk-container-id-1 pre{padding: 0;}#sk-container-id-1 div.sk-toggleable {background-color: white;}#sk-container-id-1 label.sk-toggleable__label {cursor: pointer;display: block;width: 100%;margin-bottom: 0;padding: 0.3em;box-sizing: border-box;text-align: center;}#sk-container-id-1 label.sk-toggleable__label-arrow:before {content: \"▸\";float: left;margin-right: 0.25em;color: #696969;}#sk-container-id-1 label.sk-toggleable__label-arrow:hover:before {color: black;}#sk-container-id-1 div.sk-estimator:hover label.sk-toggleable__label-arrow:before {color: black;}#sk-container-id-1 div.sk-toggleable__content {max-height: 0;max-width: 0;overflow: hidden;text-align: left;background-color: #f0f8ff;}#sk-container-id-1 div.sk-toggleable__content pre {margin: 0.2em;color: black;border-radius: 0.25em;background-color: #f0f8ff;}#sk-container-id-1 input.sk-toggleable__control:checked~div.sk-toggleable__content {max-height: 200px;max-width: 100%;overflow: auto;}#sk-container-id-1 input.sk-toggleable__control:checked~label.sk-toggleable__label-arrow:before {content: \"▾\";}#sk-container-id-1 div.sk-estimator input.sk-toggleable__control:checked~label.sk-toggleable__label {background-color: #d4ebff;}#sk-container-id-1 div.sk-label input.sk-toggleable__control:checked~label.sk-toggleable__label {background-color: #d4ebff;}#sk-container-id-1 input.sk-hidden--visually {border: 0;clip: rect(1px 1px 1px 1px);clip: rect(1px, 1px, 1px, 1px);height: 1px;margin: -1px;overflow: hidden;padding: 0;position: absolute;width: 1px;}#sk-container-id-1 div.sk-estimator {font-family: monospace;background-color: #f0f8ff;border: 1px dotted black;border-radius: 0.25em;box-sizing: border-box;margin-bottom: 0.5em;}#sk-container-id-1 div.sk-estimator:hover {background-color: #d4ebff;}#sk-container-id-1 div.sk-parallel-item::after {content: \"\";width: 100%;border-bottom: 1px solid gray;flex-grow: 1;}#sk-container-id-1 div.sk-label:hover label.sk-toggleable__label {background-color: #d4ebff;}#sk-container-id-1 div.sk-serial::before {content: \"\";position: absolute;border-left: 1px solid gray;box-sizing: border-box;top: 0;bottom: 0;left: 50%;z-index: 0;}#sk-container-id-1 div.sk-serial {display: flex;flex-direction: column;align-items: center;background-color: white;padding-right: 0.2em;padding-left: 0.2em;position: relative;}#sk-container-id-1 div.sk-item {position: relative;z-index: 1;}#sk-container-id-1 div.sk-parallel {display: flex;align-items: stretch;justify-content: center;background-color: white;position: relative;}#sk-container-id-1 div.sk-item::before, #sk-container-id-1 div.sk-parallel-item::before {content: \"\";position: absolute;border-left: 1px solid gray;box-sizing: border-box;top: 0;bottom: 0;left: 50%;z-index: -1;}#sk-container-id-1 div.sk-parallel-item {display: flex;flex-direction: column;z-index: 1;position: relative;background-color: white;}#sk-container-id-1 div.sk-parallel-item:first-child::after {align-self: flex-end;width: 50%;}#sk-container-id-1 div.sk-parallel-item:last-child::after {align-self: flex-start;width: 50%;}#sk-container-id-1 div.sk-parallel-item:only-child::after {width: 0;}#sk-container-id-1 div.sk-dashed-wrapped {border: 1px dashed gray;margin: 0 0.4em 0.5em 0.4em;box-sizing: border-box;padding-bottom: 0.4em;background-color: white;}#sk-container-id-1 div.sk-label label {font-family: monospace;font-weight: bold;display: inline-block;line-height: 1.2em;}#sk-container-id-1 div.sk-label-container {text-align: center;}#sk-container-id-1 div.sk-container {/* jupyter's `normalize.less` sets `[hidden] { display: none; }` but bootstrap.min.css set `[hidden] { display: none !important; }` so we also need the `!important` here to be able to override the default hidden behavior on the sphinx rendered scikit-learn.org. See: https://github.com/scikit-learn/scikit-learn/issues/21755 */display: inline-block !important;position: relative;}#sk-container-id-1 div.sk-text-repr-fallback {display: none;}</style><div id=\"sk-container-id-1\" class=\"sk-top-container\"><div class=\"sk-text-repr-fallback\"><pre>LinearRegression()</pre><b>In a Jupyter environment, please rerun this cell to show the HTML representation or trust the notebook. <br />On GitHub, the HTML representation is unable to render, please try loading this page with nbviewer.org.</b></div><div class=\"sk-container\" hidden><div class=\"sk-item\"><div class=\"sk-estimator sk-toggleable\"><input class=\"sk-toggleable__control sk-hidden--visually\" id=\"sk-estimator-id-1\" type=\"checkbox\" checked><label for=\"sk-estimator-id-1\" class=\"sk-toggleable__label sk-toggleable__label-arrow\">LinearRegression</label><div class=\"sk-toggleable__content\"><pre>LinearRegression()</pre></div></div></div></div></div>"
            ],
            "text/plain": [
              "LinearRegression()"
            ]
          },
          "execution_count": 24,
          "metadata": {},
          "output_type": "execute_result"
        }
      ],
      "source": [
        "regr = linear_model.LinearRegression()\n",
        "regr"
      ]
    },
    {
      "cell_type": "markdown",
      "metadata": {},
      "source": [
        "##Conducting training"
      ]
    },
    {
      "cell_type": "code",
      "execution_count": 25,
      "metadata": {},
      "outputs": [
        {
          "data": {
            "text/html": [
              "<style>#sk-container-id-2 {color: black;background-color: white;}#sk-container-id-2 pre{padding: 0;}#sk-container-id-2 div.sk-toggleable {background-color: white;}#sk-container-id-2 label.sk-toggleable__label {cursor: pointer;display: block;width: 100%;margin-bottom: 0;padding: 0.3em;box-sizing: border-box;text-align: center;}#sk-container-id-2 label.sk-toggleable__label-arrow:before {content: \"▸\";float: left;margin-right: 0.25em;color: #696969;}#sk-container-id-2 label.sk-toggleable__label-arrow:hover:before {color: black;}#sk-container-id-2 div.sk-estimator:hover label.sk-toggleable__label-arrow:before {color: black;}#sk-container-id-2 div.sk-toggleable__content {max-height: 0;max-width: 0;overflow: hidden;text-align: left;background-color: #f0f8ff;}#sk-container-id-2 div.sk-toggleable__content pre {margin: 0.2em;color: black;border-radius: 0.25em;background-color: #f0f8ff;}#sk-container-id-2 input.sk-toggleable__control:checked~div.sk-toggleable__content {max-height: 200px;max-width: 100%;overflow: auto;}#sk-container-id-2 input.sk-toggleable__control:checked~label.sk-toggleable__label-arrow:before {content: \"▾\";}#sk-container-id-2 div.sk-estimator input.sk-toggleable__control:checked~label.sk-toggleable__label {background-color: #d4ebff;}#sk-container-id-2 div.sk-label input.sk-toggleable__control:checked~label.sk-toggleable__label {background-color: #d4ebff;}#sk-container-id-2 input.sk-hidden--visually {border: 0;clip: rect(1px 1px 1px 1px);clip: rect(1px, 1px, 1px, 1px);height: 1px;margin: -1px;overflow: hidden;padding: 0;position: absolute;width: 1px;}#sk-container-id-2 div.sk-estimator {font-family: monospace;background-color: #f0f8ff;border: 1px dotted black;border-radius: 0.25em;box-sizing: border-box;margin-bottom: 0.5em;}#sk-container-id-2 div.sk-estimator:hover {background-color: #d4ebff;}#sk-container-id-2 div.sk-parallel-item::after {content: \"\";width: 100%;border-bottom: 1px solid gray;flex-grow: 1;}#sk-container-id-2 div.sk-label:hover label.sk-toggleable__label {background-color: #d4ebff;}#sk-container-id-2 div.sk-serial::before {content: \"\";position: absolute;border-left: 1px solid gray;box-sizing: border-box;top: 0;bottom: 0;left: 50%;z-index: 0;}#sk-container-id-2 div.sk-serial {display: flex;flex-direction: column;align-items: center;background-color: white;padding-right: 0.2em;padding-left: 0.2em;position: relative;}#sk-container-id-2 div.sk-item {position: relative;z-index: 1;}#sk-container-id-2 div.sk-parallel {display: flex;align-items: stretch;justify-content: center;background-color: white;position: relative;}#sk-container-id-2 div.sk-item::before, #sk-container-id-2 div.sk-parallel-item::before {content: \"\";position: absolute;border-left: 1px solid gray;box-sizing: border-box;top: 0;bottom: 0;left: 50%;z-index: -1;}#sk-container-id-2 div.sk-parallel-item {display: flex;flex-direction: column;z-index: 1;position: relative;background-color: white;}#sk-container-id-2 div.sk-parallel-item:first-child::after {align-self: flex-end;width: 50%;}#sk-container-id-2 div.sk-parallel-item:last-child::after {align-self: flex-start;width: 50%;}#sk-container-id-2 div.sk-parallel-item:only-child::after {width: 0;}#sk-container-id-2 div.sk-dashed-wrapped {border: 1px dashed gray;margin: 0 0.4em 0.5em 0.4em;box-sizing: border-box;padding-bottom: 0.4em;background-color: white;}#sk-container-id-2 div.sk-label label {font-family: monospace;font-weight: bold;display: inline-block;line-height: 1.2em;}#sk-container-id-2 div.sk-label-container {text-align: center;}#sk-container-id-2 div.sk-container {/* jupyter's `normalize.less` sets `[hidden] { display: none; }` but bootstrap.min.css set `[hidden] { display: none !important; }` so we also need the `!important` here to be able to override the default hidden behavior on the sphinx rendered scikit-learn.org. See: https://github.com/scikit-learn/scikit-learn/issues/21755 */display: inline-block !important;position: relative;}#sk-container-id-2 div.sk-text-repr-fallback {display: none;}</style><div id=\"sk-container-id-2\" class=\"sk-top-container\"><div class=\"sk-text-repr-fallback\"><pre>LinearRegression()</pre><b>In a Jupyter environment, please rerun this cell to show the HTML representation or trust the notebook. <br />On GitHub, the HTML representation is unable to render, please try loading this page with nbviewer.org.</b></div><div class=\"sk-container\" hidden><div class=\"sk-item\"><div class=\"sk-estimator sk-toggleable\"><input class=\"sk-toggleable__control sk-hidden--visually\" id=\"sk-estimator-id-2\" type=\"checkbox\" checked><label for=\"sk-estimator-id-2\" class=\"sk-toggleable__label sk-toggleable__label-arrow\">LinearRegression</label><div class=\"sk-toggleable__content\"><pre>LinearRegression()</pre></div></div></div></div></div>"
            ],
            "text/plain": [
              "LinearRegression()"
            ]
          },
          "execution_count": 25,
          "metadata": {},
          "output_type": "execute_result"
        }
      ],
      "source": [
        "regr.fit(x_df_train, y_df_train)"
      ]
    },
    {
      "cell_type": "markdown",
      "metadata": {},
      "source": [
        "##Performing tests"
      ]
    },
    {
      "cell_type": "code",
      "execution_count": 26,
      "metadata": {},
      "outputs": [],
      "source": [
        "aprovados_y_pred = regr.predict(x_df_test)"
      ]
    },
    {
      "cell_type": "markdown",
      "metadata": {},
      "source": [
        "##Coefficients"
      ]
    },
    {
      "cell_type": "code",
      "execution_count": 27,
      "metadata": {},
      "outputs": [
        {
          "name": "stdout",
          "output_type": "stream",
          "text": [
            "Coefficients: \n",
            " [65.8402454]\n"
          ]
        }
      ],
      "source": [
        "print(\"Coefficients: \\n\", regr.coef_)"
      ]
    },
    {
      "cell_type": "markdown",
      "metadata": {},
      "source": [
        "##Mean square error"
      ]
    },
    {
      "cell_type": "code",
      "execution_count": 28,
      "metadata": {},
      "outputs": [
        {
          "name": "stdout",
          "output_type": "stream",
          "text": [
            "Mean square error: 0.00\n"
          ]
        }
      ],
      "source": [
        "print(\"Mean square error: %.2f\" % mean_squared_error(y_df_test, aprovados_y_pred))"
      ]
    },
    {
      "cell_type": "markdown",
      "metadata": {},
      "source": [
        "##Coefficient of determination: \"1\" is a perfect prediction"
      ]
    },
    {
      "cell_type": "code",
      "execution_count": 29,
      "metadata": {},
      "outputs": [
        {
          "name": "stdout",
          "output_type": "stream",
          "text": [
            "Coefficient of determination: 0.32\n"
          ]
        }
      ],
      "source": [
        "print(\"Coefficient of determination: %.2f\" % r2_score(y_df_test, aprovados_y_pred))"
      ]
    },
    {
      "cell_type": "markdown",
      "metadata": {},
      "source": [
        "##Plots"
      ]
    },
    {
      "cell_type": "code",
      "execution_count": 30,
      "metadata": {},
      "outputs": [
        {
          "data": {
            "image/png": "[encoded data removed]",
            "text/plain": [
              "<Figure size 800x550 with 1 Axes>"
            ]
          },
          "metadata": {},
          "output_type": "display_data"
        }
      ],
      "source": [
        "plt.scatter(x_df_test, y_df_test, color=\"black\")\n",
        "plt.plot(x_df_test, aprovados_y_pred, color=\"blue\", linewidth=3)\n",
        "\n",
        "plt.ylabel(\"Taxa de aprovação\")\n",
        "plt.xlabel(\"Ano de aprovação\")\n",
        "plt.show()"
      ]
    }
  ],
  "metadata": {
    "colab": {
      "provenance": []
    },
    "kernelspec": {
      "display_name": "Python 3.10.5 64-bit",
      "language": "python",
      "name": "python3"
    },
    "language_info": {
      "codemirror_mode": {
        "name": "ipython",
        "version": 3
      },
      "file_extension": ".py",
      "mimetype": "text/x-python",
      "name": "python",
      "nbconvert_exporter": "python",
      "pygments_lexer": "ipython3",
      "version": "3.10.5"
    },
    "vscode": {
      "interpreter": {
        "hash": "aee8b7b246df8f9039afb4144a1f6fd8d2ca17a180786b69acc140d282b71a49"
      }
    }
  },
  "nbformat": 4,
  "nbformat_minor": 0
}
