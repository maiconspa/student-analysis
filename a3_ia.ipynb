{
 "cells": [
  {
   "cell_type": "markdown",
   "metadata": {
    "id": "5NZyhjTjDcvJ"
   },
   "source": [
    "# Cleaning and normalizing data"
   ]
  },
  {
   "cell_type": "markdown",
   "metadata": {},
   "source": [
    "##Import packages"
   ]
  },
  {
   "cell_type": "code",
   "execution_count": 32,
   "metadata": {},
   "outputs": [],
   "source": [
    "from sklearn import preprocessing\n",
    "from sklearn.model_selection import train_test_split\n",
    "from sklearn import linear_model\n",
    "from sklearn.metrics import r2_score, mean_absolute_percentage_error\n",
    "import pandas as pd\n",
    "import pickle\n",
    "import matplotlib.pyplot as plt"
   ]
  },
  {
   "cell_type": "markdown",
   "metadata": {},
   "source": [
    "##Import document as data frame"
   ]
  },
  {
   "cell_type": "code",
   "execution_count": 2,
   "metadata": {},
   "outputs": [
    {
     "name": "stdout",
     "output_type": "stream",
     "text": [
      "(3745, 17)\n"
     ]
    },
    {
     "data": {
      "text/html": [
       "<div>\n",
       "<style scoped>\n",
       "    .dataframe tbody tr th:only-of-type {\n",
       "        vertical-align: middle;\n",
       "    }\n",
       "\n",
       "    .dataframe tbody tr th {\n",
       "        vertical-align: top;\n",
       "    }\n",
       "\n",
       "    .dataframe thead th {\n",
       "        text-align: right;\n",
       "    }\n",
       "</style>\n",
       "<table border=\"1\" class=\"dataframe\">\n",
       "  <thead>\n",
       "    <tr style=\"text-align: right;\">\n",
       "      <th></th>\n",
       "      <th>Unnamed: 0</th>\n",
       "      <th>ano</th>\n",
       "      <th>NM_DIRETORIA</th>\n",
       "      <th>municipio</th>\n",
       "      <th>CD_REDE_ENSINO</th>\n",
       "      <th>CD_ESCOLA</th>\n",
       "      <th>escola</th>\n",
       "      <th>CD_TP_IDENTIFICADOR</th>\n",
       "      <th>APR_1</th>\n",
       "      <th>REP_1</th>\n",
       "      <th>ABA_1</th>\n",
       "      <th>APR_2</th>\n",
       "      <th>REP_2</th>\n",
       "      <th>ABA_2</th>\n",
       "      <th>aprovado</th>\n",
       "      <th>reprovado</th>\n",
       "      <th>abandono</th>\n",
       "    </tr>\n",
       "  </thead>\n",
       "  <tbody>\n",
       "    <tr>\n",
       "      <th>0</th>\n",
       "      <td>0</td>\n",
       "      <td>2021</td>\n",
       "      <td>PIRAJU</td>\n",
       "      <td>PIRAJU</td>\n",
       "      <td>1</td>\n",
       "      <td>34320</td>\n",
       "      <td>JOAQUIM GUILHERME MOREIRA PORTO DOUTOR</td>\n",
       "      <td>8</td>\n",
       "      <td>0.00</td>\n",
       "      <td>0.00</td>\n",
       "      <td>0.0</td>\n",
       "      <td>100.00</td>\n",
       "      <td>0.00</td>\n",
       "      <td>0.0</td>\n",
       "      <td>100.00</td>\n",
       "      <td>0.00</td>\n",
       "      <td>0.00</td>\n",
       "    </tr>\n",
       "    <tr>\n",
       "      <th>1</th>\n",
       "      <td>1</td>\n",
       "      <td>2021</td>\n",
       "      <td>PIRAJU</td>\n",
       "      <td>PIRAJU</td>\n",
       "      <td>1</td>\n",
       "      <td>34344</td>\n",
       "      <td>QUINZINHO CAMARGO PREFEITO</td>\n",
       "      <td>8</td>\n",
       "      <td>0.00</td>\n",
       "      <td>0.00</td>\n",
       "      <td>0.0</td>\n",
       "      <td>99.56</td>\n",
       "      <td>0.44</td>\n",
       "      <td>0.0</td>\n",
       "      <td>94.00</td>\n",
       "      <td>2.00</td>\n",
       "      <td>4.00</td>\n",
       "    </tr>\n",
       "    <tr>\n",
       "      <th>2</th>\n",
       "      <td>2</td>\n",
       "      <td>2021</td>\n",
       "      <td>PIRAJU</td>\n",
       "      <td>PIRAJU</td>\n",
       "      <td>1</td>\n",
       "      <td>34356</td>\n",
       "      <td>NHONHO BRAGA CORONEL</td>\n",
       "      <td>8</td>\n",
       "      <td>0.00</td>\n",
       "      <td>0.00</td>\n",
       "      <td>0.0</td>\n",
       "      <td>100.00</td>\n",
       "      <td>0.00</td>\n",
       "      <td>0.0</td>\n",
       "      <td>100.00</td>\n",
       "      <td>0.00</td>\n",
       "      <td>0.00</td>\n",
       "    </tr>\n",
       "    <tr>\n",
       "      <th>3</th>\n",
       "      <td>3</td>\n",
       "      <td>2021</td>\n",
       "      <td>PIRAJU</td>\n",
       "      <td>PIRAJU</td>\n",
       "      <td>1</td>\n",
       "      <td>34459</td>\n",
       "      <td>ATALIBA LEONEL</td>\n",
       "      <td>8</td>\n",
       "      <td>0.00</td>\n",
       "      <td>0.00</td>\n",
       "      <td>0.0</td>\n",
       "      <td>100.00</td>\n",
       "      <td>0.00</td>\n",
       "      <td>0.0</td>\n",
       "      <td>100.00</td>\n",
       "      <td>0.00</td>\n",
       "      <td>0.00</td>\n",
       "    </tr>\n",
       "    <tr>\n",
       "      <th>4</th>\n",
       "      <td>6</td>\n",
       "      <td>2021</td>\n",
       "      <td>AMERICANA</td>\n",
       "      <td>AMERICANA</td>\n",
       "      <td>1</td>\n",
       "      <td>17176</td>\n",
       "      <td>MAGI MONSENHOR</td>\n",
       "      <td>8</td>\n",
       "      <td>94.74</td>\n",
       "      <td>5.26</td>\n",
       "      <td>0.0</td>\n",
       "      <td>93.35</td>\n",
       "      <td>6.65</td>\n",
       "      <td>0.0</td>\n",
       "      <td>79.82</td>\n",
       "      <td>19.29</td>\n",
       "      <td>0.89</td>\n",
       "    </tr>\n",
       "  </tbody>\n",
       "</table>\n",
       "</div>"
      ],
      "text/plain": [
       "   Unnamed: 0   ano NM_DIRETORIA  municipio  CD_REDE_ENSINO  CD_ESCOLA  \\\n",
       "0           0  2021       PIRAJU     PIRAJU               1      34320   \n",
       "1           1  2021       PIRAJU     PIRAJU               1      34344   \n",
       "2           2  2021       PIRAJU     PIRAJU               1      34356   \n",
       "3           3  2021       PIRAJU     PIRAJU               1      34459   \n",
       "4           6  2021    AMERICANA  AMERICANA               1      17176   \n",
       "\n",
       "                                   escola  CD_TP_IDENTIFICADOR  APR_1  REP_1  \\\n",
       "0  JOAQUIM GUILHERME MOREIRA PORTO DOUTOR                    8   0.00   0.00   \n",
       "1              QUINZINHO CAMARGO PREFEITO                    8   0.00   0.00   \n",
       "2                    NHONHO BRAGA CORONEL                    8   0.00   0.00   \n",
       "3                          ATALIBA LEONEL                    8   0.00   0.00   \n",
       "4                          MAGI MONSENHOR                    8  94.74   5.26   \n",
       "\n",
       "   ABA_1   APR_2  REP_2  ABA_2  aprovado  reprovado  abandono  \n",
       "0    0.0  100.00   0.00    0.0    100.00       0.00      0.00  \n",
       "1    0.0   99.56   0.44    0.0     94.00       2.00      4.00  \n",
       "2    0.0  100.00   0.00    0.0    100.00       0.00      0.00  \n",
       "3    0.0  100.00   0.00    0.0    100.00       0.00      0.00  \n",
       "4    0.0   93.35   6.65    0.0     79.82      19.29      0.89  "
      ]
     },
     "execution_count": 2,
     "metadata": {},
     "output_type": "execute_result"
    }
   ],
   "source": [
    "df_cleaned = pd.read_excel('./output/fluxo_escolar_2021_cleaned.xlsx',engine='openpyxl')\n",
    "print(df_cleaned.shape)\n",
    "df_cleaned.head()"
   ]
  },
  {
   "cell_type": "code",
   "execution_count": 3,
   "metadata": {},
   "outputs": [
    {
     "data": {
      "text/html": [
       "<div>\n",
       "<style scoped>\n",
       "    .dataframe tbody tr th:only-of-type {\n",
       "        vertical-align: middle;\n",
       "    }\n",
       "\n",
       "    .dataframe tbody tr th {\n",
       "        vertical-align: top;\n",
       "    }\n",
       "\n",
       "    .dataframe thead th {\n",
       "        text-align: right;\n",
       "    }\n",
       "</style>\n",
       "<table border=\"1\" class=\"dataframe\">\n",
       "  <thead>\n",
       "    <tr style=\"text-align: right;\">\n",
       "      <th></th>\n",
       "      <th>ano</th>\n",
       "      <th>municipio</th>\n",
       "      <th>escola</th>\n",
       "      <th>aprovado</th>\n",
       "      <th>reprovado</th>\n",
       "      <th>abandono</th>\n",
       "    </tr>\n",
       "  </thead>\n",
       "  <tbody>\n",
       "    <tr>\n",
       "      <th>0</th>\n",
       "      <td>2021</td>\n",
       "      <td>PIRAJU</td>\n",
       "      <td>JOAQUIM GUILHERME MOREIRA PORTO DOUTOR</td>\n",
       "      <td>100.00</td>\n",
       "      <td>0.00</td>\n",
       "      <td>0.00</td>\n",
       "    </tr>\n",
       "    <tr>\n",
       "      <th>1</th>\n",
       "      <td>2021</td>\n",
       "      <td>PIRAJU</td>\n",
       "      <td>QUINZINHO CAMARGO PREFEITO</td>\n",
       "      <td>94.00</td>\n",
       "      <td>2.00</td>\n",
       "      <td>4.00</td>\n",
       "    </tr>\n",
       "    <tr>\n",
       "      <th>2</th>\n",
       "      <td>2021</td>\n",
       "      <td>PIRAJU</td>\n",
       "      <td>NHONHO BRAGA CORONEL</td>\n",
       "      <td>100.00</td>\n",
       "      <td>0.00</td>\n",
       "      <td>0.00</td>\n",
       "    </tr>\n",
       "    <tr>\n",
       "      <th>3</th>\n",
       "      <td>2021</td>\n",
       "      <td>PIRAJU</td>\n",
       "      <td>ATALIBA LEONEL</td>\n",
       "      <td>100.00</td>\n",
       "      <td>0.00</td>\n",
       "      <td>0.00</td>\n",
       "    </tr>\n",
       "    <tr>\n",
       "      <th>4</th>\n",
       "      <td>2021</td>\n",
       "      <td>AMERICANA</td>\n",
       "      <td>MAGI MONSENHOR</td>\n",
       "      <td>79.82</td>\n",
       "      <td>19.29</td>\n",
       "      <td>0.89</td>\n",
       "    </tr>\n",
       "    <tr>\n",
       "      <th>...</th>\n",
       "      <td>...</td>\n",
       "      <td>...</td>\n",
       "      <td>...</td>\n",
       "      <td>...</td>\n",
       "      <td>...</td>\n",
       "      <td>...</td>\n",
       "    </tr>\n",
       "    <tr>\n",
       "      <th>3740</th>\n",
       "      <td>2021</td>\n",
       "      <td>BAURU</td>\n",
       "      <td>JOAQUIM RODRIGUES MADUREIRA</td>\n",
       "      <td>99.71</td>\n",
       "      <td>0.29</td>\n",
       "      <td>0.00</td>\n",
       "    </tr>\n",
       "    <tr>\n",
       "      <th>3741</th>\n",
       "      <td>2021</td>\n",
       "      <td>BAURU</td>\n",
       "      <td>CHRISTINO CABRAL PROF</td>\n",
       "      <td>99.73</td>\n",
       "      <td>0.27</td>\n",
       "      <td>0.00</td>\n",
       "    </tr>\n",
       "    <tr>\n",
       "      <th>3742</th>\n",
       "      <td>2021</td>\n",
       "      <td>BAURU</td>\n",
       "      <td>CARLOS CHAGAS DR</td>\n",
       "      <td>99.77</td>\n",
       "      <td>0.00</td>\n",
       "      <td>0.23</td>\n",
       "    </tr>\n",
       "    <tr>\n",
       "      <th>3743</th>\n",
       "      <td>2021</td>\n",
       "      <td>BAURU</td>\n",
       "      <td>ARMINDA SBRISSIA IRMA</td>\n",
       "      <td>98.58</td>\n",
       "      <td>0.00</td>\n",
       "      <td>1.42</td>\n",
       "    </tr>\n",
       "    <tr>\n",
       "      <th>3744</th>\n",
       "      <td>2021</td>\n",
       "      <td>BAURU</td>\n",
       "      <td>AZARIAS LEITE</td>\n",
       "      <td>95.78</td>\n",
       "      <td>4.22</td>\n",
       "      <td>0.00</td>\n",
       "    </tr>\n",
       "  </tbody>\n",
       "</table>\n",
       "<p>3745 rows × 6 columns</p>\n",
       "</div>"
      ],
      "text/plain": [
       "       ano  municipio                                  escola  aprovado  \\\n",
       "0     2021     PIRAJU  JOAQUIM GUILHERME MOREIRA PORTO DOUTOR    100.00   \n",
       "1     2021     PIRAJU              QUINZINHO CAMARGO PREFEITO     94.00   \n",
       "2     2021     PIRAJU                    NHONHO BRAGA CORONEL    100.00   \n",
       "3     2021     PIRAJU                          ATALIBA LEONEL    100.00   \n",
       "4     2021  AMERICANA                          MAGI MONSENHOR     79.82   \n",
       "...    ...        ...                                     ...       ...   \n",
       "3740  2021      BAURU             JOAQUIM RODRIGUES MADUREIRA     99.71   \n",
       "3741  2021      BAURU                   CHRISTINO CABRAL PROF     99.73   \n",
       "3742  2021      BAURU                        CARLOS CHAGAS DR     99.77   \n",
       "3743  2021      BAURU                   ARMINDA SBRISSIA IRMA     98.58   \n",
       "3744  2021      BAURU                           AZARIAS LEITE     95.78   \n",
       "\n",
       "      reprovado  abandono  \n",
       "0          0.00      0.00  \n",
       "1          2.00      4.00  \n",
       "2          0.00      0.00  \n",
       "3          0.00      0.00  \n",
       "4         19.29      0.89  \n",
       "...         ...       ...  \n",
       "3740       0.29      0.00  \n",
       "3741       0.27      0.00  \n",
       "3742       0.00      0.23  \n",
       "3743       0.00      1.42  \n",
       "3744       4.22      0.00  \n",
       "\n",
       "[3745 rows x 6 columns]"
      ]
     },
     "execution_count": 3,
     "metadata": {},
     "output_type": "execute_result"
    }
   ],
   "source": [
    "df_cleaned = df_cleaned.drop(columns=['Unnamed: 0', 'NM_DIRETORIA', 'CD_REDE_ENSINO', 'CD_ESCOLA', 'CD_TP_IDENTIFICADOR', 'APR_1', 'REP_1', 'ABA_1', 'APR_2', 'REP_2', 'ABA_2'])\n",
    "df_cleaned"
   ]
  },
  {
   "cell_type": "markdown",
   "metadata": {},
   "source": [
    "##Removing lines with negative number"
   ]
  },
  {
   "cell_type": "code",
   "execution_count": 4,
   "metadata": {
    "id": "kylsx2Gkz3M0"
   },
   "outputs": [
    {
     "name": "stdout",
     "output_type": "stream",
     "text": [
      "(3739, 6)\n"
     ]
    },
    {
     "data": {
      "text/html": [
       "<div>\n",
       "<style scoped>\n",
       "    .dataframe tbody tr th:only-of-type {\n",
       "        vertical-align: middle;\n",
       "    }\n",
       "\n",
       "    .dataframe tbody tr th {\n",
       "        vertical-align: top;\n",
       "    }\n",
       "\n",
       "    .dataframe thead th {\n",
       "        text-align: right;\n",
       "    }\n",
       "</style>\n",
       "<table border=\"1\" class=\"dataframe\">\n",
       "  <thead>\n",
       "    <tr style=\"text-align: right;\">\n",
       "      <th></th>\n",
       "      <th>ano</th>\n",
       "      <th>municipio</th>\n",
       "      <th>escola</th>\n",
       "      <th>aprovado</th>\n",
       "      <th>reprovado</th>\n",
       "      <th>abandono</th>\n",
       "    </tr>\n",
       "  </thead>\n",
       "  <tbody>\n",
       "    <tr>\n",
       "      <th>0</th>\n",
       "      <td>2021</td>\n",
       "      <td>PIRAJU</td>\n",
       "      <td>JOAQUIM GUILHERME MOREIRA PORTO DOUTOR</td>\n",
       "      <td>100.0</td>\n",
       "      <td>0.0</td>\n",
       "      <td>0.0</td>\n",
       "    </tr>\n",
       "    <tr>\n",
       "      <th>1</th>\n",
       "      <td>2021</td>\n",
       "      <td>PIRAJU</td>\n",
       "      <td>QUINZINHO CAMARGO PREFEITO</td>\n",
       "      <td>94.0</td>\n",
       "      <td>2.0</td>\n",
       "      <td>4.0</td>\n",
       "    </tr>\n",
       "    <tr>\n",
       "      <th>2</th>\n",
       "      <td>2021</td>\n",
       "      <td>PIRAJU</td>\n",
       "      <td>NHONHO BRAGA CORONEL</td>\n",
       "      <td>100.0</td>\n",
       "      <td>0.0</td>\n",
       "      <td>0.0</td>\n",
       "    </tr>\n",
       "    <tr>\n",
       "      <th>3</th>\n",
       "      <td>2021</td>\n",
       "      <td>PIRAJU</td>\n",
       "      <td>ATALIBA LEONEL</td>\n",
       "      <td>100.0</td>\n",
       "      <td>0.0</td>\n",
       "      <td>0.0</td>\n",
       "    </tr>\n",
       "    <tr>\n",
       "      <th>4</th>\n",
       "      <td>2021</td>\n",
       "      <td>AMERICANA</td>\n",
       "      <td>MAGI MONSENHOR</td>\n",
       "      <td>79.82</td>\n",
       "      <td>19.29</td>\n",
       "      <td>0.89</td>\n",
       "    </tr>\n",
       "  </tbody>\n",
       "</table>\n",
       "</div>"
      ],
      "text/plain": [
       "    ano  municipio                                  escola aprovado reprovado  \\\n",
       "0  2021     PIRAJU  JOAQUIM GUILHERME MOREIRA PORTO DOUTOR    100.0       0.0   \n",
       "1  2021     PIRAJU              QUINZINHO CAMARGO PREFEITO     94.0       2.0   \n",
       "2  2021     PIRAJU                    NHONHO BRAGA CORONEL    100.0       0.0   \n",
       "3  2021     PIRAJU                          ATALIBA LEONEL    100.0       0.0   \n",
       "4  2021  AMERICANA                          MAGI MONSENHOR    79.82     19.29   \n",
       "\n",
       "  abandono  \n",
       "0      0.0  \n",
       "1      4.0  \n",
       "2      0.0  \n",
       "3      0.0  \n",
       "4     0.89  "
      ]
     },
     "execution_count": 4,
     "metadata": {},
     "output_type": "execute_result"
    }
   ],
   "source": [
    "df_cleaned['aprovado'] = df_cleaned['aprovado'].astype(str)\n",
    "df_cleaned = df_cleaned[df_cleaned[\"aprovado\"].str.contains(\"-\") == False]\n",
    "\n",
    "df_cleaned['reprovado'] = df_cleaned['reprovado'].astype(str)\n",
    "df_cleaned = df_cleaned[df_cleaned[\"reprovado\"].str.contains(\"-\") == False]\n",
    "\n",
    "df_cleaned['abandono'] = df_cleaned['abandono'].astype(str)\n",
    "df_cleaned = df_cleaned[df_cleaned[\"abandono\"].str.contains(\"-\") == False]\n",
    "\n",
    "print(df_cleaned.shape)\n",
    "df_cleaned.head()"
   ]
  },
  {
   "cell_type": "markdown",
   "metadata": {},
   "source": [
    "##Convert columns to float"
   ]
  },
  {
   "cell_type": "code",
   "execution_count": 5,
   "metadata": {
    "id": "HqKOsQlJz3M0"
   },
   "outputs": [],
   "source": [
    "df_cleaned['aprovado'] = df_cleaned['aprovado'].astype(float)\n",
    "df_cleaned['reprovado'] = df_cleaned['reprovado'].astype(float)\n",
    "df_cleaned['abandono'] = df_cleaned['abandono'].astype(float)"
   ]
  },
  {
   "cell_type": "markdown",
   "metadata": {},
   "source": [
    "##Remove rows that have just 0 values and reset index"
   ]
  },
  {
   "cell_type": "code",
   "execution_count": 6,
   "metadata": {},
   "outputs": [
    {
     "name": "stdout",
     "output_type": "stream",
     "text": [
      "(3739, 6)\n"
     ]
    },
    {
     "data": {
      "text/html": [
       "<div>\n",
       "<style scoped>\n",
       "    .dataframe tbody tr th:only-of-type {\n",
       "        vertical-align: middle;\n",
       "    }\n",
       "\n",
       "    .dataframe tbody tr th {\n",
       "        vertical-align: top;\n",
       "    }\n",
       "\n",
       "    .dataframe thead th {\n",
       "        text-align: right;\n",
       "    }\n",
       "</style>\n",
       "<table border=\"1\" class=\"dataframe\">\n",
       "  <thead>\n",
       "    <tr style=\"text-align: right;\">\n",
       "      <th></th>\n",
       "      <th>ano</th>\n",
       "      <th>municipio</th>\n",
       "      <th>escola</th>\n",
       "      <th>aprovado</th>\n",
       "      <th>reprovado</th>\n",
       "      <th>abandono</th>\n",
       "    </tr>\n",
       "  </thead>\n",
       "  <tbody>\n",
       "    <tr>\n",
       "      <th>0</th>\n",
       "      <td>2021</td>\n",
       "      <td>PIRAJU</td>\n",
       "      <td>JOAQUIM GUILHERME MOREIRA PORTO DOUTOR</td>\n",
       "      <td>100.00</td>\n",
       "      <td>0.00</td>\n",
       "      <td>0.00</td>\n",
       "    </tr>\n",
       "    <tr>\n",
       "      <th>1</th>\n",
       "      <td>2021</td>\n",
       "      <td>PIRAJU</td>\n",
       "      <td>QUINZINHO CAMARGO PREFEITO</td>\n",
       "      <td>94.00</td>\n",
       "      <td>2.00</td>\n",
       "      <td>4.00</td>\n",
       "    </tr>\n",
       "    <tr>\n",
       "      <th>2</th>\n",
       "      <td>2021</td>\n",
       "      <td>PIRAJU</td>\n",
       "      <td>NHONHO BRAGA CORONEL</td>\n",
       "      <td>100.00</td>\n",
       "      <td>0.00</td>\n",
       "      <td>0.00</td>\n",
       "    </tr>\n",
       "    <tr>\n",
       "      <th>3</th>\n",
       "      <td>2021</td>\n",
       "      <td>PIRAJU</td>\n",
       "      <td>ATALIBA LEONEL</td>\n",
       "      <td>100.00</td>\n",
       "      <td>0.00</td>\n",
       "      <td>0.00</td>\n",
       "    </tr>\n",
       "    <tr>\n",
       "      <th>4</th>\n",
       "      <td>2021</td>\n",
       "      <td>AMERICANA</td>\n",
       "      <td>MAGI MONSENHOR</td>\n",
       "      <td>79.82</td>\n",
       "      <td>19.29</td>\n",
       "      <td>0.89</td>\n",
       "    </tr>\n",
       "  </tbody>\n",
       "</table>\n",
       "</div>"
      ],
      "text/plain": [
       "    ano  municipio                                  escola  aprovado  \\\n",
       "0  2021     PIRAJU  JOAQUIM GUILHERME MOREIRA PORTO DOUTOR    100.00   \n",
       "1  2021     PIRAJU              QUINZINHO CAMARGO PREFEITO     94.00   \n",
       "2  2021     PIRAJU                    NHONHO BRAGA CORONEL    100.00   \n",
       "3  2021     PIRAJU                          ATALIBA LEONEL    100.00   \n",
       "4  2021  AMERICANA                          MAGI MONSENHOR     79.82   \n",
       "\n",
       "   reprovado  abandono  \n",
       "0       0.00      0.00  \n",
       "1       2.00      4.00  \n",
       "2       0.00      0.00  \n",
       "3       0.00      0.00  \n",
       "4      19.29      0.89  "
      ]
     },
     "execution_count": 6,
     "metadata": {},
     "output_type": "execute_result"
    }
   ],
   "source": [
    "df_cleaned = df_cleaned.reset_index()\n",
    "df_cleaned = df_cleaned.drop(columns=['index'])\n",
    "\n",
    "print(df_cleaned.shape)\n",
    "df_cleaned.head()"
   ]
  },
  {
   "cell_type": "markdown",
   "metadata": {},
   "source": [
    "##Normalizing data"
   ]
  },
  {
   "cell_type": "code",
   "execution_count": 14,
   "metadata": {
    "id": "erD3RDQozSMZ"
   },
   "outputs": [
    {
     "name": "stdout",
     "output_type": "stream",
     "text": [
      "(3739, 10)\n"
     ]
    },
    {
     "data": {
      "text/html": [
       "<div>\n",
       "<style scoped>\n",
       "    .dataframe tbody tr th:only-of-type {\n",
       "        vertical-align: middle;\n",
       "    }\n",
       "\n",
       "    .dataframe tbody tr th {\n",
       "        vertical-align: top;\n",
       "    }\n",
       "\n",
       "    .dataframe thead th {\n",
       "        text-align: right;\n",
       "    }\n",
       "</style>\n",
       "<table border=\"1\" class=\"dataframe\">\n",
       "  <thead>\n",
       "    <tr style=\"text-align: right;\">\n",
       "      <th></th>\n",
       "      <th>ano</th>\n",
       "      <th>municipio</th>\n",
       "      <th>escola</th>\n",
       "      <th>aprovado</th>\n",
       "      <th>reprovado</th>\n",
       "      <th>abandono</th>\n",
       "      <th>ano_normalized</th>\n",
       "      <th>aprovado_normalized</th>\n",
       "      <th>reprovado_normalized</th>\n",
       "      <th>abandono_normalized</th>\n",
       "    </tr>\n",
       "  </thead>\n",
       "  <tbody>\n",
       "    <tr>\n",
       "      <th>0</th>\n",
       "      <td>2021</td>\n",
       "      <td>PIRAJU</td>\n",
       "      <td>JOAQUIM GUILHERME MOREIRA PORTO DOUTOR</td>\n",
       "      <td>100.00</td>\n",
       "      <td>0.00</td>\n",
       "      <td>0.00</td>\n",
       "      <td>0.016354</td>\n",
       "      <td>0.016734</td>\n",
       "      <td>0.000000</td>\n",
       "      <td>0.000000</td>\n",
       "    </tr>\n",
       "    <tr>\n",
       "      <th>1</th>\n",
       "      <td>2021</td>\n",
       "      <td>PIRAJU</td>\n",
       "      <td>QUINZINHO CAMARGO PREFEITO</td>\n",
       "      <td>94.00</td>\n",
       "      <td>2.00</td>\n",
       "      <td>4.00</td>\n",
       "      <td>0.016354</td>\n",
       "      <td>0.015730</td>\n",
       "      <td>0.007529</td>\n",
       "      <td>0.031967</td>\n",
       "    </tr>\n",
       "    <tr>\n",
       "      <th>2</th>\n",
       "      <td>2021</td>\n",
       "      <td>PIRAJU</td>\n",
       "      <td>NHONHO BRAGA CORONEL</td>\n",
       "      <td>100.00</td>\n",
       "      <td>0.00</td>\n",
       "      <td>0.00</td>\n",
       "      <td>0.016354</td>\n",
       "      <td>0.016734</td>\n",
       "      <td>0.000000</td>\n",
       "      <td>0.000000</td>\n",
       "    </tr>\n",
       "    <tr>\n",
       "      <th>3</th>\n",
       "      <td>2021</td>\n",
       "      <td>PIRAJU</td>\n",
       "      <td>ATALIBA LEONEL</td>\n",
       "      <td>100.00</td>\n",
       "      <td>0.00</td>\n",
       "      <td>0.00</td>\n",
       "      <td>0.016354</td>\n",
       "      <td>0.016734</td>\n",
       "      <td>0.000000</td>\n",
       "      <td>0.000000</td>\n",
       "    </tr>\n",
       "    <tr>\n",
       "      <th>4</th>\n",
       "      <td>2021</td>\n",
       "      <td>AMERICANA</td>\n",
       "      <td>MAGI MONSENHOR</td>\n",
       "      <td>79.82</td>\n",
       "      <td>19.29</td>\n",
       "      <td>0.89</td>\n",
       "      <td>0.016354</td>\n",
       "      <td>0.013357</td>\n",
       "      <td>0.072618</td>\n",
       "      <td>0.007113</td>\n",
       "    </tr>\n",
       "  </tbody>\n",
       "</table>\n",
       "</div>"
      ],
      "text/plain": [
       "    ano  municipio                                  escola  aprovado  \\\n",
       "0  2021     PIRAJU  JOAQUIM GUILHERME MOREIRA PORTO DOUTOR    100.00   \n",
       "1  2021     PIRAJU              QUINZINHO CAMARGO PREFEITO     94.00   \n",
       "2  2021     PIRAJU                    NHONHO BRAGA CORONEL    100.00   \n",
       "3  2021     PIRAJU                          ATALIBA LEONEL    100.00   \n",
       "4  2021  AMERICANA                          MAGI MONSENHOR     79.82   \n",
       "\n",
       "   reprovado  abandono  ano_normalized  aprovado_normalized  \\\n",
       "0       0.00      0.00        0.016354             0.016734   \n",
       "1       2.00      4.00        0.016354             0.015730   \n",
       "2       0.00      0.00        0.016354             0.016734   \n",
       "3       0.00      0.00        0.016354             0.016734   \n",
       "4      19.29      0.89        0.016354             0.013357   \n",
       "\n",
       "   reprovado_normalized  abandono_normalized  \n",
       "0              0.000000             0.000000  \n",
       "1              0.007529             0.031967  \n",
       "2              0.000000             0.000000  \n",
       "3              0.000000             0.000000  \n",
       "4              0.072618             0.007113  "
      ]
     },
     "execution_count": 14,
     "metadata": {},
     "output_type": "execute_result"
    }
   ],
   "source": [
    "normalized_list = preprocessing.normalize([df_cleaned['ano'],df_cleaned['aprovado'],df_cleaned['reprovado'],df_cleaned['abandono']])\n",
    "\n",
    "df_cleaned['ano_normalized'] = normalized_list[0]\n",
    "df_cleaned['aprovado_normalized'] = normalized_list[1]\n",
    "df_cleaned['reprovado_normalized'] = normalized_list[2]\n",
    "df_cleaned['abandono_normalized'] = normalized_list[3]\n",
    "\n",
    "print(df_cleaned.shape)\n",
    "df_cleaned.head()"
   ]
  },
  {
   "cell_type": "markdown",
   "metadata": {},
   "source": [
    "##Creating normalized file"
   ]
  },
  {
   "cell_type": "code",
   "execution_count": 8,
   "metadata": {},
   "outputs": [],
   "source": [
    "df_cleaned.to_excel('./output/FluxoEscolarNormalizado.xlsx', encoding=\"utf-8\")"
   ]
  },
  {
   "cell_type": "markdown",
   "metadata": {},
   "source": [
    "# Start of creating the predictive model"
   ]
  },
  {
   "cell_type": "markdown",
   "metadata": {},
   "source": [
    "##Import libs"
   ]
  },
  {
   "cell_type": "code",
   "execution_count": null,
   "metadata": {},
   "outputs": [],
   "source": [
    "# import numpy as np\n",
    "\n",
    "\n",
    "\n",
    "# from sklearn.svm import SVR\n",
    "# from sklearn import svm\n",
    "# from sklearn.ensemble import RandomForestRegressor\n",
    "# from sklearn.preprocessing import StandardScaler"
   ]
  },
  {
   "cell_type": "markdown",
   "metadata": {},
   "source": [
    "#Check point: Open the file created from the normalization above\n"
   ]
  },
  {
   "cell_type": "markdown",
   "metadata": {},
   "source": [
    "##Choosing which municipality we want to analyze"
   ]
  },
  {
   "cell_type": "code",
   "execution_count": 12,
   "metadata": {},
   "outputs": [
    {
     "data": {
      "text/html": [
       "<div>\n",
       "<style scoped>\n",
       "    .dataframe tbody tr th:only-of-type {\n",
       "        vertical-align: middle;\n",
       "    }\n",
       "\n",
       "    .dataframe tbody tr th {\n",
       "        vertical-align: top;\n",
       "    }\n",
       "\n",
       "    .dataframe thead th {\n",
       "        text-align: right;\n",
       "    }\n",
       "</style>\n",
       "<table border=\"1\" class=\"dataframe\">\n",
       "  <thead>\n",
       "    <tr style=\"text-align: right;\">\n",
       "      <th></th>\n",
       "      <th>Unnamed: 0</th>\n",
       "      <th>ano</th>\n",
       "      <th>municipio</th>\n",
       "      <th>escola</th>\n",
       "      <th>aprovado</th>\n",
       "      <th>reprovado</th>\n",
       "      <th>abandono</th>\n",
       "      <th>ano_normalized</th>\n",
       "      <th>aprovado_normalized</th>\n",
       "      <th>reprovado_normalized</th>\n",
       "      <th>abandono_normalized</th>\n",
       "    </tr>\n",
       "  </thead>\n",
       "  <tbody>\n",
       "    <tr>\n",
       "      <th>364</th>\n",
       "      <td>364</td>\n",
       "      <td>2021</td>\n",
       "      <td>SAO PAULO</td>\n",
       "      <td>GAVIAO PEIXOTO BRIGADEIRO</td>\n",
       "      <td>99.80</td>\n",
       "      <td>0.00</td>\n",
       "      <td>0.2</td>\n",
       "      <td>0.016354</td>\n",
       "      <td>0.016700</td>\n",
       "      <td>0.000000</td>\n",
       "      <td>0.001598</td>\n",
       "    </tr>\n",
       "    <tr>\n",
       "      <th>365</th>\n",
       "      <td>365</td>\n",
       "      <td>2021</td>\n",
       "      <td>SAO PAULO</td>\n",
       "      <td>JOAO SOLIMEO</td>\n",
       "      <td>100.00</td>\n",
       "      <td>0.00</td>\n",
       "      <td>0.0</td>\n",
       "      <td>0.016354</td>\n",
       "      <td>0.016734</td>\n",
       "      <td>0.000000</td>\n",
       "      <td>0.000000</td>\n",
       "    </tr>\n",
       "    <tr>\n",
       "      <th>366</th>\n",
       "      <td>366</td>\n",
       "      <td>2021</td>\n",
       "      <td>SAO PAULO</td>\n",
       "      <td>WALFREDO ARANTES CALDAS PROFESSOR</td>\n",
       "      <td>99.91</td>\n",
       "      <td>0.09</td>\n",
       "      <td>0.0</td>\n",
       "      <td>0.016354</td>\n",
       "      <td>0.016719</td>\n",
       "      <td>0.000339</td>\n",
       "      <td>0.000000</td>\n",
       "    </tr>\n",
       "    <tr>\n",
       "      <th>367</th>\n",
       "      <td>367</td>\n",
       "      <td>2021</td>\n",
       "      <td>SAO PAULO</td>\n",
       "      <td>SEBASTIAO DE OLIVEIRA GUSMAO PROFESSOR</td>\n",
       "      <td>99.07</td>\n",
       "      <td>0.93</td>\n",
       "      <td>0.0</td>\n",
       "      <td>0.016354</td>\n",
       "      <td>0.016578</td>\n",
       "      <td>0.003501</td>\n",
       "      <td>0.000000</td>\n",
       "    </tr>\n",
       "    <tr>\n",
       "      <th>368</th>\n",
       "      <td>368</td>\n",
       "      <td>2021</td>\n",
       "      <td>SAO PAULO</td>\n",
       "      <td>RENATO DE ARRUDA PENTEADO PROFESSOR</td>\n",
       "      <td>100.00</td>\n",
       "      <td>0.00</td>\n",
       "      <td>0.0</td>\n",
       "      <td>0.016354</td>\n",
       "      <td>0.016734</td>\n",
       "      <td>0.000000</td>\n",
       "      <td>0.000000</td>\n",
       "    </tr>\n",
       "  </tbody>\n",
       "</table>\n",
       "</div>"
      ],
      "text/plain": [
       "     Unnamed: 0   ano  municipio                                  escola  \\\n",
       "364         364  2021  SAO PAULO               GAVIAO PEIXOTO BRIGADEIRO   \n",
       "365         365  2021  SAO PAULO                            JOAO SOLIMEO   \n",
       "366         366  2021  SAO PAULO       WALFREDO ARANTES CALDAS PROFESSOR   \n",
       "367         367  2021  SAO PAULO  SEBASTIAO DE OLIVEIRA GUSMAO PROFESSOR   \n",
       "368         368  2021  SAO PAULO     RENATO DE ARRUDA PENTEADO PROFESSOR   \n",
       "\n",
       "     aprovado  reprovado  abandono  ano_normalized  aprovado_normalized  \\\n",
       "364     99.80       0.00       0.2        0.016354             0.016700   \n",
       "365    100.00       0.00       0.0        0.016354             0.016734   \n",
       "366     99.91       0.09       0.0        0.016354             0.016719   \n",
       "367     99.07       0.93       0.0        0.016354             0.016578   \n",
       "368    100.00       0.00       0.0        0.016354             0.016734   \n",
       "\n",
       "     reprovado_normalized  abandono_normalized  \n",
       "364              0.000000             0.001598  \n",
       "365              0.000000             0.000000  \n",
       "366              0.000339             0.000000  \n",
       "367              0.003501             0.000000  \n",
       "368              0.000000             0.000000  "
      ]
     },
     "execution_count": 12,
     "metadata": {},
     "output_type": "execute_result"
    }
   ],
   "source": [
    "df = pd.read_excel('./output/FluxoEscolarNormalizado.xlsx', engine='openpyxl')\n",
    "df = df[df[\"municipio\"] == \"SAO PAULO\"]\n",
    "df.head()"
   ]
  },
  {
   "cell_type": "markdown",
   "metadata": {},
   "source": [
    "##Removing unnecessary columns"
   ]
  },
  {
   "cell_type": "code",
   "execution_count": 13,
   "metadata": {},
   "outputs": [
    {
     "name": "stdout",
     "output_type": "stream",
     "text": [
      "(612, 2)\n"
     ]
    },
    {
     "data": {
      "text/html": [
       "<div>\n",
       "<style scoped>\n",
       "    .dataframe tbody tr th:only-of-type {\n",
       "        vertical-align: middle;\n",
       "    }\n",
       "\n",
       "    .dataframe tbody tr th {\n",
       "        vertical-align: top;\n",
       "    }\n",
       "\n",
       "    .dataframe thead th {\n",
       "        text-align: right;\n",
       "    }\n",
       "</style>\n",
       "<table border=\"1\" class=\"dataframe\">\n",
       "  <thead>\n",
       "    <tr style=\"text-align: right;\">\n",
       "      <th></th>\n",
       "      <th>ano_normalized</th>\n",
       "      <th>aprovado_normalized</th>\n",
       "    </tr>\n",
       "  </thead>\n",
       "  <tbody>\n",
       "    <tr>\n",
       "      <th>364</th>\n",
       "      <td>0.016354</td>\n",
       "      <td>0.016700</td>\n",
       "    </tr>\n",
       "    <tr>\n",
       "      <th>365</th>\n",
       "      <td>0.016354</td>\n",
       "      <td>0.016734</td>\n",
       "    </tr>\n",
       "    <tr>\n",
       "      <th>366</th>\n",
       "      <td>0.016354</td>\n",
       "      <td>0.016719</td>\n",
       "    </tr>\n",
       "    <tr>\n",
       "      <th>367</th>\n",
       "      <td>0.016354</td>\n",
       "      <td>0.016578</td>\n",
       "    </tr>\n",
       "    <tr>\n",
       "      <th>368</th>\n",
       "      <td>0.016354</td>\n",
       "      <td>0.016734</td>\n",
       "    </tr>\n",
       "  </tbody>\n",
       "</table>\n",
       "</div>"
      ],
      "text/plain": [
       "     ano_normalized  aprovado_normalized\n",
       "364        0.016354             0.016700\n",
       "365        0.016354             0.016734\n",
       "366        0.016354             0.016719\n",
       "367        0.016354             0.016578\n",
       "368        0.016354             0.016734"
      ]
     },
     "execution_count": 13,
     "metadata": {},
     "output_type": "execute_result"
    }
   ],
   "source": [
    "df = df.drop(['Unnamed: 0', 'ano', 'municipio', 'escola', 'aprovado', 'reprovado', 'abandono', 'reprovado_normalized', 'abandono_normalized'], axis='columns')\n",
    "print(df.shape)\n",
    "df.head()"
   ]
  },
  {
   "cell_type": "markdown",
   "metadata": {},
   "source": [
    "#Scraping the data to decrease bias"
   ]
  },
  {
   "cell_type": "code",
   "execution_count": 15,
   "metadata": {},
   "outputs": [
    {
     "data": {
      "text/html": [
       "<div>\n",
       "<style scoped>\n",
       "    .dataframe tbody tr th:only-of-type {\n",
       "        vertical-align: middle;\n",
       "    }\n",
       "\n",
       "    .dataframe tbody tr th {\n",
       "        vertical-align: top;\n",
       "    }\n",
       "\n",
       "    .dataframe thead th {\n",
       "        text-align: right;\n",
       "    }\n",
       "</style>\n",
       "<table border=\"1\" class=\"dataframe\">\n",
       "  <thead>\n",
       "    <tr style=\"text-align: right;\">\n",
       "      <th></th>\n",
       "      <th>ano_normalized</th>\n",
       "      <th>aprovado_normalized</th>\n",
       "    </tr>\n",
       "  </thead>\n",
       "  <tbody>\n",
       "    <tr>\n",
       "      <th>0</th>\n",
       "      <td>0.016354</td>\n",
       "      <td>0.014224</td>\n",
       "    </tr>\n",
       "    <tr>\n",
       "      <th>1</th>\n",
       "      <td>0.016354</td>\n",
       "      <td>0.015750</td>\n",
       "    </tr>\n",
       "    <tr>\n",
       "      <th>2</th>\n",
       "      <td>0.016354</td>\n",
       "      <td>0.016734</td>\n",
       "    </tr>\n",
       "    <tr>\n",
       "      <th>3</th>\n",
       "      <td>0.016354</td>\n",
       "      <td>0.015385</td>\n",
       "    </tr>\n",
       "    <tr>\n",
       "      <th>4</th>\n",
       "      <td>0.016354</td>\n",
       "      <td>0.016426</td>\n",
       "    </tr>\n",
       "  </tbody>\n",
       "</table>\n",
       "</div>"
      ],
      "text/plain": [
       "   ano_normalized  aprovado_normalized\n",
       "0        0.016354             0.014224\n",
       "1        0.016354             0.015750\n",
       "2        0.016354             0.016734\n",
       "3        0.016354             0.015385\n",
       "4        0.016354             0.016426"
      ]
     },
     "execution_count": 15,
     "metadata": {},
     "output_type": "execute_result"
    }
   ],
   "source": [
    "random_df = df.sample(frac=1).reset_index(drop=True)\n",
    "random_df.head()"
   ]
  },
  {
   "cell_type": "markdown",
   "metadata": {},
   "source": [
    "#Split the data frame between training and testing"
   ]
  },
  {
   "cell_type": "code",
   "execution_count": 17,
   "metadata": {},
   "outputs": [],
   "source": [
    "train, test = train_test_split(random_df, test_size=0.2)"
   ]
  },
  {
   "cell_type": "markdown",
   "metadata": {},
   "source": [
    "## Handling training data"
   ]
  },
  {
   "cell_type": "markdown",
   "metadata": {},
   "source": [
    "#Split between predictors and classes"
   ]
  },
  {
   "cell_type": "code",
   "execution_count": 19,
   "metadata": {},
   "outputs": [
    {
     "data": {
      "text/plain": [
       "Index(['ano_normalized', 'aprovado_normalized'], dtype='object')"
      ]
     },
     "execution_count": 19,
     "metadata": {},
     "output_type": "execute_result"
    }
   ],
   "source": [
    "train.columns"
   ]
  },
  {
   "cell_type": "markdown",
   "metadata": {},
   "source": [
    "#Get all the feature examples | #Get all labels from the target"
   ]
  },
  {
   "cell_type": "code",
   "execution_count": 22,
   "metadata": {},
   "outputs": [],
   "source": [
    "x_df_train = train.iloc[:, :-1].values\n",
    "y_df_train = train.iloc[:, -1].values"
   ]
  },
  {
   "cell_type": "markdown",
   "metadata": {},
   "source": [
    "## Handling test data"
   ]
  },
  {
   "cell_type": "markdown",
   "metadata": {},
   "source": [
    "#Split between predictors and classes"
   ]
  },
  {
   "cell_type": "code",
   "execution_count": 23,
   "metadata": {},
   "outputs": [
    {
     "data": {
      "text/plain": [
       "Index(['ano_normalized', 'aprovado_normalized'], dtype='object')"
      ]
     },
     "execution_count": 23,
     "metadata": {},
     "output_type": "execute_result"
    }
   ],
   "source": [
    "test.columns"
   ]
  },
  {
   "cell_type": "markdown",
   "metadata": {},
   "source": [
    "#Get all the feature examples | #Get all labels from the target"
   ]
  },
  {
   "cell_type": "code",
   "execution_count": 24,
   "metadata": {},
   "outputs": [],
   "source": [
    "x_df_test = test.iloc[:, :-1].values\n",
    "y_df_test = test.iloc[:, -1].values"
   ]
  },
  {
   "cell_type": "markdown",
   "metadata": {},
   "source": [
    "##Save variables"
   ]
  },
  {
   "cell_type": "code",
   "execution_count": 26,
   "metadata": {},
   "outputs": [],
   "source": [
    "with open('students.pickle', mode='wb') as f:\n",
    "    pickle.dump([x_df_train, y_df_train, x_df_test, y_df_test], f)"
   ]
  },
  {
   "cell_type": "markdown",
   "metadata": {},
   "source": [
    "#Variable to compile percent error"
   ]
  },
  {
   "cell_type": "code",
   "execution_count": 27,
   "metadata": {},
   "outputs": [],
   "source": [
    "height = []"
   ]
  },
  {
   "cell_type": "markdown",
   "metadata": {},
   "source": [
    "# Test using Linear Regression Model"
   ]
  },
  {
   "cell_type": "markdown",
   "metadata": {},
   "source": [
    "##Creating a linear regression object. Conducting training. Performing tests"
   ]
  },
  {
   "cell_type": "code",
   "execution_count": 29,
   "metadata": {},
   "outputs": [],
   "source": [
    "regr = linear_model.LinearRegression()\n",
    "regr.fit(x_df_train, y_df_train)\n",
    "aprovados_y_pred = regr.predict(x_df_test)\n"
   ]
  },
  {
   "cell_type": "markdown",
   "metadata": {},
   "source": [
    "##Coefficients. Mean absolute percentage error. Coefficient of determination: \"1\" is a perfect prediction."
   ]
  },
  {
   "cell_type": "code",
   "execution_count": 31,
   "metadata": {},
   "outputs": [
    {
     "name": "stdout",
     "output_type": "stream",
     "text": [
      "Coefficients: [0.22540123]\n",
      "Mean absolute percentage error: 0.05\n",
      "Coefficient of determination: -0.02\n"
     ]
    }
   ],
   "source": [
    "print(\"Coefficients:\", regr.coef_)\n",
    "print(\"Mean absolute percentage error: %.2f\" % mean_absolute_percentage_error(y_df_test, aprovados_y_pred))\n",
    "print(\"Coefficient of determination: %.2f\" % r2_score(y_df_test, aprovados_y_pred))"
   ]
  },
  {
   "cell_type": "markdown",
   "metadata": {},
   "source": [
    "##Plots"
   ]
  },
  {
   "cell_type": "code",
   "execution_count": 33,
   "metadata": {},
   "outputs": [
    {
     "data": {
      "image/png": "[encoded data removed]",
      "text/plain": [
       "<Figure size 640x480 with 1 Axes>"
      ]
     },
     "metadata": {},
     "output_type": "display_data"
    }
   ],
   "source": [
    "plt.scatter(x_df_test, y_df_test, color=\"black\")\n",
    "plt.plot(x_df_test, aprovados_y_pred, color=\"blue\", linewidth=3)\n",
    "\n",
    "plt.title('Taxa de aprovação na cidade de São Paulo (Ano)\\n(Linear Regression Model)')\n",
    "plt.ylabel(\"Taxa de aprovação\")\n",
    "plt.xlabel(\"Ano\")\n",
    "plt.show()"
   ]
  },
  {
   "cell_type": "code",
   "execution_count": null,
   "metadata": {},
   "outputs": [],
   "source": [
    "lw = 2\n",
    "\n",
    "lr_fit_intercept_false = linear_model.LinearRegression(fit_intercept=False)\n",
    "lr_fit_one_job = linear_model.LinearRegression(fit_intercept=False, n_jobs=1)\n",
    "lr_fit_two_jobs = linear_model.LinearRegression(fit_intercept=False, n_jobs=2)\n",
    "\n",
    "lrs = [lr_fit_intercept_false, lr_fit_one_job, lr_fit_two_jobs]\n",
    "lrs_label = [\"Fit Intercept False\", \"One Job\", \"Two jobs\"]\n",
    "model_color = [\"c\", \"g\", \"r\"]\n",
    "\n",
    "fig, axes = plt.subplots(nrows=1, ncols=3, figsize=(15, 10), sharey=True)\n",
    "for ix, lr in enumerate(lrs):\n",
    "    prediction = regr.fit(x_df_train, y_df_train).predict(x_df_test)\n",
    "    axes[ix].plot(\n",
    "        x_df_test,\n",
    "        prediction,\n",
    "        color=\"k\",\n",
    "        lw=lw,\n",
    "        label=\"{} model\".format(lrs_label[ix]),\n",
    "    )\n",
    "    axes[ix].scatter(\n",
    "        x_df_test,\n",
    "        y_df_test,\n",
    "        facecolor=\"none\",\n",
    "        edgecolor=model_color[ix],\n",
    "        s=50,\n",
    "        label=\"{} support vectors\".format(lrs_label[ix]),\n",
    "    )\n",
    "    axes[ix].legend(\n",
    "        loc=\"upper center\",\n",
    "        bbox_to_anchor=(0.5, 1.1),\n",
    "        ncol=1,\n",
    "        fancybox=True,\n",
    "        shadow=True,\n",
    "    )\n",
    "\n",
    "    mape = mean_absolute_percentage_error(y_df_test, prediction)\n",
    "    height.append(mape)\n",
    "\n",
    "fig.text(0.5, 0.04, \"data\", ha=\"center\", va=\"center\")\n",
    "fig.text(0.06, 0.5, \"target\", ha=\"center\", va=\"center\", rotation=\"vertical\")\n",
    "fig.suptitle(\"Linear Regression\", fontsize=14)\n",
    "plt.show()"
   ]
  },
  {
   "cell_type": "markdown",
   "metadata": {},
   "source": [
    "# Test using SVM\n",
    "##Creating a SVR model"
   ]
  },
  {
   "cell_type": "code",
   "execution_count": null,
   "metadata": {},
   "outputs": [],
   "source": [
    "model_SVR = svm.SVR(kernel=\"linear\")\n",
    "sc_X = StandardScaler() \n",
    "sc_y = StandardScaler() \n",
    "\n",
    "# Dimensionando dados de treino\n",
    "X = sc_X.fit_transform(x_df_train) \n",
    "y = sc_y.fit_transform(y_df_train.reshape(-1, 1))\n",
    "model_SVR.fit(X, y)\n",
    "\n",
    "## Modelo de predição com dados de teste dimensionados\n",
    "X_test = sc_X.fit_transform(x_df_test) \n",
    "y_test = sc_y.fit_transform(y_df_test.reshape(-1, 1))\n",
    "Y_pred = model_SVR.predict(X_test)\n",
    "print(mean_absolute_percentage_error(y_test, Y_pred))\n",
    "\n",
    "## Modelo de predição com dados de teste NÃO dimensionados\n",
    "# Y_pred = model_SVR.predict(x_df_test)\n",
    "# print(mean_absolute_percentage_error(y_df_test, Y_pred))"
   ]
  },
  {
   "cell_type": "markdown",
   "metadata": {},
   "source": [
    "##Calculating model score"
   ]
  },
  {
   "cell_type": "code",
   "execution_count": null,
   "metadata": {},
   "outputs": [],
   "source": [
    "## Score com dados de teste dimensionados\n",
    "model_SVR.score(X_test, y_test)\n",
    "\n",
    "## Score com dados de teste NÃO dimensionados\n",
    "# model_SVR.score(x_df_test, y_df_test)"
   ]
  },
  {
   "cell_type": "markdown",
   "metadata": {},
   "source": [
    "##plots"
   ]
  },
  {
   "cell_type": "code",
   "execution_count": null,
   "metadata": {},
   "outputs": [],
   "source": [
    "plt.scatter(X, y, color = 'magenta')\n",
    "plt.plot(X_test, model_SVR.predict(X_test), color = 'green')\n",
    "plt.title('Taxa de aprovação na cidade de São Paulo (Ano)\\n(Support Vector Regression ModelModel)')\n",
    "plt.ylabel(\"Taxa de aprovação\")\n",
    "plt.xlabel(\"Ano\")\n",
    "plt.show()"
   ]
  },
  {
   "cell_type": "markdown",
   "metadata": {},
   "source": [
    "##Analyze SVR model to diferents Kernel"
   ]
  },
  {
   "cell_type": "code",
   "execution_count": null,
   "metadata": {},
   "outputs": [],
   "source": [
    "lw = 2\n",
    "\n",
    "svr_rbf = SVR(kernel=\"rbf\", C=100, gamma=0.1, epsilon=0.1)\n",
    "svr_lin = SVR(kernel=\"linear\", C=100, gamma=\"auto\")\n",
    "svr_poly = SVR(kernel=\"poly\", C=100, gamma=\"auto\", degree=3, epsilon=0.1, coef0=1)\n",
    "\n",
    "svrs = [svr_rbf, svr_lin, svr_poly]\n",
    "kernel_label = [\"RBF\", \"Linear\", \"Polynomial\"]\n",
    "model_color = [\"m\", \"c\", \"g\"]\n",
    "\n",
    "fig, axes = plt.subplots(nrows=1, ncols=3, figsize=(15, 10), sharey=True)\n",
    "for ix, svr in enumerate(svrs):\n",
    "    prediction = svr.fit(X, y).predict(X_test)\n",
    "    axes[ix].plot(\n",
    "        X_test,\n",
    "        prediction,\n",
    "        color=model_color[ix],\n",
    "        lw=lw,\n",
    "        label=\"{} model\".format(kernel_label[ix]),\n",
    "    )\n",
    "    axes[ix].scatter(\n",
    "        X[svr.support_],\n",
    "        y[svr.support_],\n",
    "        facecolor=\"none\",\n",
    "        edgecolor=model_color[ix],\n",
    "        s=50,\n",
    "        label=\"{} support vectors\".format(kernel_label[ix]),\n",
    "    )\n",
    "    axes[ix].scatter(\n",
    "        X[np.setdiff1d(np.arange(len(X)), svr.support_)],\n",
    "        y[np.setdiff1d(np.arange(len(X)), svr.support_)],\n",
    "        facecolor=\"none\",\n",
    "        edgecolor=\"k\",\n",
    "        s=50,\n",
    "        label=\"other training data\",\n",
    "    )\n",
    "    axes[ix].legend(\n",
    "        loc=\"upper center\",\n",
    "        bbox_to_anchor=(0.5, 1.1),\n",
    "        ncol=1,\n",
    "        fancybox=True,\n",
    "        shadow=True,\n",
    "    )\n",
    "\n",
    "    mape = mean_absolute_percentage_error(y_test, prediction)\n",
    "    height.append(mape)\n",
    "\n",
    "fig.text(0.5, 0.04, \"data\", ha=\"center\", va=\"center\")\n",
    "fig.text(0.06, 0.5, \"target\", ha=\"center\", va=\"center\", rotation=\"vertical\")\n",
    "fig.suptitle(\"Support Vector Regression\", fontsize=14)\n",
    "plt.show()"
   ]
  },
  {
   "cell_type": "markdown",
   "metadata": {},
   "source": [
    "### Random Forest"
   ]
  },
  {
   "cell_type": "code",
   "execution_count": null,
   "metadata": {},
   "outputs": [],
   "source": [
    "model_RFR = RandomForestRegressor(n_estimators=10)\n",
    "model_RFR.fit(x_df_train, y_df_train)\n",
    "Y_pred = model_RFR.predict(x_df_test)\n",
    "\n",
    "mean_absolute_percentage_error(y_df_test, Y_pred)\n"
   ]
  },
  {
   "cell_type": "code",
   "execution_count": null,
   "metadata": {},
   "outputs": [],
   "source": [
    "plt.scatter(x_df_test, y_df_test, color = 'magenta')\n",
    "plt.plot(x_df_test, model_RFR.predict(x_df_test), color = 'green')\n",
    "plt.title('Taxa de aprovação na cidade de São Paulo (Ano)\\n(Random Forest)')\n",
    "plt.ylabel(\"Taxa de aprovação\")\n",
    "plt.xlabel(\"Ano\")\n",
    "plt.show()"
   ]
  },
  {
   "cell_type": "code",
   "execution_count": null,
   "metadata": {},
   "outputs": [],
   "source": [
    "lw = 2\n",
    "\n",
    "rfr_squared = RandomForestRegressor(n_estimators=10, criterion=\"squared_error\")\n",
    "rfr_absolute = RandomForestRegressor(n_estimators=10, criterion=\"absolute_error\")\n",
    "rfr_poisson = RandomForestRegressor(n_estimators=10, criterion=\"poisson\")\n",
    "\n",
    "rfrs = [rfr_squared, rfr_absolute, rfr_poisson]\n",
    "rfrs_label = [\"Squared error\", \"Absolute error\", \"Poisson\"]\n",
    "model_color = [\"c\", \"g\", \"r\"]\n",
    "\n",
    "fig, axes = plt.subplots(nrows=1, ncols=3, figsize=(15, 10), sharey=True)\n",
    "for ix, rfr in enumerate(rfrs):\n",
    "    prediction = model_RFR.fit(x_df_train, y_df_train).predict(x_df_test)\n",
    "    axes[ix].plot(\n",
    "        x_df_test,\n",
    "        prediction,\n",
    "        color=\"k\",\n",
    "        lw=lw,\n",
    "        label=\"{} model\".format(rfrs_label[ix]),\n",
    "    )\n",
    "    axes[ix].scatter(\n",
    "        x_df_test,\n",
    "        y_df_test,\n",
    "        facecolor=\"none\",\n",
    "        edgecolor=model_color[ix],\n",
    "        s=50,\n",
    "        label=\"{} support vectors\".format(rfrs_label[ix]),\n",
    "    )\n",
    "    # axes[ix].scatter(\n",
    "    #     x_df_test,\n",
    "    #     y_df_test,\n",
    "    #     facecolor=\"none\",\n",
    "    #     edgecolor=\"k\",\n",
    "    #     s=20,\n",
    "    #     label=\"other training data\",\n",
    "    # )\n",
    "    axes[ix].legend(\n",
    "        loc=\"upper center\",\n",
    "        bbox_to_anchor=(0.5, 1.1),\n",
    "        ncol=1,\n",
    "        fancybox=True,\n",
    "        shadow=True,\n",
    "    )\n",
    "\n",
    "    mape = mean_absolute_percentage_error(y_df_test, prediction)\n",
    "    height.append(mape)\n",
    "\n",
    "fig.text(0.5, 0.04, \"data\", ha=\"center\", va=\"center\")\n",
    "fig.text(0.06, 0.5, \"target\", ha=\"center\", va=\"center\", rotation=\"vertical\")\n",
    "fig.suptitle(\"Random Forest Regressor\", fontsize=14)\n",
    "plt.show()"
   ]
  },
  {
   "cell_type": "markdown",
   "metadata": {},
   "source": [
    "# Comparating models"
   ]
  },
  {
   "cell_type": "code",
   "execution_count": null,
   "metadata": {},
   "outputs": [],
   "source": [
    "\n",
    "left = [0, 2.5, 5, 7.5, 10, 12.5, 15, 17.5, 20]\n",
    "\n",
    "tick_label = ['LR Fit\\nIntercept\\nFalse', 'LR\\nOne\\nJob', 'LR\\nTwo\\nJobs', 'SVR\\nRBF', 'SVR\\nLinear', 'SVR\\nPoly', 'RF\\nSquared\\nError', 'RF\\nAbsolute\\nError', 'RF\\nPoisson']\n",
    "plt.bar(left, height, tick_label = tick_label, width = 1.8, color = ['magenta', 'magenta', 'magenta', 'blue', 'blue', 'blue', 'green', 'green', 'green'])\n",
    "  \n",
    "plt.xlabel('Models')\n",
    "plt.ylabel('Mean absolute percentage error')\n",
    "plt.title('Comparating models')\n",
    "  \n",
    "plt.show()"
   ]
  }
 ],
 "metadata": {
  "colab": {
   "provenance": []
  },
  "kernelspec": {
   "display_name": "Python 3",
   "language": "python",
   "name": "python3"
  },
  "language_info": {
   "codemirror_mode": {
    "name": "ipython",
    "version": 3
   },
   "file_extension": ".py",
   "mimetype": "text/x-python",
   "name": "python",
   "nbconvert_exporter": "python",
   "pygments_lexer": "ipython3",
   "version": "3.10.5"
  },
  "vscode": {
   "interpreter": {
    "hash": "aee8b7b246df8f9039afb4144a1f6fd8d2ca17a180786b69acc140d282b71a49"
   }
  }
 },
 "nbformat": 4,
 "nbformat_minor": 1
}
