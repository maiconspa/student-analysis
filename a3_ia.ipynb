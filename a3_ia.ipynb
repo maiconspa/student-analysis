{
 "cells": [
  {
   "cell_type": "code",
   "execution_count": null,
   "metadata": {
    "id": "CdMDjvy2z3Mx"
   },
   "outputs": [],
   "source": [
    "# !pip3 install sklearn\n",
    "# !pip3 install pandas\n",
    "# !pip3 install openpyxl"
   ]
  },
  {
   "cell_type": "markdown",
   "metadata": {
    "id": "sNAzWl50_BjA"
   },
   "source": [
    "##Import packages"
   ]
  },
  {
   "cell_type": "code",
   "execution_count": null,
   "metadata": {
    "id": "MOZ7VVLpyucs"
   },
   "outputs": [],
   "source": [
    "from sklearn import preprocessing\n",
    "import numpy as np\n",
    "import pandas as pd\n",
    "import datetime"
   ]
  },
  {
   "cell_type": "markdown",
   "metadata": {
    "id": "HTlPTITf_Gat"
   },
   "source": [
    "##Import document as data frame"
   ]
  },
  {
   "cell_type": "code",
   "execution_count": null,
   "metadata": {
    "id": "qh0kfK_yHGOy"
   },
   "outputs": [],
   "source": [
    "df = pd.read_excel('./Fluxo_Escolar_por_Escola.xlsx')"
   ]
  },
  {
   "cell_type": "markdown",
   "metadata": {
    "id": "qVu3bU-U_N7G"
   },
   "source": [
    "##Drop unused columns"
   ]
  },
  {
   "cell_type": "code",
   "execution_count": null,
   "metadata": {
    "id": "q4uFcQjCuM42"
   },
   "outputs": [],
   "source": [
    "drop_columns = ['NM_DIRETORIA','CD_REDE_ENSINO',\t'CD_ESCOLA', 'APR_1', 'REP_1', 'ABA_1', 'APR_2', 'REP_2', 'ABA_2']\n",
    "df_cleaned = df.drop(drop_columns, axis='columns')"
   ]
  },
  {
   "cell_type": "markdown",
   "metadata": {
    "id": "bQfVauw8_bYJ"
   },
   "source": [
    "##Renaming columns"
   ]
  },
  {
   "cell_type": "code",
   "execution_count": null,
   "metadata": {
    "id": "H_wOku5Xy8CX"
   },
   "outputs": [],
   "source": [
    "columns_renamed = {\n",
    "    'Ano':'ano', \n",
    "    'NM_MUNICIPIO':'municipio', \n",
    "    'NM_COMPLETO_ESCOLA':'escola', \n",
    "    'aprovado':'aprovado', \n",
    "    'REP_3':'reprovado', \n",
    "    'abandono':'abandono'\n",
    "}\n",
    "df_cleaned = df_cleaned.rename(columns=columns_renamed)"
   ]
  },
  {
   "cell_type": "markdown",
   "metadata": {
    "id": "Yf-4qFcF_vY6"
   },
   "source": [
    "##Drop rows that contains NaN from data frame (cleaned)"
   ]
  },
  {
   "cell_type": "code",
   "execution_count": null,
   "metadata": {
    "id": "VzUq2J5sAanX"
   },
   "outputs": [],
   "source": [
    "df_cleaned = df_cleaned.dropna()"
   ]
  },
  {
   "cell_type": "code",
   "execution_count": null,
   "metadata": {
    "id": "wE4MJEt7_pbf"
   },
   "outputs": [],
   "source": [
    "#df_cleaned.head(20)"
   ]
  },
  {
   "cell_type": "markdown",
   "metadata": {
    "id": "n_WsHRhkE7MK"
   },
   "source": [
    "Exportando o resultado de hoje 07-11 23:31"
   ]
  },
  {
   "cell_type": "code",
   "execution_count": null,
   "metadata": {
    "id": "r4akZ0TycXcn"
   },
   "outputs": [],
   "source": [
    "df_cleaned.to_excel('fluxo_escolar_parcialmente_tratado.xlsx', encoding=\"utf-8\")"
   ]
  },
  {
   "cell_type": "markdown",
   "metadata": {
    "id": "5NZyhjTjDcvJ"
   },
   "source": [
    "# Cleaning and normalizing data"
   ]
  },
  {
   "cell_type": "markdown",
   "metadata": {},
   "source": [
    "##Install packages if necessary"
   ]
  },
  {
   "cell_type": "code",
   "execution_count": null,
   "metadata": {},
   "outputs": [],
   "source": [
    "# !pip3 install yellowbrick"
   ]
  },
  {
   "cell_type": "markdown",
   "metadata": {},
   "source": [
    "##Import packages"
   ]
  },
  {
   "cell_type": "code",
   "execution_count": null,
   "metadata": {},
   "outputs": [],
   "source": [
    "from sklearn import preprocessing\n",
    "from sklearn.compose import ColumnTransformer\n",
    "from sklearn.preprocessing import OneHotEncoder\n",
    "import numpy as np\n",
    "import pandas as pd\n",
    "import seaborn as sns\n",
    "import datetime"
   ]
  },
  {
   "cell_type": "markdown",
   "metadata": {},
   "source": [
    "##Import document as data frame"
   ]
  },
  {
   "cell_type": "code",
   "execution_count": null,
   "metadata": {},
   "outputs": [],
   "source": [
    "df_cleaned = pd.read_excel('./output/fluxo_escolar_filtered_correct_percenteges.xlsx',engine='openpyxl')\n",
    "print(df_cleaned.shape)\n",
    "df_cleaned.head()"
   ]
  },
  {
   "cell_type": "markdown",
   "metadata": {},
   "source": [
    "##Removing fields with \"-\" value, time value and NaN value"
   ]
  },
  {
   "cell_type": "code",
   "execution_count": null,
   "metadata": {
    "id": "uad5_hb-z3Mz"
   },
   "outputs": [],
   "source": [
    "df_cleaned = df_cleaned[df_cleaned != \"-\"]\n",
    "df_cleaned = df_cleaned[df_cleaned != datetime.time(0, 0)]\n",
    "df_cleaned = df_cleaned.dropna()\n",
    "\n",
    "print(df_cleaned.shape)\n",
    "df_cleaned.head()"
   ]
  },
  {
   "cell_type": "markdown",
   "metadata": {},
   "source": [
    "##Converting datetime values to correct format"
   ]
  },
  {
   "cell_type": "code",
   "execution_count": null,
   "metadata": {},
   "outputs": [],
   "source": [
    "for index, row in df_cleaned.iterrows():\n",
    "    if(isinstance(row['aprovado'], datetime.datetime)):\n",
    "        if row['aprovado'].month < 10:\n",
    "            new_value = str(row['aprovado'].day) + \".0\" + str(row['aprovado'].month)\n",
    "        else:\n",
    "            new_value = str(row['aprovado'].day) + \".\" + str(row['aprovado'].month)\n",
    "        df_cleaned['aprovado'] = df_cleaned['aprovado'].replace([row['aprovado']], new_value)\n",
    "\n",
    "    if(isinstance(row['reprovado'], datetime.datetime)):\n",
    "        if row['reprovado'].month < 10:\n",
    "            new_value = str(row['reprovado'].day) + \".0\" + str(row['reprovado'].month)\n",
    "        else:\n",
    "            new_value = str(row['reprovado'].day) + \".\" + str(row['reprovado'].month)\n",
    "        df_cleaned['reprovado'] = df_cleaned['reprovado'].replace([row['reprovado']], new_value)\n",
    "\n",
    "    if(isinstance(row['abandono'], datetime.datetime)):\n",
    "        if row['abandono'].month < 10:\n",
    "            new_value = str(row['abandono'].day) + \".0\" + str(row['abandono'].month)\n",
    "        else:\n",
    "            new_value = str(row['abandono'].day) + \".\" + str(row['abandono'].month)\n",
    "        df_cleaned['abandono'] = df_cleaned['abandono'].replace([row['abandono']], new_value)\n",
    "\n",
    "print(df_cleaned.shape)\n",
    "df_cleaned.head()\n"
   ]
  },
  {
   "cell_type": "markdown",
   "metadata": {},
   "source": [
    "##Removing lines with negative number"
   ]
  },
  {
   "cell_type": "code",
   "execution_count": null,
   "metadata": {
    "id": "kylsx2Gkz3M0"
   },
   "outputs": [],
   "source": [
    "df_cleaned['abandono'] = df_cleaned['abandono'].astype(str)\n",
    "df_cleaned = df_cleaned[df_cleaned[\"abandono\"].str.contains(\"-\") == False]\n",
    "\n",
    "print(df_cleaned.shape)\n",
    "df_cleaned.head()"
   ]
  },
  {
   "cell_type": "markdown",
   "metadata": {},
   "source": [
    "##Convert columns to float"
   ]
  },
  {
   "cell_type": "code",
   "execution_count": null,
   "metadata": {
    "id": "HqKOsQlJz3M0"
   },
   "outputs": [],
   "source": [
    "df_cleaned['aprovado'] = df_cleaned['aprovado'].astype(float)\n",
    "df_cleaned['reprovado'] = df_cleaned['reprovado'].astype(float)\n",
    "df_cleaned['abandono'] = df_cleaned['abandono'].astype(float)"
   ]
  },
  {
   "cell_type": "markdown",
   "metadata": {},
   "source": [
    "##Remove rows that have just 0 values and reset index"
   ]
  },
  {
   "cell_type": "code",
   "execution_count": null,
   "metadata": {},
   "outputs": [],
   "source": [
    "indexZero = df_cleaned[(df_cleaned['aprovado'] == 0) & (df_cleaned['reprovado'] == 0) & (df_cleaned['abandono'] == 0)].index\n",
    "df_cleaned.drop(indexZero, inplace=True)\n",
    "\n",
    "df_cleaned = df_cleaned.reset_index()\n",
    "\n",
    "print(df_cleaned.shape)\n",
    "df_cleaned.head()"
   ]
  },
  {
   "cell_type": "markdown",
   "metadata": {},
   "source": [
    "##Rename fields"
   ]
  },
  {
   "cell_type": "code",
   "execution_count": null,
   "metadata": {},
   "outputs": [],
   "source": [
    "# df_cleaned = df_cleaned.rename(columns={'Ano':'ano', 'NM_MUNICIPIO':'municipio', 'CD_REDE_ENSINO':'id_rede_ensino', 'CD_ESCOLA':'id_escola', 'NM_COMPLETO_ESCOLA':'escola', 'APR_3':'aprovado', 'REP_3':'reprovado', 'abandono':'abandono'})\n",
    "# df_cleaned.head()"
   ]
  },
  {
   "cell_type": "markdown",
   "metadata": {},
   "source": [
    "##Normalizing data"
   ]
  },
  {
   "cell_type": "code",
   "execution_count": null,
   "metadata": {
    "id": "erD3RDQozSMZ"
   },
   "outputs": [],
   "source": [
    "normalized_list = preprocessing.normalize([df_cleaned['ano'],df_cleaned['aprovado'],df_cleaned['reprovado'],df_cleaned['abandono']])\n",
    "\n",
    "df_cleaned['ano_normalized'] = normalized_list[0]\n",
    "df_cleaned['aprovado_normalized'] = normalized_list[1]\n",
    "df_cleaned['reprovado_normalized'] = normalized_list[2]\n",
    "df_cleaned['abandono_normalized'] = normalized_list[3]\n",
    "\n",
    "df_cleaned.head()"
   ]
  },
  {
   "cell_type": "markdown",
   "metadata": {},
   "source": [
    "##Creating normalized file"
   ]
  },
  {
   "cell_type": "code",
   "execution_count": null,
   "metadata": {},
   "outputs": [],
   "source": [
    "df_cleaned.to_excel('./output/FluxoEscolarNormalizado.xlsx', encoding=\"utf-8\")"
   ]
  },
  {
   "cell_type": "markdown",
   "metadata": {},
   "source": [
    "# Start of creating the predictive model"
   ]
  },
  {
   "cell_type": "markdown",
   "metadata": {},
   "source": [
    "##Import libs"
   ]
  },
  {
   "cell_type": "code",
   "execution_count": 1,
   "metadata": {},
   "outputs": [],
   "source": [
    "import numpy as np\n",
    "import pandas as pd\n",
    "import matplotlib.pyplot as plt\n",
    "import pickle\n",
    "from sklearn import linear_model\n",
    "from sklearn.metrics import mean_squared_error, r2_score, mean_absolute_percentage_error\n",
    "from sklearn.model_selection import train_test_split\n",
    "from sklearn.svm import SVR\n",
    "from sklearn import svm\n",
    "from sklearn.ensemble import RandomForestRegressor"
   ]
  },
  {
   "cell_type": "markdown",
   "metadata": {},
   "source": [
    "#Check point: Open the file created from the normalization above\n"
   ]
  },
  {
   "cell_type": "markdown",
   "metadata": {},
   "source": [
    "##Choosing which municipality we want to analyze"
   ]
  },
  {
   "cell_type": "code",
   "execution_count": 2,
   "metadata": {},
   "outputs": [
    {
     "data": {
      "text/html": [
       "<div>\n",
       "<style scoped>\n",
       "    .dataframe tbody tr th:only-of-type {\n",
       "        vertical-align: middle;\n",
       "    }\n",
       "\n",
       "    .dataframe tbody tr th {\n",
       "        vertical-align: top;\n",
       "    }\n",
       "\n",
       "    .dataframe thead th {\n",
       "        text-align: right;\n",
       "    }\n",
       "</style>\n",
       "<table border=\"1\" class=\"dataframe\">\n",
       "  <thead>\n",
       "    <tr style=\"text-align: right;\">\n",
       "      <th></th>\n",
       "      <th>Unnamed: 0.1</th>\n",
       "      <th>index</th>\n",
       "      <th>Unnamed: 0</th>\n",
       "      <th>ano</th>\n",
       "      <th>municipio</th>\n",
       "      <th>escola</th>\n",
       "      <th>aprovado</th>\n",
       "      <th>reprovado</th>\n",
       "      <th>abandono</th>\n",
       "      <th>ano_normalized</th>\n",
       "      <th>aprovado_normalized</th>\n",
       "      <th>reprovado_normalized</th>\n",
       "      <th>abandono_normalized</th>\n",
       "    </tr>\n",
       "  </thead>\n",
       "  <tbody>\n",
       "    <tr>\n",
       "      <th>87</th>\n",
       "      <td>87</td>\n",
       "      <td>87</td>\n",
       "      <td>142</td>\n",
       "      <td>2015</td>\n",
       "      <td>SAO PAULO</td>\n",
       "      <td>ALFREDO VIANELLO GREGORIO COMENDADOR</td>\n",
       "      <td>85.18</td>\n",
       "      <td>13.94</td>\n",
       "      <td>0.88</td>\n",
       "      <td>0.006621</td>\n",
       "      <td>0.006190</td>\n",
       "      <td>0.008698</td>\n",
       "      <td>0.001234</td>\n",
       "    </tr>\n",
       "    <tr>\n",
       "      <th>88</th>\n",
       "      <td>88</td>\n",
       "      <td>88</td>\n",
       "      <td>143</td>\n",
       "      <td>2015</td>\n",
       "      <td>SAO PAULO</td>\n",
       "      <td>JOAO BATISTA DE CARVALHO MONSENHOR</td>\n",
       "      <td>77.42</td>\n",
       "      <td>13.05</td>\n",
       "      <td>9.53</td>\n",
       "      <td>0.006621</td>\n",
       "      <td>0.005626</td>\n",
       "      <td>0.008142</td>\n",
       "      <td>0.013366</td>\n",
       "    </tr>\n",
       "    <tr>\n",
       "      <th>89</th>\n",
       "      <td>89</td>\n",
       "      <td>89</td>\n",
       "      <td>145</td>\n",
       "      <td>2015</td>\n",
       "      <td>SAO PAULO</td>\n",
       "      <td>RENATA GRAZIANO DE OLIVEIRA PRADO PROFESSORA</td>\n",
       "      <td>69.80</td>\n",
       "      <td>18.62</td>\n",
       "      <td>11.58</td>\n",
       "      <td>0.006621</td>\n",
       "      <td>0.005073</td>\n",
       "      <td>0.011618</td>\n",
       "      <td>0.016241</td>\n",
       "    </tr>\n",
       "    <tr>\n",
       "      <th>90</th>\n",
       "      <td>90</td>\n",
       "      <td>90</td>\n",
       "      <td>153</td>\n",
       "      <td>2015</td>\n",
       "      <td>SAO PAULO</td>\n",
       "      <td>LUIS MAGALHAES DE ARAUJO PROFESSOR</td>\n",
       "      <td>75.42</td>\n",
       "      <td>13.24</td>\n",
       "      <td>11.34</td>\n",
       "      <td>0.006621</td>\n",
       "      <td>0.005481</td>\n",
       "      <td>0.008261</td>\n",
       "      <td>0.015905</td>\n",
       "    </tr>\n",
       "    <tr>\n",
       "      <th>91</th>\n",
       "      <td>91</td>\n",
       "      <td>91</td>\n",
       "      <td>155</td>\n",
       "      <td>2015</td>\n",
       "      <td>SAO PAULO</td>\n",
       "      <td>HERCULANO DE FREITAS PROFESSOR</td>\n",
       "      <td>64.92</td>\n",
       "      <td>27.49</td>\n",
       "      <td>7.59</td>\n",
       "      <td>0.006621</td>\n",
       "      <td>0.004718</td>\n",
       "      <td>0.017152</td>\n",
       "      <td>0.010645</td>\n",
       "    </tr>\n",
       "  </tbody>\n",
       "</table>\n",
       "</div>"
      ],
      "text/plain": [
       "    Unnamed: 0.1  index  Unnamed: 0   ano  municipio  \\\n",
       "87            87     87         142  2015  SAO PAULO   \n",
       "88            88     88         143  2015  SAO PAULO   \n",
       "89            89     89         145  2015  SAO PAULO   \n",
       "90            90     90         153  2015  SAO PAULO   \n",
       "91            91     91         155  2015  SAO PAULO   \n",
       "\n",
       "                                          escola  aprovado  reprovado  \\\n",
       "87          ALFREDO VIANELLO GREGORIO COMENDADOR     85.18      13.94   \n",
       "88            JOAO BATISTA DE CARVALHO MONSENHOR     77.42      13.05   \n",
       "89  RENATA GRAZIANO DE OLIVEIRA PRADO PROFESSORA     69.80      18.62   \n",
       "90            LUIS MAGALHAES DE ARAUJO PROFESSOR     75.42      13.24   \n",
       "91                HERCULANO DE FREITAS PROFESSOR     64.92      27.49   \n",
       "\n",
       "    abandono  ano_normalized  aprovado_normalized  reprovado_normalized  \\\n",
       "87      0.88        0.006621             0.006190              0.008698   \n",
       "88      9.53        0.006621             0.005626              0.008142   \n",
       "89     11.58        0.006621             0.005073              0.011618   \n",
       "90     11.34        0.006621             0.005481              0.008261   \n",
       "91      7.59        0.006621             0.004718              0.017152   \n",
       "\n",
       "    abandono_normalized  \n",
       "87             0.001234  \n",
       "88             0.013366  \n",
       "89             0.016241  \n",
       "90             0.015905  \n",
       "91             0.010645  "
      ]
     },
     "execution_count": 2,
     "metadata": {},
     "output_type": "execute_result"
    }
   ],
   "source": [
    "df = pd.read_excel('./output/FluxoEscolarNormalizado.xlsx', engine='openpyxl')\n",
    "df = df[df[\"municipio\"] == \"SAO PAULO\"]\n",
    "df.head()"
   ]
  },
  {
   "cell_type": "markdown",
   "metadata": {},
   "source": [
    "##Removing unnecessary columns"
   ]
  },
  {
   "cell_type": "code",
   "execution_count": 3,
   "metadata": {},
   "outputs": [
    {
     "data": {
      "text/html": [
       "<div>\n",
       "<style scoped>\n",
       "    .dataframe tbody tr th:only-of-type {\n",
       "        vertical-align: middle;\n",
       "    }\n",
       "\n",
       "    .dataframe tbody tr th {\n",
       "        vertical-align: top;\n",
       "    }\n",
       "\n",
       "    .dataframe thead th {\n",
       "        text-align: right;\n",
       "    }\n",
       "</style>\n",
       "<table border=\"1\" class=\"dataframe\">\n",
       "  <thead>\n",
       "    <tr style=\"text-align: right;\">\n",
       "      <th></th>\n",
       "      <th>ano_normalized</th>\n",
       "      <th>aprovado_normalized</th>\n",
       "    </tr>\n",
       "  </thead>\n",
       "  <tbody>\n",
       "    <tr>\n",
       "      <th>87</th>\n",
       "      <td>0.006621</td>\n",
       "      <td>0.006190</td>\n",
       "    </tr>\n",
       "    <tr>\n",
       "      <th>88</th>\n",
       "      <td>0.006621</td>\n",
       "      <td>0.005626</td>\n",
       "    </tr>\n",
       "    <tr>\n",
       "      <th>89</th>\n",
       "      <td>0.006621</td>\n",
       "      <td>0.005073</td>\n",
       "    </tr>\n",
       "    <tr>\n",
       "      <th>90</th>\n",
       "      <td>0.006621</td>\n",
       "      <td>0.005481</td>\n",
       "    </tr>\n",
       "    <tr>\n",
       "      <th>91</th>\n",
       "      <td>0.006621</td>\n",
       "      <td>0.004718</td>\n",
       "    </tr>\n",
       "  </tbody>\n",
       "</table>\n",
       "</div>"
      ],
      "text/plain": [
       "    ano_normalized  aprovado_normalized\n",
       "87        0.006621             0.006190\n",
       "88        0.006621             0.005626\n",
       "89        0.006621             0.005073\n",
       "90        0.006621             0.005481\n",
       "91        0.006621             0.004718"
      ]
     },
     "execution_count": 3,
     "metadata": {},
     "output_type": "execute_result"
    }
   ],
   "source": [
    "df = df.drop(['Unnamed: 0', 'Unnamed: 0.1', 'index', 'ano', 'municipio', 'escola', 'aprovado', 'reprovado', 'abandono', 'reprovado_normalized', 'abandono_normalized'], axis='columns')\n",
    "df.head()"
   ]
  },
  {
   "cell_type": "markdown",
   "metadata": {},
   "source": [
    "#Scraping the data to decrease bias"
   ]
  },
  {
   "cell_type": "code",
   "execution_count": 4,
   "metadata": {},
   "outputs": [
    {
     "data": {
      "text/html": [
       "<div>\n",
       "<style scoped>\n",
       "    .dataframe tbody tr th:only-of-type {\n",
       "        vertical-align: middle;\n",
       "    }\n",
       "\n",
       "    .dataframe tbody tr th {\n",
       "        vertical-align: top;\n",
       "    }\n",
       "\n",
       "    .dataframe thead th {\n",
       "        text-align: right;\n",
       "    }\n",
       "</style>\n",
       "<table border=\"1\" class=\"dataframe\">\n",
       "  <thead>\n",
       "    <tr style=\"text-align: right;\">\n",
       "      <th></th>\n",
       "      <th>ano_normalized</th>\n",
       "      <th>aprovado_normalized</th>\n",
       "    </tr>\n",
       "  </thead>\n",
       "  <tbody>\n",
       "    <tr>\n",
       "      <th>0</th>\n",
       "      <td>0.006631</td>\n",
       "      <td>0.006721</td>\n",
       "    </tr>\n",
       "    <tr>\n",
       "      <th>1</th>\n",
       "      <td>0.006621</td>\n",
       "      <td>0.005100</td>\n",
       "    </tr>\n",
       "    <tr>\n",
       "      <th>2</th>\n",
       "      <td>0.006628</td>\n",
       "      <td>0.006880</td>\n",
       "    </tr>\n",
       "    <tr>\n",
       "      <th>3</th>\n",
       "      <td>0.006624</td>\n",
       "      <td>0.005002</td>\n",
       "    </tr>\n",
       "    <tr>\n",
       "      <th>4</th>\n",
       "      <td>0.006631</td>\n",
       "      <td>0.006885</td>\n",
       "    </tr>\n",
       "  </tbody>\n",
       "</table>\n",
       "</div>"
      ],
      "text/plain": [
       "   ano_normalized  aprovado_normalized\n",
       "0        0.006631             0.006721\n",
       "1        0.006621             0.005100\n",
       "2        0.006628             0.006880\n",
       "3        0.006624             0.005002\n",
       "4        0.006631             0.006885"
      ]
     },
     "execution_count": 4,
     "metadata": {},
     "output_type": "execute_result"
    }
   ],
   "source": [
    "random_df = df.sample(frac=1).reset_index(drop=True)\n",
    "random_df.head()"
   ]
  },
  {
   "cell_type": "markdown",
   "metadata": {},
   "source": [
    "#Split the data frame between training and testing"
   ]
  },
  {
   "cell_type": "code",
   "execution_count": 5,
   "metadata": {},
   "outputs": [],
   "source": [
    "train, test = train_test_split(random_df, test_size=0.2)"
   ]
  },
  {
   "cell_type": "markdown",
   "metadata": {},
   "source": [
    "## Handling training data"
   ]
  },
  {
   "cell_type": "markdown",
   "metadata": {},
   "source": [
    "#Split between predictors and classes"
   ]
  },
  {
   "cell_type": "code",
   "execution_count": 6,
   "metadata": {},
   "outputs": [
    {
     "data": {
      "text/plain": [
       "Index(['ano_normalized', 'aprovado_normalized'], dtype='object')"
      ]
     },
     "execution_count": 6,
     "metadata": {},
     "output_type": "execute_result"
    }
   ],
   "source": [
    "train.columns"
   ]
  },
  {
   "cell_type": "markdown",
   "metadata": {},
   "source": [
    "#Get all the feature examples"
   ]
  },
  {
   "cell_type": "code",
   "execution_count": 7,
   "metadata": {},
   "outputs": [
    {
     "data": {
      "text/plain": [
       "array([[0.00662767],\n",
       "       [0.00661124],\n",
       "       [0.0066211 ],\n",
       "       ...,\n",
       "       [0.00662767],\n",
       "       [0.00663096],\n",
       "       [0.00663753]])"
      ]
     },
     "execution_count": 7,
     "metadata": {},
     "output_type": "execute_result"
    }
   ],
   "source": [
    "x_df_train = train.iloc[:, :-1].values\n",
    "x_df_train"
   ]
  },
  {
   "cell_type": "markdown",
   "metadata": {},
   "source": [
    "#Get all labels from the target"
   ]
  },
  {
   "cell_type": "code",
   "execution_count": 8,
   "metadata": {},
   "outputs": [
    {
     "data": {
      "text/plain": [
       "array([0.00711843, 0.00483574, 0.00598035, ..., 0.00541204, 0.0063023 ,\n",
       "       0.00455957])"
      ]
     },
     "execution_count": 8,
     "metadata": {},
     "output_type": "execute_result"
    }
   ],
   "source": [
    "y_df_train = train.iloc[:, -1].values\n",
    "y_df_train"
   ]
  },
  {
   "cell_type": "markdown",
   "metadata": {},
   "source": [
    "#Handling categorical data with one hot encoder"
   ]
  },
  {
   "cell_type": "code",
   "execution_count": null,
   "metadata": {},
   "outputs": [],
   "source": [
    "# onehotencoder_train = ColumnTransformer(transformers=[('OneHot', OneHotEncoder(), [0,1])], remainder='passthrough')"
   ]
  },
  {
   "cell_type": "code",
   "execution_count": null,
   "metadata": {},
   "outputs": [],
   "source": [
    "# x_df_train = onehotencoder_train.fit_transform(x_df_train).toarray()\n",
    "# x_df_train[0]"
   ]
  },
  {
   "cell_type": "markdown",
   "metadata": {},
   "source": [
    "## Handling test data"
   ]
  },
  {
   "cell_type": "markdown",
   "metadata": {},
   "source": [
    "#Split between predictors and classes"
   ]
  },
  {
   "cell_type": "code",
   "execution_count": 9,
   "metadata": {},
   "outputs": [
    {
     "data": {
      "text/plain": [
       "Index(['ano_normalized', 'aprovado_normalized'], dtype='object')"
      ]
     },
     "execution_count": 9,
     "metadata": {},
     "output_type": "execute_result"
    }
   ],
   "source": [
    "test.columns"
   ]
  },
  {
   "cell_type": "markdown",
   "metadata": {},
   "source": [
    "#Get all the feature examples"
   ]
  },
  {
   "cell_type": "code",
   "execution_count": 10,
   "metadata": {},
   "outputs": [
    {
     "data": {
      "text/plain": [
       "array([[0.00663096],\n",
       "       [0.00663753],\n",
       "       [0.00664082],\n",
       "       [0.00661124],\n",
       "       [0.00662439],\n",
       "       [0.00662439],\n",
       "       [0.00664082],\n",
       "       [0.00661124],\n",
       "       [0.00664082],\n",
       "       [0.00662439],\n",
       "       [0.00663096],\n",
       "       [0.00663096],\n",
       "       [0.00662439],\n",
       "       [0.00662767],\n",
       "       [0.00663096],\n",
       "       [0.00664082],\n",
       "       [0.00664082],\n",
       "       [0.00663096],\n",
       "       [0.00663096],\n",
       "       [0.00664082],\n",
       "       [0.00662439],\n",
       "       [0.0066211 ],\n",
       "       [0.00663753],\n",
       "       [0.0066211 ],\n",
       "       [0.0066211 ],\n",
       "       [0.00662767],\n",
       "       [0.00663096],\n",
       "       [0.00661124],\n",
       "       [0.00663096],\n",
       "       [0.00663096],\n",
       "       [0.00663753],\n",
       "       [0.00663753],\n",
       "       [0.00664082],\n",
       "       [0.00662767],\n",
       "       [0.00662439],\n",
       "       [0.0066211 ],\n",
       "       [0.00661124],\n",
       "       [0.00663753],\n",
       "       [0.00661124],\n",
       "       [0.00663096],\n",
       "       [0.00663096],\n",
       "       [0.00664082],\n",
       "       [0.00662439],\n",
       "       [0.00663753],\n",
       "       [0.00664082],\n",
       "       [0.00663096],\n",
       "       [0.00664082],\n",
       "       [0.0066211 ],\n",
       "       [0.00662767],\n",
       "       [0.00663096],\n",
       "       [0.00663096],\n",
       "       [0.00663096],\n",
       "       [0.00663753],\n",
       "       [0.00662439],\n",
       "       [0.00664082],\n",
       "       [0.00662439],\n",
       "       [0.00663096],\n",
       "       [0.00662439],\n",
       "       [0.00664082],\n",
       "       [0.00663753],\n",
       "       [0.00662767],\n",
       "       [0.0066211 ],\n",
       "       [0.00664082],\n",
       "       [0.00664082],\n",
       "       [0.0066211 ],\n",
       "       [0.00664082],\n",
       "       [0.00662767],\n",
       "       [0.00663753],\n",
       "       [0.00662439],\n",
       "       [0.00662439],\n",
       "       [0.00663753],\n",
       "       [0.00663753],\n",
       "       [0.00662767],\n",
       "       [0.00661124],\n",
       "       [0.00662439],\n",
       "       [0.00663096],\n",
       "       [0.0066211 ],\n",
       "       [0.00662767],\n",
       "       [0.00664082],\n",
       "       [0.00661124],\n",
       "       [0.00663096],\n",
       "       [0.0066211 ],\n",
       "       [0.00662439],\n",
       "       [0.00664082],\n",
       "       [0.00663753],\n",
       "       [0.00661124],\n",
       "       [0.0066211 ],\n",
       "       [0.00663096],\n",
       "       [0.00661124],\n",
       "       [0.0066211 ],\n",
       "       [0.00662767],\n",
       "       [0.00661124],\n",
       "       [0.00663753],\n",
       "       [0.00663096],\n",
       "       [0.00663096],\n",
       "       [0.00662439],\n",
       "       [0.00661124],\n",
       "       [0.00664082],\n",
       "       [0.00663096],\n",
       "       [0.00663096],\n",
       "       [0.00663096],\n",
       "       [0.00661124],\n",
       "       [0.00664082],\n",
       "       [0.00661124],\n",
       "       [0.00661124],\n",
       "       [0.00662439],\n",
       "       [0.00663753],\n",
       "       [0.00662439],\n",
       "       [0.00663096],\n",
       "       [0.00662767],\n",
       "       [0.00662439],\n",
       "       [0.00664082],\n",
       "       [0.0066211 ],\n",
       "       [0.00662439],\n",
       "       [0.00663096],\n",
       "       [0.00663753],\n",
       "       [0.00664082],\n",
       "       [0.00663096],\n",
       "       [0.00664082],\n",
       "       [0.00661124],\n",
       "       [0.0066211 ],\n",
       "       [0.0066211 ],\n",
       "       [0.00664082],\n",
       "       [0.00662439],\n",
       "       [0.0066211 ],\n",
       "       [0.00663753],\n",
       "       [0.00662439],\n",
       "       [0.00662439],\n",
       "       [0.00662767],\n",
       "       [0.00661124],\n",
       "       [0.00663753],\n",
       "       [0.00662767],\n",
       "       [0.00662767],\n",
       "       [0.0066211 ],\n",
       "       [0.00663753],\n",
       "       [0.00662767],\n",
       "       [0.00663096],\n",
       "       [0.0066211 ],\n",
       "       [0.00661124],\n",
       "       [0.00662439],\n",
       "       [0.00662439],\n",
       "       [0.0066211 ],\n",
       "       [0.00662439],\n",
       "       [0.00662439],\n",
       "       [0.0066211 ],\n",
       "       [0.00663753],\n",
       "       [0.00663096],\n",
       "       [0.00663096],\n",
       "       [0.00663753],\n",
       "       [0.00663753],\n",
       "       [0.00664082],\n",
       "       [0.00662439],\n",
       "       [0.0066211 ],\n",
       "       [0.00662439],\n",
       "       [0.00662767],\n",
       "       [0.0066211 ],\n",
       "       [0.00663753],\n",
       "       [0.00661124],\n",
       "       [0.0066211 ],\n",
       "       [0.00664082],\n",
       "       [0.00663096],\n",
       "       [0.00663096],\n",
       "       [0.00663096],\n",
       "       [0.00663753],\n",
       "       [0.00663753],\n",
       "       [0.00663753],\n",
       "       [0.0066211 ],\n",
       "       [0.00664082],\n",
       "       [0.00663753],\n",
       "       [0.00662767],\n",
       "       [0.00662767],\n",
       "       [0.00662767],\n",
       "       [0.00662767],\n",
       "       [0.00662439],\n",
       "       [0.00663753],\n",
       "       [0.00662767],\n",
       "       [0.00664082],\n",
       "       [0.00662767],\n",
       "       [0.00662439],\n",
       "       [0.00662767],\n",
       "       [0.00664082],\n",
       "       [0.00661124],\n",
       "       [0.00663753],\n",
       "       [0.0066211 ],\n",
       "       [0.0066211 ],\n",
       "       [0.00664082],\n",
       "       [0.00662439],\n",
       "       [0.00662439],\n",
       "       [0.00663753],\n",
       "       [0.00663096],\n",
       "       [0.00663096],\n",
       "       [0.0066211 ],\n",
       "       [0.00664082],\n",
       "       [0.00663753],\n",
       "       [0.00663096],\n",
       "       [0.00663096],\n",
       "       [0.00662439],\n",
       "       [0.00662439],\n",
       "       [0.00662439],\n",
       "       [0.00661124],\n",
       "       [0.0066211 ],\n",
       "       [0.00664082],\n",
       "       [0.00662767],\n",
       "       [0.00661124],\n",
       "       [0.00661124],\n",
       "       [0.00661124],\n",
       "       [0.00662767],\n",
       "       [0.00661124],\n",
       "       [0.00662439],\n",
       "       [0.00663096],\n",
       "       [0.00662439],\n",
       "       [0.00662767],\n",
       "       [0.00664082],\n",
       "       [0.00664082],\n",
       "       [0.00661124],\n",
       "       [0.00664082],\n",
       "       [0.0066211 ],\n",
       "       [0.00662439],\n",
       "       [0.00663753],\n",
       "       [0.00662767],\n",
       "       [0.00662767],\n",
       "       [0.00662439],\n",
       "       [0.00662767],\n",
       "       [0.00663096],\n",
       "       [0.0066211 ],\n",
       "       [0.00663753],\n",
       "       [0.00662767],\n",
       "       [0.00663096],\n",
       "       [0.00662439],\n",
       "       [0.00664082],\n",
       "       [0.00662439],\n",
       "       [0.00664082],\n",
       "       [0.00662439],\n",
       "       [0.00661124],\n",
       "       [0.00663753],\n",
       "       [0.0066211 ],\n",
       "       [0.00662767],\n",
       "       [0.00663753],\n",
       "       [0.00664082],\n",
       "       [0.00661124],\n",
       "       [0.00661124],\n",
       "       [0.00664082],\n",
       "       [0.00664082],\n",
       "       [0.00663096],\n",
       "       [0.00661124],\n",
       "       [0.00663096],\n",
       "       [0.00663753],\n",
       "       [0.0066211 ],\n",
       "       [0.00662767],\n",
       "       [0.00663096],\n",
       "       [0.00662767],\n",
       "       [0.00662439],\n",
       "       [0.00663753],\n",
       "       [0.00662439],\n",
       "       [0.00664082],\n",
       "       [0.00663096],\n",
       "       [0.00663753],\n",
       "       [0.0066211 ],\n",
       "       [0.00664082],\n",
       "       [0.00661124],\n",
       "       [0.00662767],\n",
       "       [0.00662439],\n",
       "       [0.0066211 ],\n",
       "       [0.0066211 ],\n",
       "       [0.00664082],\n",
       "       [0.00662767],\n",
       "       [0.00661124],\n",
       "       [0.0066211 ],\n",
       "       [0.00663096],\n",
       "       [0.00662767],\n",
       "       [0.00663096],\n",
       "       [0.00662767],\n",
       "       [0.00662767],\n",
       "       [0.00662767],\n",
       "       [0.00664082],\n",
       "       [0.00663096],\n",
       "       [0.00664082],\n",
       "       [0.00663753],\n",
       "       [0.00663096],\n",
       "       [0.00663753],\n",
       "       [0.00662767],\n",
       "       [0.0066211 ],\n",
       "       [0.00664082],\n",
       "       [0.0066211 ],\n",
       "       [0.00662439],\n",
       "       [0.0066211 ],\n",
       "       [0.00661124],\n",
       "       [0.00664082],\n",
       "       [0.00663753],\n",
       "       [0.00662767],\n",
       "       [0.00664082],\n",
       "       [0.00663753],\n",
       "       [0.00664082],\n",
       "       [0.00662767],\n",
       "       [0.00662767],\n",
       "       [0.00663096],\n",
       "       [0.00661124],\n",
       "       [0.00662439],\n",
       "       [0.00663753],\n",
       "       [0.00663753],\n",
       "       [0.00663753],\n",
       "       [0.00663096],\n",
       "       [0.00662439],\n",
       "       [0.00663753],\n",
       "       [0.00663096],\n",
       "       [0.00661124],\n",
       "       [0.00663096],\n",
       "       [0.00662767],\n",
       "       [0.00664082],\n",
       "       [0.0066211 ],\n",
       "       [0.00662767],\n",
       "       [0.00664082],\n",
       "       [0.00663753],\n",
       "       [0.00662439],\n",
       "       [0.0066211 ],\n",
       "       [0.00663096],\n",
       "       [0.00662439],\n",
       "       [0.00664082],\n",
       "       [0.00663096],\n",
       "       [0.0066211 ],\n",
       "       [0.00662767],\n",
       "       [0.00664082],\n",
       "       [0.00663096],\n",
       "       [0.00662767],\n",
       "       [0.00664082],\n",
       "       [0.00662767],\n",
       "       [0.00664082],\n",
       "       [0.00663753],\n",
       "       [0.00663753],\n",
       "       [0.00661124],\n",
       "       [0.0066211 ],\n",
       "       [0.00663096],\n",
       "       [0.00662439],\n",
       "       [0.00664082],\n",
       "       [0.00664082],\n",
       "       [0.00662439],\n",
       "       [0.00663096],\n",
       "       [0.00663753],\n",
       "       [0.00664082],\n",
       "       [0.00662439],\n",
       "       [0.00663753],\n",
       "       [0.00661124],\n",
       "       [0.00663753],\n",
       "       [0.00661124],\n",
       "       [0.00662439],\n",
       "       [0.00663753],\n",
       "       [0.00663096],\n",
       "       [0.0066211 ],\n",
       "       [0.00662439],\n",
       "       [0.00662439],\n",
       "       [0.00662439],\n",
       "       [0.00662439],\n",
       "       [0.00663096],\n",
       "       [0.00664082],\n",
       "       [0.00663753],\n",
       "       [0.00663753],\n",
       "       [0.00663096],\n",
       "       [0.00662767],\n",
       "       [0.00662767],\n",
       "       [0.00663753],\n",
       "       [0.00664082],\n",
       "       [0.0066211 ],\n",
       "       [0.00662439],\n",
       "       [0.00662439],\n",
       "       [0.00662767],\n",
       "       [0.00663753],\n",
       "       [0.00663753],\n",
       "       [0.00662767],\n",
       "       [0.00662767],\n",
       "       [0.00661124],\n",
       "       [0.00662439],\n",
       "       [0.0066211 ],\n",
       "       [0.00664082],\n",
       "       [0.00662767],\n",
       "       [0.00663753],\n",
       "       [0.00663096],\n",
       "       [0.00662439],\n",
       "       [0.00664082],\n",
       "       [0.00664082],\n",
       "       [0.00663753],\n",
       "       [0.00662439],\n",
       "       [0.00661124],\n",
       "       [0.00662439],\n",
       "       [0.00661124],\n",
       "       [0.00661124],\n",
       "       [0.00663096],\n",
       "       [0.00663096],\n",
       "       [0.00662767],\n",
       "       [0.00662439],\n",
       "       [0.00663753],\n",
       "       [0.00663753],\n",
       "       [0.00662439],\n",
       "       [0.00663096],\n",
       "       [0.00663753],\n",
       "       [0.0066211 ],\n",
       "       [0.00663753],\n",
       "       [0.00661124],\n",
       "       [0.00662767],\n",
       "       [0.00662767],\n",
       "       [0.00664082],\n",
       "       [0.00663096],\n",
       "       [0.00664082],\n",
       "       [0.00664082],\n",
       "       [0.00662767],\n",
       "       [0.00663753],\n",
       "       [0.00663753],\n",
       "       [0.00663753],\n",
       "       [0.0066211 ],\n",
       "       [0.00664082],\n",
       "       [0.00662439],\n",
       "       [0.00664082],\n",
       "       [0.00663096],\n",
       "       [0.00661124],\n",
       "       [0.00663753],\n",
       "       [0.00663753],\n",
       "       [0.00663096],\n",
       "       [0.00662767],\n",
       "       [0.00663096],\n",
       "       [0.0066211 ],\n",
       "       [0.00661124],\n",
       "       [0.00663096],\n",
       "       [0.00664082],\n",
       "       [0.00662439],\n",
       "       [0.00664082],\n",
       "       [0.0066211 ],\n",
       "       [0.00662439],\n",
       "       [0.00662439],\n",
       "       [0.00663753],\n",
       "       [0.00663753],\n",
       "       [0.00662767],\n",
       "       [0.00664082],\n",
       "       [0.00662767],\n",
       "       [0.00662439],\n",
       "       [0.00661124],\n",
       "       [0.00662767],\n",
       "       [0.00663753],\n",
       "       [0.00662439],\n",
       "       [0.00663096],\n",
       "       [0.00662767],\n",
       "       [0.0066211 ],\n",
       "       [0.0066211 ],\n",
       "       [0.00662767],\n",
       "       [0.00663753],\n",
       "       [0.00662439],\n",
       "       [0.00662767],\n",
       "       [0.00662767],\n",
       "       [0.00661124],\n",
       "       [0.00662767],\n",
       "       [0.00662439],\n",
       "       [0.00664082],\n",
       "       [0.00663096],\n",
       "       [0.00662439],\n",
       "       [0.0066211 ],\n",
       "       [0.00662439],\n",
       "       [0.00663753],\n",
       "       [0.00664082],\n",
       "       [0.0066211 ],\n",
       "       [0.0066211 ],\n",
       "       [0.00663753],\n",
       "       [0.00663753],\n",
       "       [0.00663096],\n",
       "       [0.00662439],\n",
       "       [0.00663096],\n",
       "       [0.00662767],\n",
       "       [0.00663753],\n",
       "       [0.00664082],\n",
       "       [0.00662767],\n",
       "       [0.0066211 ],\n",
       "       [0.00663753],\n",
       "       [0.00663753],\n",
       "       [0.00663753],\n",
       "       [0.00663096],\n",
       "       [0.00662439],\n",
       "       [0.00661124],\n",
       "       [0.00663753],\n",
       "       [0.00663096],\n",
       "       [0.00663753],\n",
       "       [0.00663096],\n",
       "       [0.00662439],\n",
       "       [0.00662767],\n",
       "       [0.00664082],\n",
       "       [0.00663753],\n",
       "       [0.00663753],\n",
       "       [0.00663096],\n",
       "       [0.0066211 ],\n",
       "       [0.0066211 ],\n",
       "       [0.00663753],\n",
       "       [0.00662439],\n",
       "       [0.00663753],\n",
       "       [0.00663753],\n",
       "       [0.00663753],\n",
       "       [0.00662767],\n",
       "       [0.00662439],\n",
       "       [0.00662767],\n",
       "       [0.00663096],\n",
       "       [0.00664082],\n",
       "       [0.00661124],\n",
       "       [0.0066211 ],\n",
       "       [0.0066211 ],\n",
       "       [0.00663753],\n",
       "       [0.00662767],\n",
       "       [0.00664082],\n",
       "       [0.00664082],\n",
       "       [0.00663753],\n",
       "       [0.00663753],\n",
       "       [0.00664082],\n",
       "       [0.0066211 ],\n",
       "       [0.00662767],\n",
       "       [0.00663753],\n",
       "       [0.0066211 ],\n",
       "       [0.00662439],\n",
       "       [0.0066211 ],\n",
       "       [0.00662767],\n",
       "       [0.00663096],\n",
       "       [0.0066211 ],\n",
       "       [0.00663096],\n",
       "       [0.00663096],\n",
       "       [0.00663096],\n",
       "       [0.00663096],\n",
       "       [0.00664082],\n",
       "       [0.00664082],\n",
       "       [0.00663753],\n",
       "       [0.00662767],\n",
       "       [0.00661124],\n",
       "       [0.00663096],\n",
       "       [0.00662439],\n",
       "       [0.00663096],\n",
       "       [0.00662767],\n",
       "       [0.00663753],\n",
       "       [0.00662767],\n",
       "       [0.0066211 ],\n",
       "       [0.00662439],\n",
       "       [0.00662439],\n",
       "       [0.00663753],\n",
       "       [0.0066211 ],\n",
       "       [0.00662439],\n",
       "       [0.00662439],\n",
       "       [0.00662767],\n",
       "       [0.00663753],\n",
       "       [0.00662439],\n",
       "       [0.00662439],\n",
       "       [0.00664082],\n",
       "       [0.00663753],\n",
       "       [0.00662767],\n",
       "       [0.00661124],\n",
       "       [0.00663096],\n",
       "       [0.0066211 ],\n",
       "       [0.00663753],\n",
       "       [0.00662439],\n",
       "       [0.00661124],\n",
       "       [0.00663096],\n",
       "       [0.00662767],\n",
       "       [0.00662439],\n",
       "       [0.00663096],\n",
       "       [0.00663096],\n",
       "       [0.00661124],\n",
       "       [0.00664082],\n",
       "       [0.00661124],\n",
       "       [0.00662767],\n",
       "       [0.00662439],\n",
       "       [0.00662767],\n",
       "       [0.00663096],\n",
       "       [0.00663096],\n",
       "       [0.00664082],\n",
       "       [0.00662767],\n",
       "       [0.00663753],\n",
       "       [0.00663753],\n",
       "       [0.00663753],\n",
       "       [0.00662767],\n",
       "       [0.00664082],\n",
       "       [0.0066211 ],\n",
       "       [0.00661124],\n",
       "       [0.00663096],\n",
       "       [0.00664082],\n",
       "       [0.0066211 ],\n",
       "       [0.00662767],\n",
       "       [0.00662439],\n",
       "       [0.00664082],\n",
       "       [0.00663096],\n",
       "       [0.00662439],\n",
       "       [0.00662439],\n",
       "       [0.00663096],\n",
       "       [0.00664082],\n",
       "       [0.00661124],\n",
       "       [0.00661124],\n",
       "       [0.00663096],\n",
       "       [0.00664082],\n",
       "       [0.00664082],\n",
       "       [0.00662767],\n",
       "       [0.00661124],\n",
       "       [0.00663096],\n",
       "       [0.00662767],\n",
       "       [0.0066211 ],\n",
       "       [0.00662767],\n",
       "       [0.00662767],\n",
       "       [0.00663096],\n",
       "       [0.00662767],\n",
       "       [0.00664082],\n",
       "       [0.00661124],\n",
       "       [0.00661124],\n",
       "       [0.00663096],\n",
       "       [0.00661124],\n",
       "       [0.00662767],\n",
       "       [0.0066211 ],\n",
       "       [0.00663096],\n",
       "       [0.00662439],\n",
       "       [0.00662767],\n",
       "       [0.00663096],\n",
       "       [0.00664082],\n",
       "       [0.00663096],\n",
       "       [0.00662439],\n",
       "       [0.0066211 ],\n",
       "       [0.00663753],\n",
       "       [0.00664082],\n",
       "       [0.00664082],\n",
       "       [0.00662439],\n",
       "       [0.0066211 ],\n",
       "       [0.00661124],\n",
       "       [0.00662439],\n",
       "       [0.0066211 ],\n",
       "       [0.00661124],\n",
       "       [0.00662767],\n",
       "       [0.00664082],\n",
       "       [0.00664082],\n",
       "       [0.00663096],\n",
       "       [0.00663096],\n",
       "       [0.00662439],\n",
       "       [0.00663096],\n",
       "       [0.00662767],\n",
       "       [0.0066211 ],\n",
       "       [0.00663753],\n",
       "       [0.0066211 ],\n",
       "       [0.00664082],\n",
       "       [0.00662439],\n",
       "       [0.00664082],\n",
       "       [0.0066211 ],\n",
       "       [0.00662767],\n",
       "       [0.00662439],\n",
       "       [0.00664082],\n",
       "       [0.00661124],\n",
       "       [0.00662767],\n",
       "       [0.00662439],\n",
       "       [0.00663096],\n",
       "       [0.00662767],\n",
       "       [0.00662767],\n",
       "       [0.00662767],\n",
       "       [0.0066211 ],\n",
       "       [0.00662767],\n",
       "       [0.0066211 ],\n",
       "       [0.0066211 ],\n",
       "       [0.00664082],\n",
       "       [0.00663096],\n",
       "       [0.00661124],\n",
       "       [0.00663753],\n",
       "       [0.00663753],\n",
       "       [0.00664082],\n",
       "       [0.00663096],\n",
       "       [0.00661124],\n",
       "       [0.00661124],\n",
       "       [0.00662767],\n",
       "       [0.00662767],\n",
       "       [0.00663753],\n",
       "       [0.00663753],\n",
       "       [0.00663096],\n",
       "       [0.00664082],\n",
       "       [0.00663096],\n",
       "       [0.0066211 ],\n",
       "       [0.00662439],\n",
       "       [0.00661124],\n",
       "       [0.00661124],\n",
       "       [0.00662439],\n",
       "       [0.00661124],\n",
       "       [0.0066211 ],\n",
       "       [0.00662767],\n",
       "       [0.0066211 ],\n",
       "       [0.00664082],\n",
       "       [0.00662439],\n",
       "       [0.00662439],\n",
       "       [0.00663753],\n",
       "       [0.00663753],\n",
       "       [0.00663096],\n",
       "       [0.00662767],\n",
       "       [0.00663753],\n",
       "       [0.00662767],\n",
       "       [0.00663096],\n",
       "       [0.00661124],\n",
       "       [0.00663096],\n",
       "       [0.00662439],\n",
       "       [0.00662767],\n",
       "       [0.00662439],\n",
       "       [0.00664082],\n",
       "       [0.00663753],\n",
       "       [0.00663096],\n",
       "       [0.00662767],\n",
       "       [0.00662439],\n",
       "       [0.00663096],\n",
       "       [0.0066211 ],\n",
       "       [0.00662439],\n",
       "       [0.00663753],\n",
       "       [0.00661124],\n",
       "       [0.00664082],\n",
       "       [0.00663753],\n",
       "       [0.00662767],\n",
       "       [0.00663096],\n",
       "       [0.00662439],\n",
       "       [0.00663096],\n",
       "       [0.00663753],\n",
       "       [0.00661124],\n",
       "       [0.00663753],\n",
       "       [0.00663096],\n",
       "       [0.00662439],\n",
       "       [0.00662767],\n",
       "       [0.00662767],\n",
       "       [0.00661124],\n",
       "       [0.00663753],\n",
       "       [0.00662439],\n",
       "       [0.00663753],\n",
       "       [0.00664082],\n",
       "       [0.00661124],\n",
       "       [0.00662767],\n",
       "       [0.00661124],\n",
       "       [0.00663096],\n",
       "       [0.0066211 ],\n",
       "       [0.0066211 ],\n",
       "       [0.00663753],\n",
       "       [0.00662767],\n",
       "       [0.00664082],\n",
       "       [0.00663096],\n",
       "       [0.00664082],\n",
       "       [0.00662767],\n",
       "       [0.0066211 ],\n",
       "       [0.00664082],\n",
       "       [0.00662767],\n",
       "       [0.00663753],\n",
       "       [0.00662439],\n",
       "       [0.00663753],\n",
       "       [0.00663753],\n",
       "       [0.00661124],\n",
       "       [0.00661124],\n",
       "       [0.00663096],\n",
       "       [0.00662439],\n",
       "       [0.00663096],\n",
       "       [0.00661124],\n",
       "       [0.00661124]])"
      ]
     },
     "execution_count": 10,
     "metadata": {},
     "output_type": "execute_result"
    }
   ],
   "source": [
    "x_df_test = test.iloc[:, :-1].values\n",
    "x_df_test"
   ]
  },
  {
   "cell_type": "markdown",
   "metadata": {},
   "source": [
    "#Get all labels from the target"
   ]
  },
  {
   "cell_type": "code",
   "execution_count": 11,
   "metadata": {},
   "outputs": [
    {
     "data": {
      "text/plain": [
       "array([0.00641276, 0.00724125, 0.00713224, 0.0055007 , 0.00662643,\n",
       "       0.00687352, 0.00726741, 0.00625433, 0.00666494, 0.0056962 ,\n",
       "       0.00669401, 0.00667148, 0.00530303, 0.00698762, 0.00581393,\n",
       "       0.00726741, 0.00726741, 0.00640332, 0.00644619, 0.00726741,\n",
       "       0.00438588, 0.00529867, 0.00722163, 0.00655593, 0.00524634,\n",
       "       0.00719183, 0.00477832, 0.00518021, 0.00617585, 0.00515332,\n",
       "       0.00721509, 0.00726741, 0.00658573, 0.00726741, 0.00649271,\n",
       "       0.00600797, 0.00366641, 0.00726741, 0.00431394, 0.00542294,\n",
       "       0.00618747, 0.00614387, 0.00630521, 0.00726741, 0.00726741,\n",
       "       0.00514751, 0.00726741, 0.00592076, 0.00595492, 0.00661407,\n",
       "       0.00635681, 0.00629867, 0.00726741, 0.00609954, 0.00702105,\n",
       "       0.00617803, 0.00467803, 0.00567585, 0.00726741, 0.00726741,\n",
       "       0.00534445, 0.00487716, 0.00715186, 0.00726741, 0.00560754,\n",
       "       0.00630012, 0.00540041, 0.00726741, 0.00548399, 0.00551161,\n",
       "       0.00715913, 0.00629576, 0.00587352, 0.00608864, 0.00488806,\n",
       "       0.00586916, 0.00548108, 0.00593384, 0.00726741, 0.00567585,\n",
       "       0.00531248, 0.00607846, 0.00623689, 0.00671582, 0.00709227,\n",
       "       0.00713151, 0.00658791, 0.0069709 , 0.00660535, 0.00628995,\n",
       "       0.00558864, 0.00406466, 0.00724125, 0.00675724, 0.00578631,\n",
       "       0.00684663, 0.00706901, 0.00717076, 0.0055087 , 0.00720201,\n",
       "       0.00616567, 0.00625288, 0.00682773, 0.0051446 , 0.00519693,\n",
       "       0.00618602, 0.00702977, 0.00707919, 0.00567294, 0.00726741,\n",
       "       0.00566059, 0.00656829, 0.00588951, 0.00443385, 0.00644474,\n",
       "       0.00726741, 0.00721654, 0.00596146, 0.00703704, 0.00519257,\n",
       "       0.00620564, 0.006085  , 0.00631683, 0.00505885, 0.00628268,\n",
       "       0.00667148, 0.00626814, 0.00485172, 0.00635317, 0.00499562,\n",
       "       0.00726741, 0.00602541, 0.00585826, 0.00647526, 0.00726741,\n",
       "       0.00726741, 0.00545056, 0.00565405, 0.00411045, 0.00577614,\n",
       "       0.00640477, 0.00616785, 0.00550361, 0.00670709, 0.00502324,\n",
       "       0.00726741, 0.00476306, 0.00518021, 0.00707265, 0.00726741,\n",
       "       0.00726741, 0.00672308, 0.00611117, 0.00625143, 0.00623399,\n",
       "       0.00632483, 0.00726741, 0.00457774, 0.00676814, 0.00726741,\n",
       "       0.00611916, 0.00579867, 0.00655085, 0.00726741, 0.00726741,\n",
       "       0.00726741, 0.00638515, 0.00576088, 0.00724706, 0.0067914 ,\n",
       "       0.00581829, 0.00726741, 0.00582265, 0.00644983, 0.00723471,\n",
       "       0.00640986, 0.00726741, 0.00584518, 0.00726741, 0.00618021,\n",
       "       0.00662861, 0.00624271, 0.00726741, 0.00521509, 0.00664532,\n",
       "       0.00717875, 0.00512789, 0.00562207, 0.00726741, 0.00640186,\n",
       "       0.00593748, 0.00665695, 0.00726741, 0.00714169, 0.00706174,\n",
       "       0.0064084 , 0.00628195, 0.0052805 , 0.00497309, 0.00530012,\n",
       "       0.00457048, 0.00635244, 0.00558355, 0.00490986, 0.00492585,\n",
       "       0.00519257, 0.00509809, 0.00392077, 0.00520855, 0.00707919,\n",
       "       0.00583719, 0.00577905, 0.00643166, 0.00543094, 0.00594474,\n",
       "       0.00726741, 0.00640332, 0.00437934, 0.00726741, 0.0059382 ,\n",
       "       0.00592439, 0.00687279, 0.00605448, 0.00624561, 0.00630521,\n",
       "       0.00726741, 0.00674925, 0.00644765, 0.00635099, 0.0072536 ,\n",
       "       0.00591713, 0.00726741, 0.00534591, 0.00606466, 0.00713515,\n",
       "       0.00415042, 0.00480231, 0.00681175, 0.00726741, 0.00497018,\n",
       "       0.00432338, 0.00719983, 0.00695491, 0.00726741, 0.00516204,\n",
       "       0.00495638, 0.00726741, 0.00564387, 0.00625506, 0.0054869 ,\n",
       "       0.00583282, 0.0063866 , 0.00726741, 0.00581393, 0.00726741,\n",
       "       0.00617803, 0.00709808, 0.00601233, 0.00726741, 0.00410899,\n",
       "       0.00579213, 0.00453559, 0.00568384, 0.00516931, 0.00726741,\n",
       "       0.00695709, 0.00489097, 0.00626596, 0.00710608, 0.00602977,\n",
       "       0.00579794, 0.00609372, 0.00618457, 0.00605593, 0.00710535,\n",
       "       0.00674198, 0.00719183, 0.00656611, 0.00684663, 0.00726741,\n",
       "       0.00121148, 0.00552905, 0.00698471, 0.00429286, 0.00545419,\n",
       "       0.00706465, 0.00643021, 0.00593457, 0.00699706, 0.00656538,\n",
       "       0.00526524, 0.00626669, 0.00657991, 0.00661843, 0.0047071 ,\n",
       "       0.00623544, 0.00445856, 0.00562861, 0.006718  , 0.00723689,\n",
       "       0.00676741, 0.0057071 , 0.0059164 , 0.00580448, 0.00663878,\n",
       "       0.00492149, 0.00679866, 0.00557919, 0.00712715, 0.00508355,\n",
       "       0.00549344, 0.00682337, 0.00726741, 0.00600506, 0.00686988,\n",
       "       0.00642875, 0.0061446 , 0.00726741, 0.00535318, 0.00452614,\n",
       "       0.00615695, 0.00726741, 0.00545855, 0.00720346, 0.00724125,\n",
       "       0.00560754, 0.00720419, 0.00726741, 0.00726741, 0.00625361,\n",
       "       0.00480521, 0.00675288, 0.00693384, 0.00657047, 0.00726741,\n",
       "       0.00551524, 0.00691858, 0.00689968, 0.0068459 , 0.00617149,\n",
       "       0.00726741, 0.00644765, 0.00710535, 0.00536553, 0.00519693,\n",
       "       0.00726741, 0.00530448, 0.0040276 , 0.00494257, 0.00663951,\n",
       "       0.00440332, 0.00609445, 0.00563442, 0.00700288, 0.00687715,\n",
       "       0.00724416, 0.00654866, 0.0060523 , 0.0052914 , 0.00726741,\n",
       "       0.00713515, 0.00628558, 0.00581756, 0.00550652, 0.00702904,\n",
       "       0.00724997, 0.00722671, 0.00597599, 0.00524271, 0.00430667,\n",
       "       0.0045276 , 0.00511989, 0.00599271, 0.00602759, 0.00726741,\n",
       "       0.00656393, 0.00626669, 0.00686625, 0.0068052 , 0.00725506,\n",
       "       0.00548835, 0.00522236, 0.0063757 , 0.00567658, 0.00514024,\n",
       "       0.00676741, 0.00474344, 0.00652832, 0.00603922, 0.00726741,\n",
       "       0.00717802, 0.00604721, 0.00656393, 0.00699416, 0.00726741,\n",
       "       0.00724634, 0.00610899, 0.00541277, 0.00436335, 0.00719328,\n",
       "       0.00691058, 0.00726741, 0.00726741, 0.0066584 , 0.00726741,\n",
       "       0.00725506, 0.00726741, 0.00637352, 0.00716785, 0.00530376,\n",
       "       0.00614024, 0.00628995, 0.00499417, 0.00664823, 0.00711334,\n",
       "       0.00634736, 0.00688805, 0.00521873, 0.00726741, 0.00470347,\n",
       "       0.00458937, 0.00726741, 0.00688515, 0.00717512, 0.00476524,\n",
       "       0.0054353 , 0.00527105, 0.00726741, 0.00617803, 0.00594111,\n",
       "       0.00724416, 0.00681465, 0.00473109, 0.00611916, 0.00676305,\n",
       "       0.00726741, 0.00704939, 0.00565841, 0.00516931, 0.00661553,\n",
       "       0.00641422, 0.00621364, 0.00722235, 0.00530666, 0.00626814,\n",
       "       0.00649779, 0.00578559, 0.0056039 , 0.00647163, 0.00726741,\n",
       "       0.00581393, 0.00643893, 0.00436481, 0.00665622, 0.00639314,\n",
       "       0.0071882 , 0.00563878, 0.00456321, 0.00710898, 0.00726741,\n",
       "       0.0067914 , 0.00540695, 0.00521219, 0.00669765, 0.00726741,\n",
       "       0.00724634, 0.00619838, 0.0054164 , 0.00690913, 0.00717802,\n",
       "       0.00720201, 0.00702904, 0.00559009, 0.00486117, 0.00715331,\n",
       "       0.00526597, 0.00711552, 0.00593021, 0.00624561, 0.00615332,\n",
       "       0.00726741, 0.0071664 , 0.00726741, 0.00515841, 0.00482702,\n",
       "       0.00582556, 0.00726741, 0.0063975 , 0.00726741, 0.00302833,\n",
       "       0.00726741, 0.00704576, 0.00726741, 0.00515696, 0.00656538,\n",
       "       0.00726741, 0.00425289, 0.00536844, 0.00661189, 0.00683645,\n",
       "       0.00573035, 0.00726741, 0.00712279, 0.00654866, 0.00726741,\n",
       "       0.00621509, 0.00578413, 0.00621291, 0.00709663, 0.00578195,\n",
       "       0.00650215, 0.00515696, 0.00507411, 0.0059462 , 0.00571582,\n",
       "       0.00545928, 0.00639169, 0.00668239, 0.00660172, 0.00662134,\n",
       "       0.00667439, 0.00711843, 0.00568602, 0.00431539, 0.00604794,\n",
       "       0.00568239, 0.00676596, 0.00537352, 0.00726741, 0.0061446 ,\n",
       "       0.00442367, 0.00646   , 0.00602396, 0.00545056, 0.0053728 ,\n",
       "       0.00470492, 0.00363371, 0.00649852, 0.00726741, 0.00558937,\n",
       "       0.00440405, 0.00671945, 0.00726741, 0.00565259, 0.00429286,\n",
       "       0.00662061, 0.00580812, 0.00726741, 0.00568675, 0.0062725 ,\n",
       "       0.00574344, 0.0051039 , 0.00601669, 0.00458646, 0.00607846,\n",
       "       0.00523326, 0.00692657, 0.00513297, 0.00547745, 0.00726741,\n",
       "       0.00567294, 0.00694547, 0.00726741, 0.00726741, 0.00726741,\n",
       "       0.00726741, 0.00726741, 0.00721218, 0.00692948, 0.00726741,\n",
       "       0.00466931, 0.0043917 , 0.00622381, 0.00712206, 0.00584155,\n",
       "       0.00717512, 0.00667584, 0.00706828, 0.0058321 , 0.00726741,\n",
       "       0.00553486, 0.00662933, 0.00723544, 0.00410609, 0.00576814,\n",
       "       0.0061882 , 0.00679576, 0.00726741, 0.00679358, 0.00617294,\n",
       "       0.0060225 , 0.00582919, 0.00627032, 0.00656029, 0.00646872,\n",
       "       0.00510681, 0.00726741, 0.00688079, 0.00472527, 0.00420638,\n",
       "       0.00593384, 0.00529867, 0.0054571 , 0.00537643, 0.00726741,\n",
       "       0.00564896, 0.00654067, 0.00614314, 0.00708791, 0.00558937,\n",
       "       0.00644474, 0.00543312, 0.00726741, 0.0057071 , 0.0067943 ,\n",
       "       0.00639242, 0.00661334, 0.0050523 , 0.00704067, 0.00556829,\n",
       "       0.00433428, 0.00607047, 0.00579939, 0.00726741, 0.00668021,\n",
       "       0.00552323, 0.00606756, 0.00529576, 0.00555158, 0.00452687,\n",
       "       0.00726741, 0.00461408, 0.00726741, 0.00586771, 0.00726741,\n",
       "       0.00518821, 0.0069273 , 0.00650942, 0.00726741, 0.00701378,\n",
       "       0.00684227, 0.0060741 , 0.00721727, 0.00597527, 0.00589387,\n",
       "       0.0059273 , 0.00430521, 0.00590477, 0.00507047, 0.00574198,\n",
       "       0.00724125, 0.00676814, 0.00468966, 0.0069382 , 0.00700942,\n",
       "       0.00726741, 0.00500579, 0.00552469, 0.0043728 , 0.00468385,\n",
       "       0.00592294, 0.00721727, 0.00726741, 0.00615332, 0.00712497,\n",
       "       0.00627832, 0.00440841, 0.00677177, 0.0059789 , 0.00397455,\n",
       "       0.00590187, 0.0061991 , 0.00460754, 0.00632774, 0.00423763,\n",
       "       0.00726741, 0.00495638, 0.00539533, 0.00726087, 0.00657846,\n",
       "       0.0065196 , 0.00671436, 0.00726741, 0.00631465, 0.00692076,\n",
       "       0.0054135 , 0.00571509, 0.00582701, 0.00502396, 0.00690186,\n",
       "       0.00712497, 0.00721509, 0.00581175, 0.00596945, 0.00575288,\n",
       "       0.00671291, 0.00563588, 0.00462716, 0.00726741, 0.00573762,\n",
       "       0.00695128, 0.00703922, 0.00688006, 0.00584155, 0.00543166,\n",
       "       0.00705666, 0.00726741, 0.00586625, 0.00726741, 0.00654067,\n",
       "       0.00666204, 0.00627614, 0.00621436, 0.0039978 , 0.00723471,\n",
       "       0.0055196 , 0.00726741, 0.00726741, 0.00491277, 0.00627178,\n",
       "       0.00493603, 0.00566495, 0.00480957, 0.00599125, 0.00726741,\n",
       "       0.00500943, 0.00708863, 0.00568166, 0.00726741, 0.00515041,\n",
       "       0.00596945, 0.00706538, 0.00612861, 0.00693529, 0.00531102,\n",
       "       0.0061664 , 0.00725578, 0.00464242, 0.00582992, 0.00601742,\n",
       "       0.00520129, 0.00676814, 0.00575942, 0.00375071])"
      ]
     },
     "execution_count": 11,
     "metadata": {},
     "output_type": "execute_result"
    }
   ],
   "source": [
    "y_df_test = test.iloc[:, -1].values\n",
    "y_df_test"
   ]
  },
  {
   "cell_type": "markdown",
   "metadata": {},
   "source": [
    "#Handling categorical data with one hot encoder"
   ]
  },
  {
   "cell_type": "code",
   "execution_count": null,
   "metadata": {},
   "outputs": [],
   "source": [
    "# onehotencoder_test = ColumnTransformer(transformers=[('OneHot', OneHotEncoder(), [0,1])], remainder='passthrough')"
   ]
  },
  {
   "cell_type": "code",
   "execution_count": null,
   "metadata": {},
   "outputs": [],
   "source": [
    "# x_df_test = onehotencoder_test.fit_transform(x_df_test).toarray()\n",
    "# x_df_test[0]"
   ]
  },
  {
   "cell_type": "markdown",
   "metadata": {},
   "source": [
    "##Save variables"
   ]
  },
  {
   "cell_type": "code",
   "execution_count": 12,
   "metadata": {},
   "outputs": [],
   "source": [
    "with open('students.pickle', mode='wb') as f:\n",
    "    pickle.dump([x_df_train, y_df_train, x_df_test, y_df_test], f)"
   ]
  },
  {
   "cell_type": "markdown",
   "metadata": {},
   "source": [
    "# Test using Linear Regression Model"
   ]
  },
  {
   "cell_type": "markdown",
   "metadata": {},
   "source": [
    "##Creating a linear regression object"
   ]
  },
  {
   "cell_type": "code",
   "execution_count": 13,
   "metadata": {},
   "outputs": [
    {
     "data": {
      "text/html": [
       "<style>#sk-container-id-1 {color: black;background-color: white;}#sk-container-id-1 pre{padding: 0;}#sk-container-id-1 div.sk-toggleable {background-color: white;}#sk-container-id-1 label.sk-toggleable__label {cursor: pointer;display: block;width: 100%;margin-bottom: 0;padding: 0.3em;box-sizing: border-box;text-align: center;}#sk-container-id-1 label.sk-toggleable__label-arrow:before {content: \"▸\";float: left;margin-right: 0.25em;color: #696969;}#sk-container-id-1 label.sk-toggleable__label-arrow:hover:before {color: black;}#sk-container-id-1 div.sk-estimator:hover label.sk-toggleable__label-arrow:before {color: black;}#sk-container-id-1 div.sk-toggleable__content {max-height: 0;max-width: 0;overflow: hidden;text-align: left;background-color: #f0f8ff;}#sk-container-id-1 div.sk-toggleable__content pre {margin: 0.2em;color: black;border-radius: 0.25em;background-color: #f0f8ff;}#sk-container-id-1 input.sk-toggleable__control:checked~div.sk-toggleable__content {max-height: 200px;max-width: 100%;overflow: auto;}#sk-container-id-1 input.sk-toggleable__control:checked~label.sk-toggleable__label-arrow:before {content: \"▾\";}#sk-container-id-1 div.sk-estimator input.sk-toggleable__control:checked~label.sk-toggleable__label {background-color: #d4ebff;}#sk-container-id-1 div.sk-label input.sk-toggleable__control:checked~label.sk-toggleable__label {background-color: #d4ebff;}#sk-container-id-1 input.sk-hidden--visually {border: 0;clip: rect(1px 1px 1px 1px);clip: rect(1px, 1px, 1px, 1px);height: 1px;margin: -1px;overflow: hidden;padding: 0;position: absolute;width: 1px;}#sk-container-id-1 div.sk-estimator {font-family: monospace;background-color: #f0f8ff;border: 1px dotted black;border-radius: 0.25em;box-sizing: border-box;margin-bottom: 0.5em;}#sk-container-id-1 div.sk-estimator:hover {background-color: #d4ebff;}#sk-container-id-1 div.sk-parallel-item::after {content: \"\";width: 100%;border-bottom: 1px solid gray;flex-grow: 1;}#sk-container-id-1 div.sk-label:hover label.sk-toggleable__label {background-color: #d4ebff;}#sk-container-id-1 div.sk-serial::before {content: \"\";position: absolute;border-left: 1px solid gray;box-sizing: border-box;top: 0;bottom: 0;left: 50%;z-index: 0;}#sk-container-id-1 div.sk-serial {display: flex;flex-direction: column;align-items: center;background-color: white;padding-right: 0.2em;padding-left: 0.2em;position: relative;}#sk-container-id-1 div.sk-item {position: relative;z-index: 1;}#sk-container-id-1 div.sk-parallel {display: flex;align-items: stretch;justify-content: center;background-color: white;position: relative;}#sk-container-id-1 div.sk-item::before, #sk-container-id-1 div.sk-parallel-item::before {content: \"\";position: absolute;border-left: 1px solid gray;box-sizing: border-box;top: 0;bottom: 0;left: 50%;z-index: -1;}#sk-container-id-1 div.sk-parallel-item {display: flex;flex-direction: column;z-index: 1;position: relative;background-color: white;}#sk-container-id-1 div.sk-parallel-item:first-child::after {align-self: flex-end;width: 50%;}#sk-container-id-1 div.sk-parallel-item:last-child::after {align-self: flex-start;width: 50%;}#sk-container-id-1 div.sk-parallel-item:only-child::after {width: 0;}#sk-container-id-1 div.sk-dashed-wrapped {border: 1px dashed gray;margin: 0 0.4em 0.5em 0.4em;box-sizing: border-box;padding-bottom: 0.4em;background-color: white;}#sk-container-id-1 div.sk-label label {font-family: monospace;font-weight: bold;display: inline-block;line-height: 1.2em;}#sk-container-id-1 div.sk-label-container {text-align: center;}#sk-container-id-1 div.sk-container {/* jupyter's `normalize.less` sets `[hidden] { display: none; }` but bootstrap.min.css set `[hidden] { display: none !important; }` so we also need the `!important` here to be able to override the default hidden behavior on the sphinx rendered scikit-learn.org. See: https://github.com/scikit-learn/scikit-learn/issues/21755 */display: inline-block !important;position: relative;}#sk-container-id-1 div.sk-text-repr-fallback {display: none;}</style><div id=\"sk-container-id-1\" class=\"sk-top-container\"><div class=\"sk-text-repr-fallback\"><pre>LinearRegression()</pre><b>In a Jupyter environment, please rerun this cell to show the HTML representation or trust the notebook. <br />On GitHub, the HTML representation is unable to render, please try loading this page with nbviewer.org.</b></div><div class=\"sk-container\" hidden><div class=\"sk-item\"><div class=\"sk-estimator sk-toggleable\"><input class=\"sk-toggleable__control sk-hidden--visually\" id=\"sk-estimator-id-1\" type=\"checkbox\" checked><label for=\"sk-estimator-id-1\" class=\"sk-toggleable__label sk-toggleable__label-arrow\">LinearRegression</label><div class=\"sk-toggleable__content\"><pre>LinearRegression()</pre></div></div></div></div></div>"
      ],
      "text/plain": [
       "LinearRegression()"
      ]
     },
     "execution_count": 13,
     "metadata": {},
     "output_type": "execute_result"
    }
   ],
   "source": [
    "regr = linear_model.LinearRegression()\n",
    "regr"
   ]
  },
  {
   "cell_type": "markdown",
   "metadata": {},
   "source": [
    "##Conducting training"
   ]
  },
  {
   "cell_type": "code",
   "execution_count": 14,
   "metadata": {},
   "outputs": [
    {
     "data": {
      "text/html": [
       "<style>#sk-container-id-2 {color: black;background-color: white;}#sk-container-id-2 pre{padding: 0;}#sk-container-id-2 div.sk-toggleable {background-color: white;}#sk-container-id-2 label.sk-toggleable__label {cursor: pointer;display: block;width: 100%;margin-bottom: 0;padding: 0.3em;box-sizing: border-box;text-align: center;}#sk-container-id-2 label.sk-toggleable__label-arrow:before {content: \"▸\";float: left;margin-right: 0.25em;color: #696969;}#sk-container-id-2 label.sk-toggleable__label-arrow:hover:before {color: black;}#sk-container-id-2 div.sk-estimator:hover label.sk-toggleable__label-arrow:before {color: black;}#sk-container-id-2 div.sk-toggleable__content {max-height: 0;max-width: 0;overflow: hidden;text-align: left;background-color: #f0f8ff;}#sk-container-id-2 div.sk-toggleable__content pre {margin: 0.2em;color: black;border-radius: 0.25em;background-color: #f0f8ff;}#sk-container-id-2 input.sk-toggleable__control:checked~div.sk-toggleable__content {max-height: 200px;max-width: 100%;overflow: auto;}#sk-container-id-2 input.sk-toggleable__control:checked~label.sk-toggleable__label-arrow:before {content: \"▾\";}#sk-container-id-2 div.sk-estimator input.sk-toggleable__control:checked~label.sk-toggleable__label {background-color: #d4ebff;}#sk-container-id-2 div.sk-label input.sk-toggleable__control:checked~label.sk-toggleable__label {background-color: #d4ebff;}#sk-container-id-2 input.sk-hidden--visually {border: 0;clip: rect(1px 1px 1px 1px);clip: rect(1px, 1px, 1px, 1px);height: 1px;margin: -1px;overflow: hidden;padding: 0;position: absolute;width: 1px;}#sk-container-id-2 div.sk-estimator {font-family: monospace;background-color: #f0f8ff;border: 1px dotted black;border-radius: 0.25em;box-sizing: border-box;margin-bottom: 0.5em;}#sk-container-id-2 div.sk-estimator:hover {background-color: #d4ebff;}#sk-container-id-2 div.sk-parallel-item::after {content: \"\";width: 100%;border-bottom: 1px solid gray;flex-grow: 1;}#sk-container-id-2 div.sk-label:hover label.sk-toggleable__label {background-color: #d4ebff;}#sk-container-id-2 div.sk-serial::before {content: \"\";position: absolute;border-left: 1px solid gray;box-sizing: border-box;top: 0;bottom: 0;left: 50%;z-index: 0;}#sk-container-id-2 div.sk-serial {display: flex;flex-direction: column;align-items: center;background-color: white;padding-right: 0.2em;padding-left: 0.2em;position: relative;}#sk-container-id-2 div.sk-item {position: relative;z-index: 1;}#sk-container-id-2 div.sk-parallel {display: flex;align-items: stretch;justify-content: center;background-color: white;position: relative;}#sk-container-id-2 div.sk-item::before, #sk-container-id-2 div.sk-parallel-item::before {content: \"\";position: absolute;border-left: 1px solid gray;box-sizing: border-box;top: 0;bottom: 0;left: 50%;z-index: -1;}#sk-container-id-2 div.sk-parallel-item {display: flex;flex-direction: column;z-index: 1;position: relative;background-color: white;}#sk-container-id-2 div.sk-parallel-item:first-child::after {align-self: flex-end;width: 50%;}#sk-container-id-2 div.sk-parallel-item:last-child::after {align-self: flex-start;width: 50%;}#sk-container-id-2 div.sk-parallel-item:only-child::after {width: 0;}#sk-container-id-2 div.sk-dashed-wrapped {border: 1px dashed gray;margin: 0 0.4em 0.5em 0.4em;box-sizing: border-box;padding-bottom: 0.4em;background-color: white;}#sk-container-id-2 div.sk-label label {font-family: monospace;font-weight: bold;display: inline-block;line-height: 1.2em;}#sk-container-id-2 div.sk-label-container {text-align: center;}#sk-container-id-2 div.sk-container {/* jupyter's `normalize.less` sets `[hidden] { display: none; }` but bootstrap.min.css set `[hidden] { display: none !important; }` so we also need the `!important` here to be able to override the default hidden behavior on the sphinx rendered scikit-learn.org. See: https://github.com/scikit-learn/scikit-learn/issues/21755 */display: inline-block !important;position: relative;}#sk-container-id-2 div.sk-text-repr-fallback {display: none;}</style><div id=\"sk-container-id-2\" class=\"sk-top-container\"><div class=\"sk-text-repr-fallback\"><pre>LinearRegression()</pre><b>In a Jupyter environment, please rerun this cell to show the HTML representation or trust the notebook. <br />On GitHub, the HTML representation is unable to render, please try loading this page with nbviewer.org.</b></div><div class=\"sk-container\" hidden><div class=\"sk-item\"><div class=\"sk-estimator sk-toggleable\"><input class=\"sk-toggleable__control sk-hidden--visually\" id=\"sk-estimator-id-2\" type=\"checkbox\" checked><label for=\"sk-estimator-id-2\" class=\"sk-toggleable__label sk-toggleable__label-arrow\">LinearRegression</label><div class=\"sk-toggleable__content\"><pre>LinearRegression()</pre></div></div></div></div></div>"
      ],
      "text/plain": [
       "LinearRegression()"
      ]
     },
     "execution_count": 14,
     "metadata": {},
     "output_type": "execute_result"
    }
   ],
   "source": [
    "regr.fit(x_df_train, y_df_train)"
   ]
  },
  {
   "cell_type": "markdown",
   "metadata": {},
   "source": [
    "##Performing tests"
   ]
  },
  {
   "cell_type": "code",
   "execution_count": 15,
   "metadata": {},
   "outputs": [],
   "source": [
    "aprovados_y_pred = regr.predict(x_df_test)"
   ]
  },
  {
   "cell_type": "markdown",
   "metadata": {},
   "source": [
    "##Coefficients"
   ]
  },
  {
   "cell_type": "code",
   "execution_count": 16,
   "metadata": {},
   "outputs": [
    {
     "name": "stdout",
     "output_type": "stream",
     "text": [
      "Coefficients: \n",
      " [63.71280898]\n"
     ]
    }
   ],
   "source": [
    "print(\"Coefficients: \\n\", regr.coef_)"
   ]
  },
  {
   "cell_type": "markdown",
   "metadata": {},
   "source": [
    "##Mean square error"
   ]
  },
  {
   "cell_type": "code",
   "execution_count": 17,
   "metadata": {},
   "outputs": [
    {
     "name": "stdout",
     "output_type": "stream",
     "text": [
      "Mean square error: 0.00\n"
     ]
    }
   ],
   "source": [
    "print(\"Mean square error: %.2f\" % mean_squared_error(y_df_test, aprovados_y_pred))"
   ]
  },
  {
   "cell_type": "markdown",
   "metadata": {},
   "source": [
    "##Coefficient of determination: \"1\" is a perfect prediction"
   ]
  },
  {
   "cell_type": "code",
   "execution_count": 18,
   "metadata": {},
   "outputs": [
    {
     "name": "stdout",
     "output_type": "stream",
     "text": [
      "Coefficient of determination: 0.41\n"
     ]
    }
   ],
   "source": [
    "print(\"Coefficient of determination: %.2f\" % r2_score(y_df_test, aprovados_y_pred))"
   ]
  },
  {
   "cell_type": "markdown",
   "metadata": {},
   "source": [
    "##Plots"
   ]
  },
  {
   "cell_type": "code",
   "execution_count": 23,
   "metadata": {},
   "outputs": [
    {
     "data": {
      "image/png": "[encoded data removed]",
      "text/plain": [
       "<Figure size 640x480 with 1 Axes>"
      ]
     },
     "metadata": {},
     "output_type": "display_data"
    }
   ],
   "source": [
    "plt.scatter(x_df_test, y_df_test, color=\"black\")\n",
    "plt.plot(x_df_test, aprovados_y_pred, color=\"blue\", linewidth=3)\n",
    "\n",
    "plt.title('Taxa de aprovação por escola (Linear Regression Model)')\n",
    "plt.ylabel(\"Taxa de aprovação\")\n",
    "plt.xlabel(\"Ano de aprovação\")\n",
    "plt.show()"
   ]
  },
  {
   "cell_type": "markdown",
   "metadata": {},
   "source": [
    "# Test using SVM\n",
    "##Creating a SVR model"
   ]
  },
  {
   "cell_type": "code",
   "execution_count": 20,
   "metadata": {},
   "outputs": [
    {
     "name": "stdout",
     "output_type": "stream",
     "text": [
      "0.35061766830706426\n"
     ]
    }
   ],
   "source": [
    "model_SVR = svm.SVR()\n",
    "model_SVR.fit(x_df_train,y_df_train)\n",
    "Y_pred = model_SVR.predict(x_df_test)\n",
    "\n",
    "print(mean_absolute_percentage_error(y_df_test, Y_pred))\n"
   ]
  },
  {
   "cell_type": "markdown",
   "metadata": {},
   "source": [
    "##Calculating model score"
   ]
  },
  {
   "cell_type": "code",
   "execution_count": 21,
   "metadata": {},
   "outputs": [
    {
     "data": {
      "text/plain": [
       "-5.969366153688835"
      ]
     },
     "execution_count": 21,
     "metadata": {},
     "output_type": "execute_result"
    }
   ],
   "source": [
    "model_SVR.score(x_df_test, y_df_test)"
   ]
  },
  {
   "cell_type": "markdown",
   "metadata": {},
   "source": [
    "##plots"
   ]
  },
  {
   "cell_type": "code",
   "execution_count": 22,
   "metadata": {},
   "outputs": [
    {
     "data": {
      "image/png": "[encoded data removed]",
      "text/plain": [
       "<Figure size 640x480 with 1 Axes>"
      ]
     },
     "metadata": {},
     "output_type": "display_data"
    }
   ],
   "source": [
    "plt.scatter(x_df_train, y_df_train, color = 'magenta')\n",
    "plt.plot(x_df_test, model_SVR.predict(x_df_test), color = 'green')\n",
    "plt.title('Taxa de aprovação por escola (Support Vector Regression Model)')\n",
    "plt.xlabel('Ano de Aprovação')\n",
    "plt.ylabel('Taxa de Aprovação')\n",
    "plt.show()"
   ]
  },
  {
   "cell_type": "markdown",
   "metadata": {},
   "source": [
    "##Analyze SVR model to diferents Kernel"
   ]
  },
  {
   "cell_type": "code",
   "execution_count": 24,
   "metadata": {},
   "outputs": [
    {
     "data": {
      "image/png": "[encoded data removed]",
      "text/plain": [
       "<Figure size 1500x1000 with 3 Axes>"
      ]
     },
     "metadata": {},
     "output_type": "display_data"
    }
   ],
   "source": [
    "lw = 2\n",
    "X = x_df_train\n",
    "y = y_df_train\n",
    "\n",
    "svr_rbf = SVR(kernel=\"rbf\", C=100, gamma=0.1, epsilon=0.1)\n",
    "svr_lin = SVR(kernel=\"linear\", C=100, gamma=\"auto\")\n",
    "svr_poly = SVR(kernel=\"poly\", C=100, gamma=\"auto\", degree=3, epsilon=0.1, coef0=1)\n",
    "\n",
    "svrs = [svr_rbf, svr_lin, svr_poly]\n",
    "kernel_label = [\"RBF\", \"Linear\", \"Polynomial\"]\n",
    "model_color = [\"m\", \"c\", \"g\"]\n",
    "\n",
    "fig, axes = plt.subplots(nrows=1, ncols=3, figsize=(15, 10), sharey=True)\n",
    "for ix, svr in enumerate(svrs):\n",
    "    axes[ix].plot(\n",
    "        X,\n",
    "        svr.fit(X, y).predict(X),\n",
    "        color=model_color[ix],\n",
    "        lw=lw,\n",
    "        label=\"{} model\".format(kernel_label[ix]),\n",
    "    )\n",
    "    axes[ix].scatter(\n",
    "        X[svr.support_],\n",
    "        y[svr.support_],\n",
    "        facecolor=\"none\",\n",
    "        edgecolor=model_color[ix],\n",
    "        s=50,\n",
    "        label=\"{} support vectors\".format(kernel_label[ix]),\n",
    "    )\n",
    "    axes[ix].scatter(\n",
    "        X[np.setdiff1d(np.arange(len(X)), svr.support_)],\n",
    "        y[np.setdiff1d(np.arange(len(X)), svr.support_)],\n",
    "        facecolor=\"none\",\n",
    "        edgecolor=\"k\",\n",
    "        s=50,\n",
    "        label=\"other training data\",\n",
    "    )\n",
    "    axes[ix].legend(\n",
    "        loc=\"upper center\",\n",
    "        bbox_to_anchor=(0.5, 1.1),\n",
    "        ncol=1,\n",
    "        fancybox=True,\n",
    "        shadow=True,\n",
    "    )\n",
    "\n",
    "fig.text(0.5, 0.04, \"data\", ha=\"center\", va=\"center\")\n",
    "fig.text(0.06, 0.5, \"target\", ha=\"center\", va=\"center\", rotation=\"vertical\")\n",
    "fig.suptitle(\"Support Vector Regression\", fontsize=14)\n",
    "plt.show()"
   ]
  },
  {
   "cell_type": "markdown",
   "metadata": {},
   "source": [
    "### Random Forest"
   ]
  },
  {
   "cell_type": "code",
   "execution_count": 25,
   "metadata": {},
   "outputs": [
    {
     "data": {
      "text/plain": [
       "0.09493653055002968"
      ]
     },
     "execution_count": 25,
     "metadata": {},
     "output_type": "execute_result"
    }
   ],
   "source": [
    "model_RFR = RandomForestRegressor(n_estimators=10)\n",
    "model_RFR.fit(x_df_train, y_df_train)\n",
    "Y_pred = model_RFR.predict(x_df_test)\n",
    "\n",
    "mean_absolute_percentage_error(y_df_test, Y_pred)\n"
   ]
  },
  {
   "cell_type": "code",
   "execution_count": 26,
   "metadata": {},
   "outputs": [
    {
     "data": {
      "image/png": "[encoded data removed]",
      "text/plain": [
       "<Figure size 640x480 with 1 Axes>"
      ]
     },
     "metadata": {},
     "output_type": "display_data"
    }
   ],
   "source": [
    "plt.scatter(x_df_train, y_df_train, color = 'magenta')\n",
    "plt.plot(x_df_test, model_RFR.predict(x_df_test), color = 'green')\n",
    "plt.title('Taxa de aprovação por escola (Random Forest)')\n",
    "plt.xlabel('Ano de Aprovação')\n",
    "plt.ylabel('Taxa de Aprovação')\n",
    "plt.show()"
   ]
  },
  {
   "cell_type": "code",
   "execution_count": null,
   "metadata": {},
   "outputs": [],
   "source": []
  }
 ],
 "metadata": {
  "colab": {
   "provenance": []
  },
  "kernelspec": {
   "display_name": "Python 3",
   "language": "python",
   "name": "python3"
  },
  "language_info": {
   "codemirror_mode": {
    "name": "ipython",
    "version": 3
   },
   "file_extension": ".py",
   "mimetype": "text/x-python",
   "name": "python",
   "nbconvert_exporter": "python",
   "pygments_lexer": "ipython3",
   "version": "3.10.5"
  },
  "vscode": {
   "interpreter": {
    "hash": "aee8b7b246df8f9039afb4144a1f6fd8d2ca17a180786b69acc140d282b71a49"
   }
  }
 },
 "nbformat": 4,
 "nbformat_minor": 1
}
