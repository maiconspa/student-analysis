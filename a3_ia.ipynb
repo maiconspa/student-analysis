{
  "cells": [
    {
      "cell_type": "code",
      "execution_count": null,
      "metadata": {
        "id": "CdMDjvy2z3Mx"
      },
      "outputs": [],
      "source": [
        "# !pip3 install sklearn\n",
        "# !pip3 install pandas\n",
        "# !pip3 install openpyxl"
      ]
    },
    {
      "cell_type": "markdown",
      "metadata": {
        "id": "sNAzWl50_BjA"
      },
      "source": [
        "##Import packages"
      ]
    },
    {
      "cell_type": "code",
      "execution_count": null,
      "metadata": {
        "id": "MOZ7VVLpyucs"
      },
      "outputs": [],
      "source": [
        "from sklearn import preprocessing\n",
        "import numpy as np\n",
        "import pandas as pd\n",
        "import datetime"
      ]
    },
    {
      "cell_type": "markdown",
      "metadata": {
        "id": "HTlPTITf_Gat"
      },
      "source": [
        "##Import document as data frame"
      ]
    },
    {
      "cell_type": "code",
      "execution_count": null,
      "metadata": {
        "id": "qh0kfK_yHGOy"
      },
      "outputs": [],
      "source": [
        "df = pd.read_excel('./Fluxo_Escolar_por_Escola.xlsx')"
      ]
    },
    {
      "cell_type": "markdown",
      "metadata": {
        "id": "qVu3bU-U_N7G"
      },
      "source": [
        "##Drop unused columns"
      ]
    },
    {
      "cell_type": "code",
      "execution_count": null,
      "metadata": {
        "id": "q4uFcQjCuM42"
      },
      "outputs": [],
      "source": [
        "drop_columns = ['NM_DIRETORIA','CD_REDE_ENSINO',\t'CD_ESCOLA', 'APR_1', 'REP_1', 'ABA_1', 'APR_2', 'REP_2', 'ABA_2']\n",
        "df_cleaned = df.drop(drop_columns, axis='columns')"
      ]
    },
    {
      "cell_type": "markdown",
      "metadata": {
        "id": "bQfVauw8_bYJ"
      },
      "source": [
        "##Renaming columns"
      ]
    },
    {
      "cell_type": "code",
      "execution_count": null,
      "metadata": {
        "id": "H_wOku5Xy8CX"
      },
      "outputs": [],
      "source": [
        "columns_renamed = {\n",
        "    'Ano':'ano', \n",
        "    'NM_MUNICIPIO':'municipio', \n",
        "    'NM_COMPLETO_ESCOLA':'escola', \n",
        "    'APR_3':'aprovado', \n",
        "    'REP_3':'reprovado', \n",
        "    'ABA_3':'abandono'\n",
        "}\n",
        "df_cleaned = df_cleaned.rename(columns=columns_renamed)"
      ]
    },
    {
      "cell_type": "markdown",
      "metadata": {
        "id": "Yf-4qFcF_vY6"
      },
      "source": [
        "##Drop rows that contains NaN from data frame (cleaned)"
      ]
    },
    {
      "cell_type": "code",
      "execution_count": null,
      "metadata": {
        "id": "VzUq2J5sAanX"
      },
      "outputs": [],
      "source": [
        "df_cleaned = df_cleaned.dropna()"
      ]
    },
    {
      "cell_type": "code",
      "execution_count": null,
      "metadata": {
        "id": "wE4MJEt7_pbf"
      },
      "outputs": [],
      "source": [
        "#df_cleaned.head(20)"
      ]
    },
    {
      "cell_type": "markdown",
      "metadata": {
        "id": "n_WsHRhkE7MK"
      },
      "source": [
        "Exportando o resultado de hoje 07-11 23:31"
      ]
    },
    {
      "cell_type": "code",
      "execution_count": null,
      "metadata": {
        "id": "r4akZ0TycXcn"
      },
      "outputs": [],
      "source": [
        "df_cleaned.to_excel('fluxo_escolar_parcialmente_tratado.xlsx', encoding=\"utf-8\")"
      ]
    },
    {
      "cell_type": "markdown",
      "metadata": {
        "id": "5NZyhjTjDcvJ"
      },
      "source": [
        "# Cleaning and normalizing data"
      ]
    },
    {
      "cell_type": "markdown",
      "metadata": {},
      "source": [
        "##Install packages if necessary"
      ]
    },
    {
      "cell_type": "code",
      "execution_count": null,
      "metadata": {},
      "outputs": [],
      "source": [
        "# !pip3 install yellowbrick"
      ]
    },
    {
      "cell_type": "markdown",
      "metadata": {},
      "source": [
        "##Import packages"
      ]
    },
    {
      "cell_type": "code",
      "execution_count": 1,
      "metadata": {},
      "outputs": [],
      "source": [
        "from sklearn import preprocessing\n",
        "from sklearn.model_selection import train_test_split\n",
        "from sklearn.compose import ColumnTransformer\n",
        "from sklearn.metrics import accuracy_score, confusion_matrix\n",
        "from yellowbrick.classifier import ConfusionMatrix\n",
        "from sklearn.preprocessing import OneHotEncoder\n",
        "import numpy as np\n",
        "import pandas as pd\n",
        "import seaborn as sns\n",
        "import datetime\n",
        "import pickle"
      ]
    },
    {
      "cell_type": "markdown",
      "metadata": {},
      "source": [
        "##Import document as data frame"
      ]
    },
    {
      "cell_type": "code",
      "execution_count": 2,
      "metadata": {},
      "outputs": [
        {
          "name": "stdout",
          "output_type": "stream",
          "text": [
            "(5194, 16)\n"
          ]
        },
        {
          "data": {
            "text/html": [
              "<div>\n",
              "<style scoped>\n",
              "    .dataframe tbody tr th:only-of-type {\n",
              "        vertical-align: middle;\n",
              "    }\n",
              "\n",
              "    .dataframe tbody tr th {\n",
              "        vertical-align: top;\n",
              "    }\n",
              "\n",
              "    .dataframe thead th {\n",
              "        text-align: right;\n",
              "    }\n",
              "</style>\n",
              "<table border=\"1\" class=\"dataframe\">\n",
              "  <thead>\n",
              "    <tr style=\"text-align: right;\">\n",
              "      <th></th>\n",
              "      <th>ANO_LETIVO</th>\n",
              "      <th>NM_DIRETORIA</th>\n",
              "      <th>NM_MUNICIPIO</th>\n",
              "      <th>CD_REDE_ENSINO</th>\n",
              "      <th>CD_ESCOLA</th>\n",
              "      <th>NM_COMPLETO_ESCOLA</th>\n",
              "      <th>CD_TP_IDENTIFICADOR</th>\n",
              "      <th>APR_1</th>\n",
              "      <th>REP_1</th>\n",
              "      <th>ABA_1</th>\n",
              "      <th>APR_2</th>\n",
              "      <th>REP_2</th>\n",
              "      <th>ABA_2</th>\n",
              "      <th>APR_3</th>\n",
              "      <th>REP_3</th>\n",
              "      <th>ABA_3</th>\n",
              "    </tr>\n",
              "  </thead>\n",
              "  <tbody>\n",
              "    <tr>\n",
              "      <th>0</th>\n",
              "      <td>2021</td>\n",
              "      <td>PIRAJU</td>\n",
              "      <td>PIRAJU</td>\n",
              "      <td>1</td>\n",
              "      <td>34320</td>\n",
              "      <td>JOAQUIM GUILHERME MOREIRA PORTO DOUTOR</td>\n",
              "      <td>8</td>\n",
              "      <td>0.0</td>\n",
              "      <td>0.0</td>\n",
              "      <td>0.0</td>\n",
              "      <td>100.00</td>\n",
              "      <td>0.00</td>\n",
              "      <td>0.0</td>\n",
              "      <td>100.0</td>\n",
              "      <td>0.0</td>\n",
              "      <td>0.0</td>\n",
              "    </tr>\n",
              "    <tr>\n",
              "      <th>1</th>\n",
              "      <td>2021</td>\n",
              "      <td>PIRAJU</td>\n",
              "      <td>PIRAJU</td>\n",
              "      <td>1</td>\n",
              "      <td>34344</td>\n",
              "      <td>QUINZINHO CAMARGO PREFEITO</td>\n",
              "      <td>8</td>\n",
              "      <td>0.0</td>\n",
              "      <td>0.0</td>\n",
              "      <td>0.0</td>\n",
              "      <td>99.56</td>\n",
              "      <td>0.44</td>\n",
              "      <td>0.0</td>\n",
              "      <td>94.0</td>\n",
              "      <td>2.0</td>\n",
              "      <td>4.0</td>\n",
              "    </tr>\n",
              "    <tr>\n",
              "      <th>2</th>\n",
              "      <td>2021</td>\n",
              "      <td>PIRAJU</td>\n",
              "      <td>PIRAJU</td>\n",
              "      <td>1</td>\n",
              "      <td>34356</td>\n",
              "      <td>NHONHO BRAGA CORONEL</td>\n",
              "      <td>8</td>\n",
              "      <td>0.0</td>\n",
              "      <td>0.0</td>\n",
              "      <td>0.0</td>\n",
              "      <td>100.00</td>\n",
              "      <td>0.00</td>\n",
              "      <td>0.0</td>\n",
              "      <td>100.0</td>\n",
              "      <td>0.0</td>\n",
              "      <td>0.0</td>\n",
              "    </tr>\n",
              "    <tr>\n",
              "      <th>3</th>\n",
              "      <td>2021</td>\n",
              "      <td>PIRAJU</td>\n",
              "      <td>PIRAJU</td>\n",
              "      <td>1</td>\n",
              "      <td>34459</td>\n",
              "      <td>ATALIBA LEONEL</td>\n",
              "      <td>8</td>\n",
              "      <td>0.0</td>\n",
              "      <td>0.0</td>\n",
              "      <td>0.0</td>\n",
              "      <td>100.00</td>\n",
              "      <td>0.00</td>\n",
              "      <td>0.0</td>\n",
              "      <td>100.0</td>\n",
              "      <td>0.0</td>\n",
              "      <td>0.0</td>\n",
              "    </tr>\n",
              "    <tr>\n",
              "      <th>4</th>\n",
              "      <td>2021</td>\n",
              "      <td>AMERICANA</td>\n",
              "      <td>AMERICANA</td>\n",
              "      <td>1</td>\n",
              "      <td>17152</td>\n",
              "      <td>MAURA ARRUDA GUIDOLIN PROFA</td>\n",
              "      <td>8</td>\n",
              "      <td>100.0</td>\n",
              "      <td>0.0</td>\n",
              "      <td>0.0</td>\n",
              "      <td>0.00</td>\n",
              "      <td>0.00</td>\n",
              "      <td>0.0</td>\n",
              "      <td>0.0</td>\n",
              "      <td>0.0</td>\n",
              "      <td>0.0</td>\n",
              "    </tr>\n",
              "  </tbody>\n",
              "</table>\n",
              "</div>"
            ],
            "text/plain": [
              "   ANO_LETIVO NM_DIRETORIA NM_MUNICIPIO  CD_REDE_ENSINO  CD_ESCOLA  \\\n",
              "0        2021       PIRAJU       PIRAJU               1      34320   \n",
              "1        2021       PIRAJU       PIRAJU               1      34344   \n",
              "2        2021       PIRAJU       PIRAJU               1      34356   \n",
              "3        2021       PIRAJU       PIRAJU               1      34459   \n",
              "4        2021    AMERICANA    AMERICANA               1      17152   \n",
              "\n",
              "                       NM_COMPLETO_ESCOLA  CD_TP_IDENTIFICADOR  APR_1  REP_1  \\\n",
              "0  JOAQUIM GUILHERME MOREIRA PORTO DOUTOR                    8    0.0    0.0   \n",
              "1              QUINZINHO CAMARGO PREFEITO                    8    0.0    0.0   \n",
              "2                    NHONHO BRAGA CORONEL                    8    0.0    0.0   \n",
              "3                          ATALIBA LEONEL                    8    0.0    0.0   \n",
              "4             MAURA ARRUDA GUIDOLIN PROFA                    8  100.0    0.0   \n",
              "\n",
              "   ABA_1   APR_2  REP_2  ABA_2  APR_3  REP_3  ABA_3  \n",
              "0    0.0  100.00   0.00    0.0  100.0    0.0    0.0  \n",
              "1    0.0   99.56   0.44    0.0   94.0    2.0    4.0  \n",
              "2    0.0  100.00   0.00    0.0  100.0    0.0    0.0  \n",
              "3    0.0  100.00   0.00    0.0  100.0    0.0    0.0  \n",
              "4    0.0    0.00   0.00    0.0    0.0    0.0    0.0  "
            ]
          },
          "execution_count": 2,
          "metadata": {},
          "output_type": "execute_result"
        }
      ],
      "source": [
        "df_cleaned = pd.read_excel('./data/Fluxo_Escolar_por_Escola_2021.xlsx',engine='openpyxl')\n",
        "print(df_cleaned.shape)\n",
        "df_cleaned.head()"
      ]
    },
    {
      "cell_type": "markdown",
      "metadata": {},
      "source": [
        "##Removing fields with \"-\" value, time value and NaN value"
      ]
    },
    {
      "cell_type": "code",
      "execution_count": 3,
      "metadata": {
        "id": "uad5_hb-z3Mz"
      },
      "outputs": [
        {
          "name": "stdout",
          "output_type": "stream",
          "text": [
            "(5194, 16)\n"
          ]
        },
        {
          "data": {
            "text/html": [
              "<div>\n",
              "<style scoped>\n",
              "    .dataframe tbody tr th:only-of-type {\n",
              "        vertical-align: middle;\n",
              "    }\n",
              "\n",
              "    .dataframe tbody tr th {\n",
              "        vertical-align: top;\n",
              "    }\n",
              "\n",
              "    .dataframe thead th {\n",
              "        text-align: right;\n",
              "    }\n",
              "</style>\n",
              "<table border=\"1\" class=\"dataframe\">\n",
              "  <thead>\n",
              "    <tr style=\"text-align: right;\">\n",
              "      <th></th>\n",
              "      <th>ANO_LETIVO</th>\n",
              "      <th>NM_DIRETORIA</th>\n",
              "      <th>NM_MUNICIPIO</th>\n",
              "      <th>CD_REDE_ENSINO</th>\n",
              "      <th>CD_ESCOLA</th>\n",
              "      <th>NM_COMPLETO_ESCOLA</th>\n",
              "      <th>CD_TP_IDENTIFICADOR</th>\n",
              "      <th>APR_1</th>\n",
              "      <th>REP_1</th>\n",
              "      <th>ABA_1</th>\n",
              "      <th>APR_2</th>\n",
              "      <th>REP_2</th>\n",
              "      <th>ABA_2</th>\n",
              "      <th>APR_3</th>\n",
              "      <th>REP_3</th>\n",
              "      <th>ABA_3</th>\n",
              "    </tr>\n",
              "  </thead>\n",
              "  <tbody>\n",
              "    <tr>\n",
              "      <th>0</th>\n",
              "      <td>2021</td>\n",
              "      <td>PIRAJU</td>\n",
              "      <td>PIRAJU</td>\n",
              "      <td>1</td>\n",
              "      <td>34320</td>\n",
              "      <td>JOAQUIM GUILHERME MOREIRA PORTO DOUTOR</td>\n",
              "      <td>8</td>\n",
              "      <td>0.0</td>\n",
              "      <td>0.0</td>\n",
              "      <td>0.0</td>\n",
              "      <td>100.00</td>\n",
              "      <td>0.00</td>\n",
              "      <td>0.0</td>\n",
              "      <td>100.0</td>\n",
              "      <td>0.0</td>\n",
              "      <td>0.0</td>\n",
              "    </tr>\n",
              "    <tr>\n",
              "      <th>1</th>\n",
              "      <td>2021</td>\n",
              "      <td>PIRAJU</td>\n",
              "      <td>PIRAJU</td>\n",
              "      <td>1</td>\n",
              "      <td>34344</td>\n",
              "      <td>QUINZINHO CAMARGO PREFEITO</td>\n",
              "      <td>8</td>\n",
              "      <td>0.0</td>\n",
              "      <td>0.0</td>\n",
              "      <td>0.0</td>\n",
              "      <td>99.56</td>\n",
              "      <td>0.44</td>\n",
              "      <td>0.0</td>\n",
              "      <td>94.0</td>\n",
              "      <td>2.0</td>\n",
              "      <td>4.0</td>\n",
              "    </tr>\n",
              "    <tr>\n",
              "      <th>2</th>\n",
              "      <td>2021</td>\n",
              "      <td>PIRAJU</td>\n",
              "      <td>PIRAJU</td>\n",
              "      <td>1</td>\n",
              "      <td>34356</td>\n",
              "      <td>NHONHO BRAGA CORONEL</td>\n",
              "      <td>8</td>\n",
              "      <td>0.0</td>\n",
              "      <td>0.0</td>\n",
              "      <td>0.0</td>\n",
              "      <td>100.00</td>\n",
              "      <td>0.00</td>\n",
              "      <td>0.0</td>\n",
              "      <td>100.0</td>\n",
              "      <td>0.0</td>\n",
              "      <td>0.0</td>\n",
              "    </tr>\n",
              "    <tr>\n",
              "      <th>3</th>\n",
              "      <td>2021</td>\n",
              "      <td>PIRAJU</td>\n",
              "      <td>PIRAJU</td>\n",
              "      <td>1</td>\n",
              "      <td>34459</td>\n",
              "      <td>ATALIBA LEONEL</td>\n",
              "      <td>8</td>\n",
              "      <td>0.0</td>\n",
              "      <td>0.0</td>\n",
              "      <td>0.0</td>\n",
              "      <td>100.00</td>\n",
              "      <td>0.00</td>\n",
              "      <td>0.0</td>\n",
              "      <td>100.0</td>\n",
              "      <td>0.0</td>\n",
              "      <td>0.0</td>\n",
              "    </tr>\n",
              "    <tr>\n",
              "      <th>4</th>\n",
              "      <td>2021</td>\n",
              "      <td>AMERICANA</td>\n",
              "      <td>AMERICANA</td>\n",
              "      <td>1</td>\n",
              "      <td>17152</td>\n",
              "      <td>MAURA ARRUDA GUIDOLIN PROFA</td>\n",
              "      <td>8</td>\n",
              "      <td>100.0</td>\n",
              "      <td>0.0</td>\n",
              "      <td>0.0</td>\n",
              "      <td>0.00</td>\n",
              "      <td>0.00</td>\n",
              "      <td>0.0</td>\n",
              "      <td>0.0</td>\n",
              "      <td>0.0</td>\n",
              "      <td>0.0</td>\n",
              "    </tr>\n",
              "  </tbody>\n",
              "</table>\n",
              "</div>"
            ],
            "text/plain": [
              "   ANO_LETIVO NM_DIRETORIA NM_MUNICIPIO  CD_REDE_ENSINO  CD_ESCOLA  \\\n",
              "0        2021       PIRAJU       PIRAJU               1      34320   \n",
              "1        2021       PIRAJU       PIRAJU               1      34344   \n",
              "2        2021       PIRAJU       PIRAJU               1      34356   \n",
              "3        2021       PIRAJU       PIRAJU               1      34459   \n",
              "4        2021    AMERICANA    AMERICANA               1      17152   \n",
              "\n",
              "                       NM_COMPLETO_ESCOLA  CD_TP_IDENTIFICADOR  APR_1  REP_1  \\\n",
              "0  JOAQUIM GUILHERME MOREIRA PORTO DOUTOR                    8    0.0    0.0   \n",
              "1              QUINZINHO CAMARGO PREFEITO                    8    0.0    0.0   \n",
              "2                    NHONHO BRAGA CORONEL                    8    0.0    0.0   \n",
              "3                          ATALIBA LEONEL                    8    0.0    0.0   \n",
              "4             MAURA ARRUDA GUIDOLIN PROFA                    8  100.0    0.0   \n",
              "\n",
              "   ABA_1   APR_2  REP_2  ABA_2  APR_3  REP_3  ABA_3  \n",
              "0    0.0  100.00   0.00    0.0  100.0    0.0    0.0  \n",
              "1    0.0   99.56   0.44    0.0   94.0    2.0    4.0  \n",
              "2    0.0  100.00   0.00    0.0  100.0    0.0    0.0  \n",
              "3    0.0  100.00   0.00    0.0  100.0    0.0    0.0  \n",
              "4    0.0    0.00   0.00    0.0    0.0    0.0    0.0  "
            ]
          },
          "execution_count": 3,
          "metadata": {},
          "output_type": "execute_result"
        }
      ],
      "source": [
        "df_cleaned = df_cleaned[df_cleaned != \"-\"]\n",
        "df_cleaned = df_cleaned[df_cleaned != datetime.time(0, 0)]\n",
        "df_cleaned = df_cleaned.dropna()\n",
        "\n",
        "print(df_cleaned.shape)\n",
        "df_cleaned.head()"
      ]
    },
    {
      "cell_type": "markdown",
      "metadata": {},
      "source": [
        "##Converting datetime values to correct format"
      ]
    },
    {
      "cell_type": "code",
      "execution_count": 4,
      "metadata": {},
      "outputs": [
        {
          "name": "stdout",
          "output_type": "stream",
          "text": [
            "(5194, 16)\n"
          ]
        },
        {
          "data": {
            "text/html": [
              "<div>\n",
              "<style scoped>\n",
              "    .dataframe tbody tr th:only-of-type {\n",
              "        vertical-align: middle;\n",
              "    }\n",
              "\n",
              "    .dataframe tbody tr th {\n",
              "        vertical-align: top;\n",
              "    }\n",
              "\n",
              "    .dataframe thead th {\n",
              "        text-align: right;\n",
              "    }\n",
              "</style>\n",
              "<table border=\"1\" class=\"dataframe\">\n",
              "  <thead>\n",
              "    <tr style=\"text-align: right;\">\n",
              "      <th></th>\n",
              "      <th>ANO_LETIVO</th>\n",
              "      <th>NM_DIRETORIA</th>\n",
              "      <th>NM_MUNICIPIO</th>\n",
              "      <th>CD_REDE_ENSINO</th>\n",
              "      <th>CD_ESCOLA</th>\n",
              "      <th>NM_COMPLETO_ESCOLA</th>\n",
              "      <th>CD_TP_IDENTIFICADOR</th>\n",
              "      <th>APR_1</th>\n",
              "      <th>REP_1</th>\n",
              "      <th>ABA_1</th>\n",
              "      <th>APR_2</th>\n",
              "      <th>REP_2</th>\n",
              "      <th>ABA_2</th>\n",
              "      <th>APR_3</th>\n",
              "      <th>REP_3</th>\n",
              "      <th>ABA_3</th>\n",
              "    </tr>\n",
              "  </thead>\n",
              "  <tbody>\n",
              "    <tr>\n",
              "      <th>0</th>\n",
              "      <td>2021</td>\n",
              "      <td>PIRAJU</td>\n",
              "      <td>PIRAJU</td>\n",
              "      <td>1</td>\n",
              "      <td>34320</td>\n",
              "      <td>JOAQUIM GUILHERME MOREIRA PORTO DOUTOR</td>\n",
              "      <td>8</td>\n",
              "      <td>0.0</td>\n",
              "      <td>0.0</td>\n",
              "      <td>0.0</td>\n",
              "      <td>100.00</td>\n",
              "      <td>0.00</td>\n",
              "      <td>0.0</td>\n",
              "      <td>100.0</td>\n",
              "      <td>0.0</td>\n",
              "      <td>0.0</td>\n",
              "    </tr>\n",
              "    <tr>\n",
              "      <th>1</th>\n",
              "      <td>2021</td>\n",
              "      <td>PIRAJU</td>\n",
              "      <td>PIRAJU</td>\n",
              "      <td>1</td>\n",
              "      <td>34344</td>\n",
              "      <td>QUINZINHO CAMARGO PREFEITO</td>\n",
              "      <td>8</td>\n",
              "      <td>0.0</td>\n",
              "      <td>0.0</td>\n",
              "      <td>0.0</td>\n",
              "      <td>99.56</td>\n",
              "      <td>0.44</td>\n",
              "      <td>0.0</td>\n",
              "      <td>94.0</td>\n",
              "      <td>2.0</td>\n",
              "      <td>4.0</td>\n",
              "    </tr>\n",
              "    <tr>\n",
              "      <th>2</th>\n",
              "      <td>2021</td>\n",
              "      <td>PIRAJU</td>\n",
              "      <td>PIRAJU</td>\n",
              "      <td>1</td>\n",
              "      <td>34356</td>\n",
              "      <td>NHONHO BRAGA CORONEL</td>\n",
              "      <td>8</td>\n",
              "      <td>0.0</td>\n",
              "      <td>0.0</td>\n",
              "      <td>0.0</td>\n",
              "      <td>100.00</td>\n",
              "      <td>0.00</td>\n",
              "      <td>0.0</td>\n",
              "      <td>100.0</td>\n",
              "      <td>0.0</td>\n",
              "      <td>0.0</td>\n",
              "    </tr>\n",
              "    <tr>\n",
              "      <th>3</th>\n",
              "      <td>2021</td>\n",
              "      <td>PIRAJU</td>\n",
              "      <td>PIRAJU</td>\n",
              "      <td>1</td>\n",
              "      <td>34459</td>\n",
              "      <td>ATALIBA LEONEL</td>\n",
              "      <td>8</td>\n",
              "      <td>0.0</td>\n",
              "      <td>0.0</td>\n",
              "      <td>0.0</td>\n",
              "      <td>100.00</td>\n",
              "      <td>0.00</td>\n",
              "      <td>0.0</td>\n",
              "      <td>100.0</td>\n",
              "      <td>0.0</td>\n",
              "      <td>0.0</td>\n",
              "    </tr>\n",
              "    <tr>\n",
              "      <th>4</th>\n",
              "      <td>2021</td>\n",
              "      <td>AMERICANA</td>\n",
              "      <td>AMERICANA</td>\n",
              "      <td>1</td>\n",
              "      <td>17152</td>\n",
              "      <td>MAURA ARRUDA GUIDOLIN PROFA</td>\n",
              "      <td>8</td>\n",
              "      <td>100.0</td>\n",
              "      <td>0.0</td>\n",
              "      <td>0.0</td>\n",
              "      <td>0.00</td>\n",
              "      <td>0.00</td>\n",
              "      <td>0.0</td>\n",
              "      <td>0.0</td>\n",
              "      <td>0.0</td>\n",
              "      <td>0.0</td>\n",
              "    </tr>\n",
              "  </tbody>\n",
              "</table>\n",
              "</div>"
            ],
            "text/plain": [
              "   ANO_LETIVO NM_DIRETORIA NM_MUNICIPIO  CD_REDE_ENSINO  CD_ESCOLA  \\\n",
              "0        2021       PIRAJU       PIRAJU               1      34320   \n",
              "1        2021       PIRAJU       PIRAJU               1      34344   \n",
              "2        2021       PIRAJU       PIRAJU               1      34356   \n",
              "3        2021       PIRAJU       PIRAJU               1      34459   \n",
              "4        2021    AMERICANA    AMERICANA               1      17152   \n",
              "\n",
              "                       NM_COMPLETO_ESCOLA  CD_TP_IDENTIFICADOR  APR_1  REP_1  \\\n",
              "0  JOAQUIM GUILHERME MOREIRA PORTO DOUTOR                    8    0.0    0.0   \n",
              "1              QUINZINHO CAMARGO PREFEITO                    8    0.0    0.0   \n",
              "2                    NHONHO BRAGA CORONEL                    8    0.0    0.0   \n",
              "3                          ATALIBA LEONEL                    8    0.0    0.0   \n",
              "4             MAURA ARRUDA GUIDOLIN PROFA                    8  100.0    0.0   \n",
              "\n",
              "   ABA_1   APR_2  REP_2  ABA_2  APR_3  REP_3  ABA_3  \n",
              "0    0.0  100.00   0.00    0.0  100.0    0.0    0.0  \n",
              "1    0.0   99.56   0.44    0.0   94.0    2.0    4.0  \n",
              "2    0.0  100.00   0.00    0.0  100.0    0.0    0.0  \n",
              "3    0.0  100.00   0.00    0.0  100.0    0.0    0.0  \n",
              "4    0.0    0.00   0.00    0.0    0.0    0.0    0.0  "
            ]
          },
          "execution_count": 4,
          "metadata": {},
          "output_type": "execute_result"
        }
      ],
      "source": [
        "for index, row in df_cleaned.iterrows():\n",
        "    if(isinstance(row['APR_3'], datetime.datetime)):\n",
        "        if row['APR_3'].month < 10:\n",
        "            new_value = str(row['APR_3'].day) + \".0\" + str(row['APR_3'].month)\n",
        "        else:\n",
        "            new_value = str(row['APR_3'].day) + \".\" + str(row['APR_3'].month)\n",
        "        df_cleaned['APR_3'] = df_cleaned['APR_3'].replace([row['APR_3']], new_value)\n",
        "\n",
        "    if(isinstance(row['REP_3'], datetime.datetime)):\n",
        "        if row['REP_3'].month < 10:\n",
        "            new_value = str(row['REP_3'].day) + \".0\" + str(row['REP_3'].month)\n",
        "        else:\n",
        "            new_value = str(row['REP_3'].day) + \".\" + str(row['REP_3'].month)\n",
        "        df_cleaned['REP_3'] = df_cleaned['REP_3'].replace([row['REP_3']], new_value)\n",
        "\n",
        "    if(isinstance(row['ABA_3'], datetime.datetime)):\n",
        "        if row['ABA_3'].month < 10:\n",
        "            new_value = str(row['ABA_3'].day) + \".0\" + str(row['ABA_3'].month)\n",
        "        else:\n",
        "            new_value = str(row['ABA_3'].day) + \".\" + str(row['ABA_3'].month)\n",
        "        df_cleaned['ABA_3'] = df_cleaned['ABA_3'].replace([row['ABA_3']], new_value)\n",
        "\n",
        "print(df_cleaned.shape)\n",
        "df_cleaned.head()\n"
      ]
    },
    {
      "cell_type": "markdown",
      "metadata": {},
      "source": [
        "##Removing lines with negative number"
      ]
    },
    {
      "cell_type": "code",
      "execution_count": 5,
      "metadata": {
        "id": "kylsx2Gkz3M0"
      },
      "outputs": [
        {
          "name": "stdout",
          "output_type": "stream",
          "text": [
            "(5188, 16)\n"
          ]
        },
        {
          "data": {
            "text/html": [
              "<div>\n",
              "<style scoped>\n",
              "    .dataframe tbody tr th:only-of-type {\n",
              "        vertical-align: middle;\n",
              "    }\n",
              "\n",
              "    .dataframe tbody tr th {\n",
              "        vertical-align: top;\n",
              "    }\n",
              "\n",
              "    .dataframe thead th {\n",
              "        text-align: right;\n",
              "    }\n",
              "</style>\n",
              "<table border=\"1\" class=\"dataframe\">\n",
              "  <thead>\n",
              "    <tr style=\"text-align: right;\">\n",
              "      <th></th>\n",
              "      <th>ANO_LETIVO</th>\n",
              "      <th>NM_DIRETORIA</th>\n",
              "      <th>NM_MUNICIPIO</th>\n",
              "      <th>CD_REDE_ENSINO</th>\n",
              "      <th>CD_ESCOLA</th>\n",
              "      <th>NM_COMPLETO_ESCOLA</th>\n",
              "      <th>CD_TP_IDENTIFICADOR</th>\n",
              "      <th>APR_1</th>\n",
              "      <th>REP_1</th>\n",
              "      <th>ABA_1</th>\n",
              "      <th>APR_2</th>\n",
              "      <th>REP_2</th>\n",
              "      <th>ABA_2</th>\n",
              "      <th>APR_3</th>\n",
              "      <th>REP_3</th>\n",
              "      <th>ABA_3</th>\n",
              "    </tr>\n",
              "  </thead>\n",
              "  <tbody>\n",
              "    <tr>\n",
              "      <th>0</th>\n",
              "      <td>2021</td>\n",
              "      <td>PIRAJU</td>\n",
              "      <td>PIRAJU</td>\n",
              "      <td>1</td>\n",
              "      <td>34320</td>\n",
              "      <td>JOAQUIM GUILHERME MOREIRA PORTO DOUTOR</td>\n",
              "      <td>8</td>\n",
              "      <td>0.0</td>\n",
              "      <td>0.0</td>\n",
              "      <td>0.0</td>\n",
              "      <td>100.00</td>\n",
              "      <td>0.00</td>\n",
              "      <td>0.0</td>\n",
              "      <td>100.0</td>\n",
              "      <td>0.0</td>\n",
              "      <td>0.0</td>\n",
              "    </tr>\n",
              "    <tr>\n",
              "      <th>1</th>\n",
              "      <td>2021</td>\n",
              "      <td>PIRAJU</td>\n",
              "      <td>PIRAJU</td>\n",
              "      <td>1</td>\n",
              "      <td>34344</td>\n",
              "      <td>QUINZINHO CAMARGO PREFEITO</td>\n",
              "      <td>8</td>\n",
              "      <td>0.0</td>\n",
              "      <td>0.0</td>\n",
              "      <td>0.0</td>\n",
              "      <td>99.56</td>\n",
              "      <td>0.44</td>\n",
              "      <td>0.0</td>\n",
              "      <td>94.0</td>\n",
              "      <td>2.0</td>\n",
              "      <td>4.0</td>\n",
              "    </tr>\n",
              "    <tr>\n",
              "      <th>2</th>\n",
              "      <td>2021</td>\n",
              "      <td>PIRAJU</td>\n",
              "      <td>PIRAJU</td>\n",
              "      <td>1</td>\n",
              "      <td>34356</td>\n",
              "      <td>NHONHO BRAGA CORONEL</td>\n",
              "      <td>8</td>\n",
              "      <td>0.0</td>\n",
              "      <td>0.0</td>\n",
              "      <td>0.0</td>\n",
              "      <td>100.00</td>\n",
              "      <td>0.00</td>\n",
              "      <td>0.0</td>\n",
              "      <td>100.0</td>\n",
              "      <td>0.0</td>\n",
              "      <td>0.0</td>\n",
              "    </tr>\n",
              "    <tr>\n",
              "      <th>3</th>\n",
              "      <td>2021</td>\n",
              "      <td>PIRAJU</td>\n",
              "      <td>PIRAJU</td>\n",
              "      <td>1</td>\n",
              "      <td>34459</td>\n",
              "      <td>ATALIBA LEONEL</td>\n",
              "      <td>8</td>\n",
              "      <td>0.0</td>\n",
              "      <td>0.0</td>\n",
              "      <td>0.0</td>\n",
              "      <td>100.00</td>\n",
              "      <td>0.00</td>\n",
              "      <td>0.0</td>\n",
              "      <td>100.0</td>\n",
              "      <td>0.0</td>\n",
              "      <td>0.0</td>\n",
              "    </tr>\n",
              "    <tr>\n",
              "      <th>4</th>\n",
              "      <td>2021</td>\n",
              "      <td>AMERICANA</td>\n",
              "      <td>AMERICANA</td>\n",
              "      <td>1</td>\n",
              "      <td>17152</td>\n",
              "      <td>MAURA ARRUDA GUIDOLIN PROFA</td>\n",
              "      <td>8</td>\n",
              "      <td>100.0</td>\n",
              "      <td>0.0</td>\n",
              "      <td>0.0</td>\n",
              "      <td>0.00</td>\n",
              "      <td>0.00</td>\n",
              "      <td>0.0</td>\n",
              "      <td>0.0</td>\n",
              "      <td>0.0</td>\n",
              "      <td>0.0</td>\n",
              "    </tr>\n",
              "  </tbody>\n",
              "</table>\n",
              "</div>"
            ],
            "text/plain": [
              "   ANO_LETIVO NM_DIRETORIA NM_MUNICIPIO  CD_REDE_ENSINO  CD_ESCOLA  \\\n",
              "0        2021       PIRAJU       PIRAJU               1      34320   \n",
              "1        2021       PIRAJU       PIRAJU               1      34344   \n",
              "2        2021       PIRAJU       PIRAJU               1      34356   \n",
              "3        2021       PIRAJU       PIRAJU               1      34459   \n",
              "4        2021    AMERICANA    AMERICANA               1      17152   \n",
              "\n",
              "                       NM_COMPLETO_ESCOLA  CD_TP_IDENTIFICADOR  APR_1  REP_1  \\\n",
              "0  JOAQUIM GUILHERME MOREIRA PORTO DOUTOR                    8    0.0    0.0   \n",
              "1              QUINZINHO CAMARGO PREFEITO                    8    0.0    0.0   \n",
              "2                    NHONHO BRAGA CORONEL                    8    0.0    0.0   \n",
              "3                          ATALIBA LEONEL                    8    0.0    0.0   \n",
              "4             MAURA ARRUDA GUIDOLIN PROFA                    8  100.0    0.0   \n",
              "\n",
              "   ABA_1   APR_2  REP_2  ABA_2  APR_3  REP_3 ABA_3  \n",
              "0    0.0  100.00   0.00    0.0  100.0    0.0   0.0  \n",
              "1    0.0   99.56   0.44    0.0   94.0    2.0   4.0  \n",
              "2    0.0  100.00   0.00    0.0  100.0    0.0   0.0  \n",
              "3    0.0  100.00   0.00    0.0  100.0    0.0   0.0  \n",
              "4    0.0    0.00   0.00    0.0    0.0    0.0   0.0  "
            ]
          },
          "execution_count": 5,
          "metadata": {},
          "output_type": "execute_result"
        }
      ],
      "source": [
        "df_cleaned['ABA_3'] = df_cleaned['ABA_3'].astype(str)\n",
        "df_cleaned = df_cleaned[df_cleaned[\"ABA_3\"].str.contains(\"-\") == False]\n",
        "\n",
        "print(df_cleaned.shape)\n",
        "df_cleaned.head()"
      ]
    },
    {
      "cell_type": "markdown",
      "metadata": {},
      "source": [
        "##Convert columns to float"
      ]
    },
    {
      "cell_type": "code",
      "execution_count": 8,
      "metadata": {
        "id": "HqKOsQlJz3M0"
      },
      "outputs": [],
      "source": [
        "# df_cleaned['APR_3'] = df_cleaned['APR_3'].astype(float)\n",
        "# df_cleaned['REP_3'] = df_cleaned['REP_3'].astype(float)\n",
        "# df_cleaned['ABA_3'] = df_cleaned['ABA_3'].astype(float)\n",
        "\n",
        "df_cleaned['APR_3'] = df_cleaned['APR_3'].astype(int)\n",
        "df_cleaned['REP_3'] = df_cleaned['REP_3'].astype(int)\n",
        "df_cleaned['ABA_3'] = df_cleaned['ABA_3'].astype(int)"
      ]
    },
    {
      "cell_type": "markdown",
      "metadata": {},
      "source": [
        "##Remove rows that have just 0 values and reset index"
      ]
    },
    {
      "cell_type": "code",
      "execution_count": 9,
      "metadata": {},
      "outputs": [
        {
          "name": "stdout",
          "output_type": "stream",
          "text": [
            "(3739, 17)\n"
          ]
        },
        {
          "data": {
            "text/html": [
              "<div>\n",
              "<style scoped>\n",
              "    .dataframe tbody tr th:only-of-type {\n",
              "        vertical-align: middle;\n",
              "    }\n",
              "\n",
              "    .dataframe tbody tr th {\n",
              "        vertical-align: top;\n",
              "    }\n",
              "\n",
              "    .dataframe thead th {\n",
              "        text-align: right;\n",
              "    }\n",
              "</style>\n",
              "<table border=\"1\" class=\"dataframe\">\n",
              "  <thead>\n",
              "    <tr style=\"text-align: right;\">\n",
              "      <th></th>\n",
              "      <th>index</th>\n",
              "      <th>ANO_LETIVO</th>\n",
              "      <th>NM_DIRETORIA</th>\n",
              "      <th>NM_MUNICIPIO</th>\n",
              "      <th>CD_REDE_ENSINO</th>\n",
              "      <th>CD_ESCOLA</th>\n",
              "      <th>NM_COMPLETO_ESCOLA</th>\n",
              "      <th>CD_TP_IDENTIFICADOR</th>\n",
              "      <th>APR_1</th>\n",
              "      <th>REP_1</th>\n",
              "      <th>ABA_1</th>\n",
              "      <th>APR_2</th>\n",
              "      <th>REP_2</th>\n",
              "      <th>ABA_2</th>\n",
              "      <th>APR_3</th>\n",
              "      <th>REP_3</th>\n",
              "      <th>ABA_3</th>\n",
              "    </tr>\n",
              "  </thead>\n",
              "  <tbody>\n",
              "    <tr>\n",
              "      <th>0</th>\n",
              "      <td>0</td>\n",
              "      <td>2021</td>\n",
              "      <td>PIRAJU</td>\n",
              "      <td>PIRAJU</td>\n",
              "      <td>1</td>\n",
              "      <td>34320</td>\n",
              "      <td>JOAQUIM GUILHERME MOREIRA PORTO DOUTOR</td>\n",
              "      <td>8</td>\n",
              "      <td>0.00</td>\n",
              "      <td>0.00</td>\n",
              "      <td>0.0</td>\n",
              "      <td>100.00</td>\n",
              "      <td>0.00</td>\n",
              "      <td>0.0</td>\n",
              "      <td>100</td>\n",
              "      <td>0</td>\n",
              "      <td>0</td>\n",
              "    </tr>\n",
              "    <tr>\n",
              "      <th>1</th>\n",
              "      <td>1</td>\n",
              "      <td>2021</td>\n",
              "      <td>PIRAJU</td>\n",
              "      <td>PIRAJU</td>\n",
              "      <td>1</td>\n",
              "      <td>34344</td>\n",
              "      <td>QUINZINHO CAMARGO PREFEITO</td>\n",
              "      <td>8</td>\n",
              "      <td>0.00</td>\n",
              "      <td>0.00</td>\n",
              "      <td>0.0</td>\n",
              "      <td>99.56</td>\n",
              "      <td>0.44</td>\n",
              "      <td>0.0</td>\n",
              "      <td>94</td>\n",
              "      <td>2</td>\n",
              "      <td>4</td>\n",
              "    </tr>\n",
              "    <tr>\n",
              "      <th>2</th>\n",
              "      <td>2</td>\n",
              "      <td>2021</td>\n",
              "      <td>PIRAJU</td>\n",
              "      <td>PIRAJU</td>\n",
              "      <td>1</td>\n",
              "      <td>34356</td>\n",
              "      <td>NHONHO BRAGA CORONEL</td>\n",
              "      <td>8</td>\n",
              "      <td>0.00</td>\n",
              "      <td>0.00</td>\n",
              "      <td>0.0</td>\n",
              "      <td>100.00</td>\n",
              "      <td>0.00</td>\n",
              "      <td>0.0</td>\n",
              "      <td>100</td>\n",
              "      <td>0</td>\n",
              "      <td>0</td>\n",
              "    </tr>\n",
              "    <tr>\n",
              "      <th>3</th>\n",
              "      <td>3</td>\n",
              "      <td>2021</td>\n",
              "      <td>PIRAJU</td>\n",
              "      <td>PIRAJU</td>\n",
              "      <td>1</td>\n",
              "      <td>34459</td>\n",
              "      <td>ATALIBA LEONEL</td>\n",
              "      <td>8</td>\n",
              "      <td>0.00</td>\n",
              "      <td>0.00</td>\n",
              "      <td>0.0</td>\n",
              "      <td>100.00</td>\n",
              "      <td>0.00</td>\n",
              "      <td>0.0</td>\n",
              "      <td>100</td>\n",
              "      <td>0</td>\n",
              "      <td>0</td>\n",
              "    </tr>\n",
              "    <tr>\n",
              "      <th>4</th>\n",
              "      <td>6</td>\n",
              "      <td>2021</td>\n",
              "      <td>AMERICANA</td>\n",
              "      <td>AMERICANA</td>\n",
              "      <td>1</td>\n",
              "      <td>17176</td>\n",
              "      <td>MAGI MONSENHOR</td>\n",
              "      <td>8</td>\n",
              "      <td>94.74</td>\n",
              "      <td>5.26</td>\n",
              "      <td>0.0</td>\n",
              "      <td>93.35</td>\n",
              "      <td>6.65</td>\n",
              "      <td>0.0</td>\n",
              "      <td>79</td>\n",
              "      <td>19</td>\n",
              "      <td>0</td>\n",
              "    </tr>\n",
              "  </tbody>\n",
              "</table>\n",
              "</div>"
            ],
            "text/plain": [
              "   index  ANO_LETIVO NM_DIRETORIA NM_MUNICIPIO  CD_REDE_ENSINO  CD_ESCOLA  \\\n",
              "0      0        2021       PIRAJU       PIRAJU               1      34320   \n",
              "1      1        2021       PIRAJU       PIRAJU               1      34344   \n",
              "2      2        2021       PIRAJU       PIRAJU               1      34356   \n",
              "3      3        2021       PIRAJU       PIRAJU               1      34459   \n",
              "4      6        2021    AMERICANA    AMERICANA               1      17176   \n",
              "\n",
              "                       NM_COMPLETO_ESCOLA  CD_TP_IDENTIFICADOR  APR_1  REP_1  \\\n",
              "0  JOAQUIM GUILHERME MOREIRA PORTO DOUTOR                    8   0.00   0.00   \n",
              "1              QUINZINHO CAMARGO PREFEITO                    8   0.00   0.00   \n",
              "2                    NHONHO BRAGA CORONEL                    8   0.00   0.00   \n",
              "3                          ATALIBA LEONEL                    8   0.00   0.00   \n",
              "4                          MAGI MONSENHOR                    8  94.74   5.26   \n",
              "\n",
              "   ABA_1   APR_2  REP_2  ABA_2  APR_3  REP_3  ABA_3  \n",
              "0    0.0  100.00   0.00    0.0    100      0      0  \n",
              "1    0.0   99.56   0.44    0.0     94      2      4  \n",
              "2    0.0  100.00   0.00    0.0    100      0      0  \n",
              "3    0.0  100.00   0.00    0.0    100      0      0  \n",
              "4    0.0   93.35   6.65    0.0     79     19      0  "
            ]
          },
          "execution_count": 9,
          "metadata": {},
          "output_type": "execute_result"
        }
      ],
      "source": [
        "indexZero = df_cleaned[(df_cleaned['APR_3'] == 0) & (df_cleaned['REP_3'] == 0) & (df_cleaned['ABA_3'] == 0)].index\n",
        "df_cleaned.drop(indexZero, inplace=True)\n",
        "\n",
        "df_cleaned = df_cleaned.reset_index()\n",
        "\n",
        "print(df_cleaned.shape)\n",
        "df_cleaned.head()"
      ]
    },
    {
      "cell_type": "markdown",
      "metadata": {},
      "source": [
        "##Rename fields"
      ]
    },
    {
      "cell_type": "code",
      "execution_count": 10,
      "metadata": {},
      "outputs": [
        {
          "data": {
            "text/html": [
              "<div>\n",
              "<style scoped>\n",
              "    .dataframe tbody tr th:only-of-type {\n",
              "        vertical-align: middle;\n",
              "    }\n",
              "\n",
              "    .dataframe tbody tr th {\n",
              "        vertical-align: top;\n",
              "    }\n",
              "\n",
              "    .dataframe thead th {\n",
              "        text-align: right;\n",
              "    }\n",
              "</style>\n",
              "<table border=\"1\" class=\"dataframe\">\n",
              "  <thead>\n",
              "    <tr style=\"text-align: right;\">\n",
              "      <th></th>\n",
              "      <th>index</th>\n",
              "      <th>ANO_LETIVO</th>\n",
              "      <th>NM_DIRETORIA</th>\n",
              "      <th>municipio</th>\n",
              "      <th>id_rede_ensino</th>\n",
              "      <th>id_escola</th>\n",
              "      <th>escola</th>\n",
              "      <th>CD_TP_IDENTIFICADOR</th>\n",
              "      <th>APR_1</th>\n",
              "      <th>REP_1</th>\n",
              "      <th>ABA_1</th>\n",
              "      <th>APR_2</th>\n",
              "      <th>REP_2</th>\n",
              "      <th>ABA_2</th>\n",
              "      <th>aprovado</th>\n",
              "      <th>reprovado</th>\n",
              "      <th>abandono</th>\n",
              "    </tr>\n",
              "  </thead>\n",
              "  <tbody>\n",
              "    <tr>\n",
              "      <th>0</th>\n",
              "      <td>0</td>\n",
              "      <td>2021</td>\n",
              "      <td>PIRAJU</td>\n",
              "      <td>PIRAJU</td>\n",
              "      <td>1</td>\n",
              "      <td>34320</td>\n",
              "      <td>JOAQUIM GUILHERME MOREIRA PORTO DOUTOR</td>\n",
              "      <td>8</td>\n",
              "      <td>0.00</td>\n",
              "      <td>0.00</td>\n",
              "      <td>0.0</td>\n",
              "      <td>100.00</td>\n",
              "      <td>0.00</td>\n",
              "      <td>0.0</td>\n",
              "      <td>100</td>\n",
              "      <td>0</td>\n",
              "      <td>0</td>\n",
              "    </tr>\n",
              "    <tr>\n",
              "      <th>1</th>\n",
              "      <td>1</td>\n",
              "      <td>2021</td>\n",
              "      <td>PIRAJU</td>\n",
              "      <td>PIRAJU</td>\n",
              "      <td>1</td>\n",
              "      <td>34344</td>\n",
              "      <td>QUINZINHO CAMARGO PREFEITO</td>\n",
              "      <td>8</td>\n",
              "      <td>0.00</td>\n",
              "      <td>0.00</td>\n",
              "      <td>0.0</td>\n",
              "      <td>99.56</td>\n",
              "      <td>0.44</td>\n",
              "      <td>0.0</td>\n",
              "      <td>94</td>\n",
              "      <td>2</td>\n",
              "      <td>4</td>\n",
              "    </tr>\n",
              "    <tr>\n",
              "      <th>2</th>\n",
              "      <td>2</td>\n",
              "      <td>2021</td>\n",
              "      <td>PIRAJU</td>\n",
              "      <td>PIRAJU</td>\n",
              "      <td>1</td>\n",
              "      <td>34356</td>\n",
              "      <td>NHONHO BRAGA CORONEL</td>\n",
              "      <td>8</td>\n",
              "      <td>0.00</td>\n",
              "      <td>0.00</td>\n",
              "      <td>0.0</td>\n",
              "      <td>100.00</td>\n",
              "      <td>0.00</td>\n",
              "      <td>0.0</td>\n",
              "      <td>100</td>\n",
              "      <td>0</td>\n",
              "      <td>0</td>\n",
              "    </tr>\n",
              "    <tr>\n",
              "      <th>3</th>\n",
              "      <td>3</td>\n",
              "      <td>2021</td>\n",
              "      <td>PIRAJU</td>\n",
              "      <td>PIRAJU</td>\n",
              "      <td>1</td>\n",
              "      <td>34459</td>\n",
              "      <td>ATALIBA LEONEL</td>\n",
              "      <td>8</td>\n",
              "      <td>0.00</td>\n",
              "      <td>0.00</td>\n",
              "      <td>0.0</td>\n",
              "      <td>100.00</td>\n",
              "      <td>0.00</td>\n",
              "      <td>0.0</td>\n",
              "      <td>100</td>\n",
              "      <td>0</td>\n",
              "      <td>0</td>\n",
              "    </tr>\n",
              "    <tr>\n",
              "      <th>4</th>\n",
              "      <td>6</td>\n",
              "      <td>2021</td>\n",
              "      <td>AMERICANA</td>\n",
              "      <td>AMERICANA</td>\n",
              "      <td>1</td>\n",
              "      <td>17176</td>\n",
              "      <td>MAGI MONSENHOR</td>\n",
              "      <td>8</td>\n",
              "      <td>94.74</td>\n",
              "      <td>5.26</td>\n",
              "      <td>0.0</td>\n",
              "      <td>93.35</td>\n",
              "      <td>6.65</td>\n",
              "      <td>0.0</td>\n",
              "      <td>79</td>\n",
              "      <td>19</td>\n",
              "      <td>0</td>\n",
              "    </tr>\n",
              "  </tbody>\n",
              "</table>\n",
              "</div>"
            ],
            "text/plain": [
              "   index  ANO_LETIVO NM_DIRETORIA  municipio  id_rede_ensino  id_escola  \\\n",
              "0      0        2021       PIRAJU     PIRAJU               1      34320   \n",
              "1      1        2021       PIRAJU     PIRAJU               1      34344   \n",
              "2      2        2021       PIRAJU     PIRAJU               1      34356   \n",
              "3      3        2021       PIRAJU     PIRAJU               1      34459   \n",
              "4      6        2021    AMERICANA  AMERICANA               1      17176   \n",
              "\n",
              "                                   escola  CD_TP_IDENTIFICADOR  APR_1  REP_1  \\\n",
              "0  JOAQUIM GUILHERME MOREIRA PORTO DOUTOR                    8   0.00   0.00   \n",
              "1              QUINZINHO CAMARGO PREFEITO                    8   0.00   0.00   \n",
              "2                    NHONHO BRAGA CORONEL                    8   0.00   0.00   \n",
              "3                          ATALIBA LEONEL                    8   0.00   0.00   \n",
              "4                          MAGI MONSENHOR                    8  94.74   5.26   \n",
              "\n",
              "   ABA_1   APR_2  REP_2  ABA_2  aprovado  reprovado  abandono  \n",
              "0    0.0  100.00   0.00    0.0       100          0         0  \n",
              "1    0.0   99.56   0.44    0.0        94          2         4  \n",
              "2    0.0  100.00   0.00    0.0       100          0         0  \n",
              "3    0.0  100.00   0.00    0.0       100          0         0  \n",
              "4    0.0   93.35   6.65    0.0        79         19         0  "
            ]
          },
          "execution_count": 10,
          "metadata": {},
          "output_type": "execute_result"
        }
      ],
      "source": [
        "df_cleaned = df_cleaned.rename(columns={'Ano':'ano', 'NM_MUNICIPIO':'municipio', 'CD_REDE_ENSINO':'id_rede_ensino', 'CD_ESCOLA':'id_escola', 'NM_COMPLETO_ESCOLA':'escola', 'APR_3':'aprovado', 'REP_3':'reprovado', 'ABA_3':'abandono'})\n",
        "df_cleaned.head()"
      ]
    },
    {
      "cell_type": "markdown",
      "metadata": {},
      "source": [
        "##Normalizing data"
      ]
    },
    {
      "cell_type": "code",
      "execution_count": null,
      "metadata": {
        "id": "erD3RDQozSMZ"
      },
      "outputs": [],
      "source": [
        "# normalized_list = preprocessing.normalize([df_cleaned['aprovado'],df_cleaned['reprovado'],df_cleaned['abandono']])\n",
        "\n",
        "# df_cleaned['aprovado_normalized'] = normalized_list[0]\n",
        "# df_cleaned['reprovado_normalized'] = normalized_list[1]\n",
        "# df_cleaned['abandono_normalized'] = normalized_list[2]\n",
        "\n",
        "# df_cleaned.head()"
      ]
    },
    {
      "cell_type": "markdown",
      "metadata": {},
      "source": [
        "##Creating normalized file"
      ]
    },
    {
      "cell_type": "code",
      "execution_count": 11,
      "metadata": {},
      "outputs": [
        {
          "name": "stderr",
          "output_type": "stream",
          "text": [
            "/Library/Frameworks/Python.framework/Versions/3.10/lib/python3.10/site-packages/pandas/util/_decorators.py:211: FutureWarning: the 'encoding' keyword is deprecated and will be removed in a future version. Please take steps to stop the use of 'encoding'\n",
            "  return func(*args, **kwargs)\n"
          ]
        }
      ],
      "source": [
        "df_cleaned.to_excel('./data/FluxoEscolarNormalizado.xlsx', encoding=\"utf-8\")"
      ]
    },
    {
      "cell_type": "markdown",
      "metadata": {},
      "source": [
        "# Start of creating the predictive model"
      ]
    },
    {
      "cell_type": "markdown",
      "metadata": {},
      "source": [
        "#Check point: Open the file created from the normalization above"
      ]
    },
    {
      "cell_type": "code",
      "execution_count": 75,
      "metadata": {},
      "outputs": [
        {
          "data": {
            "text/html": [
              "<div>\n",
              "<style scoped>\n",
              "    .dataframe tbody tr th:only-of-type {\n",
              "        vertical-align: middle;\n",
              "    }\n",
              "\n",
              "    .dataframe tbody tr th {\n",
              "        vertical-align: top;\n",
              "    }\n",
              "\n",
              "    .dataframe thead th {\n",
              "        text-align: right;\n",
              "    }\n",
              "</style>\n",
              "<table border=\"1\" class=\"dataframe\">\n",
              "  <thead>\n",
              "    <tr style=\"text-align: right;\">\n",
              "      <th></th>\n",
              "      <th>municipio</th>\n",
              "      <th>id_rede_ensino</th>\n",
              "      <th>id_escola</th>\n",
              "      <th>aprovado</th>\n",
              "    </tr>\n",
              "  </thead>\n",
              "  <tbody>\n",
              "    <tr>\n",
              "      <th>0</th>\n",
              "      <td>PIRAJU</td>\n",
              "      <td>1</td>\n",
              "      <td>34320</td>\n",
              "      <td>100</td>\n",
              "    </tr>\n",
              "    <tr>\n",
              "      <th>1</th>\n",
              "      <td>PIRAJU</td>\n",
              "      <td>1</td>\n",
              "      <td>34344</td>\n",
              "      <td>94</td>\n",
              "    </tr>\n",
              "    <tr>\n",
              "      <th>2</th>\n",
              "      <td>PIRAJU</td>\n",
              "      <td>1</td>\n",
              "      <td>34356</td>\n",
              "      <td>100</td>\n",
              "    </tr>\n",
              "    <tr>\n",
              "      <th>3</th>\n",
              "      <td>PIRAJU</td>\n",
              "      <td>1</td>\n",
              "      <td>34459</td>\n",
              "      <td>100</td>\n",
              "    </tr>\n",
              "    <tr>\n",
              "      <th>4</th>\n",
              "      <td>AMERICANA</td>\n",
              "      <td>1</td>\n",
              "      <td>17176</td>\n",
              "      <td>79</td>\n",
              "    </tr>\n",
              "  </tbody>\n",
              "</table>\n",
              "</div>"
            ],
            "text/plain": [
              "   municipio  id_rede_ensino  id_escola  aprovado\n",
              "0     PIRAJU               1      34320       100\n",
              "1     PIRAJU               1      34344        94\n",
              "2     PIRAJU               1      34356       100\n",
              "3     PIRAJU               1      34459       100\n",
              "4  AMERICANA               1      17176        79"
            ]
          },
          "execution_count": 75,
          "metadata": {},
          "output_type": "execute_result"
        }
      ],
      "source": [
        "df = pd.read_excel('./data/FluxoEscolarNormalizado.xlsx', engine='openpyxl')\n",
        "# df = df.drop(['Unnamed: 0', 'index', 'aprovado', 'reprovado', 'abandono','escola', 'reprovado_normalized', 'abandono_normalized'], axis='columns')\n",
        "df = df.drop(['Unnamed: 0', 'index', 'reprovado', 'abandono','escola'], axis='columns')\n",
        "df = df.drop(['ANO_LETIVO', 'NM_DIRETORIA', 'CD_TP_IDENTIFICADOR', 'APR_1', 'REP_1','ABA_1', 'APR_2', 'REP_2', 'ABA_2'], axis='columns')\n",
        "df.head()"
      ]
    },
    {
      "cell_type": "markdown",
      "metadata": {},
      "source": [
        "#Scraping the data to decrease bias"
      ]
    },
    {
      "cell_type": "code",
      "execution_count": 76,
      "metadata": {},
      "outputs": [
        {
          "data": {
            "text/html": [
              "<div>\n",
              "<style scoped>\n",
              "    .dataframe tbody tr th:only-of-type {\n",
              "        vertical-align: middle;\n",
              "    }\n",
              "\n",
              "    .dataframe tbody tr th {\n",
              "        vertical-align: top;\n",
              "    }\n",
              "\n",
              "    .dataframe thead th {\n",
              "        text-align: right;\n",
              "    }\n",
              "</style>\n",
              "<table border=\"1\" class=\"dataframe\">\n",
              "  <thead>\n",
              "    <tr style=\"text-align: right;\">\n",
              "      <th></th>\n",
              "      <th>municipio</th>\n",
              "      <th>id_rede_ensino</th>\n",
              "      <th>id_escola</th>\n",
              "      <th>aprovado</th>\n",
              "    </tr>\n",
              "  </thead>\n",
              "  <tbody>\n",
              "    <tr>\n",
              "      <th>0</th>\n",
              "      <td>SAO JOSE DOS CAMPOS</td>\n",
              "      <td>1</td>\n",
              "      <td>917266</td>\n",
              "      <td>94</td>\n",
              "    </tr>\n",
              "    <tr>\n",
              "      <th>1</th>\n",
              "      <td>JABOTICABAL</td>\n",
              "      <td>1</td>\n",
              "      <td>922511</td>\n",
              "      <td>98</td>\n",
              "    </tr>\n",
              "    <tr>\n",
              "      <th>2</th>\n",
              "      <td>SAO PAULO</td>\n",
              "      <td>1</td>\n",
              "      <td>3724</td>\n",
              "      <td>84</td>\n",
              "    </tr>\n",
              "    <tr>\n",
              "      <th>3</th>\n",
              "      <td>PIRACICABA</td>\n",
              "      <td>1</td>\n",
              "      <td>20928</td>\n",
              "      <td>100</td>\n",
              "    </tr>\n",
              "    <tr>\n",
              "      <th>4</th>\n",
              "      <td>ITAOCA</td>\n",
              "      <td>1</td>\n",
              "      <td>48203</td>\n",
              "      <td>100</td>\n",
              "    </tr>\n",
              "  </tbody>\n",
              "</table>\n",
              "</div>"
            ],
            "text/plain": [
              "             municipio  id_rede_ensino  id_escola  aprovado\n",
              "0  SAO JOSE DOS CAMPOS               1     917266        94\n",
              "1          JABOTICABAL               1     922511        98\n",
              "2            SAO PAULO               1       3724        84\n",
              "3           PIRACICABA               1      20928       100\n",
              "4               ITAOCA               1      48203       100"
            ]
          },
          "execution_count": 76,
          "metadata": {},
          "output_type": "execute_result"
        }
      ],
      "source": [
        "random_df = df.sample(frac=1).reset_index(drop=True)\n",
        "random_df.head()"
      ]
    },
    {
      "cell_type": "markdown",
      "metadata": {},
      "source": [
        "#Split the data frame between training and testing"
      ]
    },
    {
      "cell_type": "code",
      "execution_count": 77,
      "metadata": {},
      "outputs": [],
      "source": [
        "train, test = train_test_split(random_df, test_size=0.2)"
      ]
    },
    {
      "cell_type": "markdown",
      "metadata": {},
      "source": [
        "## Handling training data"
      ]
    },
    {
      "cell_type": "markdown",
      "metadata": {},
      "source": [
        "#Split between predictors and classes"
      ]
    },
    {
      "cell_type": "code",
      "execution_count": 78,
      "metadata": {},
      "outputs": [
        {
          "data": {
            "text/plain": [
              "Index(['municipio', 'id_rede_ensino', 'id_escola', 'aprovado'], dtype='object')"
            ]
          },
          "execution_count": 78,
          "metadata": {},
          "output_type": "execute_result"
        }
      ],
      "source": [
        "train.columns"
      ]
    },
    {
      "cell_type": "markdown",
      "metadata": {},
      "source": [
        "#Get all the feature examples"
      ]
    },
    {
      "cell_type": "code",
      "execution_count": 79,
      "metadata": {},
      "outputs": [
        {
          "data": {
            "text/plain": [
              "array([['SAO SEBASTIAO', 1, 11289],\n",
              "       ['BARUERI', 1, 40548],\n",
              "       ['SAO PAULO', 1, 3931],\n",
              "       ...,\n",
              "       ['ITAPEVA', 1, 15477],\n",
              "       ['BARRA BONITA', 1, 26062],\n",
              "       ['TEODORO SAMPAIO', 1, 32177]], dtype=object)"
            ]
          },
          "execution_count": 79,
          "metadata": {},
          "output_type": "execute_result"
        }
      ],
      "source": [
        "x_df_train = train.iloc[:, 0:3].values\n",
        "x_df_train"
      ]
    },
    {
      "cell_type": "markdown",
      "metadata": {},
      "source": [
        "#Get all labels from the target"
      ]
    },
    {
      "cell_type": "code",
      "execution_count": 80,
      "metadata": {},
      "outputs": [
        {
          "data": {
            "text/plain": [
              "array([100, 100, 100, ..., 100, 100, 100])"
            ]
          },
          "execution_count": 80,
          "metadata": {},
          "output_type": "execute_result"
        }
      ],
      "source": [
        "y_df_train = train.iloc[:, -1].values\n",
        "y_df_train"
      ]
    },
    {
      "cell_type": "markdown",
      "metadata": {},
      "source": [
        "#Handling categorical data with one hot encoder"
      ]
    },
    {
      "cell_type": "code",
      "execution_count": 81,
      "metadata": {},
      "outputs": [],
      "source": [
        "onehotencoder_train = ColumnTransformer(transformers=[('OneHot', OneHotEncoder(), [0])], remainder='passthrough')"
      ]
    },
    {
      "cell_type": "code",
      "execution_count": 82,
      "metadata": {},
      "outputs": [
        {
          "data": {
            "text/plain": [
              "array([0.0000e+00, 0.0000e+00, 0.0000e+00, 0.0000e+00, 0.0000e+00,\n",
              "       0.0000e+00, 0.0000e+00, 0.0000e+00, 0.0000e+00, 0.0000e+00,\n",
              "       0.0000e+00, 0.0000e+00, 0.0000e+00, 0.0000e+00, 0.0000e+00,\n",
              "       0.0000e+00, 0.0000e+00, 0.0000e+00, 0.0000e+00, 0.0000e+00,\n",
              "       0.0000e+00, 0.0000e+00, 0.0000e+00, 0.0000e+00, 0.0000e+00,\n",
              "       0.0000e+00, 0.0000e+00, 0.0000e+00, 0.0000e+00, 0.0000e+00,\n",
              "       0.0000e+00, 0.0000e+00, 0.0000e+00, 0.0000e+00, 0.0000e+00,\n",
              "       0.0000e+00, 0.0000e+00, 0.0000e+00, 0.0000e+00, 0.0000e+00,\n",
              "       0.0000e+00, 0.0000e+00, 0.0000e+00, 0.0000e+00, 0.0000e+00,\n",
              "       0.0000e+00, 0.0000e+00, 0.0000e+00, 0.0000e+00, 0.0000e+00,\n",
              "       0.0000e+00, 0.0000e+00, 0.0000e+00, 0.0000e+00, 0.0000e+00,\n",
              "       0.0000e+00, 0.0000e+00, 0.0000e+00, 0.0000e+00, 0.0000e+00,\n",
              "       0.0000e+00, 0.0000e+00, 0.0000e+00, 0.0000e+00, 0.0000e+00,\n",
              "       0.0000e+00, 0.0000e+00, 0.0000e+00, 0.0000e+00, 0.0000e+00,\n",
              "       0.0000e+00, 0.0000e+00, 0.0000e+00, 0.0000e+00, 0.0000e+00,\n",
              "       0.0000e+00, 0.0000e+00, 0.0000e+00, 0.0000e+00, 0.0000e+00,\n",
              "       0.0000e+00, 0.0000e+00, 0.0000e+00, 0.0000e+00, 0.0000e+00,\n",
              "       0.0000e+00, 0.0000e+00, 0.0000e+00, 0.0000e+00, 0.0000e+00,\n",
              "       0.0000e+00, 0.0000e+00, 0.0000e+00, 0.0000e+00, 0.0000e+00,\n",
              "       0.0000e+00, 0.0000e+00, 0.0000e+00, 0.0000e+00, 0.0000e+00,\n",
              "       0.0000e+00, 0.0000e+00, 0.0000e+00, 0.0000e+00, 0.0000e+00,\n",
              "       0.0000e+00, 0.0000e+00, 0.0000e+00, 0.0000e+00, 0.0000e+00,\n",
              "       0.0000e+00, 0.0000e+00, 0.0000e+00, 0.0000e+00, 0.0000e+00,\n",
              "       0.0000e+00, 0.0000e+00, 0.0000e+00, 0.0000e+00, 0.0000e+00,\n",
              "       0.0000e+00, 0.0000e+00, 0.0000e+00, 0.0000e+00, 0.0000e+00,\n",
              "       0.0000e+00, 0.0000e+00, 0.0000e+00, 0.0000e+00, 0.0000e+00,\n",
              "       0.0000e+00, 0.0000e+00, 0.0000e+00, 0.0000e+00, 0.0000e+00,\n",
              "       0.0000e+00, 0.0000e+00, 0.0000e+00, 0.0000e+00, 0.0000e+00,\n",
              "       0.0000e+00, 0.0000e+00, 0.0000e+00, 0.0000e+00, 0.0000e+00,\n",
              "       0.0000e+00, 0.0000e+00, 0.0000e+00, 0.0000e+00, 0.0000e+00,\n",
              "       0.0000e+00, 0.0000e+00, 0.0000e+00, 0.0000e+00, 0.0000e+00,\n",
              "       0.0000e+00, 0.0000e+00, 0.0000e+00, 0.0000e+00, 0.0000e+00,\n",
              "       0.0000e+00, 0.0000e+00, 0.0000e+00, 0.0000e+00, 0.0000e+00,\n",
              "       0.0000e+00, 0.0000e+00, 0.0000e+00, 0.0000e+00, 0.0000e+00,\n",
              "       0.0000e+00, 0.0000e+00, 0.0000e+00, 0.0000e+00, 0.0000e+00,\n",
              "       0.0000e+00, 0.0000e+00, 0.0000e+00, 0.0000e+00, 0.0000e+00,\n",
              "       0.0000e+00, 0.0000e+00, 0.0000e+00, 0.0000e+00, 0.0000e+00,\n",
              "       0.0000e+00, 0.0000e+00, 0.0000e+00, 0.0000e+00, 0.0000e+00,\n",
              "       0.0000e+00, 0.0000e+00, 0.0000e+00, 0.0000e+00, 0.0000e+00,\n",
              "       0.0000e+00, 0.0000e+00, 0.0000e+00, 0.0000e+00, 0.0000e+00,\n",
              "       0.0000e+00, 0.0000e+00, 0.0000e+00, 0.0000e+00, 0.0000e+00,\n",
              "       0.0000e+00, 0.0000e+00, 0.0000e+00, 0.0000e+00, 0.0000e+00,\n",
              "       0.0000e+00, 0.0000e+00, 0.0000e+00, 0.0000e+00, 0.0000e+00,\n",
              "       0.0000e+00, 0.0000e+00, 0.0000e+00, 0.0000e+00, 0.0000e+00,\n",
              "       0.0000e+00, 0.0000e+00, 0.0000e+00, 0.0000e+00, 0.0000e+00,\n",
              "       0.0000e+00, 0.0000e+00, 0.0000e+00, 0.0000e+00, 0.0000e+00,\n",
              "       0.0000e+00, 0.0000e+00, 0.0000e+00, 0.0000e+00, 0.0000e+00,\n",
              "       0.0000e+00, 0.0000e+00, 0.0000e+00, 0.0000e+00, 0.0000e+00,\n",
              "       0.0000e+00, 0.0000e+00, 0.0000e+00, 0.0000e+00, 0.0000e+00,\n",
              "       0.0000e+00, 0.0000e+00, 0.0000e+00, 0.0000e+00, 0.0000e+00,\n",
              "       0.0000e+00, 0.0000e+00, 0.0000e+00, 0.0000e+00, 0.0000e+00,\n",
              "       0.0000e+00, 0.0000e+00, 0.0000e+00, 0.0000e+00, 0.0000e+00,\n",
              "       0.0000e+00, 0.0000e+00, 0.0000e+00, 0.0000e+00, 0.0000e+00,\n",
              "       0.0000e+00, 0.0000e+00, 0.0000e+00, 0.0000e+00, 0.0000e+00,\n",
              "       0.0000e+00, 0.0000e+00, 0.0000e+00, 0.0000e+00, 0.0000e+00,\n",
              "       0.0000e+00, 0.0000e+00, 0.0000e+00, 0.0000e+00, 0.0000e+00,\n",
              "       0.0000e+00, 0.0000e+00, 0.0000e+00, 0.0000e+00, 0.0000e+00,\n",
              "       0.0000e+00, 0.0000e+00, 0.0000e+00, 0.0000e+00, 0.0000e+00,\n",
              "       0.0000e+00, 0.0000e+00, 0.0000e+00, 0.0000e+00, 0.0000e+00,\n",
              "       0.0000e+00, 0.0000e+00, 0.0000e+00, 0.0000e+00, 0.0000e+00,\n",
              "       0.0000e+00, 0.0000e+00, 0.0000e+00, 0.0000e+00, 0.0000e+00,\n",
              "       0.0000e+00, 0.0000e+00, 0.0000e+00, 0.0000e+00, 0.0000e+00,\n",
              "       0.0000e+00, 0.0000e+00, 0.0000e+00, 0.0000e+00, 0.0000e+00,\n",
              "       0.0000e+00, 0.0000e+00, 0.0000e+00, 0.0000e+00, 0.0000e+00,\n",
              "       0.0000e+00, 0.0000e+00, 0.0000e+00, 0.0000e+00, 0.0000e+00,\n",
              "       0.0000e+00, 0.0000e+00, 0.0000e+00, 0.0000e+00, 0.0000e+00,\n",
              "       0.0000e+00, 0.0000e+00, 0.0000e+00, 0.0000e+00, 0.0000e+00,\n",
              "       0.0000e+00, 0.0000e+00, 0.0000e+00, 0.0000e+00, 0.0000e+00,\n",
              "       0.0000e+00, 0.0000e+00, 0.0000e+00, 0.0000e+00, 0.0000e+00,\n",
              "       0.0000e+00, 0.0000e+00, 0.0000e+00, 0.0000e+00, 0.0000e+00,\n",
              "       0.0000e+00, 0.0000e+00, 0.0000e+00, 0.0000e+00, 0.0000e+00,\n",
              "       0.0000e+00, 0.0000e+00, 0.0000e+00, 0.0000e+00, 0.0000e+00,\n",
              "       0.0000e+00, 0.0000e+00, 0.0000e+00, 0.0000e+00, 0.0000e+00,\n",
              "       0.0000e+00, 0.0000e+00, 0.0000e+00, 0.0000e+00, 0.0000e+00,\n",
              "       0.0000e+00, 0.0000e+00, 0.0000e+00, 0.0000e+00, 0.0000e+00,\n",
              "       0.0000e+00, 0.0000e+00, 0.0000e+00, 0.0000e+00, 0.0000e+00,\n",
              "       0.0000e+00, 0.0000e+00, 0.0000e+00, 0.0000e+00, 0.0000e+00,\n",
              "       0.0000e+00, 0.0000e+00, 0.0000e+00, 0.0000e+00, 0.0000e+00,\n",
              "       0.0000e+00, 0.0000e+00, 0.0000e+00, 0.0000e+00, 0.0000e+00,\n",
              "       0.0000e+00, 0.0000e+00, 0.0000e+00, 0.0000e+00, 0.0000e+00,\n",
              "       0.0000e+00, 0.0000e+00, 0.0000e+00, 0.0000e+00, 0.0000e+00,\n",
              "       0.0000e+00, 0.0000e+00, 0.0000e+00, 0.0000e+00, 0.0000e+00,\n",
              "       0.0000e+00, 0.0000e+00, 0.0000e+00, 0.0000e+00, 0.0000e+00,\n",
              "       0.0000e+00, 0.0000e+00, 0.0000e+00, 0.0000e+00, 0.0000e+00,\n",
              "       0.0000e+00, 0.0000e+00, 0.0000e+00, 0.0000e+00, 0.0000e+00,\n",
              "       0.0000e+00, 0.0000e+00, 0.0000e+00, 0.0000e+00, 0.0000e+00,\n",
              "       0.0000e+00, 0.0000e+00, 0.0000e+00, 0.0000e+00, 0.0000e+00,\n",
              "       0.0000e+00, 0.0000e+00, 0.0000e+00, 0.0000e+00, 0.0000e+00,\n",
              "       0.0000e+00, 0.0000e+00, 0.0000e+00, 0.0000e+00, 0.0000e+00,\n",
              "       0.0000e+00, 0.0000e+00, 0.0000e+00, 0.0000e+00, 0.0000e+00,\n",
              "       0.0000e+00, 0.0000e+00, 0.0000e+00, 0.0000e+00, 0.0000e+00,\n",
              "       0.0000e+00, 0.0000e+00, 0.0000e+00, 0.0000e+00, 0.0000e+00,\n",
              "       0.0000e+00, 0.0000e+00, 0.0000e+00, 0.0000e+00, 0.0000e+00,\n",
              "       0.0000e+00, 0.0000e+00, 0.0000e+00, 0.0000e+00, 0.0000e+00,\n",
              "       0.0000e+00, 0.0000e+00, 0.0000e+00, 0.0000e+00, 0.0000e+00,\n",
              "       0.0000e+00, 0.0000e+00, 0.0000e+00, 0.0000e+00, 0.0000e+00,\n",
              "       0.0000e+00, 0.0000e+00, 0.0000e+00, 0.0000e+00, 0.0000e+00,\n",
              "       0.0000e+00, 0.0000e+00, 0.0000e+00, 0.0000e+00, 0.0000e+00,\n",
              "       0.0000e+00, 0.0000e+00, 0.0000e+00, 0.0000e+00, 0.0000e+00,\n",
              "       0.0000e+00, 0.0000e+00, 0.0000e+00, 0.0000e+00, 1.0000e+00,\n",
              "       0.0000e+00, 0.0000e+00, 0.0000e+00, 0.0000e+00, 0.0000e+00,\n",
              "       0.0000e+00, 0.0000e+00, 0.0000e+00, 0.0000e+00, 0.0000e+00,\n",
              "       0.0000e+00, 0.0000e+00, 0.0000e+00, 0.0000e+00, 0.0000e+00,\n",
              "       0.0000e+00, 0.0000e+00, 0.0000e+00, 0.0000e+00, 0.0000e+00,\n",
              "       0.0000e+00, 0.0000e+00, 0.0000e+00, 0.0000e+00, 0.0000e+00,\n",
              "       0.0000e+00, 0.0000e+00, 0.0000e+00, 0.0000e+00, 0.0000e+00,\n",
              "       0.0000e+00, 0.0000e+00, 0.0000e+00, 0.0000e+00, 0.0000e+00,\n",
              "       0.0000e+00, 0.0000e+00, 0.0000e+00, 0.0000e+00, 0.0000e+00,\n",
              "       0.0000e+00, 0.0000e+00, 0.0000e+00, 0.0000e+00, 0.0000e+00,\n",
              "       0.0000e+00, 0.0000e+00, 0.0000e+00, 0.0000e+00, 0.0000e+00,\n",
              "       0.0000e+00, 0.0000e+00, 0.0000e+00, 0.0000e+00, 0.0000e+00,\n",
              "       0.0000e+00, 0.0000e+00, 0.0000e+00, 0.0000e+00, 0.0000e+00,\n",
              "       0.0000e+00, 0.0000e+00, 0.0000e+00, 0.0000e+00, 0.0000e+00,\n",
              "       0.0000e+00, 0.0000e+00, 0.0000e+00, 0.0000e+00, 1.0000e+00,\n",
              "       1.1289e+04])"
            ]
          },
          "execution_count": 82,
          "metadata": {},
          "output_type": "execute_result"
        }
      ],
      "source": [
        "x_df_train = onehotencoder_train.fit_transform(x_df_train).toarray()\n",
        "x_df_train[0]"
      ]
    },
    {
      "cell_type": "markdown",
      "metadata": {},
      "source": [
        "## Handling test data"
      ]
    },
    {
      "cell_type": "markdown",
      "metadata": {},
      "source": [
        "#Split between predictors and classes"
      ]
    },
    {
      "cell_type": "code",
      "execution_count": 83,
      "metadata": {},
      "outputs": [
        {
          "data": {
            "text/plain": [
              "Index(['municipio', 'id_rede_ensino', 'id_escola', 'aprovado'], dtype='object')"
            ]
          },
          "execution_count": 83,
          "metadata": {},
          "output_type": "execute_result"
        }
      ],
      "source": [
        "test.columns"
      ]
    },
    {
      "cell_type": "markdown",
      "metadata": {},
      "source": [
        "#Get all the feature examples"
      ]
    },
    {
      "cell_type": "code",
      "execution_count": 84,
      "metadata": {},
      "outputs": [
        {
          "data": {
            "text/plain": [
              "array([['MOGI MIRIM', 1, 389511],\n",
              "       ['PORTO FELIZ', 1, 15611],\n",
              "       ['CAIUA', 1, 904211],\n",
              "       ...,\n",
              "       ['CARAPICUIBA', 1, 908538],\n",
              "       ['GUARULHOS', 1, 6440],\n",
              "       ['LARANJAL PAULISTA', 1, 16559]], dtype=object)"
            ]
          },
          "execution_count": 84,
          "metadata": {},
          "output_type": "execute_result"
        }
      ],
      "source": [
        "x_df_test = test.iloc[:, 0:3].values\n",
        "x_df_test"
      ]
    },
    {
      "cell_type": "markdown",
      "metadata": {},
      "source": [
        "#Get all labels from the target"
      ]
    },
    {
      "cell_type": "code",
      "execution_count": 85,
      "metadata": {},
      "outputs": [
        {
          "data": {
            "text/plain": [
              "array([ 96, 100, 100, 100,  99,  87,  94,  89,  99, 100,  98, 100,  90,\n",
              "        74, 100, 100, 100, 100,  99,  94,  93,  88, 100,  98, 100, 100,\n",
              "        94, 100, 100,  96,  99,  97,  97, 100,  98,  98, 100, 100, 100,\n",
              "       100, 100, 100, 100, 100, 100, 100,  92, 100,  81,  99, 100,  99,\n",
              "       100,  87,  98, 100,  81, 100,  97, 100,  96,  96,  86, 100, 100,\n",
              "       100, 100, 100,  84, 100, 100,  98, 100,  98,  98, 100,  96,  95,\n",
              "        98,  99,  96,  99, 100,  93, 100,  97, 100,  95, 100, 100,  99,\n",
              "        97, 100, 100, 100, 100,  99, 100,  92,  96, 100,  85, 100, 100,\n",
              "        99, 100, 100, 100, 100, 100, 100,  97,  99, 100, 100,  99,  83,\n",
              "        98,  99, 100,  98, 100, 100,  91,  83,  98,  98,  96, 100, 100,\n",
              "        97, 100, 100,  99, 100, 100,  94,  94,  97,  99, 100, 100, 100,\n",
              "       100, 100, 100, 100,  99, 100, 100,  99,  88,  99,  94,  95, 100,\n",
              "       100,  96,  97,  98, 100,  96,  99,  98,  98, 100, 100, 100, 100,\n",
              "       100,  97,  97, 100, 100,  99, 100, 100, 100, 100,  99,  99, 100,\n",
              "        94, 100,  79, 100,  85,  99, 100, 100, 100, 100,  99, 100,  97,\n",
              "        97,  99,  91,  98,  85,  95, 100, 100, 100,  99,  89,  95,  97,\n",
              "        96,  89, 100, 100,  99, 100, 100,  93,  93,  99, 100, 100, 100,\n",
              "        87, 100,  66,  93,  99,  93,  82, 100,  98, 100,  99,  87,  99,\n",
              "        93,  95, 100,  88,  98, 100, 100, 100,  93,  77,  91,  99,  97,\n",
              "        92,  94, 100,  89,  99, 100, 100,  92, 100, 100, 100, 100, 100,\n",
              "        96,  97,  96, 100,  94, 100,  95, 100,  99,  99, 100, 100,  99,\n",
              "       100,  98, 100,  99,  92, 100, 100, 100,  96, 100,  99, 100,  91,\n",
              "       100,  86,  87,  98, 100,  97,  99, 100,  95,  99, 100,  95, 100,\n",
              "        98, 100, 100, 100, 100, 100,  70,  99, 100,  94, 100, 100, 100,\n",
              "        99, 100,  97,  99, 100, 100, 100, 100, 100, 100,  98, 100, 100,\n",
              "       100,  85, 100,  94,  98,  99, 100,  99,  95,  93,  99, 100,  87,\n",
              "        94,  87, 100,  84,  99, 100,  96, 100,  94, 100,  91,  95,  98,\n",
              "       100, 100, 100,  99,  92, 100,  96,  95, 100,  98, 100,  97,  98,\n",
              "        93, 100, 100,  97,  95, 100,  97, 100, 100, 100, 100,  98,  96,\n",
              "       100,  92,  99, 100, 100, 100,  96,  94, 100, 100, 100, 100, 100,\n",
              "       100,  94, 100, 100, 100,  98, 100, 100,  98,  98, 100,  78, 100,\n",
              "        94,  88, 100,  95, 100, 100, 100, 100, 100,  91,  99,  99,  96,\n",
              "       100,  86, 100, 100, 100,  99,  99,  95,  93,  99,  99, 100,  95,\n",
              "       100, 100, 100, 100, 100,  92, 100,  91, 100, 100, 100,  86,  99,\n",
              "        97, 100, 100,  95,  93, 100, 100, 100, 100,  99, 100, 100, 100,\n",
              "       100, 100, 100, 100,  96,  97, 100, 100, 100,  99, 100,  91,  99,\n",
              "        98,  91, 100,  98, 100, 100, 100, 100, 100,  98,  94,  82,  99,\n",
              "        99,  91,  95,  98,  92, 100,  98,  97, 100, 100, 100, 100, 100,\n",
              "        96, 100,  95,  96, 100, 100, 100,  94, 100,  99,  99,  98,  98,\n",
              "       100, 100,  99,  81, 100, 100, 100, 100,  99, 100,  95, 100,  94,\n",
              "        98, 100,  97,  95,  92,  99,  98,  98, 100, 100,  96,  98,  97,\n",
              "       100, 100, 100, 100,  92,  99,  98, 100, 100,  97, 100, 100,  91,\n",
              "       100, 100,  81, 100,  94,  92,  98,  95, 100, 100,  95, 100, 100,\n",
              "       100,  96, 100, 100, 100, 100, 100, 100, 100, 100, 100,  82, 100,\n",
              "        88, 100, 100,  96,  95, 100,  95,  97,  92, 100,  94,  93,  98,\n",
              "       100,  99,  99, 100,  88, 100,  99,  99, 100, 100, 100, 100, 100,\n",
              "       100,  98, 100,  99,  99,  96,  97,  95,  80, 100,  89, 100, 100,\n",
              "       100,  94, 100,  98,  98,  96,  99,  98,  96, 100,  97,  83, 100,\n",
              "       100,  72,  97, 100,  98,  99,  98, 100, 100, 100, 100, 100,  97,\n",
              "       100,  93,  99,  96,  98, 100, 100,  83, 100, 100,  98, 100,  97,\n",
              "       100,  92,  99, 100, 100, 100, 100,  92, 100,  96,  93, 100,  88,\n",
              "        98, 100,  93,  99, 100, 100, 100,  95, 100,  97, 100, 100, 100,\n",
              "       100, 100,  93,  90,  95, 100,  88,  86,  97, 100,  97, 100,  99,\n",
              "       100,  98, 100, 100, 100, 100,  87, 100, 100,  94, 100,  96,  96,\n",
              "        89,  93,  97,  96, 100,  98,  97, 100,  99, 100,  99,  99,  91,\n",
              "        99,  94, 100, 100,  98,  98,  98, 100, 100,  95, 100,  99, 100,\n",
              "        98, 100, 100,  99, 100,  99, 100, 100, 100, 100,  88,  91,  98,\n",
              "        98, 100, 100,  99,  99,  99, 100])"
            ]
          },
          "execution_count": 85,
          "metadata": {},
          "output_type": "execute_result"
        }
      ],
      "source": [
        "y_df_test = test.iloc[:, -1].values\n",
        "y_df_test"
      ]
    },
    {
      "cell_type": "markdown",
      "metadata": {},
      "source": [
        "#Handling categorical data with one hot encoder"
      ]
    },
    {
      "cell_type": "code",
      "execution_count": 86,
      "metadata": {},
      "outputs": [],
      "source": [
        "onehotencoder_test = ColumnTransformer(transformers=[('OneHot', OneHotEncoder(), [0])], remainder='passthrough')"
      ]
    },
    {
      "cell_type": "code",
      "execution_count": 87,
      "metadata": {},
      "outputs": [
        {
          "data": {
            "text/plain": [
              "<1x275 sparse matrix of type '<class 'numpy.float64'>'\n",
              "\twith 3 stored elements in Compressed Sparse Row format>"
            ]
          },
          "execution_count": 87,
          "metadata": {},
          "output_type": "execute_result"
        }
      ],
      "source": [
        "x_df_test = onehotencoder_test.fit_transform(x_df_test)\n",
        "x_df_test[0]"
      ]
    },
    {
      "cell_type": "markdown",
      "metadata": {},
      "source": [
        "##Save variables"
      ]
    },
    {
      "cell_type": "code",
      "execution_count": 88,
      "metadata": {},
      "outputs": [],
      "source": [
        "with open('students.pickle', mode='wb') as f:\n",
        "    pickle.dump([x_df_train, y_df_train, x_df_test, y_df_test], f)"
      ]
    },
    {
      "cell_type": "markdown",
      "metadata": {},
      "source": [
        "### Naive Bayes Model"
      ]
    },
    {
      "cell_type": "code",
      "execution_count": 89,
      "metadata": {},
      "outputs": [],
      "source": [
        "from sklearn.naive_bayes import GaussianNB"
      ]
    },
    {
      "cell_type": "code",
      "execution_count": 90,
      "metadata": {},
      "outputs": [
        {
          "name": "stdout",
          "output_type": "stream",
          "text": [
            "[[0.0000e+00 0.0000e+00 0.0000e+00 ... 0.0000e+00 1.0000e+00 1.1289e+04]\n",
            " [0.0000e+00 0.0000e+00 0.0000e+00 ... 0.0000e+00 1.0000e+00 4.0548e+04]\n",
            " [0.0000e+00 0.0000e+00 0.0000e+00 ... 0.0000e+00 1.0000e+00 3.9310e+03]\n",
            " ...\n",
            " [0.0000e+00 0.0000e+00 0.0000e+00 ... 0.0000e+00 1.0000e+00 1.5477e+04]\n",
            " [0.0000e+00 0.0000e+00 0.0000e+00 ... 0.0000e+00 1.0000e+00 2.6062e+04]\n",
            " [0.0000e+00 0.0000e+00 0.0000e+00 ... 0.0000e+00 1.0000e+00 3.2177e+04]]\n"
          ]
        }
      ],
      "source": [
        "print(x_df_train)"
      ]
    },
    {
      "cell_type": "code",
      "execution_count": 95,
      "metadata": {},
      "outputs": [
        {
          "data": {
            "text/html": [
              "<style>#sk-container-id-4 {color: black;background-color: white;}#sk-container-id-4 pre{padding: 0;}#sk-container-id-4 div.sk-toggleable {background-color: white;}#sk-container-id-4 label.sk-toggleable__label {cursor: pointer;display: block;width: 100%;margin-bottom: 0;padding: 0.3em;box-sizing: border-box;text-align: center;}#sk-container-id-4 label.sk-toggleable__label-arrow:before {content: \"▸\";float: left;margin-right: 0.25em;color: #696969;}#sk-container-id-4 label.sk-toggleable__label-arrow:hover:before {color: black;}#sk-container-id-4 div.sk-estimator:hover label.sk-toggleable__label-arrow:before {color: black;}#sk-container-id-4 div.sk-toggleable__content {max-height: 0;max-width: 0;overflow: hidden;text-align: left;background-color: #f0f8ff;}#sk-container-id-4 div.sk-toggleable__content pre {margin: 0.2em;color: black;border-radius: 0.25em;background-color: #f0f8ff;}#sk-container-id-4 input.sk-toggleable__control:checked~div.sk-toggleable__content {max-height: 200px;max-width: 100%;overflow: auto;}#sk-container-id-4 input.sk-toggleable__control:checked~label.sk-toggleable__label-arrow:before {content: \"▾\";}#sk-container-id-4 div.sk-estimator input.sk-toggleable__control:checked~label.sk-toggleable__label {background-color: #d4ebff;}#sk-container-id-4 div.sk-label input.sk-toggleable__control:checked~label.sk-toggleable__label {background-color: #d4ebff;}#sk-container-id-4 input.sk-hidden--visually {border: 0;clip: rect(1px 1px 1px 1px);clip: rect(1px, 1px, 1px, 1px);height: 1px;margin: -1px;overflow: hidden;padding: 0;position: absolute;width: 1px;}#sk-container-id-4 div.sk-estimator {font-family: monospace;background-color: #f0f8ff;border: 1px dotted black;border-radius: 0.25em;box-sizing: border-box;margin-bottom: 0.5em;}#sk-container-id-4 div.sk-estimator:hover {background-color: #d4ebff;}#sk-container-id-4 div.sk-parallel-item::after {content: \"\";width: 100%;border-bottom: 1px solid gray;flex-grow: 1;}#sk-container-id-4 div.sk-label:hover label.sk-toggleable__label {background-color: #d4ebff;}#sk-container-id-4 div.sk-serial::before {content: \"\";position: absolute;border-left: 1px solid gray;box-sizing: border-box;top: 0;bottom: 0;left: 50%;z-index: 0;}#sk-container-id-4 div.sk-serial {display: flex;flex-direction: column;align-items: center;background-color: white;padding-right: 0.2em;padding-left: 0.2em;position: relative;}#sk-container-id-4 div.sk-item {position: relative;z-index: 1;}#sk-container-id-4 div.sk-parallel {display: flex;align-items: stretch;justify-content: center;background-color: white;position: relative;}#sk-container-id-4 div.sk-item::before, #sk-container-id-4 div.sk-parallel-item::before {content: \"\";position: absolute;border-left: 1px solid gray;box-sizing: border-box;top: 0;bottom: 0;left: 50%;z-index: -1;}#sk-container-id-4 div.sk-parallel-item {display: flex;flex-direction: column;z-index: 1;position: relative;background-color: white;}#sk-container-id-4 div.sk-parallel-item:first-child::after {align-self: flex-end;width: 50%;}#sk-container-id-4 div.sk-parallel-item:last-child::after {align-self: flex-start;width: 50%;}#sk-container-id-4 div.sk-parallel-item:only-child::after {width: 0;}#sk-container-id-4 div.sk-dashed-wrapped {border: 1px dashed gray;margin: 0 0.4em 0.5em 0.4em;box-sizing: border-box;padding-bottom: 0.4em;background-color: white;}#sk-container-id-4 div.sk-label label {font-family: monospace;font-weight: bold;display: inline-block;line-height: 1.2em;}#sk-container-id-4 div.sk-label-container {text-align: center;}#sk-container-id-4 div.sk-container {/* jupyter's `normalize.less` sets `[hidden] { display: none; }` but bootstrap.min.css set `[hidden] { display: none !important; }` so we also need the `!important` here to be able to override the default hidden behavior on the sphinx rendered scikit-learn.org. See: https://github.com/scikit-learn/scikit-learn/issues/21755 */display: inline-block !important;position: relative;}#sk-container-id-4 div.sk-text-repr-fallback {display: none;}</style><div id=\"sk-container-id-4\" class=\"sk-top-container\"><div class=\"sk-text-repr-fallback\"><pre>GaussianNB()</pre><b>In a Jupyter environment, please rerun this cell to show the HTML representation or trust the notebook. <br />On GitHub, the HTML representation is unable to render, please try loading this page with nbviewer.org.</b></div><div class=\"sk-container\" hidden><div class=\"sk-item\"><div class=\"sk-estimator sk-toggleable\"><input class=\"sk-toggleable__control sk-hidden--visually\" id=\"sk-estimator-id-4\" type=\"checkbox\" checked><label for=\"sk-estimator-id-4\" class=\"sk-toggleable__label sk-toggleable__label-arrow\">GaussianNB</label><div class=\"sk-toggleable__content\"><pre>GaussianNB()</pre></div></div></div></div></div>"
            ],
            "text/plain": [
              "GaussianNB()"
            ]
          },
          "execution_count": 95,
          "metadata": {},
          "output_type": "execute_result"
        }
      ],
      "source": [
        "students_naive = GaussianNB()\n",
        "students_naive.fit(x_df_train, y_df_train)"
      ]
    },
    {
      "cell_type": "code",
      "execution_count": 96,
      "metadata": {},
      "outputs": [
        {
          "name": "stderr",
          "output_type": "stream",
          "text": [
            "/Library/Frameworks/Python.framework/Versions/3.10/lib/python3.10/site-packages/sklearn/utils/validation.py:727: FutureWarning: np.matrix usage is deprecated in 1.0 and will raise a TypeError in 1.2. Please convert to a numpy array with np.asarray. For more information see: https://numpy.org/doc/stable/reference/generated/numpy.matrix.html\n",
            "  warnings.warn(\n"
          ]
        },
        {
          "ename": "ValueError",
          "evalue": "X has 275 features, but GaussianNB is expecting 571 features as input.",
          "output_type": "error",
          "traceback": [
            "\u001b[0;31m---------------------------------------------------------------------------\u001b[0m",
            "\u001b[0;31mValueError\u001b[0m                                Traceback (most recent call last)",
            "Cell \u001b[0;32mIn [96], line 1\u001b[0m\n\u001b[0;32m----> 1\u001b[0m naive_predict \u001b[39m=\u001b[39m students_naive\u001b[39m.\u001b[39;49mpredict(x_df_test\u001b[39m.\u001b[39;49mtodense())\n\u001b[1;32m      2\u001b[0m naive_predict\n",
            "File \u001b[0;32m/Library/Frameworks/Python.framework/Versions/3.10/lib/python3.10/site-packages/sklearn/naive_bayes.py:80\u001b[0m, in \u001b[0;36m_BaseNB.predict\u001b[0;34m(self, X)\u001b[0m\n\u001b[1;32m     66\u001b[0m \u001b[39m\"\"\"\u001b[39;00m\n\u001b[1;32m     67\u001b[0m \u001b[39mPerform classification on an array of test vectors X.\u001b[39;00m\n\u001b[1;32m     68\u001b[0m \n\u001b[0;32m   (...)\u001b[0m\n\u001b[1;32m     77\u001b[0m \u001b[39m    Predicted target values for X.\u001b[39;00m\n\u001b[1;32m     78\u001b[0m \u001b[39m\"\"\"\u001b[39;00m\n\u001b[1;32m     79\u001b[0m check_is_fitted(\u001b[39mself\u001b[39m)\n\u001b[0;32m---> 80\u001b[0m X \u001b[39m=\u001b[39m \u001b[39mself\u001b[39;49m\u001b[39m.\u001b[39;49m_check_X(X)\n\u001b[1;32m     81\u001b[0m jll \u001b[39m=\u001b[39m \u001b[39mself\u001b[39m\u001b[39m.\u001b[39m_joint_log_likelihood(X)\n\u001b[1;32m     82\u001b[0m \u001b[39mreturn\u001b[39;00m \u001b[39mself\u001b[39m\u001b[39m.\u001b[39mclasses_[np\u001b[39m.\u001b[39margmax(jll, axis\u001b[39m=\u001b[39m\u001b[39m1\u001b[39m)]\n",
            "File \u001b[0;32m/Library/Frameworks/Python.framework/Versions/3.10/lib/python3.10/site-packages/sklearn/naive_bayes.py:249\u001b[0m, in \u001b[0;36mGaussianNB._check_X\u001b[0;34m(self, X)\u001b[0m\n\u001b[1;32m    247\u001b[0m \u001b[39mdef\u001b[39;00m \u001b[39m_check_X\u001b[39m(\u001b[39mself\u001b[39m, X):\n\u001b[1;32m    248\u001b[0m     \u001b[39m\"\"\"Validate X, used only in predict* methods.\"\"\"\u001b[39;00m\n\u001b[0;32m--> 249\u001b[0m     \u001b[39mreturn\u001b[39;00m \u001b[39mself\u001b[39;49m\u001b[39m.\u001b[39;49m_validate_data(X, reset\u001b[39m=\u001b[39;49m\u001b[39mFalse\u001b[39;49;00m)\n",
            "File \u001b[0;32m/Library/Frameworks/Python.framework/Versions/3.10/lib/python3.10/site-packages/sklearn/base.py:600\u001b[0m, in \u001b[0;36mBaseEstimator._validate_data\u001b[0;34m(self, X, y, reset, validate_separately, **check_params)\u001b[0m\n\u001b[1;32m    597\u001b[0m     out \u001b[39m=\u001b[39m X, y\n\u001b[1;32m    599\u001b[0m \u001b[39mif\u001b[39;00m \u001b[39mnot\u001b[39;00m no_val_X \u001b[39mand\u001b[39;00m check_params\u001b[39m.\u001b[39mget(\u001b[39m\"\u001b[39m\u001b[39mensure_2d\u001b[39m\u001b[39m\"\u001b[39m, \u001b[39mTrue\u001b[39;00m):\n\u001b[0;32m--> 600\u001b[0m     \u001b[39mself\u001b[39;49m\u001b[39m.\u001b[39;49m_check_n_features(X, reset\u001b[39m=\u001b[39;49mreset)\n\u001b[1;32m    602\u001b[0m \u001b[39mreturn\u001b[39;00m out\n",
            "File \u001b[0;32m/Library/Frameworks/Python.framework/Versions/3.10/lib/python3.10/site-packages/sklearn/base.py:400\u001b[0m, in \u001b[0;36mBaseEstimator._check_n_features\u001b[0;34m(self, X, reset)\u001b[0m\n\u001b[1;32m    397\u001b[0m     \u001b[39mreturn\u001b[39;00m\n\u001b[1;32m    399\u001b[0m \u001b[39mif\u001b[39;00m n_features \u001b[39m!=\u001b[39m \u001b[39mself\u001b[39m\u001b[39m.\u001b[39mn_features_in_:\n\u001b[0;32m--> 400\u001b[0m     \u001b[39mraise\u001b[39;00m \u001b[39mValueError\u001b[39;00m(\n\u001b[1;32m    401\u001b[0m         \u001b[39mf\u001b[39m\u001b[39m\"\u001b[39m\u001b[39mX has \u001b[39m\u001b[39m{\u001b[39;00mn_features\u001b[39m}\u001b[39;00m\u001b[39m features, but \u001b[39m\u001b[39m{\u001b[39;00m\u001b[39mself\u001b[39m\u001b[39m.\u001b[39m\u001b[39m__class__\u001b[39m\u001b[39m.\u001b[39m\u001b[39m__name__\u001b[39m\u001b[39m}\u001b[39;00m\u001b[39m \u001b[39m\u001b[39m\"\u001b[39m\n\u001b[1;32m    402\u001b[0m         \u001b[39mf\u001b[39m\u001b[39m\"\u001b[39m\u001b[39mis expecting \u001b[39m\u001b[39m{\u001b[39;00m\u001b[39mself\u001b[39m\u001b[39m.\u001b[39mn_features_in_\u001b[39m}\u001b[39;00m\u001b[39m features as input.\u001b[39m\u001b[39m\"\u001b[39m\n\u001b[1;32m    403\u001b[0m     )\n",
            "\u001b[0;31mValueError\u001b[0m: X has 275 features, but GaussianNB is expecting 571 features as input."
          ]
        }
      ],
      "source": [
        "naive_predict = students_naive.predict(x_df_test)\n",
        "naive_predict"
      ]
    },
    {
      "cell_type": "code",
      "execution_count": null,
      "metadata": {},
      "outputs": [],
      "source": [
        "naive_score = accuracy_score(y_df_test, naive_predict)\n",
        "naive_score"
      ]
    }
  ],
  "metadata": {
    "colab": {
      "provenance": []
    },
    "kernelspec": {
      "display_name": "Python 3.10.5 64-bit",
      "language": "python",
      "name": "python3"
    },
    "language_info": {
      "codemirror_mode": {
        "name": "ipython",
        "version": 3
      },
      "file_extension": ".py",
      "mimetype": "text/x-python",
      "name": "python",
      "nbconvert_exporter": "python",
      "pygments_lexer": "ipython3",
      "version": "3.10.5"
    },
    "vscode": {
      "interpreter": {
        "hash": "aee8b7b246df8f9039afb4144a1f6fd8d2ca17a180786b69acc140d282b71a49"
      }
    }
  },
  "nbformat": 4,
  "nbformat_minor": 0
}
